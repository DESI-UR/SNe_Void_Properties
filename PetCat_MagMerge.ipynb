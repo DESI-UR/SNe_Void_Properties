{
 "cells": [
  {
   "cell_type": "code",
   "execution_count": 1,
   "id": "4583e897",
   "metadata": {},
   "outputs": [],
   "source": [
    "from astropy.table import Table\n",
    "from astropy.coordinates import SkyCoord\n",
    "from astropy.coordinates import match_coordinates_sky \n",
    "\n",
    "import astropy.units as u\n",
    "import numpy as np"
   ]
  },
  {
   "cell_type": "markdown",
   "id": "4c472755",
   "metadata": {},
   "source": [
    "this notebook will be where we merged the query carrying both the petromag and petroflux columns and colliding it with the original file that has all objects--->selected_z_nmermve.txt---> so this should makes snese to only run this notebook and not the PetFlux notebook merge. done on 7/30/21"
   ]
  },
  {
   "cell_type": "code",
   "execution_count": 2,
   "id": "45c13fdd",
   "metadata": {
    "scrolled": false
   },
   "outputs": [
    {
     "name": "stdout",
     "output_type": "stream",
     "text": [
      "       objID           name   petroFlux_u ... petroMag_z petroMagErr_z\n",
      "------------------- --------- ----------- ... ---------- -------------\n",
      "1237651192428363899   SN1984F    152.3807 ...   16.59054     0.2001555\n",
      "1237655108374626326   SN1978B    672.3208 ...   14.92569    0.08750339\n",
      "1237657590855958802   SN1973V      25.942 ...   17.33572      0.181995\n",
      "1237657630051336281  SN2012ai    2.112372 ...     20.746     0.4414005\n",
      "1237658423545561106  SN2007bp    409.8317 ...   13.79599    0.01410806\n",
      "1237659895636033688 SN2019bgl    292.8739 ...   15.03061    0.05744422\n",
      "1237660342863724615  SN1995bc    46.44455 ...   15.12554    0.02756584\n",
      "1237661149765107752   SN1996B    900.6776 ...   11.99063    0.00452974\n",
      "1237661212581101721  SN2007fe    54.15902 ...   16.24885    0.03064155\n",
      "1237661358074822743  SN2012am    1.812369 ...   21.41161     0.9940621\n",
      "                ...       ...         ... ...        ...           ...\n",
      "1237663274169860205  SN1995ag  0.08697561 ...    17.8568     0.1169212\n",
      "1237663274169860205  SN1997db  0.08697561 ...    17.8568     0.1169212\n",
      "1237662696506393003  SN2011eo     24.7831 ...   17.29038     0.1001128\n",
      "1237656563291390327  SN2009ay    386.5326 ...    13.0828    0.00816001\n",
      "1237656563291390327  SN2007cl    386.5326 ...    13.0828    0.00816001\n",
      "1237654606919173013   SN1999K    202.2422 ...   15.11434    0.02287681\n",
      "1237650371549397590  SN2007bx   0.5626268 ...   22.72194      2.118855\n",
      "1237673283056762912  SN2011je    89.74047 ...   14.31653    0.01342103\n",
      "1237671239717290098  SN2013hv    627.8911 ...   12.62858    0.01910074\n",
      "1237668734685413846  SN2011fy    38.70711 ...   16.15902     0.0671849\n",
      "1237656564362183076  SN1992aa    354.1088 ...   13.93759    0.01864273\n",
      "Length = 91 rows\n"
     ]
    }
   ],
   "source": [
    "querytb_results = Table.read(\"/Users/urdesi/Documents/SNe_Void_Properties/NewQuery_info/missobj_insp/inspobjID_82_JuanGar408.csv\", format = 'ascii.csv')\n",
    "#print(clmd_table['event'][0])\n",
    "print(querytb_results)"
   ]
  },
  {
   "cell_type": "code",
   "execution_count": 3,
   "id": "b4c32a47",
   "metadata": {
    "scrolled": false
   },
   "outputs": [
    {
     "data": {
      "text/html": [
       "<i>Table length=91</i>\n",
       "<table id=\"table4341816768\" class=\"table-striped table-bordered table-condensed\">\n",
       "<thead><tr><th>objID</th><th>name</th><th>petroFlux_u</th><th>petroFluxIvar_u</th><th>petroFlux_g</th><th>petroFluxIvar_g</th><th>petroFlux_r</th><th>petroFluxIvar_r</th><th>petroFlux_i</th><th>petroFluxIvar_i</th><th>petroFlux_z</th><th>petroFluxIvar_z</th><th>petroMag_u</th><th>petroMagErr_u</th><th>petroMag_g</th><th>petroMagErr_g</th><th>petroMag_r</th><th>petroMagErr_r</th><th>petroMag_i</th><th>petroMagErr_i</th><th>petroMag_z</th><th>petroMagErr_z</th></tr></thead>\n",
       "<thead><tr><th>int64</th><th>str23</th><th>float64</th><th>float64</th><th>float64</th><th>float64</th><th>float64</th><th>float64</th><th>float64</th><th>float64</th><th>float64</th><th>float64</th><th>float64</th><th>float64</th><th>float64</th><th>float64</th><th>float64</th><th>float64</th><th>float64</th><th>float64</th><th>float64</th><th>float64</th></tr></thead>\n",
       "<tr><td>1237651192428363899</td><td>SN1984F</td><td>152.3807</td><td>0.005799449</td><td>532.2327</td><td>0.004009241</td><td>523.9357</td><td>0.005841626</td><td>958.7292</td><td>0.004714687</td><td>231.0887</td><td>0.0005509833</td><td>17.04267</td><td>0.09356214</td><td>15.68475</td><td>0.03221748</td><td>15.70181</td><td>0.02711311</td><td>15.04576</td><td>0.01649308</td><td>16.59054</td><td>0.2001555</td></tr>\n",
       "<tr><td>1237655108374626326</td><td>SN1978B</td><td>672.3208</td><td>0.003865028</td><td>2099.967</td><td>0.001690182</td><td>1909.13</td><td>0.002847169</td><td>2269.333</td><td>0.0007311424</td><td>1070.838</td><td>0.0001342613</td><td>15.43106</td><td>0.02597595</td><td>14.19447</td><td>0.01257607</td><td>14.29791</td><td>0.01065816</td><td>14.11025</td><td>0.01769396</td><td>14.92569</td><td>0.08750339</td></tr>\n",
       "<tr><td>1237657590855958802</td><td>SN1973V</td><td>25.942</td><td>0.05710781</td><td>75.75343</td><td>0.3814595</td><td>116.5958</td><td>0.1797141</td><td>134.4175</td><td>0.05385943</td><td>116.3306</td><td>0.002629487</td><td>18.96496</td><td>0.1751249</td><td>17.80149</td><td>0.0232058</td><td>17.33329</td><td>0.02196592</td><td>17.17886</td><td>0.03480456</td><td>17.33572</td><td>0.181995</td></tr>\n",
       "<tr><td>1237657630051336281</td><td>SN2012ai</td><td>2.112372</td><td>2.271702</td><td>3.483861</td><td>1.413533</td><td>4.781142</td><td>0.884369</td><td>4.093284</td><td>0.6216857</td><td>4.921493</td><td>0.2290815</td><td>21.68334</td><td>0.3380617</td><td>21.14412</td><td>0.2617771</td><td>20.80049</td><td>0.2411734</td><td>20.96773</td><td>0.335115</td><td>20.746</td><td>0.4414005</td></tr>\n",
       "<tr><td>1237658423545561106</td><td>SN2007bp</td><td>409.8317</td><td>0.01104398</td><td>1120.219</td><td>0.01949016</td><td>1991.057</td><td>0.007988634</td><td>2520.186</td><td>0.005444837</td><td>3031.124</td><td>0.0006446247</td><td>15.96849</td><td>0.02520902</td><td>14.87674</td><td>0.006942462</td><td>14.25229</td><td>0.006101049</td><td>13.99642</td><td>0.005838472</td><td>13.79599</td><td>0.01410806</td></tr>\n",
       "<tr><td>1237659895636033688</td><td>SN2019bgl</td><td>292.8739</td><td>0.02720503</td><td>671.6613</td><td>0.00549213</td><td>808.5456</td><td>0.001084326</td><td>909.673</td><td>0.0004526477</td><td>972.1984</td><td>0.0003779594</td><td>16.3333</td><td>0.02247599</td><td>15.43212</td><td>0.02181241</td><td>15.23074</td><td>0.0407793</td><td>15.10279</td><td>0.05609948</td><td>15.03061</td><td>0.05744422</td></tr>\n",
       "<tr><td>1237660342863724615</td><td>SN1995bc</td><td>46.44455</td><td>0.0625074</td><td>211.1988</td><td>0.2655179</td><td>439.0684</td><td>0.07463432</td><td>671.0979</td><td>0.0275234</td><td>890.805</td><td>0.001954968</td><td>18.33265</td><td>0.09350093</td><td>16.68827</td><td>0.009976675</td><td>15.89367</td><td>0.009051547</td><td>15.43303</td><td>0.009751856</td><td>15.12554</td><td>0.02756584</td></tr>\n",
       "<tr><td>1237661149765107752</td><td>SN1996B</td><td>900.6776</td><td>0.004154168</td><td>4546.566</td><td>0.007159333</td><td>9948.733</td><td>0.0003591585</td><td>13846.61</td><td>0.0004147725</td><td>15986.28</td><td>0.0002248057</td><td>15.11358</td><td>0.01870307</td><td>13.35579</td><td>0.002822309</td><td>12.50558</td><td>0.005758554</td><td>12.14664</td><td>0.003850133</td><td>11.99063</td><td>0.00452974</td></tr>\n",
       "<tr><td>1237661212581101721</td><td>SN2007fe</td><td>54.15902</td><td>0.1933959</td><td>159.9391</td><td>0.4663355</td><td>246.9763</td><td>0.1844286</td><td>290.0999</td><td>0.08033358</td><td>316.561</td><td>0.0125286</td><td>18.16582</td><td>0.04558522</td><td>16.99011</td><td>0.00994077</td><td>16.51836</td><td>0.01023657</td><td>16.34363</td><td>0.01320468</td><td>16.24885</td><td>0.03064155</td></tr>\n",
       "<tr><td>1237661358074822743</td><td>SN2012am</td><td>1.812369</td><td>3.062006</td><td>3.256176</td><td>4.747597</td><td>3.005356</td><td>2.378477</td><td>4.392668</td><td>0.98505</td><td>2.523981</td><td>0.1393488</td><td>21.84796</td><td>0.3383394</td><td>21.2174</td><td>0.1527977</td><td>21.30353</td><td>0.2335063</td><td>20.89136</td><td>0.2482065</td><td>21.41161</td><td>0.9940621</td></tr>\n",
       "<tr><td>...</td><td>...</td><td>...</td><td>...</td><td>...</td><td>...</td><td>...</td><td>...</td><td>...</td><td>...</td><td>...</td><td>...</td><td>...</td><td>...</td><td>...</td><td>...</td><td>...</td><td>...</td><td>...</td><td>...</td><td>...</td><td>...</td></tr>\n",
       "<tr><td>1237663274169860205</td><td>SN1997db</td><td>0.08697561</td><td>1.128979</td><td>8.197332</td><td>0.9040613</td><td>23.53904</td><td>0.1781003</td><td>43.40309</td><td>0.05133067</td><td>71.98374</td><td>0.01663451</td><td>24.30262</td><td>3.485147</td><td>20.21569</td><td>0.139267</td><td>19.0705</td><td>0.1092901</td><td>18.40618</td><td>0.1104079</td><td>17.8568</td><td>0.1169212</td></tr>\n",
       "<tr><td>1237662696506393003</td><td>SN2011eo</td><td>24.7831</td><td>0.087717</td><td>58.07883</td><td>0.1159838</td><td>74.58138</td><td>0.09369003</td><td>87.15703</td><td>0.04152124</td><td>121.2915</td><td>0.007993635</td><td>19.01458</td><td>0.1479106</td><td>18.08995</td><td>0.05489159</td><td>17.81842</td><td>0.04756034</td><td>17.64924</td><td>0.06113403</td><td>17.29038</td><td>0.1001128</td></tr>\n",
       "<tr><td>1237656563291390327</td><td>SN2009ay</td><td>386.5326</td><td>0.006397776</td><td>1784.056</td><td>0.0138532</td><td>3379.583</td><td>0.009435867</td><td>4866.202</td><td>0.003909884</td><td>5846.302</td><td>0.0005179702</td><td>16.03203</td><td>0.0351175</td><td>14.37148</td><td>0.005170599</td><td>13.67784</td><td>0.003307275</td><td>13.28202</td><td>0.003568225</td><td>13.0828</td><td>0.00816001</td></tr>\n",
       "<tr><td>1237656563291390327</td><td>SN2007cl</td><td>386.5326</td><td>0.006397776</td><td>1784.056</td><td>0.0138532</td><td>3379.583</td><td>0.009435867</td><td>4866.202</td><td>0.003909884</td><td>5846.302</td><td>0.0005179702</td><td>16.03203</td><td>0.0351175</td><td>14.37148</td><td>0.005170599</td><td>13.67784</td><td>0.003307275</td><td>13.28202</td><td>0.003568225</td><td>13.0828</td><td>0.00816001</td></tr>\n",
       "<tr><td>1237654606919173013</td><td>SN1999K</td><td>202.2422</td><td>0.03694703</td><td>548.3993</td><td>0.127909</td><td>738.4694</td><td>0.05895377</td><td>901.6312</td><td>0.02631734</td><td>900.0465</td><td>0.002780524</td><td>16.73532</td><td>0.02792944</td><td>15.65226</td><td>0.005535754</td><td>15.32917</td><td>0.006055304</td><td>15.11243</td><td>0.007422914</td><td>15.11434</td><td>0.02287681</td></tr>\n",
       "<tr><td>1237650371549397590</td><td>SN2007bx</td><td>0.5626268</td><td>3.045903</td><td>0.5287935</td><td>11.80266</td><td>1.797366</td><td>5.745535</td><td>0.1373901</td><td>1.664525</td><td>0.1433278</td><td>0.1187595</td><td>23.06273</td><td>0.9899102</td><td>23.16162</td><td>0.5657719</td><td>21.8586</td><td>0.2497956</td><td>23.95691</td><td>2.183992</td><td>22.72194</td><td>2.118855</td></tr>\n",
       "<tr><td>1237673283056762912</td><td>SN2011je</td><td>89.74047</td><td>0.03408802</td><td>434.425</td><td>0.09246216</td><td>938.8557</td><td>0.0153795</td><td>1462.452</td><td>0.002665077</td><td>1876.663</td><td>0.001858251</td><td>17.61753</td><td>0.06552891</td><td>15.90521</td><td>0.008219159</td><td>15.0685</td><td>0.009325119</td><td>14.5873</td><td>0.01438096</td><td>14.31653</td><td>0.01342103</td></tr>\n",
       "<tr><td>1237671239717290098</td><td>SN2013hv</td><td>627.8911</td><td>0.003665755</td><td>2978.883</td><td>0.0005030414</td><td>5425.494</td><td>0.0001488516</td><td>7397.979</td><td>7.251359e-05</td><td>8883.13</td><td>4.094643e-05</td><td>15.50529</td><td>0.02856</td><td>13.81487</td><td>0.01625059</td><td>13.1639</td><td>0.01640243</td><td>12.82722</td><td>0.01723461</td><td>12.62858</td><td>0.01910074</td></tr>\n",
       "<tr><td>1237668734685413846</td><td>SN2011fy</td><td>38.70711</td><td>0.04482193</td><td>174.7875</td><td>0.01555438</td><td>289.9415</td><td>0.01119485</td><td>381.8439</td><td>0.005452138</td><td>343.8661</td><td>0.002208608</td><td>18.53051</td><td>0.1324881</td><td>16.89372</td><td>0.04980664</td><td>16.34422</td><td>0.03539197</td><td>16.04528</td><td>0.03850834</td><td>16.15902</td><td>0.0671849</td></tr>\n",
       "<tr><td>1237656564362183076</td><td>SN1992aa</td><td>354.1088</td><td>0.01715026</td><td>1107.013</td><td>0.0535685</td><td>1914.797</td><td>0.01215517</td><td>2555.173</td><td>0.002357743</td><td>2660.503</td><td>0.0004791835</td><td>16.12716</td><td>0.02341273</td><td>14.88962</td><td>0.004237568</td><td>14.29469</td><td>0.005143056</td><td>13.98145</td><td>0.008750963</td><td>13.93759</td><td>0.01864273</td></tr>\n",
       "</table>"
      ],
      "text/plain": [
       "<Table length=91>\n",
       "       objID           name   petroFlux_u ... petroMag_z petroMagErr_z\n",
       "       int64          str23     float64   ...  float64      float64   \n",
       "------------------- --------- ----------- ... ---------- -------------\n",
       "1237651192428363899   SN1984F    152.3807 ...   16.59054     0.2001555\n",
       "1237655108374626326   SN1978B    672.3208 ...   14.92569    0.08750339\n",
       "1237657590855958802   SN1973V      25.942 ...   17.33572      0.181995\n",
       "1237657630051336281  SN2012ai    2.112372 ...     20.746     0.4414005\n",
       "1237658423545561106  SN2007bp    409.8317 ...   13.79599    0.01410806\n",
       "1237659895636033688 SN2019bgl    292.8739 ...   15.03061    0.05744422\n",
       "1237660342863724615  SN1995bc    46.44455 ...   15.12554    0.02756584\n",
       "1237661149765107752   SN1996B    900.6776 ...   11.99063    0.00452974\n",
       "1237661212581101721  SN2007fe    54.15902 ...   16.24885    0.03064155\n",
       "1237661358074822743  SN2012am    1.812369 ...   21.41161     0.9940621\n",
       "                ...       ...         ... ...        ...           ...\n",
       "1237663274169860205  SN1997db  0.08697561 ...    17.8568     0.1169212\n",
       "1237662696506393003  SN2011eo     24.7831 ...   17.29038     0.1001128\n",
       "1237656563291390327  SN2009ay    386.5326 ...    13.0828    0.00816001\n",
       "1237656563291390327  SN2007cl    386.5326 ...    13.0828    0.00816001\n",
       "1237654606919173013   SN1999K    202.2422 ...   15.11434    0.02287681\n",
       "1237650371549397590  SN2007bx   0.5626268 ...   22.72194      2.118855\n",
       "1237673283056762912  SN2011je    89.74047 ...   14.31653    0.01342103\n",
       "1237671239717290098  SN2013hv    627.8911 ...   12.62858    0.01910074\n",
       "1237668734685413846  SN2011fy    38.70711 ...   16.15902     0.0671849\n",
       "1237656564362183076  SN1992aa    354.1088 ...   13.93759    0.01864273"
      ]
     },
     "execution_count": 3,
     "metadata": {},
     "output_type": "execute_result"
    }
   ],
   "source": [
    "querytb_results"
   ]
  },
  {
   "cell_type": "code",
   "execution_count": 4,
   "id": "676b3380",
   "metadata": {},
   "outputs": [],
   "source": [
    "# query_tab = \"querytb_results_r3.txt\"\n",
    "# querytb_results.write(query_tab, format = 'ascii.commented_header', overwrite=True)"
   ]
  },
  {
   "cell_type": "code",
   "execution_count": 5,
   "id": "9f209570",
   "metadata": {
    "scrolled": false
   },
   "outputs": [
    {
     "name": "stdout",
     "output_type": "stream",
     "text": [
      "   event    ...   zmag_er  \n",
      "----------- ... -----------\n",
      "ASASSN-14az ...  0.09963752\n",
      "ASASSN-15bd ...  0.04027074\n",
      "ASASSN-15tu ...      -999.0\n",
      "   PS1-14od ...  0.07777578\n",
      "   SN2002au ... 0.007244378\n",
      "    SN2011D ...      -999.0\n",
      "    SN2011V ...   0.1921156\n",
      "   SN2011bv ...      -999.0\n",
      "   SN2011cb ...      -999.0\n",
      "   SN2011dh ...      -999.0\n",
      "        ... ...         ...\n",
      "  SN2018cwx ...  0.04897622\n",
      "  SN2018dys ...      -999.0\n",
      "  SN2018fav ...      -999.0\n",
      "  SN2018ijp ...   0.1530187\n",
      "  SN2018ise ...      -999.0\n",
      "  SN2018liq ...      -999.0\n",
      "  SN2019bjv ...   0.1422924\n",
      "  SN2019dwy ...      -999.0\n",
      "  SN2019krw ...  0.03853949\n",
      "  SN2019rwq ...      -999.0\n",
      "  SN2020euy ...   0.6194715\n",
      "Length = 1851 rows\n"
     ]
    }
   ],
   "source": [
    "SNeCat_table = Table.read(\"NewQuery_info/PetMagFluxcr_mrgeSel.txt\", format='ascii.commented_header')\n",
    "#print(clmd_table['event'][0])\n",
    "print(SNeCat_table)"
   ]
  },
  {
   "cell_type": "code",
   "execution_count": 6,
   "id": "523ca642",
   "metadata": {
    "scrolled": false
   },
   "outputs": [
    {
     "data": {
      "text/html": [
       "<i>Table length=1851</i>\n",
       "<table id=\"table4640244352\" class=\"table-striped table-bordered table-condensed\">\n",
       "<thead><tr><th>event</th><th>alias</th><th>catalog</th><th>claimedtype</th><th>dec</th><th>discoverdate</th><th>discoverer</th><th>download</th><th>ebv</th><th>host</th><th>hostdec</th><th>hostoffsetang</th><th>hostoffsetdist</th><th>hostra</th><th>instruments</th><th>lumdist</th><th>maxabsmag</th><th>maxappmag</th><th>maxdate</th><th>name</th><th>photolink</th><th>ra</th><th>radiolink</th><th>redshift</th><th>references</th><th>spectralink</th><th>velocity</th><th>xraylink</th><th>z</th><th>uflux</th><th>uflux_ivar</th><th>gflux</th><th>gflux_ivar</th><th>rflux</th><th>rflux_ivar</th><th>iflux</th><th>iflux_ivar</th><th>zflux</th><th>zflux_ivar</th><th>umag</th><th>umag_er</th><th>gmag</th><th>gmag_er</th><th>rmag</th><th>rmag_er</th><th>imag</th><th>imag_er</th><th>zmag</th><th>zmag_er</th></tr></thead>\n",
       "<thead><tr><th>str23</th><th>str140</th><th>str3</th><th>str10</th><th>float64</th><th>str10</th><th>str86</th><th>str1</th><th>float64</th><th>str65</th><th>str49</th><th>float64</th><th>float64</th><th>str34</th><th>str142</th><th>float64</th><th>float64</th><th>float64</th><th>str10</th><th>str23</th><th>str16</th><th>float64</th><th>int64</th><th>str55</th><th>str99</th><th>str13</th><th>float64</th><th>int64</th><th>float64</th><th>float64</th><th>float64</th><th>float64</th><th>float64</th><th>float64</th><th>float64</th><th>float64</th><th>float64</th><th>float64</th><th>float64</th><th>float64</th><th>float64</th><th>float64</th><th>float64</th><th>float64</th><th>float64</th><th>float64</th><th>float64</th><th>float64</th><th>float64</th></tr></thead>\n",
       "<tr><td>ASASSN-14az</td><td>ASASSN-14az,Gaia14age,MLS140831:234448-020701</td><td>sne</td><td>IIb</td><td>-2.117547222222222</td><td>2014/05/20</td><td>ASAS-SN</td><td>e</td><td>0.0274</td><td>PGC 1101367,GALEXASC J234448.27-020653.4</td><td>-02:06:53.4</td><td>8.94</td><td>1.28</td><td>23:44:48.27</td><td>C, u, g, r, R, i</td><td>29.943</td><td>-16.734</td><td>15.64</td><td>2014/07/22</td><td>ASASSN-14az</td><td>25,-36.1,67</td><td>356.2</td><td>--</td><td>0.006731</td><td>2009ApJ...696..870D,2014ATel.6151....1D,2014ATel.6185....1B,2016A&amp;A...594A..13P,2011ApJ...737..103S</td><td>1,-53.1</td><td>2011.0</td><td>--</td><td>0.006731</td><td>105.3499</td><td>0.01638733</td><td>276.2211</td><td>0.1078128</td><td>393.7222</td><td>0.04989673</td><td>465.4725</td><td>0.01249947</td><td>393.5354</td><td>0.0007667065</td><td>17.44341</td><td>0.08050719</td><td>16.39686</td><td>0.01197105</td><td>16.01203</td><td>0.01234521</td><td>15.83027</td><td>0.02086336</td><td>16.01254</td><td>0.09963752</td></tr>\n",
       "<tr><td>ASASSN-15bd</td><td>ASASSN-15bd</td><td>sne</td><td>IIb</td><td>16.610583333333334</td><td>2015/01/08</td><td>ASAS-SN</td><td>--</td><td>0.0294</td><td>SDSS J155438.39+163637.6</td><td>+16:36:37.6</td><td>1.08</td><td>0.182</td><td>15:54:38.39</td><td>--</td><td>35.38</td><td>-16.535</td><td>16.2</td><td>2015/01/28</td><td>ASASSN-15bd</td><td>1,0</td><td>238.65970833333333</td><td>--</td><td>0.007946</td><td>2015ATel.6945....1K,2016A&amp;A...594A..13P,2015ATel.6956....1C,2011ApJ...737..103S</td><td>--</td><td>2373.0</td><td>--</td><td>0.007946</td><td>82.5851</td><td>0.1384537</td><td>164.0936</td><td>0.8550192</td><td>233.7789</td><td>0.3454179</td><td>257.4846</td><td>0.1057257</td><td>258.7754</td><td>0.01085449</td><td>17.70774</td><td>0.03533197</td><td>16.96227</td><td>0.007155575</td><td>16.57799</td><td>0.007902169</td><td>16.47312</td><td>0.01296828</td><td>16.46768</td><td>0.04027074</td></tr>\n",
       "<tr><td>ASASSN-15tu</td><td>ASASSN-15tu</td><td>sne</td><td>IIb</td><td>-32.39821666666667</td><td>2015/12/08</td><td>ASAS-SN</td><td>--</td><td>0.0114</td><td>2MASX J22340166-3223490</td><td>-32:23:49.0</td><td>12.5</td><td>3.33</td><td>22:34:01.66</td><td>--</td><td>56.3</td><td>-17.44</td><td>16.3</td><td>2015/12/07</td><td>ASASSN-15tu</td><td>1,0</td><td>338.51075</td><td>--</td><td>0.0126</td><td>2015ATel.8386....1N,2016A&amp;A...594A..13P,2015ATel.8434....1F,2011ApJ...737..103S</td><td>--</td><td>3750.0</td><td>--</td><td>0.0126</td><td>-999.0</td><td>-999.0</td><td>-999.0</td><td>-999.0</td><td>-999.0</td><td>-999.0</td><td>-999.0</td><td>-999.0</td><td>-999.0</td><td>-999.0</td><td>-999.0</td><td>-999.0</td><td>-999.0</td><td>-999.0</td><td>-999.0</td><td>-999.0</td><td>-999.0</td><td>-999.0</td><td>-999.0</td><td>-999.0</td></tr>\n",
       "<tr><td>PS1-14od</td><td>PS1-14od</td><td>sne</td><td>IIb</td><td>-7.282611111111111</td><td>2014/02/25</td><td>PS1</td><td>--</td><td>0.0491</td><td>SDSS J032106.08-071656.8</td><td>-07:16:56.8</td><td>2.311</td><td>0.9886</td><td>03:21:06.08</td><td>GPC (r, y)</td><td>90.0</td><td>-17.0</td><td>17.75</td><td>2014/02/25</td><td>PS1-14od</td><td>3,-0.257,1.69</td><td>50.275958333333335</td><td>--</td><td>0.02</td><td>2014ATel.5937....1C,2016A&amp;A...594A..13P,2015ApJ...811..117S,2011ApJ...737..103S</td><td>1,3.43</td><td>6000.0</td><td>--</td><td>0.02</td><td>51.41655</td><td>0.06342904</td><td>129.9099</td><td>0.3022959</td><td>207.2322</td><td>0.1470266</td><td>229.6892</td><td>0.04257694</td><td>285.9808</td><td>0.002382728</td><td>18.22223</td><td>0.08384378</td><td>17.21589</td><td>0.01520076</td><td>16.70886</td><td>0.01366372</td><td>16.59715</td><td>0.02290846</td><td>16.35915</td><td>0.07777578</td></tr>\n",
       "<tr><td>SN2002au</td><td>SN2002au</td><td>sne</td><td>IIb</td><td>5.837694444444445</td><td>2002/02/08</td><td>Martin, LOTOSS,Tim Puckett et al.</td><td>e</td><td>0.0322</td><td>UGC 5100</td><td>+05:50:26,+05:50:29.3</td><td>23.29</td><td>8.762</td><td>09:34:39,09:34:38.63</td><td>C</td><td>80.8</td><td>-17.3</td><td>17.2</td><td>2002/03/02</td><td>SN2002au</td><td>6,-28.7,-0.403</td><td>143.65666666666667</td><td>--</td><td>0.018,0.018</td><td>2019MNRAS.482.1545S,2012A&amp;A...538A.120L,2016A&amp;A...594A..13P,2002IAUC.7823....3J,2002IAUC.7823....1P</td><td>3,-19.2,-16.2</td><td>5514.0</td><td>--</td><td>0.018</td><td>299.0397</td><td>0.004090609</td><td>770.7679</td><td>0.002328625</td><td>2452.5</td><td>0.002070417</td><td>3803.946</td><td>0.002466829</td><td>5310.436</td><td>0.0007965004</td><td>16.31068</td><td>0.05676769</td><td>15.28269</td><td>0.02919113</td><td>14.02598</td><td>0.009729409</td><td>13.54941</td><td>0.005746726</td><td>13.18717</td><td>0.007244378</td></tr>\n",
       "<tr><td>SN2011D</td><td>SN2011D,SNhunt30,&lt;a id=&quot;SNhunt30&quot;&gt;SNhunt30&lt;/a&gt;</td><td>sne</td><td>IIb</td><td>17.349611111111113</td><td>2011/01/05</td><td>Howerton,Howerton et al., LOSS,CRTS</td><td>--</td><td>0.1357</td><td>UGC 2498</td><td>+17:20:43</td><td>39.7</td><td>19.2</td><td>03:02:12</td><td>--</td><td>104.0</td><td>-17.76</td><td>17.3</td><td>2011/01/04</td><td>SN2011D</td><td>1,0</td><td>45.560625</td><td>--</td><td>0.0231</td><td>2011CBET.2627....2M,2019MNRAS.482.1545S,2017csnh.book.....H,2016A&amp;A...594A..13P,2008yCat....1.2024B</td><td>1,8.5</td><td>6930.0</td><td>--</td><td>0.0231</td><td>-999.0</td><td>-999.0</td><td>-999.0</td><td>-999.0</td><td>-999.0</td><td>-999.0</td><td>-999.0</td><td>-999.0</td><td>-999.0</td><td>-999.0</td><td>-999.0</td><td>-999.0</td><td>-999.0</td><td>-999.0</td><td>-999.0</td><td>-999.0</td><td>-999.0</td><td>-999.0</td><td>-999.0</td><td>-999.0</td></tr>\n",
       "<tr><td>SN2011V</td><td>SN2011V,PSN J09273876+2847275,&lt;a id=&quot;PSNJ09273876+2847275&quot;&gt;PSN J09273876+2847275&lt;/a&gt;</td><td>sne</td><td>IIb</td><td>28.79088888888889</td><td>2011/01/28</td><td>Drake et al.,CRTS</td><td>--</td><td>0.0195</td><td>MCG +05-22-48,UGC 5040</td><td>+28:47:56</td><td>46.32</td><td>13.49</td><td>09:27:36</td><td>--</td><td>61.72</td><td>-16.64</td><td>17.3</td><td>2011/01/27</td><td>SN2011V</td><td>1,0</td><td>141.9115</td><td>--</td><td>0.0138</td><td>2011CBET.2650....2M,2016A&amp;A...594A..13P,2008yCat....1.2024B,2011ApJ...737..103S</td><td>--</td><td>4147.0</td><td>--</td><td>0.0138</td><td>100.7614</td><td>0.008000064</td><td>357.808</td><td>0.009591711</td><td>616.2009</td><td>0.001027951</td><td>708.6722</td><td>7.317973e-05</td><td>987.7594</td><td>3.273558e-05</td><td>17.49176</td><td>0.1204708</td><td>16.11588</td><td>0.0309832</td><td>15.52569</td><td>0.05495609</td><td>15.37389</td><td>0.179095</td><td>15.01337</td><td>0.1921156</td></tr>\n",
       "<tr><td>SN2011bv</td><td>SN2011bv,MLS110330:130254-040236</td><td>sne</td><td>IIb</td><td>-4.043333333333333</td><td>2011/03/30</td><td>Drake et al.,CRTS</td><td>--</td><td>0.0236</td><td>A130253-0402</td><td>-04:02:36</td><td>8.529</td><td>12.67</td><td>13:02:53</td><td>C</td><td>360.0</td><td>--</td><td>--</td><td>--</td><td>SN2011bv</td><td>4</td><td>195.72320833333333</td><td>--</td><td>0.077</td><td>2009ApJ...696..870D,2011CBET.2704....2P,2008yCat....1.2024B,2016A&amp;A...594A..13P,2011ApJ...737..103S</td><td>--</td><td>23100.0</td><td>--</td><td>0.077</td><td>-999.0</td><td>-999.0</td><td>-999.0</td><td>-999.0</td><td>-999.0</td><td>-999.0</td><td>-999.0</td><td>-999.0</td><td>-999.0</td><td>-999.0</td><td>-999.0</td><td>-999.0</td><td>-999.0</td><td>-999.0</td><td>-999.0</td><td>-999.0</td><td>-999.0</td><td>-999.0</td><td>-999.0</td><td>-999.0</td></tr>\n",
       "<tr><td>SN2011cb</td><td>SN2011cb,PSN J22470700-6449430,&lt;a id=&quot;PSNJ22470700-6449430&quot;&gt;PSN J22470700-6449430&lt;/a&gt;</td><td>sne</td><td>IIb</td><td>-64.82872222222223</td><td>2011/04/29</td><td>Parker,Stu Parker</td><td>--</td><td>0.0289</td><td>IC 5249</td><td>-64:49:52</td><td>12.82</td><td>2.158</td><td>22:47:06</td><td>UVOT (W2, W1, M2, U, B, V)</td><td>35.2</td><td>-16.5</td><td>16.27</td><td>2011/05/16</td><td>SN2011cb</td><td>6,-0.0494,6.92</td><td>341.7812083333333</td><td>--</td><td>0.0079</td><td>2014Ap&amp;SS.354...89B,2011CBET.2711....2S,2016A&amp;A...594A..13P,2008yCat....1.2024B,2011ApJ...737..103S</td><td>--</td><td>2332.0</td><td>--</td><td>0.0079</td><td>-999.0</td><td>-999.0</td><td>-999.0</td><td>-999.0</td><td>-999.0</td><td>-999.0</td><td>-999.0</td><td>-999.0</td><td>-999.0</td><td>-999.0</td><td>-999.0</td><td>-999.0</td><td>-999.0</td><td>-999.0</td><td>-999.0</td><td>-999.0</td><td>-999.0</td><td>-999.0</td><td>-999.0</td><td>-999.0</td></tr>\n",
       "<tr><td>SN2011dh</td><td>SN2011dh,PSN J13303600+4706330,PTF11eon,J133005+471010,&lt;a id=&quot;PSNJ13303600+4706330&quot;&gt;PSN J13303600+4706330&lt;/a&gt;</td><td>sne</td><td>IIb</td><td>47.16970055555556</td><td>2011/06/01</td><td>Reiland, Griga, Riou, Lamotte Bailey,Tom Reiland</td><td>e</td><td>0.0309</td><td>NGC 5194,M51,M51A,M51B</td><td>+47:11:43</td><td>154.0</td><td>6.26</td><td>13:29:53</td><td>HFOSC (U, B, V, R, I), IRAC (I1, I2), UVOT (W2, W1, M2, U, B, V), C, U, B, V, R, I</td><td>7.2583</td><td>-18.152</td><td>11.15</td><td>2011/07/08</td><td>SN2011dh</td><td>1432,-36.6,586</td><td>202.52127291666665</td><td>--</td><td>0.001638</td><td>2012PASP..124..668Y,2014A&amp;A...562A..17E,2014Ap&amp;SS.354...89B,2015A&amp;A...580A.142E,2013MNRAS.436.3614S</td><td>84,-35.4,639</td><td>461.0</td><td>--</td><td>0.001638</td><td>-999.0</td><td>-999.0</td><td>-999.0</td><td>-999.0</td><td>-999.0</td><td>-999.0</td><td>-999.0</td><td>-999.0</td><td>-999.0</td><td>-999.0</td><td>-999.0</td><td>-999.0</td><td>-999.0</td><td>-999.0</td><td>-999.0</td><td>-999.0</td><td>-999.0</td><td>-999.0</td><td>-999.0</td><td>-999.0</td></tr>\n",
       "<tr><td>...</td><td>...</td><td>...</td><td>...</td><td>...</td><td>...</td><td>...</td><td>...</td><td>...</td><td>...</td><td>...</td><td>...</td><td>...</td><td>...</td><td>...</td><td>...</td><td>...</td><td>...</td><td>...</td><td>...</td><td>...</td><td>...</td><td>...</td><td>...</td><td>...</td><td>...</td><td>...</td><td>...</td><td>...</td><td>...</td><td>...</td><td>...</td><td>...</td><td>...</td><td>...</td><td>...</td><td>...</td><td>...</td><td>...</td><td>...</td><td>...</td><td>...</td><td>...</td><td>...</td><td>...</td><td>...</td><td>...</td><td>...</td><td>...</td></tr>\n",
       "<tr><td>SN2018dys</td><td>SN2018dys,AT2018dys,ASASSN-18ph,ATLAS18two</td><td>sne</td><td>Ic</td><td>-5.568833333333333</td><td>2018/07/15</td><td>ASAS-SN</td><td>--</td><td>0.0276</td><td>GALEXASC J125510.22-053406.8</td><td>-05:34:06.8</td><td>0.22</td><td>0.24</td><td>12:55:10.22</td><td>ACAM1 (cyan), Cassius (V)</td><td>253.0</td><td>-19.6</td><td>17.4</td><td>2018/07/15</td><td>SN2018dys</td><td>2,-0.427,22.5</td><td>193.79226666666668</td><td>--</td><td>0.055</td><td>2016A&amp;A...594A..13P,2011ApJ...737..103S</td><td>1,5.94</td><td>16000.0</td><td>--</td><td>0.055</td><td>-999.0</td><td>-999.0</td><td>-999.0</td><td>-999.0</td><td>-999.0</td><td>-999.0</td><td>-999.0</td><td>-999.0</td><td>-999.0</td><td>-999.0</td><td>-999.0</td><td>-999.0</td><td>-999.0</td><td>-999.0</td><td>-999.0</td><td>-999.0</td><td>-999.0</td><td>-999.0</td><td>-999.0</td><td>-999.0</td></tr>\n",
       "<tr><td>SN2018fav</td><td>SN2018fav,AT2018fav,ASASSN-18rt</td><td>sne</td><td>Ic</td><td>-21.94565</td><td>2018/08/12</td><td>ASAS-SN</td><td>--</td><td>0.0124</td><td>2MASX J00455851-2156353</td><td>-21:56:35.3</td><td>9.55</td><td>7.42</td><td>00:45:58.51</td><td>Payne-Gaposchkin (g)</td><td>172.656</td><td>-18.1455</td><td>18.0</td><td>2018/08/12</td><td>SN2018fav</td><td>1,0.472</td><td>11.494091666666666</td><td>--</td><td>0.037923</td><td>2016A&amp;A...594A..13P,2011ApJ...737..103S</td><td>1,3.55</td><td>11154.0</td><td>--</td><td>0.037923</td><td>-999.0</td><td>-999.0</td><td>-999.0</td><td>-999.0</td><td>-999.0</td><td>-999.0</td><td>-999.0</td><td>-999.0</td><td>-999.0</td><td>-999.0</td><td>-999.0</td><td>-999.0</td><td>-999.0</td><td>-999.0</td><td>-999.0</td><td>-999.0</td><td>-999.0</td><td>-999.0</td><td>-999.0</td><td>-999.0</td></tr>\n",
       "<tr><td>SN2018ijp</td><td>SN2018ijp,AT2018ijp,ZTF18aceqrrs,PS18cgs</td><td>sne</td><td>Ic</td><td>8.931422222222222</td><td>2018/11/07</td><td>ZTF</td><td>--</td><td>--</td><td>SDSS J102137.73+085554.2</td><td>+08:55:54.2</td><td>4.863</td><td>7.998</td><td>10:21:37.73</td><td>ACAM1 (cyan, orange), GPC (w, i), GPC1 (i), ZTF-Cam (r)</td><td>399.0</td><td>-18.93</td><td>18.99</td><td>2018/11/10</td><td>SN2018ijp</td><td>24,-2.75,79.2</td><td>155.40854166666665</td><td>--</td><td>0.0848</td><td>2016A&amp;A...594A..13P</td><td>--</td><td>24300.0</td><td>--</td><td>0.0848</td><td>11.03022</td><td>0.2283702</td><td>50.43031</td><td>0.8347344</td><td>71.80077</td><td>0.1818116</td><td>97.14462</td><td>0.0478564</td><td>92.35677</td><td>0.005900795</td><td>19.89336</td><td>0.2059114</td><td>18.24327</td><td>0.02356437</td><td>17.85967</td><td>0.03546353</td><td>17.53145</td><td>0.05108961</td><td>17.58626</td><td>0.1530187</td></tr>\n",
       "<tr><td>SN2018ise</td><td>SN2018ise,AT2018ise,ZTF18achcpwu,ATLAS18bajs,PS18ckt</td><td>sne</td><td>Ic</td><td>64.06164444444444</td><td>2018/11/12</td><td>ZTF</td><td>--</td><td>--</td><td>2MASX J07071594+6403517</td><td>+64:03:51.7</td><td>11.19</td><td>12.39</td><td>07:07:15.94</td><td>ACAM1 (orange), GPC (i), GPC1 (i), ZTF-Cam (g, r)</td><td>254.4</td><td>-18.45</td><td>18.52</td><td>2018/12/17</td><td>SN2018ise</td><td>20,-30.4,36</td><td>106.819875</td><td>--</td><td>0.0552</td><td>2016A&amp;A...594A..13P</td><td>1,9</td><td>16100.0</td><td>--</td><td>0.0552</td><td>-999.0</td><td>-999.0</td><td>-999.0</td><td>-999.0</td><td>-999.0</td><td>-999.0</td><td>-999.0</td><td>-999.0</td><td>-999.0</td><td>-999.0</td><td>-999.0</td><td>-999.0</td><td>-999.0</td><td>-999.0</td><td>-999.0</td><td>-999.0</td><td>-999.0</td><td>-999.0</td><td>-999.0</td><td>-999.0</td></tr>\n",
       "<tr><td>SN2018liq</td><td>SN2018liq,AT2018liq,ZTF18adasisj,PS19fy,Gaia19anq</td><td>sne</td><td>Ic</td><td>8.797769444444445</td><td>2018/12/30</td><td>ZTF</td><td>--</td><td>--</td><td>2MASX J04502805+0847582</td><td>+08:47:58.2</td><td>6.267</td><td>4.408</td><td>04:50:28.05</td><td>Astrometric, GPC (w), GPC1 (w), ZTF-Cam (g, r)</td><td>154.0</td><td>-18.1</td><td>17.85</td><td>2019/02/10</td><td>SN2018liq</td><td>17,-40.9,48.8</td><td>72.61668333333333</td><td>--</td><td>0.034</td><td>2016A&amp;A...594A..13P</td><td>1,-13.1</td><td>10000.0</td><td>--</td><td>0.034</td><td>-999.0</td><td>-999.0</td><td>-999.0</td><td>-999.0</td><td>-999.0</td><td>-999.0</td><td>-999.0</td><td>-999.0</td><td>-999.0</td><td>-999.0</td><td>-999.0</td><td>-999.0</td><td>-999.0</td><td>-999.0</td><td>-999.0</td><td>-999.0</td><td>-999.0</td><td>-999.0</td><td>-999.0</td><td>-999.0</td></tr>\n",
       "<tr><td>SN2019bjv</td><td>SN2019bjv,AT2019bjv,ASASSN-19dv</td><td>sne</td><td>Ic</td><td>47.437244444444445</td><td>2019/03/01</td><td>ASAS-SN</td><td>--</td><td>--</td><td>SDSS J162538.62+472614.3</td><td>+47:26:14.3</td><td>0.36</td><td>0.2</td><td>16:25:38.62</td><td>ACAM1 (orange), Brutus (g), Leavitt (g), ZTF-Cam (g, r)</td><td>119.6</td><td>-18.35</td><td>17.01</td><td>2019/02/20</td><td>SN2019bjv</td><td>13,-22.4,39.9</td><td>246.41104583333333</td><td>--</td><td>0.0265</td><td>2016A&amp;A...594A..13P</td><td>1,24.4</td><td>7840.0</td><td>--</td><td>0.0265</td><td>6.097511</td><td>1.360728</td><td>16.71213</td><td>5.111594</td><td>21.59687</td><td>2.059074</td><td>26.39136</td><td>0.7474911</td><td>36.2542</td><td>0.04422272</td><td>20.53655</td><td>0.1524855</td><td>19.44239</td><td>0.02873354</td><td>19.16399</td><td>0.03503246</td><td>18.94629</td><td>0.04757942</td><td>18.60115</td><td>0.1422924</td></tr>\n",
       "<tr><td>SN2019dwy</td><td>SN2019dwy,AT2019dwy,ASASSN-19ku,Gaia19bnh</td><td>sne</td><td>Ic</td><td>70.76793055555555</td><td>2019/04/24</td><td>ASAS-SN,ASASSN</td><td>--</td><td>--</td><td>2MASX J11141082+7046053,2MASX J11141082+7046</td><td>+70:46:05.3</td><td>0.67</td><td>0.62</td><td>11:14:10.82</td><td>Astrometric, Brutus (g), B</td><td>206.0</td><td>-19.5</td><td>17.01</td><td>2019/05/03</td><td>SN2019dwy</td><td>6,-9.54,7.16</td><td>168.54509166666668</td><td>--</td><td>0.045</td><td>2016A&amp;A...594A..13P</td><td>1,-1.49</td><td>13000.0</td><td>--</td><td>0.045</td><td>-999.0</td><td>-999.0</td><td>-999.0</td><td>-999.0</td><td>-999.0</td><td>-999.0</td><td>-999.0</td><td>-999.0</td><td>-999.0</td><td>-999.0</td><td>-999.0</td><td>-999.0</td><td>-999.0</td><td>-999.0</td><td>-999.0</td><td>-999.0</td><td>-999.0</td><td>-999.0</td><td>-999.0</td><td>-999.0</td></tr>\n",
       "<tr><td>SN2019krw</td><td>SN2019krw,PS19dro,AT2019krw,ZTF19abdoior</td><td>sne</td><td>Ic</td><td>40.22581666666667</td><td>2019/07/05</td><td>ZTF</td><td>--</td><td>--</td><td>2MASX J17501063+4013391</td><td>+40:13:39.1</td><td>7.139</td><td>6.942</td><td>17:50:10.63</td><td>GPC (i)</td><td>215.0</td><td>-18.0</td><td>18.63</td><td>2019/07/13</td><td>SN2019krw</td><td>5,-8.6,0.00642</td><td>267.54297916666667</td><td>--</td><td>0.047</td><td>2016A&amp;A...594A..13P</td><td>--</td><td>14000.0</td><td>--</td><td>0.047</td><td>56.0745</td><td>0.08280782</td><td>201.8898</td><td>0.290465</td><td>340.5638</td><td>0.1620785</td><td>482.6163</td><td>0.05890742</td><td>543.826</td><td>0.002683573</td><td>18.12808</td><td>0.06728493</td><td>16.73721</td><td>0.009978446</td><td>16.1695</td><td>0.007918867</td><td>15.79099</td><td>0.009269092</td><td>15.66135</td><td>0.03853949</td></tr>\n",
       "<tr><td>SN2019rwq</td><td>SN2019rwq,AT2019rwq,ASASSN-19yk</td><td>sne</td><td>Ic</td><td>-66.39171666666667</td><td>2019/10/05</td><td>ASAS-SN</td><td>--</td><td>--</td><td>2MASS J02185760-6623310</td><td>-66:23:31.0</td><td>1.66</td><td>0.879</td><td>02:18:57.60</td><td>Paczynski (g)</td><td>115.0</td><td>-17.68</td><td>17.6</td><td>2019/10/05</td><td>SN2019rwq</td><td>1,-0.273</td><td>34.74037083333333</td><td>--</td><td>0.0255</td><td>2016A&amp;A...594A..13P</td><td>1,13.4</td><td>7550.0</td><td>--</td><td>0.0255</td><td>-999.0</td><td>-999.0</td><td>-999.0</td><td>-999.0</td><td>-999.0</td><td>-999.0</td><td>-999.0</td><td>-999.0</td><td>-999.0</td><td>-999.0</td><td>-999.0</td><td>-999.0</td><td>-999.0</td><td>-999.0</td><td>-999.0</td><td>-999.0</td><td>-999.0</td><td>-999.0</td><td>-999.0</td><td>-999.0</td></tr>\n",
       "<tr><td>SN2020euy</td><td>SN2020euy,AT2020euy,ASASSN-20dn</td><td>sne</td><td>Ic</td><td>47.57398888888889</td><td>2020/03/21</td><td>ASAS-SN,ASASSN</td><td>--</td><td>--</td><td>Unknown,WISEA J133629.46+473</td><td>+47:03:00</td><td>1886.0</td><td>2339.0</td><td>13:36:29.46</td><td>ACAM1 (cyan, orange), Brutus (g), ZTF-Cam (g, r)</td><td>288.674</td><td>-19.6164</td><td>17.62</td><td>2020/03/24</td><td>SN2020euy</td><td>4,-3,3.7</td><td>204.12286666666665</td><td>--</td><td>0.062312</td><td>2016A&amp;A...594A..13P</td><td>1,8.01</td><td>18100.0</td><td>--</td><td>0.062312</td><td>0.05958833</td><td>2.369335</td><td>0.7291825</td><td>17.43356</td><td>1.314406</td><td>5.563075</td><td>1.840136</td><td>1.703908</td><td>5.558956</td><td>0.09282775</td><td>24.40533</td><td>2.463965</td><td>22.82673</td><td>0.3462186</td><td>22.19424</td><td>0.3445212</td><td>21.82763</td><td>0.443604</td><td>20.61877</td><td>0.6194715</td></tr>\n",
       "</table>"
      ],
      "text/plain": [
       "<Table length=1851>\n",
       "   event    ...   zmag_er  \n",
       "   str23    ...   float64  \n",
       "----------- ... -----------\n",
       "ASASSN-14az ...  0.09963752\n",
       "ASASSN-15bd ...  0.04027074\n",
       "ASASSN-15tu ...      -999.0\n",
       "   PS1-14od ...  0.07777578\n",
       "   SN2002au ... 0.007244378\n",
       "    SN2011D ...      -999.0\n",
       "    SN2011V ...   0.1921156\n",
       "   SN2011bv ...      -999.0\n",
       "   SN2011cb ...      -999.0\n",
       "   SN2011dh ...      -999.0\n",
       "        ... ...         ...\n",
       "  SN2018dys ...      -999.0\n",
       "  SN2018fav ...      -999.0\n",
       "  SN2018ijp ...   0.1530187\n",
       "  SN2018ise ...      -999.0\n",
       "  SN2018liq ...      -999.0\n",
       "  SN2019bjv ...   0.1422924\n",
       "  SN2019dwy ...      -999.0\n",
       "  SN2019krw ...  0.03853949\n",
       "  SN2019rwq ...      -999.0\n",
       "  SN2020euy ...   0.6194715"
      ]
     },
     "execution_count": 6,
     "metadata": {},
     "output_type": "execute_result"
    }
   ],
   "source": [
    "SNeCat_table"
   ]
  },
  {
   "cell_type": "code",
   "execution_count": 7,
   "id": "cd92728b",
   "metadata": {
    "scrolled": true
   },
   "outputs": [],
   "source": [
    "#intiilize columns \n",
    "# SNeCat_table['uflux'] = -999.\n",
    "# SNeCat_table['uflux_ivar'] = -999.\n",
    "# SNeCat_table['gflux'] = -999.\n",
    "# SNeCat_table['gflux_ivar'] = -999.\n",
    "# SNeCat_table['rflux'] = -999.\n",
    "# SNeCat_table['rflux_ivar'] = -999.\n",
    "# SNeCat_table['iflux'] = -999.\n",
    "# SNeCat_table['iflux_ivar'] = -999.\n",
    "# SNeCat_table['zflux'] = -999.\n",
    "# SNeCat_table['zflux_ivar'] = -999.\n",
    "# SNeCat_table['umag'] = -999.\n",
    "# SNeCat_table['umag_er'] = -999.\n",
    "# SNeCat_table['gmag'] = -999.\n",
    "# SNeCat_table['gmag_er'] = -999.\n",
    "# SNeCat_table['rmag'] = -999.\n",
    "# SNeCat_table['rmag_er'] = -999.\n",
    "# SNeCat_table['imag'] = -999.\n",
    "# SNeCat_table['imag_er'] = -999.\n",
    "# SNeCat_table['zmag'] = -999.\n",
    "# SNeCat_table['zmag_er'] = -999.\n",
    "\n",
    "\n",
    "#plug in values\n",
    "for i in range(len(querytb_results)):\n",
    "#find galaxy in SNecat\n",
    "    j = np.argwhere(SNeCat_table['name'] == querytb_results['name'][i])[0]\n",
    "    #print(j)\n",
    "#set that equal to our querytb_results\n",
    "    SNeCat_table['uflux'][j] = querytb_results['petroFlux_u'][i]\n",
    "    SNeCat_table['uflux_ivar'][j] = querytb_results['petroFluxIvar_u'][i]\n",
    "    SNeCat_table['gflux'][j] = querytb_results['petroFlux_g'][i]\n",
    "    SNeCat_table['gflux_ivar'][j] = querytb_results['petroFluxIvar_g'][i]\n",
    "    SNeCat_table['rflux'][j] = querytb_results['petroFlux_r'][i]\n",
    "    SNeCat_table['rflux_ivar'][j] = querytb_results['petroFluxIvar_r'][i]\n",
    "    SNeCat_table['iflux'][j] = querytb_results['petroFlux_i'][i]\n",
    "    SNeCat_table['iflux_ivar'][j] = querytb_results['petroFluxIvar_i'][i]\n",
    "    SNeCat_table['zflux'][j] = querytb_results['petroFlux_z'][i]\n",
    "    SNeCat_table['zflux_ivar'][j] = querytb_results['petroFluxIvar_z'][i]\n",
    "    SNeCat_table['umag'][j] = querytb_results['petroMag_u'][i]\n",
    "    SNeCat_table['umag_er'][j] = querytb_results['petroMagErr_u'][i]\n",
    "    SNeCat_table['gmag'][j] = querytb_results['petroMag_g'][i]\n",
    "    SNeCat_table['gmag_er'][j] = querytb_results['petroMagErr_g'][i]\n",
    "    SNeCat_table['rmag'][j] = querytb_results['petroMag_r'][i]\n",
    "    SNeCat_table['rmag_er'][j] = querytb_results['petroMagErr_r'][i]\n",
    "    SNeCat_table['imag'][j] = querytb_results['petroMag_i'][i]\n",
    "    SNeCat_table['imag_er'][j] = querytb_results['petroMagErr_i'][i]\n",
    "    SNeCat_table['zmag'][j] = querytb_results['petroMag_z'][i]\n",
    "    SNeCat_table['zmag_er'][j] = querytb_results['petroMagErr_z'][i]\n",
    "\n",
    "    #break"
   ]
  },
  {
   "cell_type": "code",
   "execution_count": 8,
   "id": "017d6249",
   "metadata": {},
   "outputs": [
    {
     "data": {
      "text/html": [
       "<i>Table length=1851</i>\n",
       "<table id=\"table4640244352\" class=\"table-striped table-bordered table-condensed\">\n",
       "<thead><tr><th>event</th><th>alias</th><th>catalog</th><th>claimedtype</th><th>dec</th><th>discoverdate</th><th>discoverer</th><th>download</th><th>ebv</th><th>host</th><th>hostdec</th><th>hostoffsetang</th><th>hostoffsetdist</th><th>hostra</th><th>instruments</th><th>lumdist</th><th>maxabsmag</th><th>maxappmag</th><th>maxdate</th><th>name</th><th>photolink</th><th>ra</th><th>radiolink</th><th>redshift</th><th>references</th><th>spectralink</th><th>velocity</th><th>xraylink</th><th>z</th><th>uflux</th><th>uflux_ivar</th><th>gflux</th><th>gflux_ivar</th><th>rflux</th><th>rflux_ivar</th><th>iflux</th><th>iflux_ivar</th><th>zflux</th><th>zflux_ivar</th><th>umag</th><th>umag_er</th><th>gmag</th><th>gmag_er</th><th>rmag</th><th>rmag_er</th><th>imag</th><th>imag_er</th><th>zmag</th><th>zmag_er</th></tr></thead>\n",
       "<thead><tr><th>str23</th><th>str140</th><th>str3</th><th>str10</th><th>float64</th><th>str10</th><th>str86</th><th>str1</th><th>float64</th><th>str65</th><th>str49</th><th>float64</th><th>float64</th><th>str34</th><th>str142</th><th>float64</th><th>float64</th><th>float64</th><th>str10</th><th>str23</th><th>str16</th><th>float64</th><th>int64</th><th>str55</th><th>str99</th><th>str13</th><th>float64</th><th>int64</th><th>float64</th><th>float64</th><th>float64</th><th>float64</th><th>float64</th><th>float64</th><th>float64</th><th>float64</th><th>float64</th><th>float64</th><th>float64</th><th>float64</th><th>float64</th><th>float64</th><th>float64</th><th>float64</th><th>float64</th><th>float64</th><th>float64</th><th>float64</th><th>float64</th></tr></thead>\n",
       "<tr><td>ASASSN-14az</td><td>ASASSN-14az,Gaia14age,MLS140831:234448-020701</td><td>sne</td><td>IIb</td><td>-2.117547222222222</td><td>2014/05/20</td><td>ASAS-SN</td><td>e</td><td>0.0274</td><td>PGC 1101367,GALEXASC J234448.27-020653.4</td><td>-02:06:53.4</td><td>8.94</td><td>1.28</td><td>23:44:48.27</td><td>C, u, g, r, R, i</td><td>29.943</td><td>-16.734</td><td>15.64</td><td>2014/07/22</td><td>ASASSN-14az</td><td>25,-36.1,67</td><td>356.2</td><td>--</td><td>0.006731</td><td>2009ApJ...696..870D,2014ATel.6151....1D,2014ATel.6185....1B,2016A&amp;A...594A..13P,2011ApJ...737..103S</td><td>1,-53.1</td><td>2011.0</td><td>--</td><td>0.006731</td><td>105.3499</td><td>0.01638733</td><td>276.2211</td><td>0.1078128</td><td>393.7222</td><td>0.04989673</td><td>465.4725</td><td>0.01249947</td><td>393.5354</td><td>0.0007667065</td><td>17.44341</td><td>0.08050719</td><td>16.39686</td><td>0.01197105</td><td>16.01203</td><td>0.01234521</td><td>15.83027</td><td>0.02086336</td><td>16.01254</td><td>0.09963752</td></tr>\n",
       "<tr><td>ASASSN-15bd</td><td>ASASSN-15bd</td><td>sne</td><td>IIb</td><td>16.610583333333334</td><td>2015/01/08</td><td>ASAS-SN</td><td>--</td><td>0.0294</td><td>SDSS J155438.39+163637.6</td><td>+16:36:37.6</td><td>1.08</td><td>0.182</td><td>15:54:38.39</td><td>--</td><td>35.38</td><td>-16.535</td><td>16.2</td><td>2015/01/28</td><td>ASASSN-15bd</td><td>1,0</td><td>238.65970833333333</td><td>--</td><td>0.007946</td><td>2015ATel.6945....1K,2016A&amp;A...594A..13P,2015ATel.6956....1C,2011ApJ...737..103S</td><td>--</td><td>2373.0</td><td>--</td><td>0.007946</td><td>82.5851</td><td>0.1384537</td><td>164.0936</td><td>0.8550192</td><td>233.7789</td><td>0.3454179</td><td>257.4846</td><td>0.1057257</td><td>258.7754</td><td>0.01085449</td><td>17.70774</td><td>0.03533197</td><td>16.96227</td><td>0.007155575</td><td>16.57799</td><td>0.007902169</td><td>16.47312</td><td>0.01296828</td><td>16.46768</td><td>0.04027074</td></tr>\n",
       "<tr><td>ASASSN-15tu</td><td>ASASSN-15tu</td><td>sne</td><td>IIb</td><td>-32.39821666666667</td><td>2015/12/08</td><td>ASAS-SN</td><td>--</td><td>0.0114</td><td>2MASX J22340166-3223490</td><td>-32:23:49.0</td><td>12.5</td><td>3.33</td><td>22:34:01.66</td><td>--</td><td>56.3</td><td>-17.44</td><td>16.3</td><td>2015/12/07</td><td>ASASSN-15tu</td><td>1,0</td><td>338.51075</td><td>--</td><td>0.0126</td><td>2015ATel.8386....1N,2016A&amp;A...594A..13P,2015ATel.8434....1F,2011ApJ...737..103S</td><td>--</td><td>3750.0</td><td>--</td><td>0.0126</td><td>-999.0</td><td>-999.0</td><td>-999.0</td><td>-999.0</td><td>-999.0</td><td>-999.0</td><td>-999.0</td><td>-999.0</td><td>-999.0</td><td>-999.0</td><td>-999.0</td><td>-999.0</td><td>-999.0</td><td>-999.0</td><td>-999.0</td><td>-999.0</td><td>-999.0</td><td>-999.0</td><td>-999.0</td><td>-999.0</td></tr>\n",
       "<tr><td>PS1-14od</td><td>PS1-14od</td><td>sne</td><td>IIb</td><td>-7.282611111111111</td><td>2014/02/25</td><td>PS1</td><td>--</td><td>0.0491</td><td>SDSS J032106.08-071656.8</td><td>-07:16:56.8</td><td>2.311</td><td>0.9886</td><td>03:21:06.08</td><td>GPC (r, y)</td><td>90.0</td><td>-17.0</td><td>17.75</td><td>2014/02/25</td><td>PS1-14od</td><td>3,-0.257,1.69</td><td>50.275958333333335</td><td>--</td><td>0.02</td><td>2014ATel.5937....1C,2016A&amp;A...594A..13P,2015ApJ...811..117S,2011ApJ...737..103S</td><td>1,3.43</td><td>6000.0</td><td>--</td><td>0.02</td><td>51.41655</td><td>0.06342904</td><td>129.9099</td><td>0.3022959</td><td>207.2322</td><td>0.1470266</td><td>229.6892</td><td>0.04257694</td><td>285.9808</td><td>0.002382728</td><td>18.22223</td><td>0.08384378</td><td>17.21589</td><td>0.01520076</td><td>16.70886</td><td>0.01366372</td><td>16.59715</td><td>0.02290846</td><td>16.35915</td><td>0.07777578</td></tr>\n",
       "<tr><td>SN2002au</td><td>SN2002au</td><td>sne</td><td>IIb</td><td>5.837694444444445</td><td>2002/02/08</td><td>Martin, LOTOSS,Tim Puckett et al.</td><td>e</td><td>0.0322</td><td>UGC 5100</td><td>+05:50:26,+05:50:29.3</td><td>23.29</td><td>8.762</td><td>09:34:39,09:34:38.63</td><td>C</td><td>80.8</td><td>-17.3</td><td>17.2</td><td>2002/03/02</td><td>SN2002au</td><td>6,-28.7,-0.403</td><td>143.65666666666667</td><td>--</td><td>0.018,0.018</td><td>2019MNRAS.482.1545S,2012A&amp;A...538A.120L,2016A&amp;A...594A..13P,2002IAUC.7823....3J,2002IAUC.7823....1P</td><td>3,-19.2,-16.2</td><td>5514.0</td><td>--</td><td>0.018</td><td>299.0397</td><td>0.004090609</td><td>770.7679</td><td>0.002328625</td><td>2452.5</td><td>0.002070417</td><td>3803.946</td><td>0.002466829</td><td>5310.436</td><td>0.0007965004</td><td>16.31068</td><td>0.05676769</td><td>15.28269</td><td>0.02919113</td><td>14.02598</td><td>0.009729409</td><td>13.54941</td><td>0.005746726</td><td>13.18717</td><td>0.007244378</td></tr>\n",
       "<tr><td>SN2011D</td><td>SN2011D,SNhunt30,&lt;a id=&quot;SNhunt30&quot;&gt;SNhunt30&lt;/a&gt;</td><td>sne</td><td>IIb</td><td>17.349611111111113</td><td>2011/01/05</td><td>Howerton,Howerton et al., LOSS,CRTS</td><td>--</td><td>0.1357</td><td>UGC 2498</td><td>+17:20:43</td><td>39.7</td><td>19.2</td><td>03:02:12</td><td>--</td><td>104.0</td><td>-17.76</td><td>17.3</td><td>2011/01/04</td><td>SN2011D</td><td>1,0</td><td>45.560625</td><td>--</td><td>0.0231</td><td>2011CBET.2627....2M,2019MNRAS.482.1545S,2017csnh.book.....H,2016A&amp;A...594A..13P,2008yCat....1.2024B</td><td>1,8.5</td><td>6930.0</td><td>--</td><td>0.0231</td><td>-999.0</td><td>-999.0</td><td>-999.0</td><td>-999.0</td><td>-999.0</td><td>-999.0</td><td>-999.0</td><td>-999.0</td><td>-999.0</td><td>-999.0</td><td>-999.0</td><td>-999.0</td><td>-999.0</td><td>-999.0</td><td>-999.0</td><td>-999.0</td><td>-999.0</td><td>-999.0</td><td>-999.0</td><td>-999.0</td></tr>\n",
       "<tr><td>SN2011V</td><td>SN2011V,PSN J09273876+2847275,&lt;a id=&quot;PSNJ09273876+2847275&quot;&gt;PSN J09273876+2847275&lt;/a&gt;</td><td>sne</td><td>IIb</td><td>28.79088888888889</td><td>2011/01/28</td><td>Drake et al.,CRTS</td><td>--</td><td>0.0195</td><td>MCG +05-22-48,UGC 5040</td><td>+28:47:56</td><td>46.32</td><td>13.49</td><td>09:27:36</td><td>--</td><td>61.72</td><td>-16.64</td><td>17.3</td><td>2011/01/27</td><td>SN2011V</td><td>1,0</td><td>141.9115</td><td>--</td><td>0.0138</td><td>2011CBET.2650....2M,2016A&amp;A...594A..13P,2008yCat....1.2024B,2011ApJ...737..103S</td><td>--</td><td>4147.0</td><td>--</td><td>0.0138</td><td>100.7614</td><td>0.008000064</td><td>357.808</td><td>0.009591711</td><td>616.2009</td><td>0.001027951</td><td>708.6722</td><td>7.317973e-05</td><td>987.7594</td><td>3.273558e-05</td><td>17.49176</td><td>0.1204708</td><td>16.11588</td><td>0.0309832</td><td>15.52569</td><td>0.05495609</td><td>15.37389</td><td>0.179095</td><td>15.01337</td><td>0.1921156</td></tr>\n",
       "<tr><td>SN2011bv</td><td>SN2011bv,MLS110330:130254-040236</td><td>sne</td><td>IIb</td><td>-4.043333333333333</td><td>2011/03/30</td><td>Drake et al.,CRTS</td><td>--</td><td>0.0236</td><td>A130253-0402</td><td>-04:02:36</td><td>8.529</td><td>12.67</td><td>13:02:53</td><td>C</td><td>360.0</td><td>--</td><td>--</td><td>--</td><td>SN2011bv</td><td>4</td><td>195.72320833333333</td><td>--</td><td>0.077</td><td>2009ApJ...696..870D,2011CBET.2704....2P,2008yCat....1.2024B,2016A&amp;A...594A..13P,2011ApJ...737..103S</td><td>--</td><td>23100.0</td><td>--</td><td>0.077</td><td>-999.0</td><td>-999.0</td><td>-999.0</td><td>-999.0</td><td>-999.0</td><td>-999.0</td><td>-999.0</td><td>-999.0</td><td>-999.0</td><td>-999.0</td><td>-999.0</td><td>-999.0</td><td>-999.0</td><td>-999.0</td><td>-999.0</td><td>-999.0</td><td>-999.0</td><td>-999.0</td><td>-999.0</td><td>-999.0</td></tr>\n",
       "<tr><td>SN2011cb</td><td>SN2011cb,PSN J22470700-6449430,&lt;a id=&quot;PSNJ22470700-6449430&quot;&gt;PSN J22470700-6449430&lt;/a&gt;</td><td>sne</td><td>IIb</td><td>-64.82872222222223</td><td>2011/04/29</td><td>Parker,Stu Parker</td><td>--</td><td>0.0289</td><td>IC 5249</td><td>-64:49:52</td><td>12.82</td><td>2.158</td><td>22:47:06</td><td>UVOT (W2, W1, M2, U, B, V)</td><td>35.2</td><td>-16.5</td><td>16.27</td><td>2011/05/16</td><td>SN2011cb</td><td>6,-0.0494,6.92</td><td>341.7812083333333</td><td>--</td><td>0.0079</td><td>2014Ap&amp;SS.354...89B,2011CBET.2711....2S,2016A&amp;A...594A..13P,2008yCat....1.2024B,2011ApJ...737..103S</td><td>--</td><td>2332.0</td><td>--</td><td>0.0079</td><td>-999.0</td><td>-999.0</td><td>-999.0</td><td>-999.0</td><td>-999.0</td><td>-999.0</td><td>-999.0</td><td>-999.0</td><td>-999.0</td><td>-999.0</td><td>-999.0</td><td>-999.0</td><td>-999.0</td><td>-999.0</td><td>-999.0</td><td>-999.0</td><td>-999.0</td><td>-999.0</td><td>-999.0</td><td>-999.0</td></tr>\n",
       "<tr><td>SN2011dh</td><td>SN2011dh,PSN J13303600+4706330,PTF11eon,J133005+471010,&lt;a id=&quot;PSNJ13303600+4706330&quot;&gt;PSN J13303600+4706330&lt;/a&gt;</td><td>sne</td><td>IIb</td><td>47.16970055555556</td><td>2011/06/01</td><td>Reiland, Griga, Riou, Lamotte Bailey,Tom Reiland</td><td>e</td><td>0.0309</td><td>NGC 5194,M51,M51A,M51B</td><td>+47:11:43</td><td>154.0</td><td>6.26</td><td>13:29:53</td><td>HFOSC (U, B, V, R, I), IRAC (I1, I2), UVOT (W2, W1, M2, U, B, V), C, U, B, V, R, I</td><td>7.2583</td><td>-18.152</td><td>11.15</td><td>2011/07/08</td><td>SN2011dh</td><td>1432,-36.6,586</td><td>202.52127291666665</td><td>--</td><td>0.001638</td><td>2012PASP..124..668Y,2014A&amp;A...562A..17E,2014Ap&amp;SS.354...89B,2015A&amp;A...580A.142E,2013MNRAS.436.3614S</td><td>84,-35.4,639</td><td>461.0</td><td>--</td><td>0.001638</td><td>-999.0</td><td>-999.0</td><td>-999.0</td><td>-999.0</td><td>-999.0</td><td>-999.0</td><td>-999.0</td><td>-999.0</td><td>-999.0</td><td>-999.0</td><td>-999.0</td><td>-999.0</td><td>-999.0</td><td>-999.0</td><td>-999.0</td><td>-999.0</td><td>-999.0</td><td>-999.0</td><td>-999.0</td><td>-999.0</td></tr>\n",
       "<tr><td>...</td><td>...</td><td>...</td><td>...</td><td>...</td><td>...</td><td>...</td><td>...</td><td>...</td><td>...</td><td>...</td><td>...</td><td>...</td><td>...</td><td>...</td><td>...</td><td>...</td><td>...</td><td>...</td><td>...</td><td>...</td><td>...</td><td>...</td><td>...</td><td>...</td><td>...</td><td>...</td><td>...</td><td>...</td><td>...</td><td>...</td><td>...</td><td>...</td><td>...</td><td>...</td><td>...</td><td>...</td><td>...</td><td>...</td><td>...</td><td>...</td><td>...</td><td>...</td><td>...</td><td>...</td><td>...</td><td>...</td><td>...</td><td>...</td></tr>\n",
       "<tr><td>SN2018dys</td><td>SN2018dys,AT2018dys,ASASSN-18ph,ATLAS18two</td><td>sne</td><td>Ic</td><td>-5.568833333333333</td><td>2018/07/15</td><td>ASAS-SN</td><td>--</td><td>0.0276</td><td>GALEXASC J125510.22-053406.8</td><td>-05:34:06.8</td><td>0.22</td><td>0.24</td><td>12:55:10.22</td><td>ACAM1 (cyan), Cassius (V)</td><td>253.0</td><td>-19.6</td><td>17.4</td><td>2018/07/15</td><td>SN2018dys</td><td>2,-0.427,22.5</td><td>193.79226666666668</td><td>--</td><td>0.055</td><td>2016A&amp;A...594A..13P,2011ApJ...737..103S</td><td>1,5.94</td><td>16000.0</td><td>--</td><td>0.055</td><td>-999.0</td><td>-999.0</td><td>-999.0</td><td>-999.0</td><td>-999.0</td><td>-999.0</td><td>-999.0</td><td>-999.0</td><td>-999.0</td><td>-999.0</td><td>-999.0</td><td>-999.0</td><td>-999.0</td><td>-999.0</td><td>-999.0</td><td>-999.0</td><td>-999.0</td><td>-999.0</td><td>-999.0</td><td>-999.0</td></tr>\n",
       "<tr><td>SN2018fav</td><td>SN2018fav,AT2018fav,ASASSN-18rt</td><td>sne</td><td>Ic</td><td>-21.94565</td><td>2018/08/12</td><td>ASAS-SN</td><td>--</td><td>0.0124</td><td>2MASX J00455851-2156353</td><td>-21:56:35.3</td><td>9.55</td><td>7.42</td><td>00:45:58.51</td><td>Payne-Gaposchkin (g)</td><td>172.656</td><td>-18.1455</td><td>18.0</td><td>2018/08/12</td><td>SN2018fav</td><td>1,0.472</td><td>11.494091666666666</td><td>--</td><td>0.037923</td><td>2016A&amp;A...594A..13P,2011ApJ...737..103S</td><td>1,3.55</td><td>11154.0</td><td>--</td><td>0.037923</td><td>-999.0</td><td>-999.0</td><td>-999.0</td><td>-999.0</td><td>-999.0</td><td>-999.0</td><td>-999.0</td><td>-999.0</td><td>-999.0</td><td>-999.0</td><td>-999.0</td><td>-999.0</td><td>-999.0</td><td>-999.0</td><td>-999.0</td><td>-999.0</td><td>-999.0</td><td>-999.0</td><td>-999.0</td><td>-999.0</td></tr>\n",
       "<tr><td>SN2018ijp</td><td>SN2018ijp,AT2018ijp,ZTF18aceqrrs,PS18cgs</td><td>sne</td><td>Ic</td><td>8.931422222222222</td><td>2018/11/07</td><td>ZTF</td><td>--</td><td>--</td><td>SDSS J102137.73+085554.2</td><td>+08:55:54.2</td><td>4.863</td><td>7.998</td><td>10:21:37.73</td><td>ACAM1 (cyan, orange), GPC (w, i), GPC1 (i), ZTF-Cam (r)</td><td>399.0</td><td>-18.93</td><td>18.99</td><td>2018/11/10</td><td>SN2018ijp</td><td>24,-2.75,79.2</td><td>155.40854166666665</td><td>--</td><td>0.0848</td><td>2016A&amp;A...594A..13P</td><td>--</td><td>24300.0</td><td>--</td><td>0.0848</td><td>11.03022</td><td>0.2283702</td><td>50.43031</td><td>0.8347344</td><td>71.80077</td><td>0.1818116</td><td>97.14462</td><td>0.0478564</td><td>92.35677</td><td>0.005900795</td><td>19.89336</td><td>0.2059114</td><td>18.24327</td><td>0.02356437</td><td>17.85967</td><td>0.03546353</td><td>17.53145</td><td>0.05108961</td><td>17.58626</td><td>0.1530187</td></tr>\n",
       "<tr><td>SN2018ise</td><td>SN2018ise,AT2018ise,ZTF18achcpwu,ATLAS18bajs,PS18ckt</td><td>sne</td><td>Ic</td><td>64.06164444444444</td><td>2018/11/12</td><td>ZTF</td><td>--</td><td>--</td><td>2MASX J07071594+6403517</td><td>+64:03:51.7</td><td>11.19</td><td>12.39</td><td>07:07:15.94</td><td>ACAM1 (orange), GPC (i), GPC1 (i), ZTF-Cam (g, r)</td><td>254.4</td><td>-18.45</td><td>18.52</td><td>2018/12/17</td><td>SN2018ise</td><td>20,-30.4,36</td><td>106.819875</td><td>--</td><td>0.0552</td><td>2016A&amp;A...594A..13P</td><td>1,9</td><td>16100.0</td><td>--</td><td>0.0552</td><td>-999.0</td><td>-999.0</td><td>-999.0</td><td>-999.0</td><td>-999.0</td><td>-999.0</td><td>-999.0</td><td>-999.0</td><td>-999.0</td><td>-999.0</td><td>-999.0</td><td>-999.0</td><td>-999.0</td><td>-999.0</td><td>-999.0</td><td>-999.0</td><td>-999.0</td><td>-999.0</td><td>-999.0</td><td>-999.0</td></tr>\n",
       "<tr><td>SN2018liq</td><td>SN2018liq,AT2018liq,ZTF18adasisj,PS19fy,Gaia19anq</td><td>sne</td><td>Ic</td><td>8.797769444444445</td><td>2018/12/30</td><td>ZTF</td><td>--</td><td>--</td><td>2MASX J04502805+0847582</td><td>+08:47:58.2</td><td>6.267</td><td>4.408</td><td>04:50:28.05</td><td>Astrometric, GPC (w), GPC1 (w), ZTF-Cam (g, r)</td><td>154.0</td><td>-18.1</td><td>17.85</td><td>2019/02/10</td><td>SN2018liq</td><td>17,-40.9,48.8</td><td>72.61668333333333</td><td>--</td><td>0.034</td><td>2016A&amp;A...594A..13P</td><td>1,-13.1</td><td>10000.0</td><td>--</td><td>0.034</td><td>-999.0</td><td>-999.0</td><td>-999.0</td><td>-999.0</td><td>-999.0</td><td>-999.0</td><td>-999.0</td><td>-999.0</td><td>-999.0</td><td>-999.0</td><td>-999.0</td><td>-999.0</td><td>-999.0</td><td>-999.0</td><td>-999.0</td><td>-999.0</td><td>-999.0</td><td>-999.0</td><td>-999.0</td><td>-999.0</td></tr>\n",
       "<tr><td>SN2019bjv</td><td>SN2019bjv,AT2019bjv,ASASSN-19dv</td><td>sne</td><td>Ic</td><td>47.437244444444445</td><td>2019/03/01</td><td>ASAS-SN</td><td>--</td><td>--</td><td>SDSS J162538.62+472614.3</td><td>+47:26:14.3</td><td>0.36</td><td>0.2</td><td>16:25:38.62</td><td>ACAM1 (orange), Brutus (g), Leavitt (g), ZTF-Cam (g, r)</td><td>119.6</td><td>-18.35</td><td>17.01</td><td>2019/02/20</td><td>SN2019bjv</td><td>13,-22.4,39.9</td><td>246.41104583333333</td><td>--</td><td>0.0265</td><td>2016A&amp;A...594A..13P</td><td>1,24.4</td><td>7840.0</td><td>--</td><td>0.0265</td><td>6.097511</td><td>1.360728</td><td>16.71213</td><td>5.111594</td><td>21.59687</td><td>2.059074</td><td>26.39136</td><td>0.7474911</td><td>36.2542</td><td>0.04422272</td><td>20.53655</td><td>0.1524855</td><td>19.44239</td><td>0.02873354</td><td>19.16399</td><td>0.03503246</td><td>18.94629</td><td>0.04757942</td><td>18.60115</td><td>0.1422924</td></tr>\n",
       "<tr><td>SN2019dwy</td><td>SN2019dwy,AT2019dwy,ASASSN-19ku,Gaia19bnh</td><td>sne</td><td>Ic</td><td>70.76793055555555</td><td>2019/04/24</td><td>ASAS-SN,ASASSN</td><td>--</td><td>--</td><td>2MASX J11141082+7046053,2MASX J11141082+7046</td><td>+70:46:05.3</td><td>0.67</td><td>0.62</td><td>11:14:10.82</td><td>Astrometric, Brutus (g), B</td><td>206.0</td><td>-19.5</td><td>17.01</td><td>2019/05/03</td><td>SN2019dwy</td><td>6,-9.54,7.16</td><td>168.54509166666668</td><td>--</td><td>0.045</td><td>2016A&amp;A...594A..13P</td><td>1,-1.49</td><td>13000.0</td><td>--</td><td>0.045</td><td>-999.0</td><td>-999.0</td><td>-999.0</td><td>-999.0</td><td>-999.0</td><td>-999.0</td><td>-999.0</td><td>-999.0</td><td>-999.0</td><td>-999.0</td><td>-999.0</td><td>-999.0</td><td>-999.0</td><td>-999.0</td><td>-999.0</td><td>-999.0</td><td>-999.0</td><td>-999.0</td><td>-999.0</td><td>-999.0</td></tr>\n",
       "<tr><td>SN2019krw</td><td>SN2019krw,PS19dro,AT2019krw,ZTF19abdoior</td><td>sne</td><td>Ic</td><td>40.22581666666667</td><td>2019/07/05</td><td>ZTF</td><td>--</td><td>--</td><td>2MASX J17501063+4013391</td><td>+40:13:39.1</td><td>7.139</td><td>6.942</td><td>17:50:10.63</td><td>GPC (i)</td><td>215.0</td><td>-18.0</td><td>18.63</td><td>2019/07/13</td><td>SN2019krw</td><td>5,-8.6,0.00642</td><td>267.54297916666667</td><td>--</td><td>0.047</td><td>2016A&amp;A...594A..13P</td><td>--</td><td>14000.0</td><td>--</td><td>0.047</td><td>56.0745</td><td>0.08280782</td><td>201.8898</td><td>0.290465</td><td>340.5638</td><td>0.1620785</td><td>482.6163</td><td>0.05890742</td><td>543.826</td><td>0.002683573</td><td>18.12808</td><td>0.06728493</td><td>16.73721</td><td>0.009978446</td><td>16.1695</td><td>0.007918867</td><td>15.79099</td><td>0.009269092</td><td>15.66135</td><td>0.03853949</td></tr>\n",
       "<tr><td>SN2019rwq</td><td>SN2019rwq,AT2019rwq,ASASSN-19yk</td><td>sne</td><td>Ic</td><td>-66.39171666666667</td><td>2019/10/05</td><td>ASAS-SN</td><td>--</td><td>--</td><td>2MASS J02185760-6623310</td><td>-66:23:31.0</td><td>1.66</td><td>0.879</td><td>02:18:57.60</td><td>Paczynski (g)</td><td>115.0</td><td>-17.68</td><td>17.6</td><td>2019/10/05</td><td>SN2019rwq</td><td>1,-0.273</td><td>34.74037083333333</td><td>--</td><td>0.0255</td><td>2016A&amp;A...594A..13P</td><td>1,13.4</td><td>7550.0</td><td>--</td><td>0.0255</td><td>-999.0</td><td>-999.0</td><td>-999.0</td><td>-999.0</td><td>-999.0</td><td>-999.0</td><td>-999.0</td><td>-999.0</td><td>-999.0</td><td>-999.0</td><td>-999.0</td><td>-999.0</td><td>-999.0</td><td>-999.0</td><td>-999.0</td><td>-999.0</td><td>-999.0</td><td>-999.0</td><td>-999.0</td><td>-999.0</td></tr>\n",
       "<tr><td>SN2020euy</td><td>SN2020euy,AT2020euy,ASASSN-20dn</td><td>sne</td><td>Ic</td><td>47.57398888888889</td><td>2020/03/21</td><td>ASAS-SN,ASASSN</td><td>--</td><td>--</td><td>Unknown,WISEA J133629.46+473</td><td>+47:03:00</td><td>1886.0</td><td>2339.0</td><td>13:36:29.46</td><td>ACAM1 (cyan, orange), Brutus (g), ZTF-Cam (g, r)</td><td>288.674</td><td>-19.6164</td><td>17.62</td><td>2020/03/24</td><td>SN2020euy</td><td>4,-3,3.7</td><td>204.12286666666665</td><td>--</td><td>0.062312</td><td>2016A&amp;A...594A..13P</td><td>1,8.01</td><td>18100.0</td><td>--</td><td>0.062312</td><td>0.05958833</td><td>2.369335</td><td>0.7291825</td><td>17.43356</td><td>1.314406</td><td>5.563075</td><td>1.840136</td><td>1.703908</td><td>5.558956</td><td>0.09282775</td><td>24.40533</td><td>2.463965</td><td>22.82673</td><td>0.3462186</td><td>22.19424</td><td>0.3445212</td><td>21.82763</td><td>0.443604</td><td>20.61877</td><td>0.6194715</td></tr>\n",
       "</table>"
      ],
      "text/plain": [
       "<Table length=1851>\n",
       "   event    ...   zmag_er  \n",
       "   str23    ...   float64  \n",
       "----------- ... -----------\n",
       "ASASSN-14az ...  0.09963752\n",
       "ASASSN-15bd ...  0.04027074\n",
       "ASASSN-15tu ...      -999.0\n",
       "   PS1-14od ...  0.07777578\n",
       "   SN2002au ... 0.007244378\n",
       "    SN2011D ...      -999.0\n",
       "    SN2011V ...   0.1921156\n",
       "   SN2011bv ...      -999.0\n",
       "   SN2011cb ...      -999.0\n",
       "   SN2011dh ...      -999.0\n",
       "        ... ...         ...\n",
       "  SN2018dys ...      -999.0\n",
       "  SN2018fav ...      -999.0\n",
       "  SN2018ijp ...   0.1530187\n",
       "  SN2018ise ...      -999.0\n",
       "  SN2018liq ...      -999.0\n",
       "  SN2019bjv ...   0.1422924\n",
       "  SN2019dwy ...      -999.0\n",
       "  SN2019krw ...  0.03853949\n",
       "  SN2019rwq ...      -999.0\n",
       "  SN2020euy ...   0.6194715"
      ]
     },
     "execution_count": 8,
     "metadata": {},
     "output_type": "execute_result"
    }
   ],
   "source": [
    "SNeCat_table"
   ]
  },
  {
   "cell_type": "code",
   "execution_count": 9,
   "id": "0bd697bb",
   "metadata": {
    "scrolled": true
   },
   "outputs": [
    {
     "data": {
      "text/html": [
       "<i>Table length=108</i>\n",
       "<table id=\"table4341815664\" class=\"table-striped table-bordered table-condensed\">\n",
       "<thead><tr><th>name</th><th>ra</th><th>dec</th></tr></thead>\n",
       "<thead><tr><th>str16</th><th>float64</th><th>float64</th></tr></thead>\n",
       "<tr><td>PS15cvn</td><td>2.340291666666667</td><td>0.06847222222222223</td></tr>\n",
       "<tr><td>SDSS-II_SN_10054</td><td>47.0405</td><td>0.511198</td></tr>\n",
       "<tr><td>SDSS-II_SN_10672</td><td>341.17</td><td>0.865018</td></tr>\n",
       "<tr><td>SDSS-II_SN_1113</td><td>340.139</td><td>0.296642</td></tr>\n",
       "<tr><td>SDSS-II_SN_12895</td><td>358.621</td><td>0.143837</td></tr>\n",
       "<tr><td>SDSS-II_SN_13002</td><td>23.3449</td><td>0.707305</td></tr>\n",
       "<tr><td>SDSS-II_SN_13058</td><td>344.36899999999997</td><td>0.26281699999999997</td></tr>\n",
       "<tr><td>SDSS-II_SN_13361</td><td>35.2755</td><td>0.5770219999999999</td></tr>\n",
       "<tr><td>SDSS-II_SN_13771</td><td>330.698</td><td>0.6438849999999999</td></tr>\n",
       "<tr><td>SDSS-II_SN_13772</td><td>330.905</td><td>0.7071120000000001</td></tr>\n",
       "<tr><td>...</td><td>...</td><td>...</td></tr>\n",
       "<tr><td>SN2014L</td><td>184.70283333333333</td><td>14.412083333333333</td></tr>\n",
       "<tr><td>SN2014bu</td><td>27.74354166666667</td><td>21.999944444444445</td></tr>\n",
       "<tr><td>SN2014cl</td><td>34.03791666666667</td><td>-11.934055555555556</td></tr>\n",
       "<tr><td>SN2015U</td><td>112.22445833333333</td><td>33.81961111111111</td></tr>\n",
       "<tr><td>SN2016iog</td><td>151.07745833333334</td><td>43.42476111111111</td></tr>\n",
       "<tr><td>SN2017hnv</td><td>345.83845833333334</td><td>25.677072222222222</td></tr>\n",
       "<tr><td>SN2018cez</td><td>21.232679166666667</td><td>-19.802975</td></tr>\n",
       "<tr><td>SN2018hay</td><td>140.82357916666666</td><td>42.380161111111114</td></tr>\n",
       "<tr><td>SN2020euy</td><td>204.12286666666665</td><td>47.57398888888889</td></tr>\n",
       "<tr><td>SN2021jvn</td><td>324.65853749999997</td><td>0.45071944444444445</td></tr>\n",
       "</table>"
      ],
      "text/plain": [
       "<Table length=108>\n",
       "      name               ra                 dec        \n",
       "     str16            float64             float64      \n",
       "---------------- ------------------ -------------------\n",
       "         PS15cvn  2.340291666666667 0.06847222222222223\n",
       "SDSS-II_SN_10054            47.0405            0.511198\n",
       "SDSS-II_SN_10672             341.17            0.865018\n",
       " SDSS-II_SN_1113            340.139            0.296642\n",
       "SDSS-II_SN_12895            358.621            0.143837\n",
       "SDSS-II_SN_13002            23.3449            0.707305\n",
       "SDSS-II_SN_13058 344.36899999999997 0.26281699999999997\n",
       "SDSS-II_SN_13361            35.2755  0.5770219999999999\n",
       "SDSS-II_SN_13771            330.698  0.6438849999999999\n",
       "SDSS-II_SN_13772            330.905  0.7071120000000001\n",
       "             ...                ...                 ...\n",
       "         SN2014L 184.70283333333333  14.412083333333333\n",
       "        SN2014bu  27.74354166666667  21.999944444444445\n",
       "        SN2014cl  34.03791666666667 -11.934055555555556\n",
       "         SN2015U 112.22445833333333   33.81961111111111\n",
       "       SN2016iog 151.07745833333334   43.42476111111111\n",
       "       SN2017hnv 345.83845833333334  25.677072222222222\n",
       "       SN2018cez 21.232679166666667          -19.802975\n",
       "       SN2018hay 140.82357916666666  42.380161111111114\n",
       "       SN2020euy 204.12286666666665   47.57398888888889\n",
       "       SN2021jvn 324.65853749999997 0.45071944444444445"
      ]
     },
     "execution_count": 9,
     "metadata": {},
     "output_type": "execute_result"
    }
   ],
   "source": [
    "unsSN = Table.read('NewQuery_info/109unsureSN.txt', format = 'ascii.commented_header')\n",
    "unsSN"
   ]
  },
  {
   "cell_type": "code",
   "execution_count": 10,
   "id": "e8a93eab",
   "metadata": {},
   "outputs": [],
   "source": [
    "for i in range(len(unsSN)):\n",
    "    j = np.argwhere(SNeCat_table['name'] == unsSN['name'][i])\n",
    "    \n",
    "    SNeCat_table['uflux'][j] = -888.\n",
    "    SNeCat_table['uflux_ivar'][j] = -888.\n",
    "    SNeCat_table['gflux'][j] = -888.\n",
    "    SNeCat_table['gflux_ivar'][j] = -888.\n",
    "    SNeCat_table['rflux'][j] = -888.\n",
    "    SNeCat_table['rflux_ivar'][j] = -888.\n",
    "    SNeCat_table['iflux'][j] = -888.\n",
    "    SNeCat_table['iflux_ivar'][j] = -888.\n",
    "    SNeCat_table['zflux'][j] = -888.\n",
    "    SNeCat_table['zflux_ivar'][j] = -888.\n",
    "    SNeCat_table['umag'][j] = -888.\n",
    "    SNeCat_table['umag_er'][j] = -888.\n",
    "    SNeCat_table['gmag'][j] = -888.\n",
    "    SNeCat_table['gmag_er'][j] = -888.\n",
    "    SNeCat_table['rmag'][j] = -888.\n",
    "    SNeCat_table['rmag_er'][j] = -888.\n",
    "    SNeCat_table['imag'][j] = -888.\n",
    "    SNeCat_table['imag_er'][j] = -888.\n",
    "    SNeCat_table['zmag'][j] = -888.\n",
    "    SNeCat_table['zmag_er'][j] = -888.\n"
   ]
  },
  {
   "cell_type": "code",
   "execution_count": 11,
   "id": "363e1dfe",
   "metadata": {},
   "outputs": [
    {
     "data": {
      "text/html": [
       "<i>Table length=1851</i>\n",
       "<table id=\"table4640244352\" class=\"table-striped table-bordered table-condensed\">\n",
       "<thead><tr><th>event</th><th>alias</th><th>catalog</th><th>claimedtype</th><th>dec</th><th>discoverdate</th><th>discoverer</th><th>download</th><th>ebv</th><th>host</th><th>hostdec</th><th>hostoffsetang</th><th>hostoffsetdist</th><th>hostra</th><th>instruments</th><th>lumdist</th><th>maxabsmag</th><th>maxappmag</th><th>maxdate</th><th>name</th><th>photolink</th><th>ra</th><th>radiolink</th><th>redshift</th><th>references</th><th>spectralink</th><th>velocity</th><th>xraylink</th><th>z</th><th>uflux</th><th>uflux_ivar</th><th>gflux</th><th>gflux_ivar</th><th>rflux</th><th>rflux_ivar</th><th>iflux</th><th>iflux_ivar</th><th>zflux</th><th>zflux_ivar</th><th>umag</th><th>umag_er</th><th>gmag</th><th>gmag_er</th><th>rmag</th><th>rmag_er</th><th>imag</th><th>imag_er</th><th>zmag</th><th>zmag_er</th></tr></thead>\n",
       "<thead><tr><th>str23</th><th>str140</th><th>str3</th><th>str10</th><th>float64</th><th>str10</th><th>str86</th><th>str1</th><th>float64</th><th>str65</th><th>str49</th><th>float64</th><th>float64</th><th>str34</th><th>str142</th><th>float64</th><th>float64</th><th>float64</th><th>str10</th><th>str23</th><th>str16</th><th>float64</th><th>int64</th><th>str55</th><th>str99</th><th>str13</th><th>float64</th><th>int64</th><th>float64</th><th>float64</th><th>float64</th><th>float64</th><th>float64</th><th>float64</th><th>float64</th><th>float64</th><th>float64</th><th>float64</th><th>float64</th><th>float64</th><th>float64</th><th>float64</th><th>float64</th><th>float64</th><th>float64</th><th>float64</th><th>float64</th><th>float64</th><th>float64</th></tr></thead>\n",
       "<tr><td>ASASSN-14az</td><td>ASASSN-14az,Gaia14age,MLS140831:234448-020701</td><td>sne</td><td>IIb</td><td>-2.117547222222222</td><td>2014/05/20</td><td>ASAS-SN</td><td>e</td><td>0.0274</td><td>PGC 1101367,GALEXASC J234448.27-020653.4</td><td>-02:06:53.4</td><td>8.94</td><td>1.28</td><td>23:44:48.27</td><td>C, u, g, r, R, i</td><td>29.943</td><td>-16.734</td><td>15.64</td><td>2014/07/22</td><td>ASASSN-14az</td><td>25,-36.1,67</td><td>356.2</td><td>--</td><td>0.006731</td><td>2009ApJ...696..870D,2014ATel.6151....1D,2014ATel.6185....1B,2016A&amp;A...594A..13P,2011ApJ...737..103S</td><td>1,-53.1</td><td>2011.0</td><td>--</td><td>0.006731</td><td>105.3499</td><td>0.01638733</td><td>276.2211</td><td>0.1078128</td><td>393.7222</td><td>0.04989673</td><td>465.4725</td><td>0.01249947</td><td>393.5354</td><td>0.0007667065</td><td>17.44341</td><td>0.08050719</td><td>16.39686</td><td>0.01197105</td><td>16.01203</td><td>0.01234521</td><td>15.83027</td><td>0.02086336</td><td>16.01254</td><td>0.09963752</td></tr>\n",
       "<tr><td>ASASSN-15bd</td><td>ASASSN-15bd</td><td>sne</td><td>IIb</td><td>16.610583333333334</td><td>2015/01/08</td><td>ASAS-SN</td><td>--</td><td>0.0294</td><td>SDSS J155438.39+163637.6</td><td>+16:36:37.6</td><td>1.08</td><td>0.182</td><td>15:54:38.39</td><td>--</td><td>35.38</td><td>-16.535</td><td>16.2</td><td>2015/01/28</td><td>ASASSN-15bd</td><td>1,0</td><td>238.65970833333333</td><td>--</td><td>0.007946</td><td>2015ATel.6945....1K,2016A&amp;A...594A..13P,2015ATel.6956....1C,2011ApJ...737..103S</td><td>--</td><td>2373.0</td><td>--</td><td>0.007946</td><td>82.5851</td><td>0.1384537</td><td>164.0936</td><td>0.8550192</td><td>233.7789</td><td>0.3454179</td><td>257.4846</td><td>0.1057257</td><td>258.7754</td><td>0.01085449</td><td>17.70774</td><td>0.03533197</td><td>16.96227</td><td>0.007155575</td><td>16.57799</td><td>0.007902169</td><td>16.47312</td><td>0.01296828</td><td>16.46768</td><td>0.04027074</td></tr>\n",
       "<tr><td>ASASSN-15tu</td><td>ASASSN-15tu</td><td>sne</td><td>IIb</td><td>-32.39821666666667</td><td>2015/12/08</td><td>ASAS-SN</td><td>--</td><td>0.0114</td><td>2MASX J22340166-3223490</td><td>-32:23:49.0</td><td>12.5</td><td>3.33</td><td>22:34:01.66</td><td>--</td><td>56.3</td><td>-17.44</td><td>16.3</td><td>2015/12/07</td><td>ASASSN-15tu</td><td>1,0</td><td>338.51075</td><td>--</td><td>0.0126</td><td>2015ATel.8386....1N,2016A&amp;A...594A..13P,2015ATel.8434....1F,2011ApJ...737..103S</td><td>--</td><td>3750.0</td><td>--</td><td>0.0126</td><td>-999.0</td><td>-999.0</td><td>-999.0</td><td>-999.0</td><td>-999.0</td><td>-999.0</td><td>-999.0</td><td>-999.0</td><td>-999.0</td><td>-999.0</td><td>-999.0</td><td>-999.0</td><td>-999.0</td><td>-999.0</td><td>-999.0</td><td>-999.0</td><td>-999.0</td><td>-999.0</td><td>-999.0</td><td>-999.0</td></tr>\n",
       "<tr><td>PS1-14od</td><td>PS1-14od</td><td>sne</td><td>IIb</td><td>-7.282611111111111</td><td>2014/02/25</td><td>PS1</td><td>--</td><td>0.0491</td><td>SDSS J032106.08-071656.8</td><td>-07:16:56.8</td><td>2.311</td><td>0.9886</td><td>03:21:06.08</td><td>GPC (r, y)</td><td>90.0</td><td>-17.0</td><td>17.75</td><td>2014/02/25</td><td>PS1-14od</td><td>3,-0.257,1.69</td><td>50.275958333333335</td><td>--</td><td>0.02</td><td>2014ATel.5937....1C,2016A&amp;A...594A..13P,2015ApJ...811..117S,2011ApJ...737..103S</td><td>1,3.43</td><td>6000.0</td><td>--</td><td>0.02</td><td>51.41655</td><td>0.06342904</td><td>129.9099</td><td>0.3022959</td><td>207.2322</td><td>0.1470266</td><td>229.6892</td><td>0.04257694</td><td>285.9808</td><td>0.002382728</td><td>18.22223</td><td>0.08384378</td><td>17.21589</td><td>0.01520076</td><td>16.70886</td><td>0.01366372</td><td>16.59715</td><td>0.02290846</td><td>16.35915</td><td>0.07777578</td></tr>\n",
       "<tr><td>SN2002au</td><td>SN2002au</td><td>sne</td><td>IIb</td><td>5.837694444444445</td><td>2002/02/08</td><td>Martin, LOTOSS,Tim Puckett et al.</td><td>e</td><td>0.0322</td><td>UGC 5100</td><td>+05:50:26,+05:50:29.3</td><td>23.29</td><td>8.762</td><td>09:34:39,09:34:38.63</td><td>C</td><td>80.8</td><td>-17.3</td><td>17.2</td><td>2002/03/02</td><td>SN2002au</td><td>6,-28.7,-0.403</td><td>143.65666666666667</td><td>--</td><td>0.018,0.018</td><td>2019MNRAS.482.1545S,2012A&amp;A...538A.120L,2016A&amp;A...594A..13P,2002IAUC.7823....3J,2002IAUC.7823....1P</td><td>3,-19.2,-16.2</td><td>5514.0</td><td>--</td><td>0.018</td><td>299.0397</td><td>0.004090609</td><td>770.7679</td><td>0.002328625</td><td>2452.5</td><td>0.002070417</td><td>3803.946</td><td>0.002466829</td><td>5310.436</td><td>0.0007965004</td><td>16.31068</td><td>0.05676769</td><td>15.28269</td><td>0.02919113</td><td>14.02598</td><td>0.009729409</td><td>13.54941</td><td>0.005746726</td><td>13.18717</td><td>0.007244378</td></tr>\n",
       "<tr><td>SN2011D</td><td>SN2011D,SNhunt30,&lt;a id=&quot;SNhunt30&quot;&gt;SNhunt30&lt;/a&gt;</td><td>sne</td><td>IIb</td><td>17.349611111111113</td><td>2011/01/05</td><td>Howerton,Howerton et al., LOSS,CRTS</td><td>--</td><td>0.1357</td><td>UGC 2498</td><td>+17:20:43</td><td>39.7</td><td>19.2</td><td>03:02:12</td><td>--</td><td>104.0</td><td>-17.76</td><td>17.3</td><td>2011/01/04</td><td>SN2011D</td><td>1,0</td><td>45.560625</td><td>--</td><td>0.0231</td><td>2011CBET.2627....2M,2019MNRAS.482.1545S,2017csnh.book.....H,2016A&amp;A...594A..13P,2008yCat....1.2024B</td><td>1,8.5</td><td>6930.0</td><td>--</td><td>0.0231</td><td>-999.0</td><td>-999.0</td><td>-999.0</td><td>-999.0</td><td>-999.0</td><td>-999.0</td><td>-999.0</td><td>-999.0</td><td>-999.0</td><td>-999.0</td><td>-999.0</td><td>-999.0</td><td>-999.0</td><td>-999.0</td><td>-999.0</td><td>-999.0</td><td>-999.0</td><td>-999.0</td><td>-999.0</td><td>-999.0</td></tr>\n",
       "<tr><td>SN2011V</td><td>SN2011V,PSN J09273876+2847275,&lt;a id=&quot;PSNJ09273876+2847275&quot;&gt;PSN J09273876+2847275&lt;/a&gt;</td><td>sne</td><td>IIb</td><td>28.79088888888889</td><td>2011/01/28</td><td>Drake et al.,CRTS</td><td>--</td><td>0.0195</td><td>MCG +05-22-48,UGC 5040</td><td>+28:47:56</td><td>46.32</td><td>13.49</td><td>09:27:36</td><td>--</td><td>61.72</td><td>-16.64</td><td>17.3</td><td>2011/01/27</td><td>SN2011V</td><td>1,0</td><td>141.9115</td><td>--</td><td>0.0138</td><td>2011CBET.2650....2M,2016A&amp;A...594A..13P,2008yCat....1.2024B,2011ApJ...737..103S</td><td>--</td><td>4147.0</td><td>--</td><td>0.0138</td><td>100.7614</td><td>0.008000064</td><td>357.808</td><td>0.009591711</td><td>616.2009</td><td>0.001027951</td><td>708.6722</td><td>7.317973e-05</td><td>987.7594</td><td>3.273558e-05</td><td>17.49176</td><td>0.1204708</td><td>16.11588</td><td>0.0309832</td><td>15.52569</td><td>0.05495609</td><td>15.37389</td><td>0.179095</td><td>15.01337</td><td>0.1921156</td></tr>\n",
       "<tr><td>SN2011bv</td><td>SN2011bv,MLS110330:130254-040236</td><td>sne</td><td>IIb</td><td>-4.043333333333333</td><td>2011/03/30</td><td>Drake et al.,CRTS</td><td>--</td><td>0.0236</td><td>A130253-0402</td><td>-04:02:36</td><td>8.529</td><td>12.67</td><td>13:02:53</td><td>C</td><td>360.0</td><td>--</td><td>--</td><td>--</td><td>SN2011bv</td><td>4</td><td>195.72320833333333</td><td>--</td><td>0.077</td><td>2009ApJ...696..870D,2011CBET.2704....2P,2008yCat....1.2024B,2016A&amp;A...594A..13P,2011ApJ...737..103S</td><td>--</td><td>23100.0</td><td>--</td><td>0.077</td><td>-999.0</td><td>-999.0</td><td>-999.0</td><td>-999.0</td><td>-999.0</td><td>-999.0</td><td>-999.0</td><td>-999.0</td><td>-999.0</td><td>-999.0</td><td>-999.0</td><td>-999.0</td><td>-999.0</td><td>-999.0</td><td>-999.0</td><td>-999.0</td><td>-999.0</td><td>-999.0</td><td>-999.0</td><td>-999.0</td></tr>\n",
       "<tr><td>SN2011cb</td><td>SN2011cb,PSN J22470700-6449430,&lt;a id=&quot;PSNJ22470700-6449430&quot;&gt;PSN J22470700-6449430&lt;/a&gt;</td><td>sne</td><td>IIb</td><td>-64.82872222222223</td><td>2011/04/29</td><td>Parker,Stu Parker</td><td>--</td><td>0.0289</td><td>IC 5249</td><td>-64:49:52</td><td>12.82</td><td>2.158</td><td>22:47:06</td><td>UVOT (W2, W1, M2, U, B, V)</td><td>35.2</td><td>-16.5</td><td>16.27</td><td>2011/05/16</td><td>SN2011cb</td><td>6,-0.0494,6.92</td><td>341.7812083333333</td><td>--</td><td>0.0079</td><td>2014Ap&amp;SS.354...89B,2011CBET.2711....2S,2016A&amp;A...594A..13P,2008yCat....1.2024B,2011ApJ...737..103S</td><td>--</td><td>2332.0</td><td>--</td><td>0.0079</td><td>-999.0</td><td>-999.0</td><td>-999.0</td><td>-999.0</td><td>-999.0</td><td>-999.0</td><td>-999.0</td><td>-999.0</td><td>-999.0</td><td>-999.0</td><td>-999.0</td><td>-999.0</td><td>-999.0</td><td>-999.0</td><td>-999.0</td><td>-999.0</td><td>-999.0</td><td>-999.0</td><td>-999.0</td><td>-999.0</td></tr>\n",
       "<tr><td>SN2011dh</td><td>SN2011dh,PSN J13303600+4706330,PTF11eon,J133005+471010,&lt;a id=&quot;PSNJ13303600+4706330&quot;&gt;PSN J13303600+4706330&lt;/a&gt;</td><td>sne</td><td>IIb</td><td>47.16970055555556</td><td>2011/06/01</td><td>Reiland, Griga, Riou, Lamotte Bailey,Tom Reiland</td><td>e</td><td>0.0309</td><td>NGC 5194,M51,M51A,M51B</td><td>+47:11:43</td><td>154.0</td><td>6.26</td><td>13:29:53</td><td>HFOSC (U, B, V, R, I), IRAC (I1, I2), UVOT (W2, W1, M2, U, B, V), C, U, B, V, R, I</td><td>7.2583</td><td>-18.152</td><td>11.15</td><td>2011/07/08</td><td>SN2011dh</td><td>1432,-36.6,586</td><td>202.52127291666665</td><td>--</td><td>0.001638</td><td>2012PASP..124..668Y,2014A&amp;A...562A..17E,2014Ap&amp;SS.354...89B,2015A&amp;A...580A.142E,2013MNRAS.436.3614S</td><td>84,-35.4,639</td><td>461.0</td><td>--</td><td>0.001638</td><td>-999.0</td><td>-999.0</td><td>-999.0</td><td>-999.0</td><td>-999.0</td><td>-999.0</td><td>-999.0</td><td>-999.0</td><td>-999.0</td><td>-999.0</td><td>-999.0</td><td>-999.0</td><td>-999.0</td><td>-999.0</td><td>-999.0</td><td>-999.0</td><td>-999.0</td><td>-999.0</td><td>-999.0</td><td>-999.0</td></tr>\n",
       "<tr><td>...</td><td>...</td><td>...</td><td>...</td><td>...</td><td>...</td><td>...</td><td>...</td><td>...</td><td>...</td><td>...</td><td>...</td><td>...</td><td>...</td><td>...</td><td>...</td><td>...</td><td>...</td><td>...</td><td>...</td><td>...</td><td>...</td><td>...</td><td>...</td><td>...</td><td>...</td><td>...</td><td>...</td><td>...</td><td>...</td><td>...</td><td>...</td><td>...</td><td>...</td><td>...</td><td>...</td><td>...</td><td>...</td><td>...</td><td>...</td><td>...</td><td>...</td><td>...</td><td>...</td><td>...</td><td>...</td><td>...</td><td>...</td><td>...</td></tr>\n",
       "<tr><td>SN2018dys</td><td>SN2018dys,AT2018dys,ASASSN-18ph,ATLAS18two</td><td>sne</td><td>Ic</td><td>-5.568833333333333</td><td>2018/07/15</td><td>ASAS-SN</td><td>--</td><td>0.0276</td><td>GALEXASC J125510.22-053406.8</td><td>-05:34:06.8</td><td>0.22</td><td>0.24</td><td>12:55:10.22</td><td>ACAM1 (cyan), Cassius (V)</td><td>253.0</td><td>-19.6</td><td>17.4</td><td>2018/07/15</td><td>SN2018dys</td><td>2,-0.427,22.5</td><td>193.79226666666668</td><td>--</td><td>0.055</td><td>2016A&amp;A...594A..13P,2011ApJ...737..103S</td><td>1,5.94</td><td>16000.0</td><td>--</td><td>0.055</td><td>-999.0</td><td>-999.0</td><td>-999.0</td><td>-999.0</td><td>-999.0</td><td>-999.0</td><td>-999.0</td><td>-999.0</td><td>-999.0</td><td>-999.0</td><td>-999.0</td><td>-999.0</td><td>-999.0</td><td>-999.0</td><td>-999.0</td><td>-999.0</td><td>-999.0</td><td>-999.0</td><td>-999.0</td><td>-999.0</td></tr>\n",
       "<tr><td>SN2018fav</td><td>SN2018fav,AT2018fav,ASASSN-18rt</td><td>sne</td><td>Ic</td><td>-21.94565</td><td>2018/08/12</td><td>ASAS-SN</td><td>--</td><td>0.0124</td><td>2MASX J00455851-2156353</td><td>-21:56:35.3</td><td>9.55</td><td>7.42</td><td>00:45:58.51</td><td>Payne-Gaposchkin (g)</td><td>172.656</td><td>-18.1455</td><td>18.0</td><td>2018/08/12</td><td>SN2018fav</td><td>1,0.472</td><td>11.494091666666666</td><td>--</td><td>0.037923</td><td>2016A&amp;A...594A..13P,2011ApJ...737..103S</td><td>1,3.55</td><td>11154.0</td><td>--</td><td>0.037923</td><td>-999.0</td><td>-999.0</td><td>-999.0</td><td>-999.0</td><td>-999.0</td><td>-999.0</td><td>-999.0</td><td>-999.0</td><td>-999.0</td><td>-999.0</td><td>-999.0</td><td>-999.0</td><td>-999.0</td><td>-999.0</td><td>-999.0</td><td>-999.0</td><td>-999.0</td><td>-999.0</td><td>-999.0</td><td>-999.0</td></tr>\n",
       "<tr><td>SN2018ijp</td><td>SN2018ijp,AT2018ijp,ZTF18aceqrrs,PS18cgs</td><td>sne</td><td>Ic</td><td>8.931422222222222</td><td>2018/11/07</td><td>ZTF</td><td>--</td><td>--</td><td>SDSS J102137.73+085554.2</td><td>+08:55:54.2</td><td>4.863</td><td>7.998</td><td>10:21:37.73</td><td>ACAM1 (cyan, orange), GPC (w, i), GPC1 (i), ZTF-Cam (r)</td><td>399.0</td><td>-18.93</td><td>18.99</td><td>2018/11/10</td><td>SN2018ijp</td><td>24,-2.75,79.2</td><td>155.40854166666665</td><td>--</td><td>0.0848</td><td>2016A&amp;A...594A..13P</td><td>--</td><td>24300.0</td><td>--</td><td>0.0848</td><td>11.03022</td><td>0.2283702</td><td>50.43031</td><td>0.8347344</td><td>71.80077</td><td>0.1818116</td><td>97.14462</td><td>0.0478564</td><td>92.35677</td><td>0.005900795</td><td>19.89336</td><td>0.2059114</td><td>18.24327</td><td>0.02356437</td><td>17.85967</td><td>0.03546353</td><td>17.53145</td><td>0.05108961</td><td>17.58626</td><td>0.1530187</td></tr>\n",
       "<tr><td>SN2018ise</td><td>SN2018ise,AT2018ise,ZTF18achcpwu,ATLAS18bajs,PS18ckt</td><td>sne</td><td>Ic</td><td>64.06164444444444</td><td>2018/11/12</td><td>ZTF</td><td>--</td><td>--</td><td>2MASX J07071594+6403517</td><td>+64:03:51.7</td><td>11.19</td><td>12.39</td><td>07:07:15.94</td><td>ACAM1 (orange), GPC (i), GPC1 (i), ZTF-Cam (g, r)</td><td>254.4</td><td>-18.45</td><td>18.52</td><td>2018/12/17</td><td>SN2018ise</td><td>20,-30.4,36</td><td>106.819875</td><td>--</td><td>0.0552</td><td>2016A&amp;A...594A..13P</td><td>1,9</td><td>16100.0</td><td>--</td><td>0.0552</td><td>-999.0</td><td>-999.0</td><td>-999.0</td><td>-999.0</td><td>-999.0</td><td>-999.0</td><td>-999.0</td><td>-999.0</td><td>-999.0</td><td>-999.0</td><td>-999.0</td><td>-999.0</td><td>-999.0</td><td>-999.0</td><td>-999.0</td><td>-999.0</td><td>-999.0</td><td>-999.0</td><td>-999.0</td><td>-999.0</td></tr>\n",
       "<tr><td>SN2018liq</td><td>SN2018liq,AT2018liq,ZTF18adasisj,PS19fy,Gaia19anq</td><td>sne</td><td>Ic</td><td>8.797769444444445</td><td>2018/12/30</td><td>ZTF</td><td>--</td><td>--</td><td>2MASX J04502805+0847582</td><td>+08:47:58.2</td><td>6.267</td><td>4.408</td><td>04:50:28.05</td><td>Astrometric, GPC (w), GPC1 (w), ZTF-Cam (g, r)</td><td>154.0</td><td>-18.1</td><td>17.85</td><td>2019/02/10</td><td>SN2018liq</td><td>17,-40.9,48.8</td><td>72.61668333333333</td><td>--</td><td>0.034</td><td>2016A&amp;A...594A..13P</td><td>1,-13.1</td><td>10000.0</td><td>--</td><td>0.034</td><td>-999.0</td><td>-999.0</td><td>-999.0</td><td>-999.0</td><td>-999.0</td><td>-999.0</td><td>-999.0</td><td>-999.0</td><td>-999.0</td><td>-999.0</td><td>-999.0</td><td>-999.0</td><td>-999.0</td><td>-999.0</td><td>-999.0</td><td>-999.0</td><td>-999.0</td><td>-999.0</td><td>-999.0</td><td>-999.0</td></tr>\n",
       "<tr><td>SN2019bjv</td><td>SN2019bjv,AT2019bjv,ASASSN-19dv</td><td>sne</td><td>Ic</td><td>47.437244444444445</td><td>2019/03/01</td><td>ASAS-SN</td><td>--</td><td>--</td><td>SDSS J162538.62+472614.3</td><td>+47:26:14.3</td><td>0.36</td><td>0.2</td><td>16:25:38.62</td><td>ACAM1 (orange), Brutus (g), Leavitt (g), ZTF-Cam (g, r)</td><td>119.6</td><td>-18.35</td><td>17.01</td><td>2019/02/20</td><td>SN2019bjv</td><td>13,-22.4,39.9</td><td>246.41104583333333</td><td>--</td><td>0.0265</td><td>2016A&amp;A...594A..13P</td><td>1,24.4</td><td>7840.0</td><td>--</td><td>0.0265</td><td>6.097511</td><td>1.360728</td><td>16.71213</td><td>5.111594</td><td>21.59687</td><td>2.059074</td><td>26.39136</td><td>0.7474911</td><td>36.2542</td><td>0.04422272</td><td>20.53655</td><td>0.1524855</td><td>19.44239</td><td>0.02873354</td><td>19.16399</td><td>0.03503246</td><td>18.94629</td><td>0.04757942</td><td>18.60115</td><td>0.1422924</td></tr>\n",
       "<tr><td>SN2019dwy</td><td>SN2019dwy,AT2019dwy,ASASSN-19ku,Gaia19bnh</td><td>sne</td><td>Ic</td><td>70.76793055555555</td><td>2019/04/24</td><td>ASAS-SN,ASASSN</td><td>--</td><td>--</td><td>2MASX J11141082+7046053,2MASX J11141082+7046</td><td>+70:46:05.3</td><td>0.67</td><td>0.62</td><td>11:14:10.82</td><td>Astrometric, Brutus (g), B</td><td>206.0</td><td>-19.5</td><td>17.01</td><td>2019/05/03</td><td>SN2019dwy</td><td>6,-9.54,7.16</td><td>168.54509166666668</td><td>--</td><td>0.045</td><td>2016A&amp;A...594A..13P</td><td>1,-1.49</td><td>13000.0</td><td>--</td><td>0.045</td><td>-999.0</td><td>-999.0</td><td>-999.0</td><td>-999.0</td><td>-999.0</td><td>-999.0</td><td>-999.0</td><td>-999.0</td><td>-999.0</td><td>-999.0</td><td>-999.0</td><td>-999.0</td><td>-999.0</td><td>-999.0</td><td>-999.0</td><td>-999.0</td><td>-999.0</td><td>-999.0</td><td>-999.0</td><td>-999.0</td></tr>\n",
       "<tr><td>SN2019krw</td><td>SN2019krw,PS19dro,AT2019krw,ZTF19abdoior</td><td>sne</td><td>Ic</td><td>40.22581666666667</td><td>2019/07/05</td><td>ZTF</td><td>--</td><td>--</td><td>2MASX J17501063+4013391</td><td>+40:13:39.1</td><td>7.139</td><td>6.942</td><td>17:50:10.63</td><td>GPC (i)</td><td>215.0</td><td>-18.0</td><td>18.63</td><td>2019/07/13</td><td>SN2019krw</td><td>5,-8.6,0.00642</td><td>267.54297916666667</td><td>--</td><td>0.047</td><td>2016A&amp;A...594A..13P</td><td>--</td><td>14000.0</td><td>--</td><td>0.047</td><td>56.0745</td><td>0.08280782</td><td>201.8898</td><td>0.290465</td><td>340.5638</td><td>0.1620785</td><td>482.6163</td><td>0.05890742</td><td>543.826</td><td>0.002683573</td><td>18.12808</td><td>0.06728493</td><td>16.73721</td><td>0.009978446</td><td>16.1695</td><td>0.007918867</td><td>15.79099</td><td>0.009269092</td><td>15.66135</td><td>0.03853949</td></tr>\n",
       "<tr><td>SN2019rwq</td><td>SN2019rwq,AT2019rwq,ASASSN-19yk</td><td>sne</td><td>Ic</td><td>-66.39171666666667</td><td>2019/10/05</td><td>ASAS-SN</td><td>--</td><td>--</td><td>2MASS J02185760-6623310</td><td>-66:23:31.0</td><td>1.66</td><td>0.879</td><td>02:18:57.60</td><td>Paczynski (g)</td><td>115.0</td><td>-17.68</td><td>17.6</td><td>2019/10/05</td><td>SN2019rwq</td><td>1,-0.273</td><td>34.74037083333333</td><td>--</td><td>0.0255</td><td>2016A&amp;A...594A..13P</td><td>1,13.4</td><td>7550.0</td><td>--</td><td>0.0255</td><td>-999.0</td><td>-999.0</td><td>-999.0</td><td>-999.0</td><td>-999.0</td><td>-999.0</td><td>-999.0</td><td>-999.0</td><td>-999.0</td><td>-999.0</td><td>-999.0</td><td>-999.0</td><td>-999.0</td><td>-999.0</td><td>-999.0</td><td>-999.0</td><td>-999.0</td><td>-999.0</td><td>-999.0</td><td>-999.0</td></tr>\n",
       "<tr><td>SN2020euy</td><td>SN2020euy,AT2020euy,ASASSN-20dn</td><td>sne</td><td>Ic</td><td>47.57398888888889</td><td>2020/03/21</td><td>ASAS-SN,ASASSN</td><td>--</td><td>--</td><td>Unknown,WISEA J133629.46+473</td><td>+47:03:00</td><td>1886.0</td><td>2339.0</td><td>13:36:29.46</td><td>ACAM1 (cyan, orange), Brutus (g), ZTF-Cam (g, r)</td><td>288.674</td><td>-19.6164</td><td>17.62</td><td>2020/03/24</td><td>SN2020euy</td><td>4,-3,3.7</td><td>204.12286666666665</td><td>--</td><td>0.062312</td><td>2016A&amp;A...594A..13P</td><td>1,8.01</td><td>18100.0</td><td>--</td><td>0.062312</td><td>-888.0</td><td>-888.0</td><td>-888.0</td><td>-888.0</td><td>-888.0</td><td>-888.0</td><td>-888.0</td><td>-888.0</td><td>-888.0</td><td>-888.0</td><td>-888.0</td><td>-888.0</td><td>-888.0</td><td>-888.0</td><td>-888.0</td><td>-888.0</td><td>-888.0</td><td>-888.0</td><td>-888.0</td><td>-888.0</td></tr>\n",
       "</table>"
      ],
      "text/plain": [
       "<Table length=1851>\n",
       "   event    ...   zmag_er  \n",
       "   str23    ...   float64  \n",
       "----------- ... -----------\n",
       "ASASSN-14az ...  0.09963752\n",
       "ASASSN-15bd ...  0.04027074\n",
       "ASASSN-15tu ...      -999.0\n",
       "   PS1-14od ...  0.07777578\n",
       "   SN2002au ... 0.007244378\n",
       "    SN2011D ...      -999.0\n",
       "    SN2011V ...   0.1921156\n",
       "   SN2011bv ...      -999.0\n",
       "   SN2011cb ...      -999.0\n",
       "   SN2011dh ...      -999.0\n",
       "        ... ...         ...\n",
       "  SN2018dys ...      -999.0\n",
       "  SN2018fav ...      -999.0\n",
       "  SN2018ijp ...   0.1530187\n",
       "  SN2018ise ...      -999.0\n",
       "  SN2018liq ...      -999.0\n",
       "  SN2019bjv ...   0.1422924\n",
       "  SN2019dwy ...      -999.0\n",
       "  SN2019krw ...  0.03853949\n",
       "  SN2019rwq ...      -999.0\n",
       "  SN2020euy ...      -888.0"
      ]
     },
     "execution_count": 11,
     "metadata": {},
     "output_type": "execute_result"
    }
   ],
   "source": [
    "SNeCat_table"
   ]
  },
  {
   "cell_type": "code",
   "execution_count": 12,
   "id": "c4d5d3ea",
   "metadata": {},
   "outputs": [],
   "source": [
    "# np.sum(SNeCat_table['uflux'] == -999)"
   ]
  },
  {
   "cell_type": "code",
   "execution_count": 13,
   "id": "b44214f9",
   "metadata": {},
   "outputs": [],
   "source": [
    "FinMerge_SDSSsNE = 'fulltb_wmissObj8899.txt'\n",
    "SNeCat_table.write(FinMerge_SDSSsNE, format = 'ascii.commented_header', overwrite = True)"
   ]
  },
  {
   "cell_type": "markdown",
   "id": "ce04c10e",
   "metadata": {},
   "source": [
    "Now that we have a proper way to analyze the more refined results in between SDSS and the SNe catalog... -->\n",
    "\n",
    "--> we can clean this table up \n",
    "\n",
    "---> We need to select the first coordinate of each dec and ra row that list various coordinates; VAST uses these values to run! \n",
    "\n",
    "----> for loop is needed "
   ]
  },
  {
   "cell_type": "code",
   "execution_count": 12,
   "id": "826bcc4e",
   "metadata": {},
   "outputs": [
    {
     "name": "stdout",
     "output_type": "stream",
     "text": [
      "   event    ...   zmag_er  \n",
      "----------- ... -----------\n",
      "ASASSN-14az ...  0.09963752\n",
      "ASASSN-15bd ...  0.04027074\n",
      "ASASSN-15tu ...      -999.0\n",
      "   PS1-14od ...  0.07777578\n",
      "   SN2002au ... 0.007244378\n",
      "    SN2011D ...      -999.0\n",
      "    SN2011V ...   0.1921156\n",
      "   SN2011bv ...      -999.0\n",
      "   SN2011cb ...      -999.0\n",
      "   SN2011dh ...      -999.0\n",
      "        ... ...         ...\n",
      "  SN2018cwx ...  0.04897622\n",
      "  SN2018dys ...      -999.0\n",
      "  SN2018fav ...      -999.0\n",
      "  SN2018ijp ...   0.1530187\n",
      "  SN2018ise ...      -999.0\n",
      "  SN2018liq ...      -999.0\n",
      "  SN2019bjv ...   0.1422924\n",
      "  SN2019dwy ...      -999.0\n",
      "  SN2019krw ...  0.03853949\n",
      "  SN2019rwq ...      -999.0\n",
      "  SN2020euy ...   0.6194715\n",
      "Length = 1851 rows\n"
     ]
    }
   ],
   "source": [
    "fin_objtb_VAST = Table.read(\"/Users/urdesi/Documents/SNe_Void_properties/NewQuery_info/PetMagFluxcr_mrgeSel.txt\", format = 'ascii.commented_header')\n",
    "#print(clmd_table['event'][0])\n",
    "print(fin_objtb_VAST)"
   ]
  },
  {
   "cell_type": "code",
   "execution_count": 13,
   "id": "3ff65920",
   "metadata": {
    "scrolled": true
   },
   "outputs": [
    {
     "data": {
      "text/html": [
       "<i>Table length=1851</i>\n",
       "<table id=\"table4830435216\" class=\"table-striped table-bordered table-condensed\">\n",
       "<thead><tr><th>event</th><th>alias</th><th>catalog</th><th>claimedtype</th><th>dec</th><th>discoverdate</th><th>discoverer</th><th>download</th><th>ebv</th><th>host</th><th>hostdec</th><th>hostoffsetang</th><th>hostoffsetdist</th><th>hostra</th><th>instruments</th><th>lumdist</th><th>maxabsmag</th><th>maxappmag</th><th>maxdate</th><th>name</th><th>photolink</th><th>ra</th><th>radiolink</th><th>redshift</th><th>references</th><th>spectralink</th><th>velocity</th><th>xraylink</th><th>z</th><th>uflux</th><th>uflux_ivar</th><th>gflux</th><th>gflux_ivar</th><th>rflux</th><th>rflux_ivar</th><th>iflux</th><th>iflux_ivar</th><th>zflux</th><th>zflux_ivar</th><th>umag</th><th>umag_er</th><th>gmag</th><th>gmag_er</th><th>rmag</th><th>rmag_er</th><th>imag</th><th>imag_er</th><th>zmag</th><th>zmag_er</th></tr></thead>\n",
       "<thead><tr><th>str23</th><th>str140</th><th>str3</th><th>str10</th><th>float64</th><th>str10</th><th>str86</th><th>str1</th><th>float64</th><th>str65</th><th>str49</th><th>float64</th><th>float64</th><th>str34</th><th>str142</th><th>float64</th><th>float64</th><th>float64</th><th>str10</th><th>str23</th><th>str16</th><th>float64</th><th>int64</th><th>str55</th><th>str99</th><th>str13</th><th>float64</th><th>int64</th><th>float64</th><th>float64</th><th>float64</th><th>float64</th><th>float64</th><th>float64</th><th>float64</th><th>float64</th><th>float64</th><th>float64</th><th>float64</th><th>float64</th><th>float64</th><th>float64</th><th>float64</th><th>float64</th><th>float64</th><th>float64</th><th>float64</th><th>float64</th><th>float64</th></tr></thead>\n",
       "<tr><td>ASASSN-14az</td><td>ASASSN-14az,Gaia14age,MLS140831:234448-020701</td><td>sne</td><td>IIb</td><td>-2.117547222222222</td><td>2014/05/20</td><td>ASAS-SN</td><td>e</td><td>0.0274</td><td>PGC 1101367,GALEXASC J234448.27-020653.4</td><td>-02:06:53.4</td><td>8.94</td><td>1.28</td><td>23:44:48.27</td><td>C, u, g, r, R, i</td><td>29.943</td><td>-16.734</td><td>15.64</td><td>2014/07/22</td><td>ASASSN-14az</td><td>25,-36.1,67</td><td>356.2</td><td>--</td><td>0.006731</td><td>2009ApJ...696..870D,2014ATel.6151....1D,2014ATel.6185....1B,2016A&amp;A...594A..13P,2011ApJ...737..103S</td><td>1,-53.1</td><td>2011.0</td><td>--</td><td>0.006731</td><td>105.3499</td><td>0.01638733</td><td>276.2211</td><td>0.1078128</td><td>393.7222</td><td>0.04989673</td><td>465.4725</td><td>0.01249947</td><td>393.5354</td><td>0.0007667065</td><td>17.44341</td><td>0.08050719</td><td>16.39686</td><td>0.01197105</td><td>16.01203</td><td>0.01234521</td><td>15.83027</td><td>0.02086336</td><td>16.01254</td><td>0.09963752</td></tr>\n",
       "<tr><td>ASASSN-15bd</td><td>ASASSN-15bd</td><td>sne</td><td>IIb</td><td>16.610583333333334</td><td>2015/01/08</td><td>ASAS-SN</td><td>--</td><td>0.0294</td><td>SDSS J155438.39+163637.6</td><td>+16:36:37.6</td><td>1.08</td><td>0.182</td><td>15:54:38.39</td><td>--</td><td>35.38</td><td>-16.535</td><td>16.2</td><td>2015/01/28</td><td>ASASSN-15bd</td><td>1,0</td><td>238.65970833333333</td><td>--</td><td>0.007946</td><td>2015ATel.6945....1K,2016A&amp;A...594A..13P,2015ATel.6956....1C,2011ApJ...737..103S</td><td>--</td><td>2373.0</td><td>--</td><td>0.007946</td><td>82.5851</td><td>0.1384537</td><td>164.0936</td><td>0.8550192</td><td>233.7789</td><td>0.3454179</td><td>257.4846</td><td>0.1057257</td><td>258.7754</td><td>0.01085449</td><td>17.70774</td><td>0.03533197</td><td>16.96227</td><td>0.007155575</td><td>16.57799</td><td>0.007902169</td><td>16.47312</td><td>0.01296828</td><td>16.46768</td><td>0.04027074</td></tr>\n",
       "<tr><td>ASASSN-15tu</td><td>ASASSN-15tu</td><td>sne</td><td>IIb</td><td>-32.39821666666667</td><td>2015/12/08</td><td>ASAS-SN</td><td>--</td><td>0.0114</td><td>2MASX J22340166-3223490</td><td>-32:23:49.0</td><td>12.5</td><td>3.33</td><td>22:34:01.66</td><td>--</td><td>56.3</td><td>-17.44</td><td>16.3</td><td>2015/12/07</td><td>ASASSN-15tu</td><td>1,0</td><td>338.51075</td><td>--</td><td>0.0126</td><td>2015ATel.8386....1N,2016A&amp;A...594A..13P,2015ATel.8434....1F,2011ApJ...737..103S</td><td>--</td><td>3750.0</td><td>--</td><td>0.0126</td><td>-999.0</td><td>-999.0</td><td>-999.0</td><td>-999.0</td><td>-999.0</td><td>-999.0</td><td>-999.0</td><td>-999.0</td><td>-999.0</td><td>-999.0</td><td>-999.0</td><td>-999.0</td><td>-999.0</td><td>-999.0</td><td>-999.0</td><td>-999.0</td><td>-999.0</td><td>-999.0</td><td>-999.0</td><td>-999.0</td></tr>\n",
       "<tr><td>PS1-14od</td><td>PS1-14od</td><td>sne</td><td>IIb</td><td>-7.282611111111111</td><td>2014/02/25</td><td>PS1</td><td>--</td><td>0.0491</td><td>SDSS J032106.08-071656.8</td><td>-07:16:56.8</td><td>2.311</td><td>0.9886</td><td>03:21:06.08</td><td>GPC (r, y)</td><td>90.0</td><td>-17.0</td><td>17.75</td><td>2014/02/25</td><td>PS1-14od</td><td>3,-0.257,1.69</td><td>50.275958333333335</td><td>--</td><td>0.02</td><td>2014ATel.5937....1C,2016A&amp;A...594A..13P,2015ApJ...811..117S,2011ApJ...737..103S</td><td>1,3.43</td><td>6000.0</td><td>--</td><td>0.02</td><td>51.41655</td><td>0.06342904</td><td>129.9099</td><td>0.3022959</td><td>207.2322</td><td>0.1470266</td><td>229.6892</td><td>0.04257694</td><td>285.9808</td><td>0.002382728</td><td>18.22223</td><td>0.08384378</td><td>17.21589</td><td>0.01520076</td><td>16.70886</td><td>0.01366372</td><td>16.59715</td><td>0.02290846</td><td>16.35915</td><td>0.07777578</td></tr>\n",
       "<tr><td>SN2002au</td><td>SN2002au</td><td>sne</td><td>IIb</td><td>5.837694444444445</td><td>2002/02/08</td><td>Martin, LOTOSS,Tim Puckett et al.</td><td>e</td><td>0.0322</td><td>UGC 5100</td><td>+05:50:26,+05:50:29.3</td><td>23.29</td><td>8.762</td><td>09:34:39,09:34:38.63</td><td>C</td><td>80.8</td><td>-17.3</td><td>17.2</td><td>2002/03/02</td><td>SN2002au</td><td>6,-28.7,-0.403</td><td>143.65666666666667</td><td>--</td><td>0.018,0.018</td><td>2019MNRAS.482.1545S,2012A&amp;A...538A.120L,2016A&amp;A...594A..13P,2002IAUC.7823....3J,2002IAUC.7823....1P</td><td>3,-19.2,-16.2</td><td>5514.0</td><td>--</td><td>0.018</td><td>299.0397</td><td>0.004090609</td><td>770.7679</td><td>0.002328625</td><td>2452.5</td><td>0.002070417</td><td>3803.946</td><td>0.002466829</td><td>5310.436</td><td>0.0007965004</td><td>16.31068</td><td>0.05676769</td><td>15.28269</td><td>0.02919113</td><td>14.02598</td><td>0.009729409</td><td>13.54941</td><td>0.005746726</td><td>13.18717</td><td>0.007244378</td></tr>\n",
       "<tr><td>SN2011D</td><td>SN2011D,SNhunt30,&lt;a id=&quot;SNhunt30&quot;&gt;SNhunt30&lt;/a&gt;</td><td>sne</td><td>IIb</td><td>17.349611111111113</td><td>2011/01/05</td><td>Howerton,Howerton et al., LOSS,CRTS</td><td>--</td><td>0.1357</td><td>UGC 2498</td><td>+17:20:43</td><td>39.7</td><td>19.2</td><td>03:02:12</td><td>--</td><td>104.0</td><td>-17.76</td><td>17.3</td><td>2011/01/04</td><td>SN2011D</td><td>1,0</td><td>45.560625</td><td>--</td><td>0.0231</td><td>2011CBET.2627....2M,2019MNRAS.482.1545S,2017csnh.book.....H,2016A&amp;A...594A..13P,2008yCat....1.2024B</td><td>1,8.5</td><td>6930.0</td><td>--</td><td>0.0231</td><td>-999.0</td><td>-999.0</td><td>-999.0</td><td>-999.0</td><td>-999.0</td><td>-999.0</td><td>-999.0</td><td>-999.0</td><td>-999.0</td><td>-999.0</td><td>-999.0</td><td>-999.0</td><td>-999.0</td><td>-999.0</td><td>-999.0</td><td>-999.0</td><td>-999.0</td><td>-999.0</td><td>-999.0</td><td>-999.0</td></tr>\n",
       "<tr><td>SN2011V</td><td>SN2011V,PSN J09273876+2847275,&lt;a id=&quot;PSNJ09273876+2847275&quot;&gt;PSN J09273876+2847275&lt;/a&gt;</td><td>sne</td><td>IIb</td><td>28.79088888888889</td><td>2011/01/28</td><td>Drake et al.,CRTS</td><td>--</td><td>0.0195</td><td>MCG +05-22-48,UGC 5040</td><td>+28:47:56</td><td>46.32</td><td>13.49</td><td>09:27:36</td><td>--</td><td>61.72</td><td>-16.64</td><td>17.3</td><td>2011/01/27</td><td>SN2011V</td><td>1,0</td><td>141.9115</td><td>--</td><td>0.0138</td><td>2011CBET.2650....2M,2016A&amp;A...594A..13P,2008yCat....1.2024B,2011ApJ...737..103S</td><td>--</td><td>4147.0</td><td>--</td><td>0.0138</td><td>100.7614</td><td>0.008000064</td><td>357.808</td><td>0.009591711</td><td>616.2009</td><td>0.001027951</td><td>708.6722</td><td>7.317973e-05</td><td>987.7594</td><td>3.273558e-05</td><td>17.49176</td><td>0.1204708</td><td>16.11588</td><td>0.0309832</td><td>15.52569</td><td>0.05495609</td><td>15.37389</td><td>0.179095</td><td>15.01337</td><td>0.1921156</td></tr>\n",
       "<tr><td>SN2011bv</td><td>SN2011bv,MLS110330:130254-040236</td><td>sne</td><td>IIb</td><td>-4.043333333333333</td><td>2011/03/30</td><td>Drake et al.,CRTS</td><td>--</td><td>0.0236</td><td>A130253-0402</td><td>-04:02:36</td><td>8.529</td><td>12.67</td><td>13:02:53</td><td>C</td><td>360.0</td><td>--</td><td>--</td><td>--</td><td>SN2011bv</td><td>4</td><td>195.72320833333333</td><td>--</td><td>0.077</td><td>2009ApJ...696..870D,2011CBET.2704....2P,2008yCat....1.2024B,2016A&amp;A...594A..13P,2011ApJ...737..103S</td><td>--</td><td>23100.0</td><td>--</td><td>0.077</td><td>-999.0</td><td>-999.0</td><td>-999.0</td><td>-999.0</td><td>-999.0</td><td>-999.0</td><td>-999.0</td><td>-999.0</td><td>-999.0</td><td>-999.0</td><td>-999.0</td><td>-999.0</td><td>-999.0</td><td>-999.0</td><td>-999.0</td><td>-999.0</td><td>-999.0</td><td>-999.0</td><td>-999.0</td><td>-999.0</td></tr>\n",
       "<tr><td>SN2011cb</td><td>SN2011cb,PSN J22470700-6449430,&lt;a id=&quot;PSNJ22470700-6449430&quot;&gt;PSN J22470700-6449430&lt;/a&gt;</td><td>sne</td><td>IIb</td><td>-64.82872222222223</td><td>2011/04/29</td><td>Parker,Stu Parker</td><td>--</td><td>0.0289</td><td>IC 5249</td><td>-64:49:52</td><td>12.82</td><td>2.158</td><td>22:47:06</td><td>UVOT (W2, W1, M2, U, B, V)</td><td>35.2</td><td>-16.5</td><td>16.27</td><td>2011/05/16</td><td>SN2011cb</td><td>6,-0.0494,6.92</td><td>341.7812083333333</td><td>--</td><td>0.0079</td><td>2014Ap&amp;SS.354...89B,2011CBET.2711....2S,2016A&amp;A...594A..13P,2008yCat....1.2024B,2011ApJ...737..103S</td><td>--</td><td>2332.0</td><td>--</td><td>0.0079</td><td>-999.0</td><td>-999.0</td><td>-999.0</td><td>-999.0</td><td>-999.0</td><td>-999.0</td><td>-999.0</td><td>-999.0</td><td>-999.0</td><td>-999.0</td><td>-999.0</td><td>-999.0</td><td>-999.0</td><td>-999.0</td><td>-999.0</td><td>-999.0</td><td>-999.0</td><td>-999.0</td><td>-999.0</td><td>-999.0</td></tr>\n",
       "<tr><td>SN2011dh</td><td>SN2011dh,PSN J13303600+4706330,PTF11eon,J133005+471010,&lt;a id=&quot;PSNJ13303600+4706330&quot;&gt;PSN J13303600+4706330&lt;/a&gt;</td><td>sne</td><td>IIb</td><td>47.16970055555556</td><td>2011/06/01</td><td>Reiland, Griga, Riou, Lamotte Bailey,Tom Reiland</td><td>e</td><td>0.0309</td><td>NGC 5194,M51,M51A,M51B</td><td>+47:11:43</td><td>154.0</td><td>6.26</td><td>13:29:53</td><td>HFOSC (U, B, V, R, I), IRAC (I1, I2), UVOT (W2, W1, M2, U, B, V), C, U, B, V, R, I</td><td>7.2583</td><td>-18.152</td><td>11.15</td><td>2011/07/08</td><td>SN2011dh</td><td>1432,-36.6,586</td><td>202.52127291666665</td><td>--</td><td>0.001638</td><td>2012PASP..124..668Y,2014A&amp;A...562A..17E,2014Ap&amp;SS.354...89B,2015A&amp;A...580A.142E,2013MNRAS.436.3614S</td><td>84,-35.4,639</td><td>461.0</td><td>--</td><td>0.001638</td><td>-999.0</td><td>-999.0</td><td>-999.0</td><td>-999.0</td><td>-999.0</td><td>-999.0</td><td>-999.0</td><td>-999.0</td><td>-999.0</td><td>-999.0</td><td>-999.0</td><td>-999.0</td><td>-999.0</td><td>-999.0</td><td>-999.0</td><td>-999.0</td><td>-999.0</td><td>-999.0</td><td>-999.0</td><td>-999.0</td></tr>\n",
       "<tr><td>...</td><td>...</td><td>...</td><td>...</td><td>...</td><td>...</td><td>...</td><td>...</td><td>...</td><td>...</td><td>...</td><td>...</td><td>...</td><td>...</td><td>...</td><td>...</td><td>...</td><td>...</td><td>...</td><td>...</td><td>...</td><td>...</td><td>...</td><td>...</td><td>...</td><td>...</td><td>...</td><td>...</td><td>...</td><td>...</td><td>...</td><td>...</td><td>...</td><td>...</td><td>...</td><td>...</td><td>...</td><td>...</td><td>...</td><td>...</td><td>...</td><td>...</td><td>...</td><td>...</td><td>...</td><td>...</td><td>...</td><td>...</td><td>...</td></tr>\n",
       "<tr><td>SN2018dys</td><td>SN2018dys,AT2018dys,ASASSN-18ph,ATLAS18two</td><td>sne</td><td>Ic</td><td>-5.568833333333333</td><td>2018/07/15</td><td>ASAS-SN</td><td>--</td><td>0.0276</td><td>GALEXASC J125510.22-053406.8</td><td>-05:34:06.8</td><td>0.22</td><td>0.24</td><td>12:55:10.22</td><td>ACAM1 (cyan), Cassius (V)</td><td>253.0</td><td>-19.6</td><td>17.4</td><td>2018/07/15</td><td>SN2018dys</td><td>2,-0.427,22.5</td><td>193.79226666666668</td><td>--</td><td>0.055</td><td>2016A&amp;A...594A..13P,2011ApJ...737..103S</td><td>1,5.94</td><td>16000.0</td><td>--</td><td>0.055</td><td>-999.0</td><td>-999.0</td><td>-999.0</td><td>-999.0</td><td>-999.0</td><td>-999.0</td><td>-999.0</td><td>-999.0</td><td>-999.0</td><td>-999.0</td><td>-999.0</td><td>-999.0</td><td>-999.0</td><td>-999.0</td><td>-999.0</td><td>-999.0</td><td>-999.0</td><td>-999.0</td><td>-999.0</td><td>-999.0</td></tr>\n",
       "<tr><td>SN2018fav</td><td>SN2018fav,AT2018fav,ASASSN-18rt</td><td>sne</td><td>Ic</td><td>-21.94565</td><td>2018/08/12</td><td>ASAS-SN</td><td>--</td><td>0.0124</td><td>2MASX J00455851-2156353</td><td>-21:56:35.3</td><td>9.55</td><td>7.42</td><td>00:45:58.51</td><td>Payne-Gaposchkin (g)</td><td>172.656</td><td>-18.1455</td><td>18.0</td><td>2018/08/12</td><td>SN2018fav</td><td>1,0.472</td><td>11.494091666666666</td><td>--</td><td>0.037923</td><td>2016A&amp;A...594A..13P,2011ApJ...737..103S</td><td>1,3.55</td><td>11154.0</td><td>--</td><td>0.037923</td><td>-999.0</td><td>-999.0</td><td>-999.0</td><td>-999.0</td><td>-999.0</td><td>-999.0</td><td>-999.0</td><td>-999.0</td><td>-999.0</td><td>-999.0</td><td>-999.0</td><td>-999.0</td><td>-999.0</td><td>-999.0</td><td>-999.0</td><td>-999.0</td><td>-999.0</td><td>-999.0</td><td>-999.0</td><td>-999.0</td></tr>\n",
       "<tr><td>SN2018ijp</td><td>SN2018ijp,AT2018ijp,ZTF18aceqrrs,PS18cgs</td><td>sne</td><td>Ic</td><td>8.931422222222222</td><td>2018/11/07</td><td>ZTF</td><td>--</td><td>--</td><td>SDSS J102137.73+085554.2</td><td>+08:55:54.2</td><td>4.863</td><td>7.998</td><td>10:21:37.73</td><td>ACAM1 (cyan, orange), GPC (w, i), GPC1 (i), ZTF-Cam (r)</td><td>399.0</td><td>-18.93</td><td>18.99</td><td>2018/11/10</td><td>SN2018ijp</td><td>24,-2.75,79.2</td><td>155.40854166666665</td><td>--</td><td>0.0848</td><td>2016A&amp;A...594A..13P</td><td>--</td><td>24300.0</td><td>--</td><td>0.0848</td><td>11.03022</td><td>0.2283702</td><td>50.43031</td><td>0.8347344</td><td>71.80077</td><td>0.1818116</td><td>97.14462</td><td>0.0478564</td><td>92.35677</td><td>0.005900795</td><td>19.89336</td><td>0.2059114</td><td>18.24327</td><td>0.02356437</td><td>17.85967</td><td>0.03546353</td><td>17.53145</td><td>0.05108961</td><td>17.58626</td><td>0.1530187</td></tr>\n",
       "<tr><td>SN2018ise</td><td>SN2018ise,AT2018ise,ZTF18achcpwu,ATLAS18bajs,PS18ckt</td><td>sne</td><td>Ic</td><td>64.06164444444444</td><td>2018/11/12</td><td>ZTF</td><td>--</td><td>--</td><td>2MASX J07071594+6403517</td><td>+64:03:51.7</td><td>11.19</td><td>12.39</td><td>07:07:15.94</td><td>ACAM1 (orange), GPC (i), GPC1 (i), ZTF-Cam (g, r)</td><td>254.4</td><td>-18.45</td><td>18.52</td><td>2018/12/17</td><td>SN2018ise</td><td>20,-30.4,36</td><td>106.819875</td><td>--</td><td>0.0552</td><td>2016A&amp;A...594A..13P</td><td>1,9</td><td>16100.0</td><td>--</td><td>0.0552</td><td>-999.0</td><td>-999.0</td><td>-999.0</td><td>-999.0</td><td>-999.0</td><td>-999.0</td><td>-999.0</td><td>-999.0</td><td>-999.0</td><td>-999.0</td><td>-999.0</td><td>-999.0</td><td>-999.0</td><td>-999.0</td><td>-999.0</td><td>-999.0</td><td>-999.0</td><td>-999.0</td><td>-999.0</td><td>-999.0</td></tr>\n",
       "<tr><td>SN2018liq</td><td>SN2018liq,AT2018liq,ZTF18adasisj,PS19fy,Gaia19anq</td><td>sne</td><td>Ic</td><td>8.797769444444445</td><td>2018/12/30</td><td>ZTF</td><td>--</td><td>--</td><td>2MASX J04502805+0847582</td><td>+08:47:58.2</td><td>6.267</td><td>4.408</td><td>04:50:28.05</td><td>Astrometric, GPC (w), GPC1 (w), ZTF-Cam (g, r)</td><td>154.0</td><td>-18.1</td><td>17.85</td><td>2019/02/10</td><td>SN2018liq</td><td>17,-40.9,48.8</td><td>72.61668333333333</td><td>--</td><td>0.034</td><td>2016A&amp;A...594A..13P</td><td>1,-13.1</td><td>10000.0</td><td>--</td><td>0.034</td><td>-999.0</td><td>-999.0</td><td>-999.0</td><td>-999.0</td><td>-999.0</td><td>-999.0</td><td>-999.0</td><td>-999.0</td><td>-999.0</td><td>-999.0</td><td>-999.0</td><td>-999.0</td><td>-999.0</td><td>-999.0</td><td>-999.0</td><td>-999.0</td><td>-999.0</td><td>-999.0</td><td>-999.0</td><td>-999.0</td></tr>\n",
       "<tr><td>SN2019bjv</td><td>SN2019bjv,AT2019bjv,ASASSN-19dv</td><td>sne</td><td>Ic</td><td>47.437244444444445</td><td>2019/03/01</td><td>ASAS-SN</td><td>--</td><td>--</td><td>SDSS J162538.62+472614.3</td><td>+47:26:14.3</td><td>0.36</td><td>0.2</td><td>16:25:38.62</td><td>ACAM1 (orange), Brutus (g), Leavitt (g), ZTF-Cam (g, r)</td><td>119.6</td><td>-18.35</td><td>17.01</td><td>2019/02/20</td><td>SN2019bjv</td><td>13,-22.4,39.9</td><td>246.41104583333333</td><td>--</td><td>0.0265</td><td>2016A&amp;A...594A..13P</td><td>1,24.4</td><td>7840.0</td><td>--</td><td>0.0265</td><td>6.097511</td><td>1.360728</td><td>16.71213</td><td>5.111594</td><td>21.59687</td><td>2.059074</td><td>26.39136</td><td>0.7474911</td><td>36.2542</td><td>0.04422272</td><td>20.53655</td><td>0.1524855</td><td>19.44239</td><td>0.02873354</td><td>19.16399</td><td>0.03503246</td><td>18.94629</td><td>0.04757942</td><td>18.60115</td><td>0.1422924</td></tr>\n",
       "<tr><td>SN2019dwy</td><td>SN2019dwy,AT2019dwy,ASASSN-19ku,Gaia19bnh</td><td>sne</td><td>Ic</td><td>70.76793055555555</td><td>2019/04/24</td><td>ASAS-SN,ASASSN</td><td>--</td><td>--</td><td>2MASX J11141082+7046053,2MASX J11141082+7046</td><td>+70:46:05.3</td><td>0.67</td><td>0.62</td><td>11:14:10.82</td><td>Astrometric, Brutus (g), B</td><td>206.0</td><td>-19.5</td><td>17.01</td><td>2019/05/03</td><td>SN2019dwy</td><td>6,-9.54,7.16</td><td>168.54509166666668</td><td>--</td><td>0.045</td><td>2016A&amp;A...594A..13P</td><td>1,-1.49</td><td>13000.0</td><td>--</td><td>0.045</td><td>-999.0</td><td>-999.0</td><td>-999.0</td><td>-999.0</td><td>-999.0</td><td>-999.0</td><td>-999.0</td><td>-999.0</td><td>-999.0</td><td>-999.0</td><td>-999.0</td><td>-999.0</td><td>-999.0</td><td>-999.0</td><td>-999.0</td><td>-999.0</td><td>-999.0</td><td>-999.0</td><td>-999.0</td><td>-999.0</td></tr>\n",
       "<tr><td>SN2019krw</td><td>SN2019krw,PS19dro,AT2019krw,ZTF19abdoior</td><td>sne</td><td>Ic</td><td>40.22581666666667</td><td>2019/07/05</td><td>ZTF</td><td>--</td><td>--</td><td>2MASX J17501063+4013391</td><td>+40:13:39.1</td><td>7.139</td><td>6.942</td><td>17:50:10.63</td><td>GPC (i)</td><td>215.0</td><td>-18.0</td><td>18.63</td><td>2019/07/13</td><td>SN2019krw</td><td>5,-8.6,0.00642</td><td>267.54297916666667</td><td>--</td><td>0.047</td><td>2016A&amp;A...594A..13P</td><td>--</td><td>14000.0</td><td>--</td><td>0.047</td><td>56.0745</td><td>0.08280782</td><td>201.8898</td><td>0.290465</td><td>340.5638</td><td>0.1620785</td><td>482.6163</td><td>0.05890742</td><td>543.826</td><td>0.002683573</td><td>18.12808</td><td>0.06728493</td><td>16.73721</td><td>0.009978446</td><td>16.1695</td><td>0.007918867</td><td>15.79099</td><td>0.009269092</td><td>15.66135</td><td>0.03853949</td></tr>\n",
       "<tr><td>SN2019rwq</td><td>SN2019rwq,AT2019rwq,ASASSN-19yk</td><td>sne</td><td>Ic</td><td>-66.39171666666667</td><td>2019/10/05</td><td>ASAS-SN</td><td>--</td><td>--</td><td>2MASS J02185760-6623310</td><td>-66:23:31.0</td><td>1.66</td><td>0.879</td><td>02:18:57.60</td><td>Paczynski (g)</td><td>115.0</td><td>-17.68</td><td>17.6</td><td>2019/10/05</td><td>SN2019rwq</td><td>1,-0.273</td><td>34.74037083333333</td><td>--</td><td>0.0255</td><td>2016A&amp;A...594A..13P</td><td>1,13.4</td><td>7550.0</td><td>--</td><td>0.0255</td><td>-999.0</td><td>-999.0</td><td>-999.0</td><td>-999.0</td><td>-999.0</td><td>-999.0</td><td>-999.0</td><td>-999.0</td><td>-999.0</td><td>-999.0</td><td>-999.0</td><td>-999.0</td><td>-999.0</td><td>-999.0</td><td>-999.0</td><td>-999.0</td><td>-999.0</td><td>-999.0</td><td>-999.0</td><td>-999.0</td></tr>\n",
       "<tr><td>SN2020euy</td><td>SN2020euy,AT2020euy,ASASSN-20dn</td><td>sne</td><td>Ic</td><td>47.57398888888889</td><td>2020/03/21</td><td>ASAS-SN,ASASSN</td><td>--</td><td>--</td><td>Unknown,WISEA J133629.46+473</td><td>+47:03:00</td><td>1886.0</td><td>2339.0</td><td>13:36:29.46</td><td>ACAM1 (cyan, orange), Brutus (g), ZTF-Cam (g, r)</td><td>288.674</td><td>-19.6164</td><td>17.62</td><td>2020/03/24</td><td>SN2020euy</td><td>4,-3,3.7</td><td>204.12286666666665</td><td>--</td><td>0.062312</td><td>2016A&amp;A...594A..13P</td><td>1,8.01</td><td>18100.0</td><td>--</td><td>0.062312</td><td>0.05958833</td><td>2.369335</td><td>0.7291825</td><td>17.43356</td><td>1.314406</td><td>5.563075</td><td>1.840136</td><td>1.703908</td><td>5.558956</td><td>0.09282775</td><td>24.40533</td><td>2.463965</td><td>22.82673</td><td>0.3462186</td><td>22.19424</td><td>0.3445212</td><td>21.82763</td><td>0.443604</td><td>20.61877</td><td>0.6194715</td></tr>\n",
       "</table>"
      ],
      "text/plain": [
       "<Table length=1851>\n",
       "   event    ...   zmag_er  \n",
       "   str23    ...   float64  \n",
       "----------- ... -----------\n",
       "ASASSN-14az ...  0.09963752\n",
       "ASASSN-15bd ...  0.04027074\n",
       "ASASSN-15tu ...      -999.0\n",
       "   PS1-14od ...  0.07777578\n",
       "   SN2002au ... 0.007244378\n",
       "    SN2011D ...      -999.0\n",
       "    SN2011V ...   0.1921156\n",
       "   SN2011bv ...      -999.0\n",
       "   SN2011cb ...      -999.0\n",
       "   SN2011dh ...      -999.0\n",
       "        ... ...         ...\n",
       "  SN2018dys ...      -999.0\n",
       "  SN2018fav ...      -999.0\n",
       "  SN2018ijp ...   0.1530187\n",
       "  SN2018ise ...      -999.0\n",
       "  SN2018liq ...      -999.0\n",
       "  SN2019bjv ...   0.1422924\n",
       "  SN2019dwy ...      -999.0\n",
       "  SN2019krw ...  0.03853949\n",
       "  SN2019rwq ...      -999.0\n",
       "  SN2020euy ...   0.6194715"
      ]
     },
     "execution_count": 13,
     "metadata": {},
     "output_type": "execute_result"
    }
   ],
   "source": [
    "fin_objtb_VAST"
   ]
  },
  {
   "cell_type": "code",
   "execution_count": 14,
   "id": "f2f6dc35",
   "metadata": {},
   "outputs": [],
   "source": [
    "'''\n",
    "#when running into VAST it was not able to convert a string in the 'redshift' colm into a float\n",
    "#initializing\n",
    "fin_objtb_VAST['z'] = -9.\n",
    "#This loop allows us to then \n",
    "\n",
    "for i in range(len(fin_objtb_VAST)):\n",
    "    red_conv_fl = fin_objtb_VAST['redshift'][i]\n",
    "    \n",
    "\n",
    "    \n",
    "    redcnvF = red_conv_fl.split(',')\n",
    "    red = float(redcnvF[0])\n",
    "    fin_objtb_VAST['z'][i] = red\n",
    "''';"
   ]
  },
  {
   "cell_type": "code",
   "execution_count": 15,
   "id": "78ed84fa",
   "metadata": {},
   "outputs": [],
   "source": [
    "# fin_objtb_VAST"
   ]
  },
  {
   "cell_type": "code",
   "execution_count": 16,
   "id": "57bd85a5",
   "metadata": {
    "scrolled": true
   },
   "outputs": [],
   "source": [
    "'''\n",
    "#here we create a variable for our table that will return an array of ones helpful for identifiying numbers greater than 0 \n",
    "dec_colm = np.ones(len(fin_objtb_VAST))\n",
    "ra_colm = np.ones(len(fin_objtb_VAST))\n",
    "\n",
    "# we create a for loop that will scan our table for every i'th row of our table from 0 to however many there are\n",
    "for i in range(len(fin_objtb_VAST)):\n",
    "\n",
    "    #lets start with our declination column\n",
    "    ############################################################################\n",
    "    #Declination\n",
    "    #...........................................................................\n",
    "    #lets assign a varible for the value of our Dec.Coord. in our table located under ra column...every i'th row\n",
    "    valDec = fin_objtb_VAST['dec'][i]\n",
    "    Decs = valDec.split(',')\n",
    "    #^^^we set another varible, this time to showcase a split in our valDec cells, spliting at every ',' we see\n",
    "\n",
    "    try:\n",
    "        d_Dec, m_Dec, s_Dec = Decs[0].split(':')\n",
    "        #^^^here each of the coordinates contain a degree, minute, second. We want to split at each ':' for the conversion\n",
    "    except:\n",
    "        d_Dec, m_Dec, a_Dec = Decs[1].split(':')\n",
    "        #^^^here we want to exclude the anything after the first value, sort of... if the first try conversion doesnt work then we use  next one after\n",
    "\n",
    "\n",
    "    # now we begin to do the conversions\n",
    "    if float(d_Dec) < 0:\n",
    "        Decs = float(d_Dec) - (float(s_Dec)/60 + float(m_Dec))/60\n",
    "    else:\n",
    "        Decs = float(d_Dec) + (float(s_Dec)/60 + float(m_Dec))/60 \n",
    "    \n",
    "    dec_colm[i] = Decs\n",
    "\n",
    "    \n",
    "    \n",
    "    ############################################################################\n",
    "    #Right Ascesncion\n",
    "    #...........................................................................\n",
    "    #now we do the same for our right ascension\n",
    "    valRa = fin_objtb_VAST['ra'][i]\n",
    "    Ras = valRa.split(',')\n",
    "    \n",
    "    try:\n",
    "        hrs_Ra, min_Ra, sec_Ra = Ras[0].split(':')\n",
    "    \n",
    "    except ValueError:\n",
    "        hrs_Ra, min_Ra, sec_Ra = Ras[1].split(':')\n",
    "    \n",
    "    \n",
    "    Ra = (float(hrs_Ra) + (float(min_Ra) + float(sec_Ra)/60)/60) * (360/24)\n",
    "    \n",
    "    ra_colm[i] = Ra\n",
    "''';"
   ]
  },
  {
   "cell_type": "code",
   "execution_count": 17,
   "id": "6a02c950",
   "metadata": {},
   "outputs": [],
   "source": [
    "# fin_objtb_VAST['dec'] = dec_colm\n",
    "# fin_objtb_VAST['ra'] = ra_colm\n",
    "# fin_objtb_VAST"
   ]
  },
  {
   "cell_type": "code",
   "execution_count": 16,
   "id": "f4858e1c",
   "metadata": {},
   "outputs": [],
   "source": [
    "# SDSS_SNeCATmrg_4V = \"PetMagCat_mrg.txt\"\n",
    "# fin_objtb_VAST.write(SDSS_SNeCATmrg_4V, format = 'ascii.commented_header', overwrite=True)"
   ]
  },
  {
   "cell_type": "code",
   "execution_count": 17,
   "id": "43c67f3a",
   "metadata": {
    "scrolled": true
   },
   "outputs": [],
   "source": [
    "# VAST_results_ce = Table.read('SDSSnSNeMrg_4VAST_vflag_comoving.txt', format = 'ascii.commented_header')\n",
    "# VAST_results_ce"
   ]
  },
  {
   "cell_type": "code",
   "execution_count": null,
   "id": "c6a5831b",
   "metadata": {},
   "outputs": [],
   "source": []
  }
 ],
 "metadata": {
  "kernelspec": {
   "display_name": "Python 3",
   "language": "python",
   "name": "python3"
  },
  "language_info": {
   "codemirror_mode": {
    "name": "ipython",
    "version": 3
   },
   "file_extension": ".py",
   "mimetype": "text/x-python",
   "name": "python",
   "nbconvert_exporter": "python",
   "pygments_lexer": "ipython3",
   "version": "3.8.8"
  }
 },
 "nbformat": 4,
 "nbformat_minor": 5
}
