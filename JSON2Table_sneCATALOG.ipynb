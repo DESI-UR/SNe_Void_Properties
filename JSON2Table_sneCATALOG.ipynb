{
 "cells": [
  {
   "cell_type": "code",
   "execution_count": 4,
   "metadata": {},
   "outputs": [],
   "source": [
    "from astropy.io import ascii, fits\n",
    "from astropy.coordinates import SkyCoord\n",
    "from astropy.table import Table, Column, MaskedColumn\n",
    "from astropy.table import QTable\n",
    "import astropy.units as u\n",
    "from astropy.constants import c as c\n",
    "\n",
    "import json\n",
    "\n",
    "import os\n",
    "from glob import glob\n",
    "\n",
    "import numpy as np\n",
    "import matplotlib as mpl\n",
    "import matplotlib.pyplot as plt"
   ]
  },
  {
   "cell_type": "code",
   "execution_count": 5,
   "metadata": {},
   "outputs": [],
   "source": [
    "with open('C:/Users/kaeka/Documents/Python/SNEcatalog.json', encoding='utf8', errors='ignore') as json_file:\n",
    "    data = json.load(json_file)"
   ]
  },
  {
   "cell_type": "code",
   "execution_count": 6,
   "metadata": {},
   "outputs": [],
   "source": [
    "catalog_table = Table()\n",
    "JSON_keys = data['10Z2-A'].keys()\n",
    "n = len(data)\n",
    "\n",
    "catalog_table['ID'] = [i for i in range(n)]\n",
    "\n",
    "for col_name in JSON_keys:\n",
    "    catalog_table[col_name] = [None] * n\n",
    "    \n",
    "catalog_table['lumdist_kind']  = [None] * n\n",
    "catalog_table['redshift_kind'] = [None] * n\n",
    "catalog_table['velocity_kind'] = [None] * n"
   ]
  },
  {
   "cell_type": "code",
   "execution_count": 19,
   "metadata": {},
   "outputs": [],
   "source": [
    "for i, objname in enumerate(data.keys()):\n",
    "    record = data[objname]\n",
    "    \n",
    "    if len(record['alias']) > 0:\n",
    "        catalog_table['alias'][i] = ', '.join([h['value'] for h in record['alias']])\n",
    "        \n",
    "    if len(record['catalog']) > 0:\n",
    "        catalog_table['catalog'][i] = record['catalog'][0]\n",
    "    \n",
    "    if len(record['claimedtype']) > 0:\n",
    "        catalog_table['claimedtype'][i] = ', '.join([h['value'] for h in record['claimedtype']])\n",
    "    \n",
    "    if len(record['dec']) > 0 and len(record['ra']) > 0:\n",
    "        coord = SkyCoord(record['ra'][0]['value'], record['dec'][0]['value'], frame ='icrs', unit=('hour','deg'))\n",
    "        catalog_table['dec'][i] = coord.dec.degree\n",
    "        catalog_table['ra'][i] = coord.ra.degree\n",
    "\n",
    "    if len(record['discoverdate']) > 0:\n",
    "        catalog_table['discoverdate'][i] = ', '.join([h['value'] for h in record['discoverdate']])\n",
    "        \n",
    "    if len(record['discoverer']) > 0:\n",
    "        catalog_table['discoverer'][i] = ', '.join([h['value'] for h in record['discoverer']])\n",
    "        \n",
    "    if len(record['download']) > 0:\n",
    "        catalog_table['download'][i] = record['download'][0]\n",
    "    \n",
    "    if len(record['ebv']) > 0:\n",
    "        catalog_table['ebv'][i] = ', '.join([h['value'] for h in record['ebv']])\n",
    "    \n",
    "    if len(record['host']) > 0:\n",
    "        catalog_table['host'][i] = ', '.join([h['value'] for h in record['host']])\n",
    "\n",
    "    # Catch \"dirty\" values that cause an IllegalHourAngle exception.\n",
    "    try:\n",
    "        if len(record['hostdec']) > 0 and len(record['hostra']) > 0: \n",
    "            h_coord = SkyCoord(record['hostra'][0]['value'], record['hostdec'][0]['value'], frame ='icrs', unit=('hour','deg'))\n",
    "            catalog_table['hostdec'][i] = h_coord.dec.degree\n",
    "            catalog_table['hostra'][i] = h_coord.ra.degree\n",
    "    except:\n",
    "        catalog_table['hostra'][i] = -999.\n",
    "        catalog_table['hostdec'][i] = -999.\n",
    "\n",
    "    if len(record['hostoffsetang']) > 0:\n",
    "        catalog_table['hostoffsetang'][i] = ', '.join([h['value'] for h in record['hostoffsetang']])\n",
    "    \n",
    "    if len(record['hostoffsetdist']) > 0:\n",
    "        catalog_table['hostoffsetdist'][i] = ', '.join([h['value'] for h in record['hostoffsetdist']])\n",
    "    \n",
    "    if len(record['instruments']) > 0:\n",
    "        catalog_table['instruments'][i] = ', '.join(record['instruments'])\n",
    "    \n",
    "    if len(record['lumdist']) > 0:\n",
    "        lum_ = record['lumdist'][0]\n",
    "        catalog_table['lumdist'][i] = ', '.join([h['value'] for h in record['lumdist']])\n",
    "        if 'kind' in lum_:\n",
    "            lum_kind_ = lum_['kind']\n",
    "            catalog_table['lumdist_kind'][i] = lum_kind_\n",
    "\n",
    "    if len(record['maxabsmag']) > 0:\n",
    "        catalog_table['maxabsmag'][i] = ', '.join([h['value'] for h in record['maxabsmag']])\n",
    "        \n",
    "    if len(record['maxappmag']) > 0:\n",
    "        catalog_table['maxappmag'][i] = ', '.join([h['value'] for h in record['maxappmag']])\n",
    "        \n",
    "    if len(record['maxdate']) > 0:\n",
    "        catalog_table['maxdate'][i] = ', '.join([h['value'] for h in record['maxdate']])\n",
    "    \n",
    "    if len(record['name']) > 0:\n",
    "        catalog_table['name'][i] = record['name'][0]\n",
    "    \n",
    "    if len(record['photolink']) > 0:\n",
    "        catalog_table['photolink'][i] = record['photolink'][0]\n",
    "        \n",
    "    if len(record['radiolink']) > 0:\n",
    "        catalog_table['radiolink'][i] = record['radiolink'][0]\n",
    "        \n",
    "    if len(record['redshift']) > 0:\n",
    "        z_ = record['redshift'][0]\n",
    "        catalog_table['redshift'][i] = float(record['redshift'][0]['value']) # saving only the first value here\n",
    "        if 'kind' in z_:\n",
    "            if isinstance(z_['kind'], list):\n",
    "                catalog_table['redshift_kind'][i] = ', '.join([h for h in z_['kind']])\n",
    "            else:\n",
    "                catalog_table['redshift_kind'][i] = z_['kind']\n",
    "\n",
    "    if len(record['references']) > 0:\n",
    "        catalog_table['references'][i] = record['references'][0]\n",
    "\n",
    "    if len(record['sources']) > 0:\n",
    "        catalog_table['sources'][i] = record['sources'][0]['name'], record['sources'][0]['url'], record['sources'][0]['alias']\n",
    "\n",
    "    if len(record['spectralink']) > 0:\n",
    "        catalog_table['spectralink'][i] = record['spectralink'][0]\n",
    "\n",
    "    if len(record['velocity']) > 0:\n",
    "        vel_ = record['velocity'][0]\n",
    "        catalog_table['velocity'][i] = ', '.join([h['value'] for h in record['velocity']])\n",
    "        if 'kind' in vel_:\n",
    "            vel_kind_ = vel_['kind']\n",
    "            catalog_table['velocity_kind'][i] = vel_kind_\n",
    "\n",
    "    if len(record['xraylink']) > 0:\n",
    "        catalog_table['xraylink'][i] = record['xraylink'][0]"
   ]
  },
  {
   "cell_type": "code",
   "execution_count": 20,
   "metadata": {},
   "outputs": [],
   "source": [
    "# for i, objname in enumerate(data.keys()):\n",
    "#     record = data[objname]\n",
    "    \n",
    "#     if len(record['photolink']) > 0:\n",
    "#         print(record['photolink'])"
   ]
  },
  {
   "cell_type": "code",
   "execution_count": 22,
   "metadata": {},
   "outputs": [
    {
     "data": {
      "text/html": [
       "<i>Table length=60328</i>\n",
       "<table id=\"table2536121137304\" class=\"table-striped table-bordered table-condensed\">\n",
       "<thead><tr><th>ID</th><th>alias</th><th>catalog</th><th>claimedtype</th><th>dec</th><th>discoverdate</th><th>discoverer</th><th>download</th><th>ebv</th><th>host</th><th>hostdec</th><th>hostoffsetang</th><th>hostoffsetdist</th><th>hostra</th><th>instruments</th><th>lumdist</th><th>maxabsmag</th><th>maxappmag</th><th>maxdate</th><th>name</th><th>photolink</th><th>ra</th><th>radiolink</th><th>redshift</th><th>references</th><th>sources</th><th>spectralink</th><th>velocity</th><th>xraylink</th><th>lumdist_kind</th><th>redshift_kind</th><th>velocity_kind</th></tr></thead>\n",
       "<thead><tr><th>int32</th><th>object</th><th>object</th><th>object</th><th>object</th><th>object</th><th>object</th><th>object</th><th>object</th><th>object</th><th>object</th><th>object</th><th>object</th><th>object</th><th>object</th><th>object</th><th>object</th><th>object</th><th>object</th><th>object</th><th>object</th><th>object</th><th>object</th><th>object</th><th>object</th><th>object</th><th>object</th><th>object</th><th>object</th><th>object</th><th>object</th><th>object</th></tr></thead>\n",
       "<tr><td>0</td><td>10Z2-A</td><td>sne</td><td>None</td><td>0.011027777777777779</td><td>None</td><td>None</td><td>None</td><td>0.0337</td><td>None</td><td>None</td><td>None</td><td>None</td><td>None</td><td>None</td><td>None</td><td>None</td><td>None</td><td>None</td><td>10Z2-A</td><td>None</td><td>161.77716666666666</td><td>None</td><td>None</td><td>2005A&amp;A...430...83C,2011ApJ...737..103S</td><td>None</td><td>None</td><td>None</td><td>None</td><td>None</td><td>None</td><td>None</td></tr>\n",
       "<tr><td>1</td><td>10Z2-B</td><td>sne</td><td>None</td><td>0.0077777777777777776</td><td>None</td><td>None</td><td>None</td><td>0.0383</td><td>None</td><td>None</td><td>None</td><td>None</td><td>None</td><td>None</td><td>None</td><td>None</td><td>None</td><td>None</td><td>10Z2-B</td><td>None</td><td>161.42816666666667</td><td>None</td><td>None</td><td>2005A&amp;A...430...83C,2011ApJ...737..103S</td><td>None</td><td>None</td><td>None</td><td>None</td><td>None</td><td>None</td><td>None</td></tr>\n",
       "<tr><td>2</td><td>10Z2-D</td><td>sne</td><td>None</td><td>-0.23130555555555557</td><td>None</td><td>None</td><td>None</td><td>0.0318</td><td>None</td><td>None</td><td>None</td><td>None</td><td>None</td><td>None</td><td>None</td><td>None</td><td>None</td><td>None</td><td>10Z2-D</td><td>None</td><td>161.92058333333333</td><td>None</td><td>None</td><td>2005A&amp;A...430...83C,2011ApJ...737..103S</td><td>None</td><td>None</td><td>None</td><td>None</td><td>None</td><td>None</td><td>None</td></tr>\n",
       "<tr><td>3</td><td>1156-62, G296.8-00.3, MWSNR 296.8-00.3</td><td>sne</td><td>None</td><td>-62.583333333333336</td><td>None</td><td>None</td><td>None</td><td>None</td><td>Milky Way</td><td>None</td><td>None</td><td>None</td><td>None</td><td>None</td><td>None</td><td>None</td><td>None</td><td>None</td><td>1156-62</td><td>None</td><td>179.62499999999997</td><td>None</td><td>None</td><td>2014BASI...42...47G</td><td>None</td><td>None</td><td>None</td><td>None</td><td>None</td><td>None</td><td>None</td></tr>\n",
       "<tr><td>4</td><td>13Z3-A</td><td>sne</td><td>None</td><td>-0.23947222222222223</td><td>None</td><td>None</td><td>None</td><td>0.0241</td><td>None</td><td>None</td><td>None</td><td>None</td><td>None</td><td>None</td><td>None</td><td>None</td><td>None</td><td>None</td><td>13Z3-A</td><td>None</td><td>205.87024999999997</td><td>None</td><td>None</td><td>2005A&amp;A...430...83C,2011ApJ...737..103S</td><td>None</td><td>None</td><td>None</td><td>None</td><td>None</td><td>None</td><td>None</td></tr>\n",
       "<tr><td>5</td><td>13Z3-C</td><td>sne</td><td>None</td><td>-0.30294444444444446</td><td>None</td><td>None</td><td>None</td><td>0.0228</td><td>None</td><td>None</td><td>None</td><td>None</td><td>None</td><td>None</td><td>None</td><td>None</td><td>None</td><td>None</td><td>13Z3-C</td><td>None</td><td>206.3599583333333</td><td>None</td><td>None</td><td>2005A&amp;A...430...83C,2011ApJ...737..103S</td><td>None</td><td>None</td><td>None</td><td>None</td><td>None</td><td>None</td><td>None</td></tr>\n",
       "<tr><td>6</td><td>13Z3-D</td><td>sne</td><td>None</td><td>0.11247222222222222</td><td>None</td><td>None</td><td>None</td><td>0.0232</td><td>None</td><td>None</td><td>None</td><td>None</td><td>None</td><td>None</td><td>None</td><td>None</td><td>None</td><td>None</td><td>13Z3-D</td><td>None</td><td>205.9267083333333</td><td>None</td><td>None</td><td>2005A&amp;A...430...83C,2011ApJ...737..103S</td><td>None</td><td>None</td><td>None</td><td>None</td><td>None</td><td>None</td><td>None</td></tr>\n",
       "<tr><td>7</td><td>13Z3-H</td><td>sne</td><td>None</td><td>0.13444444444444445</td><td>None</td><td>None</td><td>None</td><td>0.0238</td><td>None</td><td>None</td><td>None</td><td>None</td><td>None</td><td>None</td><td>None</td><td>None</td><td>None</td><td>None</td><td>13Z3-H</td><td>None</td><td>206.36229166666664</td><td>None</td><td>None</td><td>2005A&amp;A...430...83C,2011ApJ...737..103S</td><td>None</td><td>None</td><td>None</td><td>None</td><td>None</td><td>None</td><td>None</td></tr>\n",
       "<tr><td>8</td><td>13Z3-I</td><td>sne</td><td>None</td><td>-0.34875</td><td>None</td><td>None</td><td>None</td><td>0.022</td><td>None</td><td>None</td><td>None</td><td>None</td><td>None</td><td>None</td><td>None</td><td>None</td><td>None</td><td>None</td><td>13Z3-I</td><td>None</td><td>206.07704166666664</td><td>None</td><td>None</td><td>2005A&amp;A...430...83C,2011ApJ...737..103S</td><td>None</td><td>None</td><td>None</td><td>None</td><td>None</td><td>None</td><td>None</td></tr>\n",
       "<tr><td>9</td><td>13Z3-K</td><td>sne</td><td>None</td><td>0.06858333333333333</td><td>None</td><td>None</td><td>None</td><td>0.0219</td><td>None</td><td>None</td><td>None</td><td>None</td><td>None</td><td>None</td><td>None</td><td>None</td><td>None</td><td>None</td><td>13Z3-K</td><td>None</td><td>206.28124999999997</td><td>None</td><td>None</td><td>2005A&amp;A...430...83C,2011ApJ...737..103S</td><td>None</td><td>None</td><td>None</td><td>None</td><td>None</td><td>None</td><td>None</td></tr>\n",
       "<tr><td>...</td><td>...</td><td>...</td><td>...</td><td>...</td><td>...</td><td>...</td><td>...</td><td>...</td><td>...</td><td>...</td><td>...</td><td>...</td><td>...</td><td>...</td><td>...</td><td>...</td><td>...</td><td>...</td><td>...</td><td>...</td><td>...</td><td>...</td><td>...</td><td>...</td><td>...</td><td>...</td><td>...</td><td>...</td><td>...</td><td>...</td><td>...</td></tr>\n",
       "<tr><td>60318</td><td>test_27_20171001</td><td>sne</td><td>II</td><td>None</td><td>2017/08/31</td><td>None</td><td>None</td><td>None</td><td>None</td><td>None</td><td>None</td><td>None</td><td>None</td><td>None</td><td>33.4</td><td>None</td><td>None</td><td>None</td><td>test_27_20171001</td><td>None</td><td>None</td><td>None</td><td>0.0075</td><td>2016A&amp;A...594A..13P</td><td>None</td><td>1</td><td>2200</td><td>None</td><td>None</td><td>None</td><td>None</td></tr>\n",
       "<tr><td>60319</td><td>test_4_20171001</td><td>sne</td><td>II</td><td>None</td><td>2017/08/31</td><td>None</td><td>None</td><td>None</td><td>None</td><td>None</td><td>None</td><td>None</td><td>None</td><td>None</td><td>33.4</td><td>None</td><td>None</td><td>None</td><td>test_4_20171001</td><td>None</td><td>None</td><td>None</td><td>0.0075</td><td>2016A&amp;A...594A..13P</td><td>None</td><td>1</td><td>2200</td><td>None</td><td>None</td><td>None</td><td>None</td></tr>\n",
       "<tr><td>60320</td><td>test_555_20171002</td><td>sne</td><td>II</td><td>None</td><td>2017/08/31</td><td>None</td><td>None</td><td>None</td><td>None</td><td>None</td><td>None</td><td>None</td><td>None</td><td>None</td><td>33.4</td><td>None</td><td>None</td><td>None</td><td>test_555_20171002</td><td>None</td><td>None</td><td>None</td><td>0.0075</td><td>2016A&amp;A...594A..13P</td><td>None</td><td>1</td><td>2200</td><td>None</td><td>None</td><td>None</td><td>None</td></tr>\n",
       "<tr><td>60321</td><td>test_57_20171002</td><td>sne</td><td>II</td><td>None</td><td>2017/08/31</td><td>None</td><td>None</td><td>None</td><td>None</td><td>None</td><td>None</td><td>None</td><td>None</td><td>None</td><td>33.4</td><td>None</td><td>None</td><td>None</td><td>test_57_20171002</td><td>None</td><td>None</td><td>None</td><td>0.0075</td><td>2016A&amp;A...594A..13P</td><td>None</td><td>1</td><td>2200</td><td>None</td><td>None</td><td>None</td><td>None</td></tr>\n",
       "<tr><td>60322</td><td>test_5_20171001</td><td>sne</td><td>II</td><td>None</td><td>2017/08/31</td><td>None</td><td>None</td><td>None</td><td>None</td><td>None</td><td>None</td><td>None</td><td>None</td><td>None</td><td>33.4</td><td>None</td><td>None</td><td>None</td><td>test_5_20171001</td><td>None</td><td>None</td><td>None</td><td>0.0075</td><td>2016A&amp;A...594A..13P</td><td>None</td><td>1</td><td>2200</td><td>None</td><td>None</td><td>None</td><td>None</td></tr>\n",
       "<tr><td>60323</td><td>test_75_20171002</td><td>sne</td><td>II</td><td>None</td><td>2017/08/31</td><td>None</td><td>None</td><td>None</td><td>None</td><td>None</td><td>None</td><td>None</td><td>None</td><td>None</td><td>33.4</td><td>None</td><td>None</td><td>None</td><td>test_75_20171002</td><td>None</td><td>None</td><td>None</td><td>0.0075</td><td>2016A&amp;A...594A..13P</td><td>None</td><td>1</td><td>2200</td><td>None</td><td>None</td><td>None</td><td>None</td></tr>\n",
       "<tr><td>60324</td><td>test_777_20171002</td><td>sne</td><td>II</td><td>None</td><td>2017/08/31</td><td>None</td><td>None</td><td>None</td><td>None</td><td>None</td><td>None</td><td>None</td><td>None</td><td>None</td><td>33.4</td><td>None</td><td>None</td><td>None</td><td>test_777_20171002</td><td>None</td><td>None</td><td>None</td><td>0.0075</td><td>2016A&amp;A...594A..13P</td><td>None</td><td>1</td><td>2200</td><td>None</td><td>None</td><td>None</td><td>None</td></tr>\n",
       "<tr><td>60325</td><td>test_Sladjana1_20171002</td><td>sne</td><td>None</td><td>None</td><td>None</td><td>None</td><td>None</td><td>None</td><td>None</td><td>None</td><td>None</td><td>None</td><td>None</td><td>None</td><td>None</td><td>None</td><td>None</td><td>None</td><td>test_Sladjana1_20171002</td><td>None</td><td>None</td><td>None</td><td>None</td><td>None</td><td>None</td><td>None</td><td>None</td><td>None</td><td>None</td><td>None</td><td>None</td></tr>\n",
       "<tr><td>60326</td><td>test_Sladjana2_20171002</td><td>sne</td><td>None</td><td>None</td><td>None</td><td>None</td><td>None</td><td>None</td><td>None</td><td>None</td><td>None</td><td>None</td><td>None</td><td>None</td><td>None</td><td>None</td><td>None</td><td>None</td><td>test_Sladjana2_20171002</td><td>None</td><td>None</td><td>None</td><td>None</td><td>None</td><td>None</td><td>None</td><td>None</td><td>None</td><td>None</td><td>None</td><td>None</td></tr>\n",
       "<tr><td>60327</td><td>test_nikola_20171001</td><td>sne</td><td>II</td><td>None</td><td>2017/08/31</td><td>None</td><td>None</td><td>None</td><td>None</td><td>None</td><td>None</td><td>None</td><td>None</td><td>None</td><td>33.4</td><td>None</td><td>None</td><td>None</td><td>test_nikola_20171001</td><td>None</td><td>None</td><td>None</td><td>0.0075</td><td>2016A&amp;A...594A..13P</td><td>None</td><td>1</td><td>2200</td><td>None</td><td>None</td><td>None</td><td>None</td></tr>\n",
       "</table>"
      ],
      "text/plain": [
       "<Table length=60328>\n",
       "  ID                  alias                  ... redshift_kind velocity_kind\n",
       "int32                 object                 ...     object        object   \n",
       "----- -------------------------------------- ... ------------- -------------\n",
       "    0                                 10Z2-A ...          None          None\n",
       "    1                                 10Z2-B ...          None          None\n",
       "    2                                 10Z2-D ...          None          None\n",
       "    3 1156-62, G296.8-00.3, MWSNR 296.8-00.3 ...          None          None\n",
       "    4                                 13Z3-A ...          None          None\n",
       "    5                                 13Z3-C ...          None          None\n",
       "    6                                 13Z3-D ...          None          None\n",
       "    7                                 13Z3-H ...          None          None\n",
       "    8                                 13Z3-I ...          None          None\n",
       "    9                                 13Z3-K ...          None          None\n",
       "  ...                                    ... ...           ...           ...\n",
       "60318                       test_27_20171001 ...          None          None\n",
       "60319                        test_4_20171001 ...          None          None\n",
       "60320                      test_555_20171002 ...          None          None\n",
       "60321                       test_57_20171002 ...          None          None\n",
       "60322                        test_5_20171001 ...          None          None\n",
       "60323                       test_75_20171002 ...          None          None\n",
       "60324                      test_777_20171002 ...          None          None\n",
       "60325                test_Sladjana1_20171002 ...          None          None\n",
       "60326                test_Sladjana2_20171002 ...          None          None\n",
       "60327                   test_nikola_20171001 ...          None          None"
      ]
     },
     "execution_count": 22,
     "metadata": {},
     "output_type": "execute_result"
    }
   ],
   "source": [
    "catalog_table"
   ]
  },
  {
   "cell_type": "code",
   "execution_count": 23,
   "metadata": {},
   "outputs": [],
   "source": [
    "# data['psnj2241-2147']['redshift'][0]['kind']"
   ]
  },
  {
   "cell_type": "code",
   "execution_count": 24,
   "metadata": {},
   "outputs": [],
   "source": [
    "### Checking to see if any elements in the table are lists.\n",
    "# for col_name in catalog_table.colnames:\n",
    "#     for i in range(n):\n",
    "#         if isinstance(catalog_table[col_name][i], list):\n",
    "#             print(col_name, i, catalog_table[col_name][i])"
   ]
  },
  {
   "cell_type": "code",
   "execution_count": 25,
   "metadata": {},
   "outputs": [],
   "source": [
    "### Checking for encoding errors, reason being astropy is using ascii encoder, \n",
    "### while JSON was read in using utf8 which allows more characters than ascii.\n",
    "# for col_name in ['alias', 'discoverer', 'name']:\n",
    "#     for i in range(n):\n",
    "#         try:\n",
    "#             catalog_table[col_name][i].encode('ascii')\n",
    "#         except:\n",
    "#             if catalog_table[col_name][i] is not None:\n",
    "#                 print(i, col_name, catalog_table[col_name][i])"
   ]
  },
  {
   "cell_type": "code",
   "execution_count": 26,
   "metadata": {},
   "outputs": [],
   "source": [
    "catalog_table['discoverer'][36260] = 'K. Sarneczky et al.'\n",
    "catalog_table['discoverer'][51575] = 'Sarneczky, Kuli, K. Sarneczky et al.'\n",
    "catalog_table['discoverer'][51672] = 'Kuli, Sarneczky, Z. Kuli, K. Sa'\n",
    "catalog_table['discoverer'][51697] = 'Sarneczky, Kuli, K. Sarneczky et al.'\n",
    "catalog_table['discoverer'][52003] = 'Sarneczky, Vinko, Wheeler, K. Sarneczky et al.'\n",
    "catalog_table['discoverer'][53215] = 'iPTF, K. Sarneczky et al.'\n",
    "catalog_table['discoverer'][53471] = 'Mederic Boquien, Dalya Baron, Lluis Galbany, Dovi Poznanski'\n",
    "catalog_table['alias'][57699] = 'SSS120810:231802-560926, SSS120814:221352-124146'\n",
    "catalog_table['name'][57699] = 'SSS120810:231802-560926'"
   ]
  },
  {
   "cell_type": "code",
   "execution_count": 27,
   "metadata": {},
   "outputs": [
    {
     "data": {
      "text/html": [
       "<i>Table length=60328</i>\n",
       "<table id=\"table2536121137304\" class=\"table-striped table-bordered table-condensed\">\n",
       "<thead><tr><th>ID</th><th>alias</th><th>catalog</th><th>claimedtype</th><th>dec</th><th>discoverdate</th><th>discoverer</th><th>download</th><th>ebv</th><th>host</th><th>hostdec</th><th>hostoffsetang</th><th>hostoffsetdist</th><th>hostra</th><th>instruments</th><th>lumdist</th><th>maxabsmag</th><th>maxappmag</th><th>maxdate</th><th>name</th><th>photolink</th><th>ra</th><th>radiolink</th><th>redshift</th><th>references</th><th>sources</th><th>spectralink</th><th>velocity</th><th>xraylink</th><th>lumdist_kind</th><th>redshift_kind</th><th>velocity_kind</th></tr></thead>\n",
       "<thead><tr><th>int32</th><th>object</th><th>object</th><th>object</th><th>object</th><th>object</th><th>object</th><th>object</th><th>object</th><th>object</th><th>object</th><th>object</th><th>object</th><th>object</th><th>object</th><th>object</th><th>object</th><th>object</th><th>object</th><th>object</th><th>object</th><th>object</th><th>object</th><th>object</th><th>object</th><th>object</th><th>object</th><th>object</th><th>object</th><th>object</th><th>object</th><th>object</th></tr></thead>\n",
       "<tr><td>0</td><td>10Z2-A</td><td>sne</td><td>None</td><td>0.011027777777777779</td><td>None</td><td>None</td><td>None</td><td>0.0337</td><td>None</td><td>None</td><td>None</td><td>None</td><td>None</td><td>None</td><td>None</td><td>None</td><td>None</td><td>None</td><td>10Z2-A</td><td>None</td><td>161.77716666666666</td><td>None</td><td>None</td><td>2005A&amp;A...430...83C,2011ApJ...737..103S</td><td>None</td><td>None</td><td>None</td><td>None</td><td>None</td><td>None</td><td>None</td></tr>\n",
       "<tr><td>1</td><td>10Z2-B</td><td>sne</td><td>None</td><td>0.0077777777777777776</td><td>None</td><td>None</td><td>None</td><td>0.0383</td><td>None</td><td>None</td><td>None</td><td>None</td><td>None</td><td>None</td><td>None</td><td>None</td><td>None</td><td>None</td><td>10Z2-B</td><td>None</td><td>161.42816666666667</td><td>None</td><td>None</td><td>2005A&amp;A...430...83C,2011ApJ...737..103S</td><td>None</td><td>None</td><td>None</td><td>None</td><td>None</td><td>None</td><td>None</td></tr>\n",
       "<tr><td>2</td><td>10Z2-D</td><td>sne</td><td>None</td><td>-0.23130555555555557</td><td>None</td><td>None</td><td>None</td><td>0.0318</td><td>None</td><td>None</td><td>None</td><td>None</td><td>None</td><td>None</td><td>None</td><td>None</td><td>None</td><td>None</td><td>10Z2-D</td><td>None</td><td>161.92058333333333</td><td>None</td><td>None</td><td>2005A&amp;A...430...83C,2011ApJ...737..103S</td><td>None</td><td>None</td><td>None</td><td>None</td><td>None</td><td>None</td><td>None</td></tr>\n",
       "<tr><td>3</td><td>1156-62, G296.8-00.3, MWSNR 296.8-00.3</td><td>sne</td><td>None</td><td>-62.583333333333336</td><td>None</td><td>None</td><td>None</td><td>None</td><td>Milky Way</td><td>None</td><td>None</td><td>None</td><td>None</td><td>None</td><td>None</td><td>None</td><td>None</td><td>None</td><td>1156-62</td><td>None</td><td>179.62499999999997</td><td>None</td><td>None</td><td>2014BASI...42...47G</td><td>None</td><td>None</td><td>None</td><td>None</td><td>None</td><td>None</td><td>None</td></tr>\n",
       "<tr><td>4</td><td>13Z3-A</td><td>sne</td><td>None</td><td>-0.23947222222222223</td><td>None</td><td>None</td><td>None</td><td>0.0241</td><td>None</td><td>None</td><td>None</td><td>None</td><td>None</td><td>None</td><td>None</td><td>None</td><td>None</td><td>None</td><td>13Z3-A</td><td>None</td><td>205.87024999999997</td><td>None</td><td>None</td><td>2005A&amp;A...430...83C,2011ApJ...737..103S</td><td>None</td><td>None</td><td>None</td><td>None</td><td>None</td><td>None</td><td>None</td></tr>\n",
       "<tr><td>5</td><td>13Z3-C</td><td>sne</td><td>None</td><td>-0.30294444444444446</td><td>None</td><td>None</td><td>None</td><td>0.0228</td><td>None</td><td>None</td><td>None</td><td>None</td><td>None</td><td>None</td><td>None</td><td>None</td><td>None</td><td>None</td><td>13Z3-C</td><td>None</td><td>206.3599583333333</td><td>None</td><td>None</td><td>2005A&amp;A...430...83C,2011ApJ...737..103S</td><td>None</td><td>None</td><td>None</td><td>None</td><td>None</td><td>None</td><td>None</td></tr>\n",
       "<tr><td>6</td><td>13Z3-D</td><td>sne</td><td>None</td><td>0.11247222222222222</td><td>None</td><td>None</td><td>None</td><td>0.0232</td><td>None</td><td>None</td><td>None</td><td>None</td><td>None</td><td>None</td><td>None</td><td>None</td><td>None</td><td>None</td><td>13Z3-D</td><td>None</td><td>205.9267083333333</td><td>None</td><td>None</td><td>2005A&amp;A...430...83C,2011ApJ...737..103S</td><td>None</td><td>None</td><td>None</td><td>None</td><td>None</td><td>None</td><td>None</td></tr>\n",
       "<tr><td>7</td><td>13Z3-H</td><td>sne</td><td>None</td><td>0.13444444444444445</td><td>None</td><td>None</td><td>None</td><td>0.0238</td><td>None</td><td>None</td><td>None</td><td>None</td><td>None</td><td>None</td><td>None</td><td>None</td><td>None</td><td>None</td><td>13Z3-H</td><td>None</td><td>206.36229166666664</td><td>None</td><td>None</td><td>2005A&amp;A...430...83C,2011ApJ...737..103S</td><td>None</td><td>None</td><td>None</td><td>None</td><td>None</td><td>None</td><td>None</td></tr>\n",
       "<tr><td>8</td><td>13Z3-I</td><td>sne</td><td>None</td><td>-0.34875</td><td>None</td><td>None</td><td>None</td><td>0.022</td><td>None</td><td>None</td><td>None</td><td>None</td><td>None</td><td>None</td><td>None</td><td>None</td><td>None</td><td>None</td><td>13Z3-I</td><td>None</td><td>206.07704166666664</td><td>None</td><td>None</td><td>2005A&amp;A...430...83C,2011ApJ...737..103S</td><td>None</td><td>None</td><td>None</td><td>None</td><td>None</td><td>None</td><td>None</td></tr>\n",
       "<tr><td>9</td><td>13Z3-K</td><td>sne</td><td>None</td><td>0.06858333333333333</td><td>None</td><td>None</td><td>None</td><td>0.0219</td><td>None</td><td>None</td><td>None</td><td>None</td><td>None</td><td>None</td><td>None</td><td>None</td><td>None</td><td>None</td><td>13Z3-K</td><td>None</td><td>206.28124999999997</td><td>None</td><td>None</td><td>2005A&amp;A...430...83C,2011ApJ...737..103S</td><td>None</td><td>None</td><td>None</td><td>None</td><td>None</td><td>None</td><td>None</td></tr>\n",
       "<tr><td>...</td><td>...</td><td>...</td><td>...</td><td>...</td><td>...</td><td>...</td><td>...</td><td>...</td><td>...</td><td>...</td><td>...</td><td>...</td><td>...</td><td>...</td><td>...</td><td>...</td><td>...</td><td>...</td><td>...</td><td>...</td><td>...</td><td>...</td><td>...</td><td>...</td><td>...</td><td>...</td><td>...</td><td>...</td><td>...</td><td>...</td><td>...</td></tr>\n",
       "<tr><td>60318</td><td>test_27_20171001</td><td>sne</td><td>II</td><td>None</td><td>2017/08/31</td><td>None</td><td>None</td><td>None</td><td>None</td><td>None</td><td>None</td><td>None</td><td>None</td><td>None</td><td>33.4</td><td>None</td><td>None</td><td>None</td><td>test_27_20171001</td><td>None</td><td>None</td><td>None</td><td>0.0075</td><td>2016A&amp;A...594A..13P</td><td>None</td><td>1</td><td>2200</td><td>None</td><td>None</td><td>None</td><td>None</td></tr>\n",
       "<tr><td>60319</td><td>test_4_20171001</td><td>sne</td><td>II</td><td>None</td><td>2017/08/31</td><td>None</td><td>None</td><td>None</td><td>None</td><td>None</td><td>None</td><td>None</td><td>None</td><td>None</td><td>33.4</td><td>None</td><td>None</td><td>None</td><td>test_4_20171001</td><td>None</td><td>None</td><td>None</td><td>0.0075</td><td>2016A&amp;A...594A..13P</td><td>None</td><td>1</td><td>2200</td><td>None</td><td>None</td><td>None</td><td>None</td></tr>\n",
       "<tr><td>60320</td><td>test_555_20171002</td><td>sne</td><td>II</td><td>None</td><td>2017/08/31</td><td>None</td><td>None</td><td>None</td><td>None</td><td>None</td><td>None</td><td>None</td><td>None</td><td>None</td><td>33.4</td><td>None</td><td>None</td><td>None</td><td>test_555_20171002</td><td>None</td><td>None</td><td>None</td><td>0.0075</td><td>2016A&amp;A...594A..13P</td><td>None</td><td>1</td><td>2200</td><td>None</td><td>None</td><td>None</td><td>None</td></tr>\n",
       "<tr><td>60321</td><td>test_57_20171002</td><td>sne</td><td>II</td><td>None</td><td>2017/08/31</td><td>None</td><td>None</td><td>None</td><td>None</td><td>None</td><td>None</td><td>None</td><td>None</td><td>None</td><td>33.4</td><td>None</td><td>None</td><td>None</td><td>test_57_20171002</td><td>None</td><td>None</td><td>None</td><td>0.0075</td><td>2016A&amp;A...594A..13P</td><td>None</td><td>1</td><td>2200</td><td>None</td><td>None</td><td>None</td><td>None</td></tr>\n",
       "<tr><td>60322</td><td>test_5_20171001</td><td>sne</td><td>II</td><td>None</td><td>2017/08/31</td><td>None</td><td>None</td><td>None</td><td>None</td><td>None</td><td>None</td><td>None</td><td>None</td><td>None</td><td>33.4</td><td>None</td><td>None</td><td>None</td><td>test_5_20171001</td><td>None</td><td>None</td><td>None</td><td>0.0075</td><td>2016A&amp;A...594A..13P</td><td>None</td><td>1</td><td>2200</td><td>None</td><td>None</td><td>None</td><td>None</td></tr>\n",
       "<tr><td>60323</td><td>test_75_20171002</td><td>sne</td><td>II</td><td>None</td><td>2017/08/31</td><td>None</td><td>None</td><td>None</td><td>None</td><td>None</td><td>None</td><td>None</td><td>None</td><td>None</td><td>33.4</td><td>None</td><td>None</td><td>None</td><td>test_75_20171002</td><td>None</td><td>None</td><td>None</td><td>0.0075</td><td>2016A&amp;A...594A..13P</td><td>None</td><td>1</td><td>2200</td><td>None</td><td>None</td><td>None</td><td>None</td></tr>\n",
       "<tr><td>60324</td><td>test_777_20171002</td><td>sne</td><td>II</td><td>None</td><td>2017/08/31</td><td>None</td><td>None</td><td>None</td><td>None</td><td>None</td><td>None</td><td>None</td><td>None</td><td>None</td><td>33.4</td><td>None</td><td>None</td><td>None</td><td>test_777_20171002</td><td>None</td><td>None</td><td>None</td><td>0.0075</td><td>2016A&amp;A...594A..13P</td><td>None</td><td>1</td><td>2200</td><td>None</td><td>None</td><td>None</td><td>None</td></tr>\n",
       "<tr><td>60325</td><td>test_Sladjana1_20171002</td><td>sne</td><td>None</td><td>None</td><td>None</td><td>None</td><td>None</td><td>None</td><td>None</td><td>None</td><td>None</td><td>None</td><td>None</td><td>None</td><td>None</td><td>None</td><td>None</td><td>None</td><td>test_Sladjana1_20171002</td><td>None</td><td>None</td><td>None</td><td>None</td><td>None</td><td>None</td><td>None</td><td>None</td><td>None</td><td>None</td><td>None</td><td>None</td></tr>\n",
       "<tr><td>60326</td><td>test_Sladjana2_20171002</td><td>sne</td><td>None</td><td>None</td><td>None</td><td>None</td><td>None</td><td>None</td><td>None</td><td>None</td><td>None</td><td>None</td><td>None</td><td>None</td><td>None</td><td>None</td><td>None</td><td>None</td><td>test_Sladjana2_20171002</td><td>None</td><td>None</td><td>None</td><td>None</td><td>None</td><td>None</td><td>None</td><td>None</td><td>None</td><td>None</td><td>None</td><td>None</td></tr>\n",
       "<tr><td>60327</td><td>test_nikola_20171001</td><td>sne</td><td>II</td><td>None</td><td>2017/08/31</td><td>None</td><td>None</td><td>None</td><td>None</td><td>None</td><td>None</td><td>None</td><td>None</td><td>None</td><td>33.4</td><td>None</td><td>None</td><td>None</td><td>test_nikola_20171001</td><td>None</td><td>None</td><td>None</td><td>0.0075</td><td>2016A&amp;A...594A..13P</td><td>None</td><td>1</td><td>2200</td><td>None</td><td>None</td><td>None</td><td>None</td></tr>\n",
       "</table>"
      ],
      "text/plain": [
       "<Table length=60328>\n",
       "  ID                  alias                  ... redshift_kind velocity_kind\n",
       "int32                 object                 ...     object        object   \n",
       "----- -------------------------------------- ... ------------- -------------\n",
       "    0                                 10Z2-A ...          None          None\n",
       "    1                                 10Z2-B ...          None          None\n",
       "    2                                 10Z2-D ...          None          None\n",
       "    3 1156-62, G296.8-00.3, MWSNR 296.8-00.3 ...          None          None\n",
       "    4                                 13Z3-A ...          None          None\n",
       "    5                                 13Z3-C ...          None          None\n",
       "    6                                 13Z3-D ...          None          None\n",
       "    7                                 13Z3-H ...          None          None\n",
       "    8                                 13Z3-I ...          None          None\n",
       "    9                                 13Z3-K ...          None          None\n",
       "  ...                                    ... ...           ...           ...\n",
       "60318                       test_27_20171001 ...          None          None\n",
       "60319                        test_4_20171001 ...          None          None\n",
       "60320                      test_555_20171002 ...          None          None\n",
       "60321                       test_57_20171002 ...          None          None\n",
       "60322                        test_5_20171001 ...          None          None\n",
       "60323                       test_75_20171002 ...          None          None\n",
       "60324                      test_777_20171002 ...          None          None\n",
       "60325                test_Sladjana1_20171002 ...          None          None\n",
       "60326                test_Sladjana2_20171002 ...          None          None\n",
       "60327                   test_nikola_20171001 ...          None          None"
      ]
     },
     "execution_count": 27,
     "metadata": {},
     "output_type": "execute_result"
    }
   ],
   "source": [
    "catalog_table"
   ]
  },
  {
   "cell_type": "code",
   "execution_count": 28,
   "metadata": {},
   "outputs": [],
   "source": [
    "catalog_table.write('catalog_masterTable.txt', format='ascii.commented_header', overwrite=True)"
   ]
  },
  {
   "cell_type": "code",
   "execution_count": null,
   "metadata": {},
   "outputs": [],
   "source": []
  }
 ],
 "metadata": {
  "kernelspec": {
   "display_name": "Python 3",
   "language": "python",
   "name": "python3"
  },
  "language_info": {
   "codemirror_mode": {
    "name": "ipython",
    "version": 3
   },
   "file_extension": ".py",
   "mimetype": "text/x-python",
   "name": "python",
   "nbconvert_exporter": "python",
   "pygments_lexer": "ipython3",
   "version": "3.7.1"
  }
 },
 "nbformat": 4,
 "nbformat_minor": 2
}
