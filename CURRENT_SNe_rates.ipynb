{
 "cells": [
  {
   "cell_type": "markdown",
   "metadata": {},
   "source": [
    "# Defining the Rates of Supernova Depending on the Environment\n",
    "\n",
    "This code reads in a \"master table' of data from the Open Supernova Catalog [sne.space](https://sne.space/). We make cuts on ra, dec, and redshift to send to classifyenvironments.py from VoidFinder. From there, host galaxy ra and dec are used to make further cuts to be sent to the SDSS Host Survey. The remaining SNe receive their host's Petrosian r-band apparent magnitude that is converted to absolute magnitude. We make the final cut, keeping SNe that are either classified as void or wall and have an absolute magnitude. Rates are determined by comparing number of SNe to number of galaxies in the DR7 footprint."
   ]
  },
  {
   "cell_type": "code",
   "execution_count": 375,
   "metadata": {},
   "outputs": [],
   "source": [
    "from astropy.io import ascii\n",
    "from astropy.coordinates import SkyCoord\n",
    "from astropy.table import Table, Column, MaskedColumn\n",
    "from astropy.table import QTable\n",
    "import astropy.units as u\n",
    "import astropy.coordinates as coord\n",
    "from astropy.constants import c as c\n",
    "\n",
    "import json\n",
    "\n",
    "import os\n",
    "from glob import glob\n",
    "\n",
    "import numpy as np\n",
    "import matplotlib as mpl\n",
    "import matplotlib.pyplot as plt\n",
    "\n",
    "from scipy import stats\n",
    "from scipy.stats import ks_2samp"
   ]
  },
  {
   "cell_type": "markdown",
   "metadata": {},
   "source": [
    "### \"Master table\" is read in. \n",
    "\n",
    "Note that this is not all of the SNe in the catalog. We made a cut in Bluehive on 'claimedtype' that were 'Ia', 'Comet', 'LGRB', and 'removed'."
   ]
  },
  {
   "cell_type": "code",
   "execution_count": 2,
   "metadata": {},
   "outputs": [],
   "source": [
    "master_table = Table.read('C:/Users/kaeka/Documents/Python/catalog_table_cut1.txt', format = 'ascii.commented_header')"
   ]
  },
  {
   "cell_type": "code",
   "execution_count": 3,
   "metadata": {},
   "outputs": [],
   "source": [
    "master_table = master_table['ID', 'claimedtype', 'ra', 'dec', 'redshift', 'redshift_kind', 'host', 'hostra', 'hostdec']"
   ]
  },
  {
   "cell_type": "code",
   "execution_count": 46,
   "metadata": {},
   "outputs": [],
   "source": [
    "# Table length = 48010\n",
    "# master_table"
   ]
  },
  {
   "cell_type": "code",
   "execution_count": 5,
   "metadata": {},
   "outputs": [],
   "source": [
    "master_table['claimedtype'].fill_value = '-999'\n",
    "master_table['redshift_kind'].fill_value = '-999'\n",
    "master_table['host'].fill_value = '-999'\n",
    "master_table['ra'].fill_value = -999.\n",
    "master_table['dec'].fill_value = -999.\n",
    "master_table['redshift'].fill_value = -999.\n",
    "master_table['hostra'].fill_value = -999.\n",
    "master_table['hostdec'].fill_value = -999."
   ]
  },
  {
   "cell_type": "code",
   "execution_count": 6,
   "metadata": {},
   "outputs": [],
   "source": [
    "master_table = master_table.filled()"
   ]
  },
  {
   "cell_type": "markdown",
   "metadata": {},
   "source": [
    "## ClassifyEnvironments.py cuts\n",
    "(1) Any SNe that does not have a 'claimedtype'\n",
    "(2) Any SNe that does not have 'ra' or 'dec'\n",
    "(3) Any SNe that does not have a 'redshift'\n",
    "(4) Any SNe that has a redshift of 0."
   ]
  },
  {
   "cell_type": "code",
   "execution_count": 7,
   "metadata": {},
   "outputs": [],
   "source": [
    "vflag_cut1 = master_table['claimedtype'] != '-999'\n",
    "master_table_cut = master_table[vflag_cut1]\n",
    "\n",
    "vflag_cut2 = master_table_cut['ra'] != -999.\n",
    "master_table_cut = master_table_cut[vflag_cut2]\n",
    "\n",
    "vflag_cut3 = master_table_cut['redshift'] != -999.\n",
    "master_table_cut = master_table_cut[vflag_cut3]\n",
    "\n",
    "vflag_cut4 = master_table_cut['redshift'] != 0.\n",
    "master_table_cut = master_table_cut[vflag_cut4]"
   ]
  },
  {
   "cell_type": "code",
   "execution_count": 47,
   "metadata": {},
   "outputs": [],
   "source": [
    "# Table length = 8515\n",
    "# master_table_cut"
   ]
  },
  {
   "cell_type": "code",
   "execution_count": 9,
   "metadata": {},
   "outputs": [],
   "source": [
    "input_vflagTable = master_table_cut['ID', 'ra', 'dec', 'redshift']"
   ]
  },
  {
   "cell_type": "code",
   "execution_count": 10,
   "metadata": {},
   "outputs": [],
   "source": [
    "# input_vflagTable.write('input_vflagTable.txt', format= 'ascii.commented_header', overwrite=True)"
   ]
  },
  {
   "cell_type": "markdown",
   "metadata": {},
   "source": [
    "### Read in v_flag table from ClassifyEnvironments.py"
   ]
  },
  {
   "cell_type": "code",
   "execution_count": 11,
   "metadata": {},
   "outputs": [],
   "source": [
    "vflag_table = Table.read('C:/Users/kaeka/Documents/Python/jupyter_notebook/input_vflagTable_vflag.txt', format= 'ascii.commented_header')"
   ]
  },
  {
   "cell_type": "code",
   "execution_count": 48,
   "metadata": {},
   "outputs": [],
   "source": [
    "# Table length = 8515\n",
    "# vflag_table"
   ]
  },
  {
   "cell_type": "code",
   "execution_count": 13,
   "metadata": {},
   "outputs": [],
   "source": [
    "# Append vflag to \"Master Table\"\n",
    "\n",
    "master_table_cut['vflag'] = -999\n",
    "\n",
    "for i in range(len(vflag_table)):\n",
    "    SN_ID = vflag_table['ID'][i]\n",
    "    idx_bool = master_table_cut['ID'] == SN_ID\n",
    "    master_table_cut['vflag'][idx_bool] = vflag_table['vflag'][i]"
   ]
  },
  {
   "cell_type": "code",
   "execution_count": 50,
   "metadata": {},
   "outputs": [],
   "source": [
    "# Table length = 8515\n",
    "# master_table_cut"
   ]
  },
  {
   "cell_type": "markdown",
   "metadata": {},
   "source": [
    "## SDSS Host Survey cut\n",
    "\n",
    "(1) Any SNe that does not have 'hostra' and 'hostdec'."
   ]
  },
  {
   "cell_type": "code",
   "execution_count": 15,
   "metadata": {},
   "outputs": [],
   "source": [
    "SQL_cut1 = master_table_cut['hostra'] != -999.\n",
    "master_table_cut = master_table_cut[SQL_cut1]"
   ]
  },
  {
   "cell_type": "code",
   "execution_count": 51,
   "metadata": {},
   "outputs": [],
   "source": [
    "# Table length = 4757\n",
    "# master_table_cut"
   ]
  },
  {
   "cell_type": "code",
   "execution_count": 17,
   "metadata": {},
   "outputs": [],
   "source": [
    "input_sqlTable = master_table_cut['ID', 'hostra', 'hostdec']"
   ]
  },
  {
   "cell_type": "code",
   "execution_count": 18,
   "metadata": {},
   "outputs": [],
   "source": [
    "# input_sqlTable.write('input_sqlTable.txt', format='ascii.commented_header', overwrite=True)"
   ]
  },
  {
   "cell_type": "markdown",
   "metadata": {},
   "source": [
    "### Read in r_mag table from SDSS search"
   ]
  },
  {
   "cell_type": "code",
   "execution_count": 19,
   "metadata": {},
   "outputs": [],
   "source": [
    "rmag_table = Table.read('C:/Users/kaeka/Documents/Python/jupyter_notebook/SQL_Table_rmag.csv', format= 'ascii.csv')"
   ]
  },
  {
   "cell_type": "code",
   "execution_count": 52,
   "metadata": {},
   "outputs": [],
   "source": [
    "# Table length = 3465\n",
    "# rmag_table"
   ]
  },
  {
   "cell_type": "code",
   "execution_count": 21,
   "metadata": {},
   "outputs": [],
   "source": [
    "master_table_cut['rmag'] = -999.\n",
    "\n",
    "for i in range(len(rmag_table)):\n",
    "    gal_ID = rmag_table['ID'][i]\n",
    "    idx_bool = master_table_cut['ID'] == gal_ID\n",
    "    master_table_cut['rmag'][idx_bool] = rmag_table['petroMag_r'][i]"
   ]
  },
  {
   "cell_type": "code",
   "execution_count": 22,
   "metadata": {},
   "outputs": [],
   "source": [
    "# Append vflag and rmag to \"Master Table\"\n",
    "\n",
    "master_table['vflag'] = -999\n",
    "master_table['rmag'] = -999.\n",
    "\n",
    "for i in range(len(master_table_cut)):\n",
    "    SN_ID = master_table_cut['ID'][i]\n",
    "    idx_bool = master_table['ID'] == SN_ID\n",
    "    master_table['vflag'][idx_bool] = master_table_cut['vflag'][i]\n",
    "\n",
    "for i in range(len(master_table_cut)):\n",
    "    gal_ID = master_table_cut['ID'][i]\n",
    "    idx_bool = master_table['ID'] == gal_ID\n",
    "    master_table['rmag'][idx_bool] = master_table_cut['rmag'][i]"
   ]
  },
  {
   "cell_type": "code",
   "execution_count": 23,
   "metadata": {},
   "outputs": [],
   "source": [
    "# master_table"
   ]
  },
  {
   "cell_type": "markdown",
   "metadata": {},
   "source": [
    "## Function for Absolute Magnitude calculation.\n",
    "### Note: This still needs to be K-corrected."
   ]
  },
  {
   "cell_type": "code",
   "execution_count": 24,
   "metadata": {},
   "outputs": [],
   "source": [
    "# Calculating absolute magnitude.\n",
    "def abs_mag(m, z, K=0, h=1.):\n",
    "    \"\"\"Convert apparent magnitude to absolute magnitude using the distance modulus\n",
    "    \n",
    "    M - m = 5 log10(d / 10 pc), where d = cz/H0 (assuming z < 0.1)\n",
    "    \n",
    "    Parameters\n",
    "    ----------\n",
    "    m : float\n",
    "        Apparent magnitude; assume r-band.\n",
    "    z : float\n",
    "        Redshift.\n",
    "    K : float\n",
    "        K-correction.\n",
    "    h : float\n",
    "        Dimensionless scaling parameter for Hubble's constant H0.\n",
    "        \n",
    "    Returns\n",
    "    -------\n",
    "    M : float\n",
    "        Absolute magnitude (assume r-band).\n",
    "    \"\"\"\n",
    "    H0 = 100 * u.km/u.s/u.Mpc * h\n",
    "    d = ((c * z) / H0)\n",
    "    M = m - 5*np.log10(d / (10*u.pc)) - K\n",
    "    \n",
    "    return M"
   ]
  },
  {
   "cell_type": "code",
   "execution_count": 25,
   "metadata": {},
   "outputs": [
    {
     "name": "stderr",
     "output_type": "stream",
     "text": [
      "C:\\Users\\kaeka\\Anaconda3\\lib\\site-packages\\astropy\\units\\quantity.py:461: RuntimeWarning: divide by zero encountered in log10\n",
      "  result = super().__array_ufunc__(function, method, *arrays, **kwargs)\n",
      "C:\\Users\\kaeka\\Anaconda3\\lib\\site-packages\\astropy\\units\\quantity.py:461: RuntimeWarning: invalid value encountered in log10\n",
      "  result = super().__array_ufunc__(function, method, *arrays, **kwargs)\n"
     ]
    }
   ],
   "source": [
    "master_table['abs_mag'] = abs_mag(master_table['rmag'], master_table['redshift'])\n",
    "\n",
    "for i in range(len(master_table)):\n",
    "    no_rmag = master_table['rmag'] == -999.\n",
    "    master_table['abs_mag'][no_rmag] = -999."
   ]
  },
  {
   "cell_type": "markdown",
   "metadata": {},
   "source": [
    "### Check to see if SDSS Host Search missed any hosts.\n",
    "This is checking all void or wall SNe that have host ra and dec and don't have an rmag."
   ]
  },
  {
   "cell_type": "code",
   "execution_count": 26,
   "metadata": {},
   "outputs": [],
   "source": [
    "r_cut2 = master_table['vflag'] != 9\n",
    "rmag_master_table = master_table[r_cut2]\n",
    "\n",
    "r_cut3 = rmag_master_table['vflag'] != 2\n",
    "rmag_master_table = rmag_master_table[r_cut3]\n",
    "\n",
    "r_cut4 = rmag_master_table['vflag'] != -999\n",
    "rmag_master_table = rmag_master_table[r_cut4]"
   ]
  },
  {
   "cell_type": "code",
   "execution_count": 27,
   "metadata": {},
   "outputs": [],
   "source": [
    "check_SDSS = rmag_master_table[rmag_master_table['rmag'] == -999.]"
   ]
  },
  {
   "cell_type": "markdown",
   "metadata": {},
   "source": [
    "16 entries that have been manually looked up in SDSS DR15 database."
   ]
  },
  {
   "cell_type": "code",
   "execution_count": 53,
   "metadata": {},
   "outputs": [],
   "source": [
    "# check_SDSS.show_in_notebook()"
   ]
  },
  {
   "cell_type": "code",
   "execution_count": 29,
   "metadata": {},
   "outputs": [],
   "source": [
    "check_SDSS[0]['rmag'] = 10.62796\n",
    "check_SDSS[3]['rmag'] = 14.67315\n",
    "check_SDSS[5]['rmag'] = 11.77488\n",
    "check_SDSS[6]['rmag'] = 14.67315\n",
    "check_SDSS[7]['rmag'] = 10.40886\n",
    "check_SDSS[8]['rmag'] = 11.77488\n",
    "check_SDSS[10]['rmag'] = 14.67315\n",
    "check_SDSS[13]['rmag'] = 14.67315\n",
    "check_SDSS[14]['rmag'] = 20.14939"
   ]
  },
  {
   "cell_type": "code",
   "execution_count": 54,
   "metadata": {},
   "outputs": [],
   "source": [
    "# Table length = 16\n",
    "# check_SDSS"
   ]
  },
  {
   "cell_type": "code",
   "execution_count": 31,
   "metadata": {},
   "outputs": [],
   "source": [
    "# Append check_SDSS to master_table\n",
    "\n",
    "for i in range(len(check_SDSS)):\n",
    "    SN_ID = check_SDSS['ID'][i]\n",
    "    idx_bool = master_table['ID'] == SN_ID\n",
    "    master_table['rmag'][idx_bool] = check_SDSS['rmag'][i]"
   ]
  },
  {
   "cell_type": "code",
   "execution_count": 32,
   "metadata": {},
   "outputs": [],
   "source": [
    "# Run abs_mag function again to fill the 16 SNe missed.\n",
    "master_table['abs_mag'] = abs_mag(master_table['rmag'], master_table['redshift'])"
   ]
  },
  {
   "cell_type": "code",
   "execution_count": 34,
   "metadata": {},
   "outputs": [],
   "source": [
    "# master_table.write('COMPLETE_catalog_table_cut1.txt', format='ascii.commented_header', overwrite=True)"
   ]
  },
  {
   "cell_type": "markdown",
   "metadata": {},
   "source": [
    "## Cuts to master table\n",
    "(1) cut1 = any host galaxy without rmag value, meaning no host ra or host dec, (2) cut2 = any SN outside of DR7 footprint, (3) cut3 = any SN on edge of DR7 footprint, (4) cut4 = all SN that did not have an ra, dec, and redshift to put into classifyenvironments.py"
   ]
  },
  {
   "cell_type": "code",
   "execution_count": 35,
   "metadata": {},
   "outputs": [],
   "source": [
    "f_cut1 = master_table['rmag'] != -999.\n",
    "fcut_master_table = master_table[f_cut1]\n",
    "\n",
    "f_cut2 = fcut_master_table['vflag'] != 9\n",
    "fcut_master_table = fcut_master_table[f_cut2]\n",
    "\n",
    "f_cut3 = fcut_master_table['vflag'] != 2\n",
    "fcut_master_table = fcut_master_table[f_cut3]\n",
    "\n",
    "f_cut4 = fcut_master_table['vflag'] != -999\n",
    "fcut_master_table = fcut_master_table[f_cut4]"
   ]
  },
  {
   "cell_type": "code",
   "execution_count": 55,
   "metadata": {},
   "outputs": [],
   "source": [
    "# Table length = 672\n",
    "# fcut_master_table"
   ]
  },
  {
   "cell_type": "markdown",
   "metadata": {},
   "source": [
    "### looking at 'claimedtype,' there are Ia types listed. This is the first check for Ia to remove it."
   ]
  },
  {
   "cell_type": "code",
   "execution_count": 37,
   "metadata": {},
   "outputs": [],
   "source": [
    "Ia_rows, keep_rows, del_rows = [], [], []\n",
    "for i in range(len(fcut_master_table)):\n",
    "    Ia_check = fcut_master_table['claimedtype'][i]\n",
    "    if 'Ia' in Ia_check:\n",
    "        Ia_rows.append(i)\n",
    "        split = Ia_check.split(', ')\n",
    "        for j in range(len(split)):\n",
    "            if 'Ia' not in split[j]:\n",
    "                keep_rows.append(i)\n",
    "\n",
    "for i in range(len(keep_rows)):\n",
    "    keep_num = keep_rows[i]\n",
    "    if keep_num in Ia_rows:\n",
    "        Ia_rows.remove(keep_num)\n",
    "                \n",
    "                \n",
    "            \n",
    "fcut_master_table.remove_rows(Ia_rows)"
   ]
  },
  {
   "cell_type": "code",
   "execution_count": 56,
   "metadata": {
    "scrolled": false
   },
   "outputs": [],
   "source": [
    "# Table length = 575\n",
    "# fcut_master_table"
   ]
  },
  {
   "cell_type": "code",
   "execution_count": 39,
   "metadata": {},
   "outputs": [],
   "source": [
    "# fcut_master_table.show_in_notebook()"
   ]
  },
  {
   "cell_type": "markdown",
   "metadata": {},
   "source": [
    "### Second check for Ia"
   ]
  },
  {
   "cell_type": "code",
   "execution_count": 58,
   "metadata": {},
   "outputs": [
    {
     "name": "stdout",
     "output_type": "stream",
     "text": [
      "139 Ia, Ic, Ib/c\n",
      "148 Ic, Ia\n",
      "159 Ia-02cx, Ia, II\n",
      "169 II, Ia\n",
      "215 Ic, Ia\n",
      "228 Ic, Ia\n",
      "392 II, Ia, IIb\n",
      "405 Ia, Ic\n",
      "448 Ia, II\n",
      "477 Ia, IIb\n"
     ]
    }
   ],
   "source": [
    "for i in range(len(fcut_master_table)):\n",
    "    Ia_check2 = fcut_master_table['claimedtype'][i]\n",
    "    if 'Ia' in Ia_check2:\n",
    "        print(i, Ia_check2)"
   ]
  },
  {
   "cell_type": "code",
   "execution_count": 41,
   "metadata": {},
   "outputs": [],
   "source": [
    "fcut_master_table.remove_rows([81, 83, 94, 99, 106, 114, 119, 131, 192])"
   ]
  },
  {
   "cell_type": "markdown",
   "metadata": {},
   "source": [
    "### Last check for Ia"
   ]
  },
  {
   "cell_type": "code",
   "execution_count": 59,
   "metadata": {},
   "outputs": [
    {
     "name": "stdout",
     "output_type": "stream",
     "text": [
      "139 Ia, Ic, Ib/c\n",
      "148 Ic, Ia\n",
      "159 Ia-02cx, Ia, II\n",
      "169 II, Ia\n",
      "215 Ic, Ia\n",
      "228 Ic, Ia\n",
      "392 II, Ia, IIb\n",
      "405 Ia, Ic\n",
      "448 Ia, II\n",
      "477 Ia, IIb\n"
     ]
    }
   ],
   "source": [
    "for i in range(len(fcut_master_table)):\n",
    "    Ia_check3 = fcut_master_table['claimedtype'][i]\n",
    "    if 'Ia' in Ia_check3:\n",
    "        print(i, Ia_check3)"
   ]
  },
  {
   "cell_type": "code",
   "execution_count": 61,
   "metadata": {},
   "outputs": [
    {
     "data": {
      "text/html": [
       "<i>Table length=566</i>\n",
       "<table id=\"table2617515826032\" class=\"table-striped table-bordered table-condensed\">\n",
       "<thead><tr><th>ID</th><th>claimedtype</th><th>ra</th><th>dec</th><th>redshift</th><th>redshift_kind</th><th>host</th><th>hostra</th><th>hostdec</th><th>vflag</th><th>rmag</th><th>abs_mag</th></tr></thead>\n",
       "<thead><tr><th></th><th></th><th></th><th></th><th></th><th></th><th></th><th></th><th></th><th></th><th></th><th></th></tr></thead>\n",
       "<thead><tr><th>int32</th><th>str49</th><th>float64</th><th>float64</th><th>float64</th><th>str27</th><th>str99</th><th>float64</th><th>float64</th><th>int32</th><th>float64</th><th>float64</th></tr></thead>\n",
       "<tr><td>37</td><td>II</td><td>193.24249999999998</td><td>32.41925</td><td>0.022805</td><td>-999</td><td>SDSS J125258.03+322444.3</td><td>193.24179166666664</td><td>32.412305555555555</td><td>0</td><td>16.00054</td><td>-18.173713897524422</td></tr>\n",
       "<tr><td>50</td><td>II</td><td>169.67095833333332</td><td>25.166633333333333</td><td>0.0254</td><td>-999</td><td>SDSS J111840.97+250958.5</td><td>169.67070833333332</td><td>25.166249999999998</td><td>0</td><td>17.81347</td><td>-16.59480209773933</td></tr>\n",
       "<tr><td>111</td><td>Ib, Ibn</td><td>196.0362083333333</td><td>52.312916666666666</td><td>0.065</td><td>-999</td><td>SDSS J130408.52+521846.4</td><td>196.03549999999998</td><td>52.312888888888885</td><td>1</td><td>20.80107</td><td>-15.647600297853916</td></tr>\n",
       "<tr><td>174</td><td>IIn</td><td>165.51979166666663</td><td>3.500738888888889</td><td>0.0348</td><td>-999</td><td>SDSS J110204.81+033003.1</td><td>165.52004166666666</td><td>3.500861111111111</td><td>0</td><td>17.99434</td><td>-17.09765973437254</td></tr>\n",
       "<tr><td>210</td><td>Ib</td><td>210.5651666666666</td><td>33.66119166666667</td><td>0.034371</td><td>-999</td><td>PGC 2036567, 2MASX J14021617+3339415, 2MASX J14021617+3339</td><td>210.56737499999997</td><td>33.66152777777778</td><td>0</td><td>15.92106</td><td>-19.14400435370285</td></tr>\n",
       "<tr><td>212</td><td>II</td><td>231.34791666666663</td><td>29.173472222222223</td><td>0.021466</td><td>-999</td><td>SDSS J152523.40+291018.8</td><td>231.34749999999997</td><td>29.17188888888889</td><td>1</td><td>15.69168</td><td>-18.35117913976186</td></tr>\n",
       "<tr><td>220</td><td>Ic</td><td>234.60541666666663</td><td>46.90183333333333</td><td>0.043</td><td>-999</td><td>SDSS J153825.20+465404.1</td><td>234.60499999999996</td><td>46.90113888888889</td><td>1</td><td>18.36746</td><td>-17.18398579253757</td></tr>\n",
       "<tr><td>250</td><td>IIn</td><td>152.0343333333333</td><td>19.29982777777778</td><td>0.033574</td><td>-999</td><td>SDSS J100807.76+191758.2</td><td>152.0323333333333</td><td>19.299500000000002</td><td>1</td><td>16.64836</td><td>-18.365758945103703</td></tr>\n",
       "<tr><td>274</td><td>IIn</td><td>203.72697083333333</td><td>10.98463611111111</td><td>0.061</td><td>-999</td><td>GALEXASC J133454.49+105906.7</td><td>203.72704166666665</td><td>10.985194444444444</td><td>1</td><td>19.53175</td><td>-16.779002689693474</td></tr>\n",
       "<tr><td>...</td><td>...</td><td>...</td><td>...</td><td>...</td><td>...</td><td>...</td><td>...</td><td>...</td><td>...</td><td>...</td><td>...</td></tr>\n",
       "<tr><td>55184</td><td>II</td><td>135.50166666666667</td><td>12.356291666666666</td><td>0.066877</td><td>-999</td><td>SDSS J090159.96+122119.8</td><td>135.49983333333333</td><td>12.3555</td><td>0</td><td>17.43412</td><td>-19.076367430045934</td></tr>\n",
       "<tr><td>55282</td><td>Ic BL</td><td>138.5993333333333</td><td>49.59247222222223</td><td>0.031</td><td>spectroscopic</td><td>SDSS J091423.85+493533.4</td><td>138.59937499999995</td><td>49.59261111111111</td><td>0</td><td>19.71698</td><td>-15.123931983811005</td></tr>\n",
       "<tr><td>55297</td><td>Ic</td><td>155.40853749999997</td><td>8.931422222222222</td><td>0.0848</td><td>spectroscopic</td><td>SDSS J102137.73+085554.2</td><td>155.4072083333333</td><td>8.931722222222222</td><td>1</td><td>17.85967</td><td>-19.166412775923206</td></tr>\n",
       "<tr><td>55317</td><td>II</td><td>171.67722916666665</td><td>20.726930555555555</td><td>0.02094</td><td>spectroscopic</td><td>SDSS J112642.32+204336.7</td><td>171.67633333333333</td><td>20.72686111111111</td><td>0</td><td>19.97798</td><td>-14.011006901353756</td></tr>\n",
       "<tr><td>55361</td><td>IIb</td><td>149.82582916666664</td><td>34.895491666666665</td><td>0.038517</td><td>-999</td><td>2MASX J09591813+3453533</td><td>149.82554166666665</td><td>34.89813888888889</td><td>1</td><td>16.25335</td><td>-19.059015782527293</td></tr>\n",
       "<tr><td>55449</td><td>II</td><td>167.76665</td><td>64.24737777777779</td><td>0.035322</td><td>-999</td><td>SDSS J111103.62+641445.8</td><td>167.76508333333334</td><td>64.24605555555556</td><td>1</td><td>16.50294</td><td>-18.621389945618706</td></tr>\n",
       "<tr><td>55588</td><td>II</td><td>124.78287499999998</td><td>44.94555555555555</td><td>0.06</td><td>spectroscopic</td><td>SDSS J081907.87+445648.2</td><td>124.78279166666665</td><td>44.94672222222222</td><td>1</td><td>17.98508</td><td>-18.289779766557853</td></tr>\n",
       "<tr><td>55589</td><td>II P</td><td>119.04708333333332</td><td>45.526777777777774</td><td>0.048</td><td>spectroscopic</td><td>SDSS J075611.44+453138.3</td><td>119.04766666666666</td><td>45.52730555555556</td><td>0</td><td>18.96891</td><td>-16.82139970151757</td></tr>\n",
       "<tr><td>56169</td><td>II, CC</td><td>180.65099999999998</td><td>4.549888888888889</td><td>0.018848</td><td>host</td><td>SDSS J120236.32+043259.7, SDSS J120236.33+043259.8</td><td>180.65133333333333</td><td>4.549916666666666</td><td>1</td><td>17.28776</td><td>-16.472669880174678</td></tr>\n",
       "<tr><td>57787</td><td>Ib</td><td>210.5651666666666</td><td>33.66119166666667</td><td>0.034371</td><td>-999</td><td>PGC 2036567, 2MASX J14021617+3339415, 2MASX J14021617+3339</td><td>210.56737499999997</td><td>33.66152777777778</td><td>0</td><td>15.92106</td><td>-19.14400435370285</td></tr>\n",
       "</table>"
      ],
      "text/plain": [
       "<Table length=566>\n",
       "  ID  claimedtype         ra         ... vflag   rmag         abs_mag      \n",
       "                                     ...                                   \n",
       "int32    str49         float64       ... int32 float64        float64      \n",
       "----- ----------- ------------------ ... ----- -------- -------------------\n",
       "   37          II 193.24249999999998 ...     0 16.00054 -18.173713897524422\n",
       "   50          II 169.67095833333332 ...     0 17.81347  -16.59480209773933\n",
       "  111     Ib, Ibn  196.0362083333333 ...     1 20.80107 -15.647600297853916\n",
       "  174         IIn 165.51979166666663 ...     0 17.99434  -17.09765973437254\n",
       "  210          Ib  210.5651666666666 ...     0 15.92106  -19.14400435370285\n",
       "  212          II 231.34791666666663 ...     1 15.69168  -18.35117913976186\n",
       "  220          Ic 234.60541666666663 ...     1 18.36746  -17.18398579253757\n",
       "  250         IIn  152.0343333333333 ...     1 16.64836 -18.365758945103703\n",
       "  274         IIn 203.72697083333333 ...     1 19.53175 -16.779002689693474\n",
       "  ...         ...                ... ...   ...      ...                 ...\n",
       "55184          II 135.50166666666667 ...     0 17.43412 -19.076367430045934\n",
       "55282       Ic BL  138.5993333333333 ...     0 19.71698 -15.123931983811005\n",
       "55297          Ic 155.40853749999997 ...     1 17.85967 -19.166412775923206\n",
       "55317          II 171.67722916666665 ...     0 19.97798 -14.011006901353756\n",
       "55361         IIb 149.82582916666664 ...     1 16.25335 -19.059015782527293\n",
       "55449          II          167.76665 ...     1 16.50294 -18.621389945618706\n",
       "55588          II 124.78287499999998 ...     1 17.98508 -18.289779766557853\n",
       "55589        II P 119.04708333333332 ...     0 18.96891  -16.82139970151757\n",
       "56169      II, CC 180.65099999999998 ...     1 17.28776 -16.472669880174678\n",
       "57787          Ib  210.5651666666666 ...     0 15.92106  -19.14400435370285"
      ]
     },
     "execution_count": 61,
     "metadata": {},
     "output_type": "execute_result"
    }
   ],
   "source": [
    "# Table length = 566\n",
    "fcut_master_table"
   ]
  },
  {
   "cell_type": "code",
   "execution_count": 69,
   "metadata": {},
   "outputs": [],
   "source": [
    "# fcut_master_table.write('FINALcut_SNtable.txt', format='ascii.commented_header', overwrite=True)"
   ]
  },
  {
   "cell_type": "code",
   "execution_count": 45,
   "metadata": {},
   "outputs": [
    {
     "name": "stdout",
     "output_type": "stream",
     "text": [
      "Wall:  249.0\n",
      "Void:  317.0\n"
     ]
    }
   ],
   "source": [
    "wall_sn = float(np.sum(fcut_master_table['vflag'] == 0))\n",
    "void_sn = float(np.sum(fcut_master_table['vflag'] == 1))\n",
    "\n",
    "print('Wall: ', wall_sn)\n",
    "print('Void: ', void_sn)"
   ]
  },
  {
   "cell_type": "markdown",
   "metadata": {},
   "source": [
    "## Separating by void/wall and by abs. magnitude\n",
    "A new table is created, boolean values are made to separte void and wall SNe. A function is used to separate by absolute magnitude."
   ]
  },
  {
   "cell_type": "code",
   "execution_count": 70,
   "metadata": {},
   "outputs": [],
   "source": [
    "# -- importing data into an astropy table\n",
    "sn_table = Table.read('FINALcut_SNtable.txt', format='ascii.commented_header', include_names=['vflag', 'abs_mag'])"
   ]
  },
  {
   "cell_type": "code",
   "execution_count": 389,
   "metadata": {},
   "outputs": [],
   "source": [
    "### Separating void/wall and magnitude.\n",
    "vbool = sn_table['vflag'] == 1\n",
    "wbool = sn_table['vflag'] == 0\n",
    "\n",
    "v_raDec = fcut_master_table[vbool] # for Mollweide\n",
    "w_raDec = fcut_master_table[wbool]  # for Mollweide \n",
    "\n",
    "v_sn = sn_table[vbool]\n",
    "w_sn = sn_table[wbool]\n",
    "\n",
    "# -- magnitude scale is backwards, these are correct\n",
    "def mag_split(data_table):\n",
    "   dwbool    = data_table['abs_mag']>-17\n",
    "   brbool    = data_table['abs_mag']<-20\n",
    "   bool17_18 = np.logical_and(data_table['abs_mag']<-17,data_table['abs_mag']>-18)\n",
    "   bool18_19 = np.logical_and(data_table['abs_mag']<-18,data_table['abs_mag']>-19)\n",
    "   bool19_20 = np.logical_and(data_table['abs_mag']<-19,data_table['abs_mag']>-20)\n",
    "   bool17_18h = np.logical_and(data_table['abs_mag']<-17,data_table['abs_mag']>-18.5)\n",
    "   bool18h_20 = np.logical_and(data_table['abs_mag']<-18.5,data_table['abs_mag']>-20)\n",
    "\n",
    "   dwarf_table  = data_table[dwbool]\n",
    "   bright_table = data_table[brbool]\n",
    "   table17_18   = data_table[bool17_18]\n",
    "   table18_19   = data_table[bool18_19]\n",
    "   table19_20   = data_table[bool19_20]\n",
    "   table17_18h = data_table[bool17_18h]\n",
    "   table18h_20 = data_table[bool18h_20]\n",
    "\n",
    "   return dwarf_table, bright_table, table17_18, table18_19, table19_20, table17_18h, table18h_20"
   ]
  },
  {
   "cell_type": "code",
   "execution_count": 347,
   "metadata": {},
   "outputs": [],
   "source": [
    "vdwarf_table, vbright_table, v17_18table, v18_19table, v19_20table, v17_18hTable, v18h_20Table = mag_split(v_sn)\n",
    "\n",
    "wdwarf_table, wbright_table, wtable17_18, wtable18_19, wtable19_20, wtable17_18h, wtable18h_20 = mag_split(w_sn)\n",
    "\n",
    "# mag_split(sn_table)"
   ]
  },
  {
   "cell_type": "markdown",
   "metadata": {},
   "source": [
    "# Histograms"
   ]
  },
  {
   "cell_type": "code",
   "execution_count": 332,
   "metadata": {},
   "outputs": [],
   "source": [
    "### Making a histogram.\n",
    "def make_hist(void_input, wall_input, _bins, normalize=False):\n",
    "    fig, ax = plt.subplots(1, 1)\n",
    "    \n",
    "    density = 1 if normalize else None\n",
    "    \n",
    "    return (ax.hist(void_input, bins = _bins, color='red', alpha=0.5, density=density, label='void SN'),\n",
    "            ax.hist(wall_input, bins = _bins, color='black', alpha=0.5, density=density, label='wall SN'),\n",
    "            ax.legend(), \n",
    "            ax.set(xlabel = 'Absolute magnitude, $M_r$',\n",
    "                   ylabel = 'Count'),\n",
    "            ax.grid(alpha=0.5))"
   ]
  },
  {
   "cell_type": "code",
   "execution_count": 317,
   "metadata": {},
   "outputs": [
    {
     "data": {
      "text/plain": [
       "Text(0.5, 0, 'Absolute Magnitude, $M_r$')"
      ]
     },
     "execution_count": 317,
     "metadata": {},
     "output_type": "execute_result"
    },
    {
     "data": {
      "image/png": "[encoded data removed]",
      "text/plain": [
       "<Figure size 432x288 with 1 Axes>"
      ]
     },
     "metadata": {
      "needs_background": "light"
     },
     "output_type": "display_data"
    }
   ],
   "source": [
    "### Plot of 566 SN by all M_r. (normalized)\n",
    "\n",
    "plt.hist(fcut_master_table['abs_mag'], bins = np.linspace(-25, -5, 50), color='brown', density=1)\n",
    "plt.xlim(-5,-25)\n",
    "plt.grid(alpha=0.5)\n",
    "plt.xlabel('Absolute Magnitude, $M_r$')"
   ]
  },
  {
   "cell_type": "code",
   "execution_count": 362,
   "metadata": {},
   "outputs": [
    {
     "name": "stdout",
     "output_type": "stream",
     "text": [
      "Ks_2sampResult(statistic=0.17245005257623552, pvalue=0.00041627240350696057)\n"
     ]
    },
    {
     "data": {
      "image/png": "[encoded data removed]",
      "text/plain": [
       "<Figure size 432x288 with 1 Axes>"
      ]
     },
     "metadata": {
      "needs_background": "light"
     },
     "output_type": "display_data"
    }
   ],
   "source": [
    "### Histogram of SN separated into void and wall of all M_r.\n",
    "make_hist(v_sn['abs_mag'], w_sn['abs_mag'], np.linspace(-25, -5, 50))# , normalize=True)\n",
    "plt.xlim(-5,-25)\n",
    "plt.title('Void/Wall SN (-25 > $M_R > -17$)')\n",
    "print(ks_2samp(v_sn['abs_mag'], w_sn['abs_mag']))"
   ]
  },
  {
   "cell_type": "code",
   "execution_count": 364,
   "metadata": {},
   "outputs": [
    {
     "name": "stdout",
     "output_type": "stream",
     "text": [
      "Ks_2sampResult(statistic=0.1275967520826743, pvalue=0.3860522286219478)\n",
      "N_wall = 87\n",
      "N_void = 109\n"
     ]
    },
    {
     "data": {
      "image/png": "[encoded data removed]",
      "text/plain": [
       "<Figure size 432x288 with 1 Axes>"
      ]
     },
     "metadata": {
      "needs_background": "light"
     },
     "output_type": "display_data"
    }
   ],
   "source": [
    "### DWARF ( > -17)\n",
    "make_hist(vdwarf_table['abs_mag'], wdwarf_table['abs_mag'], np.linspace(-17.5, -5, 25))\n",
    "plt.xlim(-5,-17.5)\n",
    "plt.title('Dwarf ($M_R > -17$)')\n",
    "print(ks_2samp(vdwarf_table['abs_mag'], wdwarf_table['abs_mag']))\n",
    "print('N_wall = {:d}'.format(len(wdwarf_table['abs_mag'])))\n",
    "print('N_void = {:d}'.format(len(vdwarf_table['abs_mag'])))"
   ]
  },
  {
   "cell_type": "code",
   "execution_count": 365,
   "metadata": {
    "scrolled": false
   },
   "outputs": [
    {
     "name": "stdout",
     "output_type": "stream",
     "text": [
      "Ks_2sampResult(statistic=0.14529914529914534, pvalue=0.9972611413995305)\n",
      "N_wall = 9\n",
      "N_void = 26\n"
     ]
    },
    {
     "data": {
      "image/png": "[encoded data removed]",
      "text/plain": [
       "<Figure size 432x288 with 1 Axes>"
      ]
     },
     "metadata": {
      "needs_background": "light"
     },
     "output_type": "display_data"
    }
   ],
   "source": [
    "### 17-18\n",
    "make_hist(v17_18table['abs_mag'], wtable17_18['abs_mag'], np.linspace(-18.1, -16.9, 25))\n",
    "plt.xlim(-16.9,-18.1)\n",
    "plt.title('$-17 > M_R > -18$')\n",
    "print(ks_2samp(v17_18table['abs_mag'], wtable17_18['abs_mag']))\n",
    "print('N_wall = {:d}'.format(len(wtable17_18['abs_mag'])))\n",
    "print('N_void = {:d}'.format(len(v17_18table['abs_mag'])))"
   ]
  },
  {
   "cell_type": "code",
   "execution_count": 366,
   "metadata": {},
   "outputs": [
    {
     "name": "stdout",
     "output_type": "stream",
     "text": [
      "Ks_2sampResult(statistic=0.24637681159420288, pvalue=0.2615585188587854)\n",
      "N_wall = 23\n",
      "N_void = 48\n"
     ]
    },
    {
     "data": {
      "image/png": "[encoded data removed]",
      "text/plain": [
       "<Figure size 432x288 with 1 Axes>"
      ]
     },
     "metadata": {
      "needs_background": "light"
     },
     "output_type": "display_data"
    }
   ],
   "source": [
    "### 18-19\n",
    "make_hist(v18_19table['abs_mag'], wtable18_19['abs_mag'], np.linspace(-19.1, -17.9, 25))\n",
    "plt.xlim(-17.9,-19.1)\n",
    "plt.title('$-18 > M_R > -19$')\n",
    "print(ks_2samp(v18_19table['abs_mag'], wtable18_19['abs_mag']))\n",
    "print('N_wall = {:d}'.format(len(wtable18_19['abs_mag'])))\n",
    "print('N_void = {:d}'.format(len(v18_19table['abs_mag'])))"
   ]
  },
  {
   "cell_type": "code",
   "execution_count": 367,
   "metadata": {},
   "outputs": [
    {
     "name": "stdout",
     "output_type": "stream",
     "text": [
      "Ks_2sampResult(statistic=0.18410852713178297, pvalue=0.2906268103516748)\n",
      "N_wall = 43\n",
      "N_void = 72\n"
     ]
    },
    {
     "data": {
      "image/png": "[encoded data removed]",
      "text/plain": [
       "<Figure size 432x288 with 1 Axes>"
      ]
     },
     "metadata": {
      "needs_background": "light"
     },
     "output_type": "display_data"
    }
   ],
   "source": [
    "### 19-20\n",
    "make_hist(v19_20table['abs_mag'], wtable19_20['abs_mag'], np.linspace(-20.1, -18.9, 25))\n",
    "plt.xlim(-18.9,-20.1)\n",
    "plt.title('$-19 > M_R > -20$')\n",
    "print(ks_2samp(v19_20table['abs_mag'], wtable19_20['abs_mag']))\n",
    "print('N_wall = {:d}'.format(len(wtable19_20['abs_mag'])))\n",
    "print('N_void = {:d}'.format(len(v19_20table['abs_mag'])))"
   ]
  },
  {
   "cell_type": "code",
   "execution_count": 368,
   "metadata": {},
   "outputs": [
    {
     "name": "stdout",
     "output_type": "stream",
     "text": [
      "Ks_2sampResult(statistic=0.16407119021134597, pvalue=0.2595754729276525)\n",
      "N_wall = 87\n",
      "N_void = 62\n"
     ]
    },
    {
     "data": {
      "image/png": "[encoded data removed]",
      "text/plain": [
       "<Figure size 432x288 with 1 Axes>"
      ]
     },
     "metadata": {
      "needs_background": "light"
     },
     "output_type": "display_data"
    }
   ],
   "source": [
    "### BRIGHT (< -20)\n",
    "make_hist(vbright_table['abs_mag'], wbright_table['abs_mag'], np.linspace(-25, -19.9, 25))\n",
    "plt.xlim(-19.9,-25)\n",
    "plt.title('$M_R < -20$')\n",
    "print(ks_2samp(vbright_table['abs_mag'], wbright_table['abs_mag']))\n",
    "print('N_wall = {:d}'.format(len(wbright_table['abs_mag'])))\n",
    "print('N_void = {:d}'.format(len(vbright_table['abs_mag'])))"
   ]
  },
  {
   "cell_type": "code",
   "execution_count": 369,
   "metadata": {},
   "outputs": [
    {
     "name": "stdout",
     "output_type": "stream",
     "text": [
      "Ks_2sampResult(statistic=0.12885154061624654, pvalue=0.952708777938529)\n",
      "N_wall = 21\n",
      "N_void = 51\n"
     ]
    },
    {
     "data": {
      "image/png": "[encoded data removed]",
      "text/plain": [
       "<Figure size 432x288 with 1 Axes>"
      ]
     },
     "metadata": {
      "needs_background": "light"
     },
     "output_type": "display_data"
    }
   ],
   "source": [
    "### 17-18.5\n",
    "\n",
    "make_hist(v17_18hTable['abs_mag'], wtable17_18h['abs_mag'], np.linspace(-18.6, -16.9, 25))\n",
    "plt.xlim(-16.9,-18.6)\n",
    "plt.title('$-17 > M_R > -18.5$')\n",
    "print(ks_2samp(v17_18hTable['abs_mag'], wtable17_18h['abs_mag']))\n",
    "print('N_wall = {:d}'.format(len(wtable17_18h['abs_mag'])))\n",
    "print('N_void = {:d}'.format(len(v17_18hTable['abs_mag'])))"
   ]
  },
  {
   "cell_type": "code",
   "execution_count": 370,
   "metadata": {},
   "outputs": [
    {
     "name": "stdout",
     "output_type": "stream",
     "text": [
      "Ks_2sampResult(statistic=0.13060428849902533, pvalue=0.569614780500535)\n",
      "N_wall = 54\n",
      "N_void = 95\n"
     ]
    },
    {
     "data": {
      "image/png": "[encoded data removed]",
      "text/plain": [
       "<Figure size 432x288 with 1 Axes>"
      ]
     },
     "metadata": {
      "needs_background": "light"
     },
     "output_type": "display_data"
    }
   ],
   "source": [
    "### 18.5-20\n",
    "\n",
    "make_hist(v18h_20Table['abs_mag'], wtable18h_20['abs_mag'], np.linspace(-20.1, -18.6, 25))\n",
    "plt.xlim(-18.6,-20.1)\n",
    "plt.title('$-18.5 > M_R > -20$')\n",
    "print(ks_2samp(v18h_20Table['abs_mag'], wtable18h_20['abs_mag']))\n",
    "print('N_wall = {:d}'.format(len(wtable18h_20['abs_mag'])))\n",
    "print('N_void = {:d}'.format(len(v18h_20Table['abs_mag'])))"
   ]
  },
  {
   "cell_type": "markdown",
   "metadata": {},
   "source": [
    "## Diagnostic Plots\n",
    "\n",
    "Mollweide projection of SN ra and dec. Redshift histogram. (RA hist and dec hist for hosts?)"
   ]
  },
  {
   "cell_type": "code",
   "execution_count": 418,
   "metadata": {},
   "outputs": [
    {
     "name": "stdout",
     "output_type": "stream",
     "text": [
      "317 249 317 249\n",
      "566 566 566 566\n"
     ]
    }
   ],
   "source": [
    "ra = coord.Angle(fcut_master_table['ra'] * u.degree)\n",
    "dec = coord.Angle(fcut_master_table['dec'] * u.degree)\n",
    "ra = ra.wrap_at(180*u.degree)\n",
    "\n",
    "# v_ra = coord.Angle(v_raDec['ra'] * u.degree)\n",
    "# w_ra = coord.Angle(w_raDec['ra'] * u.degree)\n",
    "# v_ra = ra.wrap_at(180*u.degree)\n",
    "# w_ra = ra.wrap_at(180*u.degree)\n",
    "# v_dec = coord.Angle(v_raDec['dec'] * u.degree)\n",
    "# w_dec = coord.Angle(w_raDec['dec'] * u.degree)\n",
    "# v_dec = dec.wrap_at(180*u.degree)\n",
    "# w_dec = dec.wrap_at(180*u.degree)\n",
    "\n",
    "# print(len(v_raDec['ra']), len(w_raDec['ra']), len(v_raDec['dec']), len(w_raDec['dec']))\n",
    "# print(len(v_ra), len(w_ra), len(v_dec), len(w_dec))"
   ]
  },
  {
   "cell_type": "code",
   "execution_count": 419,
   "metadata": {},
   "outputs": [
    {
     "data": {
      "image/png": "[encoded data removed]",
      "text/plain": [
       "<Figure size 864x648 with 1 Axes>"
      ]
     },
     "metadata": {
      "needs_background": "light"
     },
     "output_type": "display_data"
    }
   ],
   "source": [
    "fig = plt.figure(figsize=(12,9))\n",
    "ax = fig.add_subplot(111, projection='mollweide')\n",
    "ax.scatter(ra.radian, dec.radian, color='darkred', alpha=0.5)\n",
    "# ax.scatter(v_ra.radian, v_dec.radian, color='red', alpha=0.4)\n",
    "# ax.scatter(w_ra.radian, w_dec.radian, color='black', alpha=0.4)\n",
    "ax.set_xticklabels(['14h','16h','18h','20h','22h','0h','2h','4h','6h','8h','10h'])\n",
    "ax.grid(ls=':')"
   ]
  },
  {
   "cell_type": "code",
   "execution_count": 421,
   "metadata": {},
   "outputs": [
    {
     "data": {
      "text/plain": [
       "Text(0, 0.5, 'Dec')"
      ]
     },
     "execution_count": 421,
     "metadata": {},
     "output_type": "execute_result"
    },
    {
     "data": {
      "image/png": "[encoded data removed]",
      "text/plain": [
       "<Figure size 432x288 with 1 Axes>"
      ]
     },
     "metadata": {
      "needs_background": "light"
     },
     "output_type": "display_data"
    }
   ],
   "source": [
    "plt.scatter(fcut_master_table['ra'], fcut_master_table['dec'], color='darkred', alpha = 0.5)\n",
    "plt.title('SN in ICRS Coordinates')\n",
    "plt.xlabel('RA')\n",
    "plt.ylabel('Dec')"
   ]
  },
  {
   "cell_type": "code",
   "execution_count": 422,
   "metadata": {},
   "outputs": [
    {
     "data": {
      "text/plain": [
       "Text(0.5, 0, 'Redshift, z')"
      ]
     },
     "execution_count": 422,
     "metadata": {},
     "output_type": "execute_result"
    },
    {
     "data": {
      "image/png": "[encoded data removed]",
      "text/plain": [
       "<Figure size 432x288 with 1 Axes>"
      ]
     },
     "metadata": {
      "needs_background": "light"
     },
     "output_type": "display_data"
    }
   ],
   "source": [
    "plt.hist(fcut_master_table['redshift'], bins=np.linspace(0.0, 0.1, 50), color='darkred')\n",
    "plt.xlabel('Redshift, z')"
   ]
  },
  {
   "cell_type": "markdown",
   "metadata": {},
   "source": [
    "### Number of SN in each category:"
   ]
  },
  {
   "cell_type": "code",
   "execution_count": 371,
   "metadata": {},
   "outputs": [
    {
     "name": "stdout",
     "output_type": "stream",
     "text": [
      "317.0 249.0 109.0 87.0 26.0 9.0 48.0 23.0 72.0 43.0 62.0 87.0 51.0 21.0 95.0 54.0\n"
     ]
    }
   ],
   "source": [
    "void_sn = float(np.sum(v_sn['vflag'] == 1))\n",
    "wall_sn = float(np.sum(w_sn['vflag'] == 0))\n",
    "\n",
    "vDwarf_sn = float(np.sum(vdwarf_table['vflag'] == 1))\n",
    "wDwarf_sn = float(np.sum(wdwarf_table['vflag'] == 0))\n",
    "\n",
    "v1718_sn = float(np.sum(v17_18table['vflag'] == 1))\n",
    "w1718_sn = float(np.sum(wtable17_18['vflag'] == 0))\n",
    "\n",
    "v1819_sn = float(np.sum(v18_19table['vflag'] == 1))\n",
    "w1819_sn = float(np.sum(wtable18_19['vflag'] == 0))\n",
    "\n",
    "v1920_sn = float(np.sum(v19_20table['vflag'] == 1))\n",
    "w1920_sn = float(np.sum(wtable19_20['vflag'] == 0))\n",
    "\n",
    "vBright_sn = float(np.sum(vbright_table['vflag'] == 1))\n",
    "wBright_sn = float(np.sum(wbright_table['vflag'] == 0))\n",
    "\n",
    "v1718h_sn = float(np.sum(v17_18hTable['vflag'] == 1))\n",
    "w1718h_sn = float(np.sum(wtable17_18h['vflag'] == 0))\n",
    "\n",
    "v18h20_sn = float(np.sum(v18h_20Table['vflag'] == 1))\n",
    "w18h20_sn = float(np.sum(wtable18h_20['vflag'] == 0))\n",
    "\n",
    "print(void_sn, wall_sn, vDwarf_sn, wDwarf_sn, v1718_sn, w1718_sn, v1819_sn, w1819_sn, v1920_sn, w1920_sn, \n",
    "      vBright_sn, wBright_sn, v1718h_sn, w1718h_sn, v18h20_sn, w18h20_sn)"
   ]
  },
  {
   "cell_type": "markdown",
   "metadata": {},
   "source": [
    "### Number of Galaxies in each catagory:"
   ]
  },
  {
   "cell_type": "code",
   "execution_count": 372,
   "metadata": {},
   "outputs": [
    {
     "name": "stdout",
     "output_type": "stream",
     "text": [
      "75254.0 620555.0 2942.0 3681.0 3894.0 9769.0 8932.0 21161.0 8167.0 20279.0 51319.0 565665.0 1.0 1.0 1.0 1.0\n"
     ]
    }
   ],
   "source": [
    "void_gal = 75254.\n",
    "wall_gal = 620555.\n",
    "\n",
    "vDwarf_gal = 2942.\n",
    "wDwarf_gal = 3681.\n",
    "\n",
    "v1718_gal = 3894.\n",
    "w1718_gal = 9769.\n",
    "\n",
    "v1819_gal = 8932.\n",
    "w1819_gal = 21161.\n",
    "\n",
    "v1920_gal = 8167.\n",
    "w1920_gal = 20279.\n",
    "\n",
    "vBright_gal = 51319.\n",
    "wBright_gal = 565665.\n",
    "\n",
    "v1718h_gal = 1.\n",
    "w1718h_gal = 1.\n",
    "\n",
    "v18h20_gal = 1.\n",
    "w18h20_gal = 1.\n",
    "\n",
    "print(void_gal, wall_gal, vDwarf_gal, wDwarf_gal, v1718_gal, w1718_gal, v1819_gal, w1819_gal, v1920_gal, w1920_gal, \n",
    "      vBright_gal, wBright_gal, v1718h_gal, w1718h_gal, v18h20_gal, w18h20_gal)"
   ]
  },
  {
   "cell_type": "markdown",
   "metadata": {},
   "source": [
    "### Rates of finding SNe in a specific environment, depending on absolute magnitude."
   ]
  },
  {
   "cell_type": "code",
   "execution_count": 373,
   "metadata": {},
   "outputs": [],
   "source": [
    "void_rate = void_sn/void_gal\n",
    "wall_rate =  wall_sn/wall_gal\n",
    "\n",
    "vDwarf_rate = vDwarf_sn/vDwarf_gal\n",
    "wDwarf_rate = wDwarf_sn/wDwarf_gal\n",
    "\n",
    "v1718_rate = v1718_sn/v1718_gal\n",
    "w1718_rate = w1718_sn/w1718_gal\n",
    "\n",
    "v1819_rate = v1819_sn/v1819_gal\n",
    "w1819_rate = w1819_sn/w1819_gal\n",
    "\n",
    "v1920_rate = v1920_sn/v1920_gal\n",
    "w1920_rate = w1920_sn/w1920_gal\n",
    "\n",
    "vBright_rate = vBright_sn/vBright_gal\n",
    "wBright_rate = wBright_sn/wBright_gal\n",
    "\n",
    "v1718h_rate = v1718h_sn/v1718h_gal\n",
    "w1718h_rate = w1718h_sn/w1718h_gal\n",
    "\n",
    "v18h20_rate = v18h20_sn/v18h20_gal\n",
    "w18h20_rate = w18h20_sn/w18h20_gal"
   ]
  },
  {
   "cell_type": "markdown",
   "metadata": {},
   "source": [
    "# Rates:"
   ]
  },
  {
   "cell_type": "code",
   "execution_count": 374,
   "metadata": {},
   "outputs": [
    {
     "name": "stdout",
     "output_type": "stream",
     "text": [
      "Void SN Rate:  0.004212400669731842\n",
      "Wall SN Rate:  0.0004012537164312591\n",
      "-------------------------------------\n",
      "Dwarf Void SN Rate:  0.03704962610469069\n",
      "Dwarf Wall SN Rate:  0.023634881825590873\n",
      "-------------------------------------\n",
      "17-18 Void SN Rate:  0.00667693888032871\n",
      "17-18 Wall SN Rate:  0.0009212816050772853\n",
      "-------------------------------------\n",
      "18-19 Void SN Rate:  0.005373936408419167\n",
      "18-19 Wall SN Rate:  0.0010869051557109777\n",
      "-------------------------------------\n",
      "19-20 Void SN Rate:  0.008815966695236929\n",
      "19-20 Wall SN Rate:  0.0021204201390601115\n",
      "-------------------------------------\n",
      "Bright Void SN Rate:  0.0012081295426645102\n",
      "Bright Wall SN Rate:  0.00015380127814165629\n"
     ]
    }
   ],
   "source": [
    "print('Void SN Rate: ', void_rate)\n",
    "print('Wall SN Rate: ', wall_rate)\n",
    "print('-------------------------------------')\n",
    "print('Dwarf Void SN Rate: ', vDwarf_rate)\n",
    "print('Dwarf Wall SN Rate: ', wDwarf_rate)\n",
    "print('-------------------------------------')\n",
    "print('17-18 Void SN Rate: ', v1718_rate)\n",
    "print('17-18 Wall SN Rate: ', w1718_rate)\n",
    "print('-------------------------------------')\n",
    "print('18-19 Void SN Rate: ', v1819_rate)\n",
    "print('18-19 Wall SN Rate: ', w1819_rate)\n",
    "print('-------------------------------------')\n",
    "print('19-20 Void SN Rate: ', v1920_rate)\n",
    "print('19-20 Wall SN Rate: ', w1920_rate)\n",
    "print('-------------------------------------')\n",
    "print('Bright Void SN Rate: ', vBright_rate)\n",
    "print('Bright Wall SN Rate: ', wBright_rate)\n",
    "# print('-------------------------------------')\n",
    "# print('17-18h Void SN Rate: ', v1718h_rate)\n",
    "# print('17-18h Wall SN Rate: ', w1718h_rate)\n",
    "# print('-------------------------------------')\n",
    "# print('18h-20 Void SN Rate: ', v18h20_rate)\n",
    "# print('18h-20 Wall SN Rate: ', w18h20_rate)"
   ]
  },
  {
   "cell_type": "markdown",
   "metadata": {},
   "source": [
    "## KS Two-Sample Test: "
   ]
  },
  {
   "cell_type": "code",
   "execution_count": 361,
   "metadata": {},
   "outputs": [
    {
     "name": "stdout",
     "output_type": "stream",
     "text": [
      "KS Test for ALL Void/Wall:       Ks_2sampResult(statistic=0.17245005257623552, pvalue=0.00041627240350696057)\n",
      "KS Test for Dwarf Void/Wall:     Ks_2sampResult(statistic=0.1275967520826743, pvalue=0.3860522286219478)\n",
      "KS Test for 17-18 Void/Wall:     Ks_2sampResult(statistic=0.14529914529914534, pvalue=0.9972611413995305)\n",
      "KS Test for 18-19 Void/Wall:     Ks_2sampResult(statistic=0.24637681159420288, pvalue=0.2615585188587854)\n",
      "KS Test for 19-20 Void/Wall:     Ks_2sampResult(statistic=0.18410852713178297, pvalue=0.2906268103516748)\n",
      "KS Test for Bright Void/Wall:    Ks_2sampResult(statistic=0.16407119021134597, pvalue=0.2595754729276525)\n",
      "KS Test for 17-18.5 Void/Wall:   Ks_2sampResult(statistic=0.12885154061624654, pvalue=0.952708777938529)\n",
      "KS Test for 18.5-20 Void/Wall:   Ks_2sampResult(statistic=0.13060428849902533, pvalue=0.569614780500535)\n"
     ]
    }
   ],
   "source": [
    "print('KS Test for ALL Void/Wall:      ', ks_2samp(v_sn['abs_mag'], w_sn['abs_mag']))\n",
    "print('KS Test for Dwarf Void/Wall:    ', ks_2samp(vdwarf_table['abs_mag'], wdwarf_table['abs_mag']))\n",
    "print('KS Test for 17-18 Void/Wall:    ', ks_2samp(v17_18table['abs_mag'], wtable17_18['abs_mag']))\n",
    "print('KS Test for 18-19 Void/Wall:    ', ks_2samp(v18_19table['abs_mag'], wtable18_19['abs_mag']))\n",
    "print('KS Test for 19-20 Void/Wall:    ', ks_2samp(v19_20table['abs_mag'], wtable19_20['abs_mag']))\n",
    "print('KS Test for Bright Void/Wall:   ', ks_2samp(vbright_table['abs_mag'], wbright_table['abs_mag']))\n",
    "print('KS Test for 17-18.5 Void/Wall:  ', ks_2samp(v17_18hTable['abs_mag'], wtable17_18h['abs_mag']))\n",
    "print('KS Test for 18.5-20 Void/Wall:  ', ks_2samp(v18h_20Table['abs_mag'], wtable18h_20['abs_mag']))"
   ]
  },
  {
   "cell_type": "code",
   "execution_count": null,
   "metadata": {},
   "outputs": [],
   "source": []
  }
 ],
 "metadata": {
  "kernelspec": {
   "display_name": "Python 3",
   "language": "python",
   "name": "python3"
  },
  "language_info": {
   "codemirror_mode": {
    "name": "ipython",
    "version": 3
   },
   "file_extension": ".py",
   "mimetype": "text/x-python",
   "name": "python",
   "nbconvert_exporter": "python",
   "pygments_lexer": "ipython3",
   "version": "3.7.1"
  }
 },
 "nbformat": 4,
 "nbformat_minor": 2
}
