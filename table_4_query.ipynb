{
 "cells": [
  {
   "cell_type": "markdown",
   "id": "af75732a",
   "metadata": {},
   "source": [
    "# Table A (spec clmdtype table in ascii format)"
   ]
  },
  {
   "cell_type": "code",
   "execution_count": 1,
   "id": "0f0d50c6",
   "metadata": {},
   "outputs": [],
   "source": [
    "#table with spec clmdtypes in ascii format\n",
    "#from astropy.io import ascii\n",
    "from astropy.table import Table\n",
    "import astropy.units as u\n",
    "import numpy as np"
   ]
  },
  {
   "cell_type": "code",
   "execution_count": 2,
   "id": "956eb8f6",
   "metadata": {
    "scrolled": true
   },
   "outputs": [
    {
     "name": "stdout",
     "output_type": "stream",
     "text": [
      "ASASSN-14az\n"
     ]
    }
   ],
   "source": [
    "clmd_table = Table.read(\"selected_z_nmermve.txt\", format = 'ascii.commented_header')\n",
    "print(clmd_table['event'][0])\n",
    "#print(clmd_table)"
   ]
  },
  {
   "cell_type": "code",
   "execution_count": 3,
   "id": "4a548c2b",
   "metadata": {
    "scrolled": true
   },
   "outputs": [
    {
     "data": {
      "text/html": [
       "<i>Table length=1851</i>\n",
       "<table id=\"table4860817952\" class=\"table-striped table-bordered table-condensed\">\n",
       "<thead><tr><th>event</th><th>alias</th><th>catalog</th><th>claimedtype</th><th>dec</th><th>discoverdate</th><th>discoverer</th><th>download</th><th>ebv</th><th>host</th><th>hostdec</th><th>hostoffsetang</th><th>hostoffsetdist</th><th>hostra</th><th>instruments</th><th>lumdist</th><th>maxabsmag</th><th>maxappmag</th><th>maxdate</th><th>name</th><th>photolink</th><th>ra</th><th>radiolink</th><th>redshift</th><th>references</th><th>spectralink</th><th>velocity</th><th>xraylink</th><th>z</th></tr></thead>\n",
       "<thead><tr><th>str23</th><th>str140</th><th>str3</th><th>str10</th><th>float64</th><th>str10</th><th>str86</th><th>str1</th><th>float64</th><th>str65</th><th>str49</th><th>float64</th><th>float64</th><th>str34</th><th>str142</th><th>float64</th><th>float64</th><th>float64</th><th>str10</th><th>str23</th><th>str16</th><th>float64</th><th>int64</th><th>str55</th><th>str99</th><th>str13</th><th>float64</th><th>int64</th><th>float64</th></tr></thead>\n",
       "<tr><td>ASASSN-14az</td><td>ASASSN-14az,Gaia14age,MLS140831:234448-020701</td><td>sne</td><td>IIb</td><td>-2.117547222222222</td><td>2014/05/20</td><td>ASAS-SN</td><td>e</td><td>0.0274</td><td>PGC 1101367,GALEXASC J234448.27-020653.4</td><td>-02:06:53.4</td><td>8.94</td><td>1.28</td><td>23:44:48.27</td><td>C, u, g, r, R, i</td><td>29.943</td><td>-16.734</td><td>15.64</td><td>2014/07/22</td><td>ASASSN-14az</td><td>25,-36.1,67</td><td>356.2</td><td>--</td><td>0.006731</td><td>2009ApJ...696..870D,2014ATel.6151....1D,2014ATel.6185....1B,2016A&amp;A...594A..13P,2011ApJ...737..103S</td><td>1,-53.1</td><td>2011.0</td><td>--</td><td>0.006731</td></tr>\n",
       "<tr><td>ASASSN-15bd</td><td>ASASSN-15bd</td><td>sne</td><td>IIb</td><td>16.610583333333334</td><td>2015/01/08</td><td>ASAS-SN</td><td>--</td><td>0.0294</td><td>SDSS J155438.39+163637.6</td><td>+16:36:37.6</td><td>1.08</td><td>0.182</td><td>15:54:38.39</td><td>--</td><td>35.38</td><td>-16.535</td><td>16.2</td><td>2015/01/28</td><td>ASASSN-15bd</td><td>1,0</td><td>238.65970833333333</td><td>--</td><td>0.007946</td><td>2015ATel.6945....1K,2016A&amp;A...594A..13P,2015ATel.6956....1C,2011ApJ...737..103S</td><td>--</td><td>2373.0</td><td>--</td><td>0.007946</td></tr>\n",
       "<tr><td>ASASSN-15tu</td><td>ASASSN-15tu</td><td>sne</td><td>IIb</td><td>-32.39821666666667</td><td>2015/12/08</td><td>ASAS-SN</td><td>--</td><td>0.0114</td><td>2MASX J22340166-3223490</td><td>-32:23:49.0</td><td>12.5</td><td>3.33</td><td>22:34:01.66</td><td>--</td><td>56.3</td><td>-17.44</td><td>16.3</td><td>2015/12/07</td><td>ASASSN-15tu</td><td>1,0</td><td>338.51075</td><td>--</td><td>0.0126</td><td>2015ATel.8386....1N,2016A&amp;A...594A..13P,2015ATel.8434....1F,2011ApJ...737..103S</td><td>--</td><td>3750.0</td><td>--</td><td>0.0126</td></tr>\n",
       "<tr><td>PS1-14od</td><td>PS1-14od</td><td>sne</td><td>IIb</td><td>-7.282611111111111</td><td>2014/02/25</td><td>PS1</td><td>--</td><td>0.0491</td><td>SDSS J032106.08-071656.8</td><td>-07:16:56.8</td><td>2.311</td><td>0.9886</td><td>03:21:06.08</td><td>GPC (r, y)</td><td>90.0</td><td>-17.0</td><td>17.75</td><td>2014/02/25</td><td>PS1-14od</td><td>3,-0.257,1.69</td><td>50.275958333333335</td><td>--</td><td>0.02</td><td>2014ATel.5937....1C,2016A&amp;A...594A..13P,2015ApJ...811..117S,2011ApJ...737..103S</td><td>1,3.43</td><td>6000.0</td><td>--</td><td>0.02</td></tr>\n",
       "<tr><td>SN2002au</td><td>SN2002au</td><td>sne</td><td>IIb</td><td>5.837694444444445</td><td>2002/02/08</td><td>Martin, LOTOSS,Tim Puckett et al.</td><td>e</td><td>0.0322</td><td>UGC 5100</td><td>+05:50:26,+05:50:29.3</td><td>23.29</td><td>8.762</td><td>09:34:39,09:34:38.63</td><td>C</td><td>80.8</td><td>-17.3</td><td>17.2</td><td>2002/03/02</td><td>SN2002au</td><td>6,-28.7,-0.403</td><td>143.65666666666667</td><td>--</td><td>0.018,0.018</td><td>2019MNRAS.482.1545S,2012A&amp;A...538A.120L,2016A&amp;A...594A..13P,2002IAUC.7823....3J,2002IAUC.7823....1P</td><td>3,-19.2,-16.2</td><td>5514.0</td><td>--</td><td>0.018</td></tr>\n",
       "<tr><td>SN2011D</td><td>SN2011D,SNhunt30,&lt;a id=&quot;SNhunt30&quot;&gt;SNhunt30&lt;/a&gt;</td><td>sne</td><td>IIb</td><td>17.349611111111113</td><td>2011/01/05</td><td>Howerton,Howerton et al., LOSS,CRTS</td><td>--</td><td>0.1357</td><td>UGC 2498</td><td>+17:20:43</td><td>39.7</td><td>19.2</td><td>03:02:12</td><td>--</td><td>104.0</td><td>-17.76</td><td>17.3</td><td>2011/01/04</td><td>SN2011D</td><td>1,0</td><td>45.560625</td><td>--</td><td>0.0231</td><td>2011CBET.2627....2M,2019MNRAS.482.1545S,2017csnh.book.....H,2016A&amp;A...594A..13P,2008yCat....1.2024B</td><td>1,8.5</td><td>6930.0</td><td>--</td><td>0.0231</td></tr>\n",
       "<tr><td>SN2011V</td><td>SN2011V,PSN J09273876+2847275,&lt;a id=&quot;PSNJ09273876+2847275&quot;&gt;PSN J09273876+2847275&lt;/a&gt;</td><td>sne</td><td>IIb</td><td>28.79088888888889</td><td>2011/01/28</td><td>Drake et al.,CRTS</td><td>--</td><td>0.0195</td><td>MCG +05-22-48,UGC 5040</td><td>+28:47:56</td><td>46.32</td><td>13.49</td><td>09:27:36</td><td>--</td><td>61.72</td><td>-16.64</td><td>17.3</td><td>2011/01/27</td><td>SN2011V</td><td>1,0</td><td>141.9115</td><td>--</td><td>0.0138</td><td>2011CBET.2650....2M,2016A&amp;A...594A..13P,2008yCat....1.2024B,2011ApJ...737..103S</td><td>--</td><td>4147.0</td><td>--</td><td>0.0138</td></tr>\n",
       "<tr><td>SN2011bv</td><td>SN2011bv,MLS110330:130254-040236</td><td>sne</td><td>IIb</td><td>-4.043333333333333</td><td>2011/03/30</td><td>Drake et al.,CRTS</td><td>--</td><td>0.0236</td><td>A130253-0402</td><td>-04:02:36</td><td>8.529</td><td>12.67</td><td>13:02:53</td><td>C</td><td>360.0</td><td>--</td><td>--</td><td>--</td><td>SN2011bv</td><td>4</td><td>195.72320833333333</td><td>--</td><td>0.077</td><td>2009ApJ...696..870D,2011CBET.2704....2P,2008yCat....1.2024B,2016A&amp;A...594A..13P,2011ApJ...737..103S</td><td>--</td><td>23100.0</td><td>--</td><td>0.077</td></tr>\n",
       "<tr><td>SN2011cb</td><td>SN2011cb,PSN J22470700-6449430,&lt;a id=&quot;PSNJ22470700-6449430&quot;&gt;PSN J22470700-6449430&lt;/a&gt;</td><td>sne</td><td>IIb</td><td>-64.82872222222223</td><td>2011/04/29</td><td>Parker,Stu Parker</td><td>--</td><td>0.0289</td><td>IC 5249</td><td>-64:49:52</td><td>12.82</td><td>2.158</td><td>22:47:06</td><td>UVOT (W2, W1, M2, U, B, V)</td><td>35.2</td><td>-16.5</td><td>16.27</td><td>2011/05/16</td><td>SN2011cb</td><td>6,-0.0494,6.92</td><td>341.7812083333333</td><td>--</td><td>0.0079</td><td>2014Ap&amp;SS.354...89B,2011CBET.2711....2S,2016A&amp;A...594A..13P,2008yCat....1.2024B,2011ApJ...737..103S</td><td>--</td><td>2332.0</td><td>--</td><td>0.0079</td></tr>\n",
       "<tr><td>SN2011dh</td><td>SN2011dh,PSN J13303600+4706330,PTF11eon,J133005+471010,&lt;a id=&quot;PSNJ13303600+4706330&quot;&gt;PSN J13303600+4706330&lt;/a&gt;</td><td>sne</td><td>IIb</td><td>47.16970055555556</td><td>2011/06/01</td><td>Reiland, Griga, Riou, Lamotte Bailey,Tom Reiland</td><td>e</td><td>0.0309</td><td>NGC 5194,M51,M51A,M51B</td><td>+47:11:43</td><td>154.0</td><td>6.26</td><td>13:29:53</td><td>HFOSC (U, B, V, R, I), IRAC (I1, I2), UVOT (W2, W1, M2, U, B, V), C, U, B, V, R, I</td><td>7.2583</td><td>-18.152</td><td>11.15</td><td>2011/07/08</td><td>SN2011dh</td><td>1432,-36.6,586</td><td>202.52127291666665</td><td>--</td><td>0.001638</td><td>2012PASP..124..668Y,2014A&amp;A...562A..17E,2014Ap&amp;SS.354...89B,2015A&amp;A...580A.142E,2013MNRAS.436.3614S</td><td>84,-35.4,639</td><td>461.0</td><td>--</td><td>0.001638</td></tr>\n",
       "<tr><td>...</td><td>...</td><td>...</td><td>...</td><td>...</td><td>...</td><td>...</td><td>...</td><td>...</td><td>...</td><td>...</td><td>...</td><td>...</td><td>...</td><td>...</td><td>...</td><td>...</td><td>...</td><td>...</td><td>...</td><td>...</td><td>...</td><td>...</td><td>...</td><td>...</td><td>...</td><td>...</td><td>...</td><td>...</td></tr>\n",
       "<tr><td>SN2018dys</td><td>SN2018dys,AT2018dys,ASASSN-18ph,ATLAS18two</td><td>sne</td><td>Ic</td><td>-5.568833333333333</td><td>2018/07/15</td><td>ASAS-SN</td><td>--</td><td>0.0276</td><td>GALEXASC J125510.22-053406.8</td><td>-05:34:06.8</td><td>0.22</td><td>0.24</td><td>12:55:10.22</td><td>ACAM1 (cyan), Cassius (V)</td><td>253.0</td><td>-19.6</td><td>17.4</td><td>2018/07/15</td><td>SN2018dys</td><td>2,-0.427,22.5</td><td>193.79226666666668</td><td>--</td><td>0.055</td><td>2016A&amp;A...594A..13P,2011ApJ...737..103S</td><td>1,5.94</td><td>16000.0</td><td>--</td><td>0.055</td></tr>\n",
       "<tr><td>SN2018fav</td><td>SN2018fav,AT2018fav,ASASSN-18rt</td><td>sne</td><td>Ic</td><td>-21.94565</td><td>2018/08/12</td><td>ASAS-SN</td><td>--</td><td>0.0124</td><td>2MASX J00455851-2156353</td><td>-21:56:35.3</td><td>9.55</td><td>7.42</td><td>00:45:58.51</td><td>Payne-Gaposchkin (g)</td><td>172.656</td><td>-18.1455</td><td>18.0</td><td>2018/08/12</td><td>SN2018fav</td><td>1,0.472</td><td>11.494091666666666</td><td>--</td><td>0.037923</td><td>2016A&amp;A...594A..13P,2011ApJ...737..103S</td><td>1,3.55</td><td>11154.0</td><td>--</td><td>0.037923</td></tr>\n",
       "<tr><td>SN2018ijp</td><td>SN2018ijp,AT2018ijp,ZTF18aceqrrs,PS18cgs</td><td>sne</td><td>Ic</td><td>8.931422222222222</td><td>2018/11/07</td><td>ZTF</td><td>--</td><td>--</td><td>SDSS J102137.73+085554.2</td><td>+08:55:54.2</td><td>4.863</td><td>7.998</td><td>10:21:37.73</td><td>ACAM1 (cyan, orange), GPC (w, i), GPC1 (i), ZTF-Cam (r)</td><td>399.0</td><td>-18.93</td><td>18.99</td><td>2018/11/10</td><td>SN2018ijp</td><td>24,-2.75,79.2</td><td>155.40854166666665</td><td>--</td><td>0.0848</td><td>2016A&amp;A...594A..13P</td><td>--</td><td>24300.0</td><td>--</td><td>0.0848</td></tr>\n",
       "<tr><td>SN2018ise</td><td>SN2018ise,AT2018ise,ZTF18achcpwu,ATLAS18bajs,PS18ckt</td><td>sne</td><td>Ic</td><td>64.06164444444444</td><td>2018/11/12</td><td>ZTF</td><td>--</td><td>--</td><td>2MASX J07071594+6403517</td><td>+64:03:51.7</td><td>11.19</td><td>12.39</td><td>07:07:15.94</td><td>ACAM1 (orange), GPC (i), GPC1 (i), ZTF-Cam (g, r)</td><td>254.4</td><td>-18.45</td><td>18.52</td><td>2018/12/17</td><td>SN2018ise</td><td>20,-30.4,36</td><td>106.819875</td><td>--</td><td>0.0552</td><td>2016A&amp;A...594A..13P</td><td>1,9</td><td>16100.0</td><td>--</td><td>0.0552</td></tr>\n",
       "<tr><td>SN2018liq</td><td>SN2018liq,AT2018liq,ZTF18adasisj,PS19fy,Gaia19anq</td><td>sne</td><td>Ic</td><td>8.797769444444445</td><td>2018/12/30</td><td>ZTF</td><td>--</td><td>--</td><td>2MASX J04502805+0847582</td><td>+08:47:58.2</td><td>6.267</td><td>4.408</td><td>04:50:28.05</td><td>Astrometric, GPC (w), GPC1 (w), ZTF-Cam (g, r)</td><td>154.0</td><td>-18.1</td><td>17.85</td><td>2019/02/10</td><td>SN2018liq</td><td>17,-40.9,48.8</td><td>72.61668333333333</td><td>--</td><td>0.034</td><td>2016A&amp;A...594A..13P</td><td>1,-13.1</td><td>10000.0</td><td>--</td><td>0.034</td></tr>\n",
       "<tr><td>SN2019bjv</td><td>SN2019bjv,AT2019bjv,ASASSN-19dv</td><td>sne</td><td>Ic</td><td>47.437244444444445</td><td>2019/03/01</td><td>ASAS-SN</td><td>--</td><td>--</td><td>SDSS J162538.62+472614.3</td><td>+47:26:14.3</td><td>0.36</td><td>0.2</td><td>16:25:38.62</td><td>ACAM1 (orange), Brutus (g), Leavitt (g), ZTF-Cam (g, r)</td><td>119.6</td><td>-18.35</td><td>17.01</td><td>2019/02/20</td><td>SN2019bjv</td><td>13,-22.4,39.9</td><td>246.41104583333333</td><td>--</td><td>0.0265</td><td>2016A&amp;A...594A..13P</td><td>1,24.4</td><td>7840.0</td><td>--</td><td>0.0265</td></tr>\n",
       "<tr><td>SN2019dwy</td><td>SN2019dwy,AT2019dwy,ASASSN-19ku,Gaia19bnh</td><td>sne</td><td>Ic</td><td>70.76793055555555</td><td>2019/04/24</td><td>ASAS-SN,ASASSN</td><td>--</td><td>--</td><td>2MASX J11141082+7046053,2MASX J11141082+7046</td><td>+70:46:05.3</td><td>0.67</td><td>0.62</td><td>11:14:10.82</td><td>Astrometric, Brutus (g), B</td><td>206.0</td><td>-19.5</td><td>17.01</td><td>2019/05/03</td><td>SN2019dwy</td><td>6,-9.54,7.16</td><td>168.54509166666668</td><td>--</td><td>0.045</td><td>2016A&amp;A...594A..13P</td><td>1,-1.49</td><td>13000.0</td><td>--</td><td>0.045</td></tr>\n",
       "<tr><td>SN2019krw</td><td>SN2019krw,PS19dro,AT2019krw,ZTF19abdoior</td><td>sne</td><td>Ic</td><td>40.22581666666667</td><td>2019/07/05</td><td>ZTF</td><td>--</td><td>--</td><td>2MASX J17501063+4013391</td><td>+40:13:39.1</td><td>7.139</td><td>6.942</td><td>17:50:10.63</td><td>GPC (i)</td><td>215.0</td><td>-18.0</td><td>18.63</td><td>2019/07/13</td><td>SN2019krw</td><td>5,-8.6,0.00642</td><td>267.54297916666667</td><td>--</td><td>0.047</td><td>2016A&amp;A...594A..13P</td><td>--</td><td>14000.0</td><td>--</td><td>0.047</td></tr>\n",
       "<tr><td>SN2019rwq</td><td>SN2019rwq,AT2019rwq,ASASSN-19yk</td><td>sne</td><td>Ic</td><td>-66.39171666666667</td><td>2019/10/05</td><td>ASAS-SN</td><td>--</td><td>--</td><td>2MASS J02185760-6623310</td><td>-66:23:31.0</td><td>1.66</td><td>0.879</td><td>02:18:57.60</td><td>Paczynski (g)</td><td>115.0</td><td>-17.68</td><td>17.6</td><td>2019/10/05</td><td>SN2019rwq</td><td>1,-0.273</td><td>34.74037083333333</td><td>--</td><td>0.0255</td><td>2016A&amp;A...594A..13P</td><td>1,13.4</td><td>7550.0</td><td>--</td><td>0.0255</td></tr>\n",
       "<tr><td>SN2020euy</td><td>SN2020euy,AT2020euy,ASASSN-20dn</td><td>sne</td><td>Ic</td><td>47.57398888888889</td><td>2020/03/21</td><td>ASAS-SN,ASASSN</td><td>--</td><td>--</td><td>Unknown,WISEA J133629.46+473</td><td>+47:03:00</td><td>1886.0</td><td>2339.0</td><td>13:36:29.46</td><td>ACAM1 (cyan, orange), Brutus (g), ZTF-Cam (g, r)</td><td>288.674</td><td>-19.6164</td><td>17.62</td><td>2020/03/24</td><td>SN2020euy</td><td>4,-3,3.7</td><td>204.12286666666665</td><td>--</td><td>0.062312</td><td>2016A&amp;A...594A..13P</td><td>1,8.01</td><td>18100.0</td><td>--</td><td>0.062312</td></tr>\n",
       "</table>"
      ],
      "text/plain": [
       "<Table length=1851>\n",
       "   event    ...    z    \n",
       "   str23    ... float64 \n",
       "----------- ... --------\n",
       "ASASSN-14az ... 0.006731\n",
       "ASASSN-15bd ... 0.007946\n",
       "ASASSN-15tu ...   0.0126\n",
       "   PS1-14od ...     0.02\n",
       "   SN2002au ...    0.018\n",
       "    SN2011D ...   0.0231\n",
       "    SN2011V ...   0.0138\n",
       "   SN2011bv ...    0.077\n",
       "   SN2011cb ...   0.0079\n",
       "   SN2011dh ... 0.001638\n",
       "        ... ...      ...\n",
       "  SN2018dys ...    0.055\n",
       "  SN2018fav ... 0.037923\n",
       "  SN2018ijp ...   0.0848\n",
       "  SN2018ise ...   0.0552\n",
       "  SN2018liq ...    0.034\n",
       "  SN2019bjv ...   0.0265\n",
       "  SN2019dwy ...    0.045\n",
       "  SN2019krw ...    0.047\n",
       "  SN2019rwq ...   0.0255\n",
       "  SN2020euy ... 0.062312"
      ]
     },
     "execution_count": 3,
     "metadata": {},
     "output_type": "execute_result"
    }
   ],
   "source": [
    "clmd_table"
   ]
  },
  {
   "cell_type": "markdown",
   "id": "8dfec68d",
   "metadata": {},
   "source": [
    "This is where we are converting to degrees. "
   ]
  },
  {
   "cell_type": "code",
   "execution_count": 4,
   "id": "3fa7f7fe",
   "metadata": {
    "scrolled": true
   },
   "outputs": [],
   "source": [
    "dec_col = np.ones(len(clmd_table))\n",
    "\n",
    "for i in range(len(clmd_table)):\n",
    "    ######################################################################\n",
    "    # declination\n",
    "    #---------------------------------------------------------------------\n",
    "    valdec = clmd_table['hostdec'][i]\n",
    "    decs = valdec.split(',')\n",
    "    \n",
    "    try:\n",
    "        d_dec, m_dec, s_dec = decs[0].split(':')\n",
    "    except ValueError:\n",
    "        d_dec, m_dec, s_dec = decs[1].split(':')\n",
    "\n",
    "    if float(d_dec) < 0:\n",
    "        dec = float(d_dec) - (float(s_dec)/60 + float(m_dec))/60\n",
    "    else: \n",
    "        dec = float(d_dec) + (float(s_dec)/60 + float(m_dec))/60\n",
    "    dec_col[i] = dec\n",
    "    #print(dec,decs[0]) \n",
    "    #if i > 5: \n",
    "    #    break\n",
    "    ######################################################################\n",
    "    \n",
    "    \n",
    "    ######################################################################\n",
    "    # right ascension\n",
    "    #---------------------------------------------------------------------\n",
    "ra_col = np.ones(len(clmd_table))\n",
    "\n",
    "for i in range(len(clmd_table)):\n",
    "    valra = clmd_table['hostra'][i]\n",
    "    ras = valra.split(',')\n",
    "    \n",
    "    try:\n",
    "        hrs_ra, min_ra, sec_ra = ras[0].split(':')\n",
    "        \n",
    "    except ValueError:\n",
    "        hrs_ra, min_ra, sec_ra = ras[1].split(':')\n",
    "\n",
    "    #if float(hrs_ra) < 0:\n",
    "    #    ra = float(hrs_ra)*(360/24) - (float(min_ra)*(360/1440) + float(sec_ra))*(360/86400)\n",
    "    #else: \n",
    "    ra = (float(hrs_ra) + (float(min_ra) + float(sec_ra)/60)/60)*(360/24)\n",
    "    ra_col[i] = ra\n",
    "    #print(dec,decs[0]) \n",
    "    #if i > 5: \n",
    "    #    break"
   ]
  },
  {
   "cell_type": "markdown",
   "id": "152ed61a",
   "metadata": {},
   "source": [
    "# Table B (modified table A with columns {name, hostra, hostdec})"
   ]
  },
  {
   "cell_type": "code",
   "execution_count": 5,
   "id": "f976a151",
   "metadata": {},
   "outputs": [],
   "source": [
    "query_table = Table()\n",
    "query_table['name'] = clmd_table['name']\n",
    "query_table['hostra'] = ra_col\n",
    "query_table['hostdec'] = dec_col"
   ]
  },
  {
   "cell_type": "code",
   "execution_count": 6,
   "id": "ec4403f0",
   "metadata": {
    "scrolled": true
   },
   "outputs": [
    {
     "data": {
      "text/html": [
       "<i>Table length=1851</i>\n",
       "<table id=\"table4860819968\" class=\"table-striped table-bordered table-condensed\">\n",
       "<thead><tr><th>name</th><th>hostra</th><th>hostdec</th></tr></thead>\n",
       "<thead><tr><th>str23</th><th>float64</th><th>float64</th></tr></thead>\n",
       "<tr><td>ASASSN-14az</td><td>356.201125</td><td>-2.1148333333333333</td></tr>\n",
       "<tr><td>ASASSN-15bd</td><td>238.65995833333335</td><td>16.610444444444443</td></tr>\n",
       "<tr><td>ASASSN-15tu</td><td>338.50691666666665</td><td>-32.39694444444444</td></tr>\n",
       "<tr><td>PS1-14od</td><td>50.275333333333336</td><td>-7.282444444444445</td></tr>\n",
       "<tr><td>SN2002au</td><td>143.66250000000002</td><td>5.8405555555555555</td></tr>\n",
       "<tr><td>SN2011D</td><td>45.55</td><td>17.345277777777778</td></tr>\n",
       "<tr><td>SN2011V</td><td>141.9</td><td>28.79888888888889</td></tr>\n",
       "<tr><td>SN2011bv</td><td>195.72083333333333</td><td>-4.043333333333333</td></tr>\n",
       "<tr><td>SN2011cb</td><td>341.775</td><td>-64.83111111111111</td></tr>\n",
       "<tr><td>SN2011dh</td><td>202.47083333333333</td><td>47.195277777777775</td></tr>\n",
       "<tr><td>...</td><td>...</td><td>...</td></tr>\n",
       "<tr><td>SN2018dys</td><td>193.79258333333334</td><td>-5.568555555555555</td></tr>\n",
       "<tr><td>SN2018fav</td><td>11.493791666666667</td><td>-21.94313888888889</td></tr>\n",
       "<tr><td>SN2018ijp</td><td>155.40720833333333</td><td>8.931722222222222</td></tr>\n",
       "<tr><td>SN2018ise</td><td>106.81641666666667</td><td>64.06436111111111</td></tr>\n",
       "<tr><td>SN2018liq</td><td>72.616875</td><td>8.7995</td></tr>\n",
       "<tr><td>SN2019bjv</td><td>246.41091666666668</td><td>47.437305555555554</td></tr>\n",
       "<tr><td>SN2019dwy</td><td>168.54508333333334</td><td>70.76813888888888</td></tr>\n",
       "<tr><td>SN2019krw</td><td>267.54429166666665</td><td>40.22752777777778</td></tr>\n",
       "<tr><td>SN2019rwq</td><td>34.739999999999995</td><td>-66.39194444444445</td></tr>\n",
       "<tr><td>SN2020euy</td><td>204.12275</td><td>47.05</td></tr>\n",
       "</table>"
      ],
      "text/plain": [
       "<Table length=1851>\n",
       "    name          hostra             hostdec      \n",
       "   str23         float64             float64      \n",
       "----------- ------------------ -------------------\n",
       "ASASSN-14az         356.201125 -2.1148333333333333\n",
       "ASASSN-15bd 238.65995833333335  16.610444444444443\n",
       "ASASSN-15tu 338.50691666666665  -32.39694444444444\n",
       "   PS1-14od 50.275333333333336  -7.282444444444445\n",
       "   SN2002au 143.66250000000002  5.8405555555555555\n",
       "    SN2011D              45.55  17.345277777777778\n",
       "    SN2011V              141.9   28.79888888888889\n",
       "   SN2011bv 195.72083333333333  -4.043333333333333\n",
       "   SN2011cb            341.775  -64.83111111111111\n",
       "   SN2011dh 202.47083333333333  47.195277777777775\n",
       "        ...                ...                 ...\n",
       "  SN2018dys 193.79258333333334  -5.568555555555555\n",
       "  SN2018fav 11.493791666666667  -21.94313888888889\n",
       "  SN2018ijp 155.40720833333333   8.931722222222222\n",
       "  SN2018ise 106.81641666666667   64.06436111111111\n",
       "  SN2018liq          72.616875              8.7995\n",
       "  SN2019bjv 246.41091666666668  47.437305555555554\n",
       "  SN2019dwy 168.54508333333334   70.76813888888888\n",
       "  SN2019krw 267.54429166666665   40.22752777777778\n",
       "  SN2019rwq 34.739999999999995  -66.39194444444445\n",
       "  SN2020euy          204.12275               47.05"
      ]
     },
     "execution_count": 6,
     "metadata": {},
     "output_type": "execute_result"
    }
   ],
   "source": [
    "query_table"
   ]
  },
  {
   "cell_type": "code",
   "execution_count": 7,
   "id": "88f59262",
   "metadata": {},
   "outputs": [],
   "source": [
    "query_tb = 'query_table_correc.txt'\n",
    "query_table.write(query_tb, format = 'ascii.commented_header', overwrite = True)"
   ]
  },
  {
   "cell_type": "markdown",
   "id": "219bf3c5",
   "metadata": {},
   "source": [
    "# Visual inspection of missing galaxy hosts tb for SDSS "
   ]
  },
  {
   "cell_type": "code",
   "execution_count": 8,
   "id": "ac6b6fd4",
   "metadata": {},
   "outputs": [
    {
     "data": {
      "text/html": [
       "<i>Table length=91</i>\n",
       "<table id=\"table4564925840\" class=\"table-striped table-bordered table-condensed\">\n",
       "<thead><tr><th>name</th><th>objID</th></tr></thead>\n",
       "<thead><tr><th>str23</th><th>int64</th></tr></thead>\n",
       "<tr><td>CSS110325:111951-002144</td><td>1237667915412865180</td></tr>\n",
       "<tr><td>Gaia14act</td><td>1237667324330770623</td></tr>\n",
       "<tr><td>SDSS-II_SN_11532</td><td>1237663784742945041</td></tr>\n",
       "<tr><td>SDSS-II_SN_16282</td><td>1237657191980597677</td></tr>\n",
       "<tr><td>SDSS-II_SN_16867</td><td>1237663204917313794</td></tr>\n",
       "<tr><td>SDSS-II_SN_17312</td><td>1237678617433997426</td></tr>\n",
       "<tr><td>SDSS-II_SN_19722</td><td>1237663457779581221</td></tr>\n",
       "<tr><td>SDSS-II_SN_20168</td><td>1237663784196965652</td></tr>\n",
       "<tr><td>SDSS-II_SN_2234</td><td>1237663785279291836</td></tr>\n",
       "<tr><td>SDSS-II_SN_2666</td><td>1237678434327986448</td></tr>\n",
       "<tr><td>...</td><td>...</td></tr>\n",
       "<tr><td>SN2011fy</td><td>1237668734685413846</td></tr>\n",
       "<tr><td>SN2011je</td><td>1237673283056762912</td></tr>\n",
       "<tr><td>SN2012ai</td><td>1237657630051336281</td></tr>\n",
       "<tr><td>SN2012am</td><td>1237661358074822743</td></tr>\n",
       "<tr><td>SN2012ga</td><td>1237652935641858730</td></tr>\n",
       "<tr><td>SN2013cr</td><td>1237661388152045723</td></tr>\n",
       "<tr><td>SN2013hv</td><td>1237671239717290098</td></tr>\n",
       "<tr><td>SN2015ay</td><td>1237666215143145564</td></tr>\n",
       "<tr><td>SN2018ino</td><td>1237667781218664630</td></tr>\n",
       "<tr><td>SN2019bgl</td><td>1237659895636033688</td></tr>\n",
       "</table>"
      ],
      "text/plain": [
       "<Table length=91>\n",
       "          name                 objID       \n",
       "         str23                 int64       \n",
       "----------------------- -------------------\n",
       "CSS110325:111951-002144 1237667915412865180\n",
       "              Gaia14act 1237667324330770623\n",
       "       SDSS-II_SN_11532 1237663784742945041\n",
       "       SDSS-II_SN_16282 1237657191980597677\n",
       "       SDSS-II_SN_16867 1237663204917313794\n",
       "       SDSS-II_SN_17312 1237678617433997426\n",
       "       SDSS-II_SN_19722 1237663457779581221\n",
       "       SDSS-II_SN_20168 1237663784196965652\n",
       "        SDSS-II_SN_2234 1237663785279291836\n",
       "        SDSS-II_SN_2666 1237678434327986448\n",
       "                    ...                 ...\n",
       "               SN2011fy 1237668734685413846\n",
       "               SN2011je 1237673283056762912\n",
       "               SN2012ai 1237657630051336281\n",
       "               SN2012am 1237661358074822743\n",
       "               SN2012ga 1237652935641858730\n",
       "               SN2013cr 1237661388152045723\n",
       "               SN2013hv 1237671239717290098\n",
       "               SN2015ay 1237666215143145564\n",
       "              SN2018ino 1237667781218664630\n",
       "              SN2019bgl 1237659895636033688"
      ]
     },
     "execution_count": 8,
     "metadata": {},
     "output_type": "execute_result"
    }
   ],
   "source": [
    "inspgal = Table.read('/Users/urdesi/Documents/SNe_Void_Properties/NewQuery_info/missobj_insp/nameobjID_misGal.txt', format = 'ascii.commented_header')\n",
    "inspgal"
   ]
  },
  {
   "cell_type": "code",
   "execution_count": null,
   "id": "422b1283",
   "metadata": {},
   "outputs": [],
   "source": []
  }
 ],
 "metadata": {
  "kernelspec": {
   "display_name": "Python 3",
   "language": "python",
   "name": "python3"
  },
  "language_info": {
   "codemirror_mode": {
    "name": "ipython",
    "version": 3
   },
   "file_extension": ".py",
   "mimetype": "text/x-python",
   "name": "python",
   "nbconvert_exporter": "python",
   "pygments_lexer": "ipython3",
   "version": "3.8.8"
  }
 },
 "nbformat": 4,
 "nbformat_minor": 5
}
