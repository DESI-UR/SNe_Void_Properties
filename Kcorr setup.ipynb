{
 "cells": [
  {
   "cell_type": "markdown",
   "id": "2bd88be4",
   "metadata": {},
   "source": [
    "Lets start by creating an empty table to store in for out kcoor table"
   ]
  },
  {
   "cell_type": "code",
   "execution_count": 3,
   "id": "2a7470b4",
   "metadata": {},
   "outputs": [],
   "source": [
    "from astropy.table import Table\n",
    "from astropy.coordinates import SkyCoord\n",
    "from astropy.coordinates import match_coordinates_sky \n",
    "from astropy.table import join\n",
    "from astropy.table import unique\n",
    "\n",
    "import astropy.units as u\n",
    "import numpy as np"
   ]
  },
  {
   "cell_type": "code",
   "execution_count": 4,
   "id": "82462b47",
   "metadata": {},
   "outputs": [
    {
     "data": {
      "text/html": [
       "<i>Table length=1171</i>\n",
       "<table id=\"table4748794848\" class=\"table-striped table-bordered table-condensed\">\n",
       "<thead><tr><th>event</th><th>alias</th><th>catalog</th><th>claimedtype</th><th>dec</th><th>discoverdate</th><th>discoverer</th><th>download</th><th>ebv</th><th>host</th><th>hostdec</th><th>hostoffsetang</th><th>hostoffsetdist</th><th>hostra</th><th>instruments</th><th>lumdist</th><th>maxabsmag</th><th>maxappmag</th><th>maxdate</th><th>name</th><th>photolink</th><th>ra</th><th>radiolink</th><th>redshift</th><th>references</th><th>spectralink</th><th>velocity</th><th>xraylink</th><th>z</th><th>uflux</th><th>uflux_ivar</th><th>gflux</th><th>gflux_ivar</th><th>rflux</th><th>rflux_ivar</th><th>iflux</th><th>iflux_ivar</th><th>zflux</th><th>zflux_ivar</th><th>umag</th><th>umag_er</th><th>gmag</th><th>gmag_er</th><th>rmag</th><th>rmag_er</th><th>imag</th><th>imag_er</th><th>zmag</th><th>zmag_er</th><th>Rgal</th><th>vflag</th></tr></thead>\n",
       "<thead><tr><th>str23</th><th>str140</th><th>str3</th><th>str10</th><th>float64</th><th>str10</th><th>str79</th><th>str1</th><th>float64</th><th>str65</th><th>str48</th><th>float64</th><th>float64</th><th>str33</th><th>str142</th><th>float64</th><th>float64</th><th>float64</th><th>str10</th><th>str23</th><th>str16</th><th>float64</th><th>int64</th><th>str27</th><th>str99</th><th>str13</th><th>float64</th><th>int64</th><th>float64</th><th>float64</th><th>float64</th><th>float64</th><th>float64</th><th>float64</th><th>float64</th><th>float64</th><th>float64</th><th>float64</th><th>float64</th><th>float64</th><th>float64</th><th>float64</th><th>float64</th><th>float64</th><th>float64</th><th>float64</th><th>float64</th><th>float64</th><th>float64</th><th>float64</th><th>int64</th></tr></thead>\n",
       "<tr><td>ASASSN-13dn</td><td>ASASSN-13dn,CSS140102:125258+322506</td><td>sne</td><td>II</td><td>32.41925</td><td>2013/12/15</td><td>ASAS-SN</td><td>--</td><td>0.0129</td><td>SDSS J125258.03+322444.3</td><td>+32:24:44.3</td><td>21.42</td><td>10.19</td><td>12:52:58.03</td><td>--</td><td>102.68</td><td>-19.333</td><td>15.7</td><td>2013/12/14</td><td>ASASSN-13dn</td><td>1,0</td><td>193.2425</td><td>--</td><td>0.022805</td><td>2013ATel.5665....1S,2016A&amp;A...594A..13P,2013ATel.5667....1M,2011ApJ...737..103S</td><td>--</td><td>6758.8</td><td>--</td><td>0.022805</td><td>57.79485</td><td>0.01211324</td><td>289.8477</td><td>0.02161896</td><td>397.9104</td><td>0.04201692</td><td>365.166</td><td>0.005848842</td><td>227.4242</td><td>0.0005445918</td><td>18.09527</td><td>0.1706868</td><td>16.34458</td><td>0.02547633</td><td>16.00054</td><td>0.01331149</td><td>16.09377</td><td>0.03887754</td><td>16.6079</td><td>0.2045704</td><td>68.06171417236328</td><td>0</td></tr>\n",
       "<tr><td>ASASSN-14az</td><td>ASASSN-14az,Gaia14age,MLS140831:234448-020701</td><td>sne</td><td>IIb</td><td>-2.117547222222222</td><td>2014/05/20</td><td>ASAS-SN</td><td>e</td><td>0.0274</td><td>PGC 1101367,GALEXASC J234448.27-020653.4</td><td>-02:06:53.4</td><td>8.94</td><td>1.28</td><td>23:44:48.27</td><td>C, u, g, r, R, i</td><td>29.943</td><td>-16.734</td><td>15.64</td><td>2014/07/22</td><td>ASASSN-14az</td><td>25,-36.1,67</td><td>356.2</td><td>--</td><td>0.006731</td><td>2009ApJ...696..870D,2014ATel.6151....1D,2014ATel.6185....1B,2016A&amp;A...594A..13P,2011ApJ...737..103S</td><td>1,-53.1</td><td>2011.0</td><td>--</td><td>0.006731</td><td>105.3499</td><td>0.01638733</td><td>276.2211</td><td>0.1078128</td><td>393.7222</td><td>0.04989673</td><td>465.4725</td><td>0.01249947</td><td>393.5354</td><td>0.0007667065</td><td>17.44341</td><td>0.08050719</td><td>16.39686</td><td>0.01197105</td><td>16.01203</td><td>0.01234521</td><td>15.83027</td><td>0.02086336</td><td>16.01254</td><td>0.09963752</td><td>20.152389526367188</td><td>9</td></tr>\n",
       "<tr><td>ASASSN-14bu</td><td>ASASSN-14bu</td><td>sne</td><td>II</td><td>25.166633333333333</td><td>2014/05/29</td><td>ASAS-SN</td><td>--</td><td>0.0139</td><td>SDSS J111840.97+250958.5</td><td>+25:09:58.5</td><td>1.48</td><td>0.784</td><td>11:18:40.97</td><td>--</td><td>114.6</td><td>-18.17</td><td>17.1</td><td>2014/05/28</td><td>ASASSN-14bu</td><td>1,0</td><td>169.67095833333335</td><td>--</td><td>0.0254</td><td>2014ATel.6169....1B,2014ATel.6196....1D,2016A&amp;A...594A..13P,2011ApJ...737..103S</td><td>--</td><td>7520.0</td><td>--</td><td>0.0254</td><td>22.2714</td><td>0.1204268</td><td>53.14648</td><td>0.8450133</td><td>74.92245</td><td>0.3735397</td><td>89.48361</td><td>0.1353606</td><td>96.55038</td><td>0.009277737</td><td>19.13059</td><td>0.1404691</td><td>18.18631</td><td>0.02222366</td><td>17.81347</td><td>0.02371056</td><td>17.62064</td><td>0.03297852</td><td>17.53805</td><td>0.1167343</td><td>75.767333984375</td><td>0</td></tr>\n",
       "<tr><td>ASASSN-15bd</td><td>ASASSN-15bd</td><td>sne</td><td>IIb</td><td>16.610583333333334</td><td>2015/01/08</td><td>ASAS-SN</td><td>--</td><td>0.0294</td><td>SDSS J155438.39+163637.6</td><td>+16:36:37.6</td><td>1.08</td><td>0.182</td><td>15:54:38.39</td><td>--</td><td>35.38</td><td>-16.535</td><td>16.2</td><td>2015/01/28</td><td>ASASSN-15bd</td><td>1,0</td><td>238.65970833333333</td><td>--</td><td>0.007946</td><td>2015ATel.6945....1K,2016A&amp;A...594A..13P,2015ATel.6956....1C,2011ApJ...737..103S</td><td>--</td><td>2373.0</td><td>--</td><td>0.007946</td><td>82.5851</td><td>0.1384537</td><td>164.0936</td><td>0.8550192</td><td>233.7789</td><td>0.3454179</td><td>257.4846</td><td>0.1057257</td><td>258.7754</td><td>0.01085449</td><td>17.70774</td><td>0.03533197</td><td>16.96227</td><td>0.007155575</td><td>16.57799</td><td>0.007902169</td><td>16.47312</td><td>0.01296828</td><td>16.46768</td><td>0.04027074</td><td>23.784515380859375</td><td>1</td></tr>\n",
       "<tr><td>ASASSN-15ik</td><td>ASASSN-15ik</td><td>sne</td><td>IIn</td><td>3.500738888888889</td><td>2015/05/11</td><td>ASAS-SN</td><td>--</td><td>0.0469</td><td>SDSS J110204.81+033003.1</td><td>+03:30:03.1</td><td>1.46</td><td>1.05</td><td>11:02:04.81</td><td>--</td><td>158.1</td><td>-19.36</td><td>16.6</td><td>2015/05/10</td><td>ASASSN-15ik</td><td>1,0</td><td>165.51979166666666</td><td>--</td><td>0.0348</td><td>2015ATel.7491....1B,2016A&amp;A...594A..13P,2015ATel.7497....1C,2011ApJ...737..103S</td><td>--</td><td>10300.0</td><td>--</td><td>0.0348</td><td>20.4322</td><td>0.3889205</td><td>48.35931</td><td>1.340777</td><td>63.42532</td><td>0.6906829</td><td>71.69273</td><td>0.3366273</td><td>67.40577</td><td>0.02625342</td><td>19.22416</td><td>0.08519968</td><td>18.2888</td><td>0.01938934</td><td>17.99434</td><td>0.02059772</td><td>17.86131</td><td>0.02610172</td><td>17.92813</td><td>0.099387</td><td>103.61311340332031</td><td>2</td></tr>\n",
       "<tr><td>ASASSN-15mj</td><td>ASASSN-15mj</td><td>sne</td><td>Ib</td><td>33.66119166666667</td><td>2015/07/12</td><td>ASAS-SN</td><td>--</td><td>0.0124</td><td>PGC 2036567,2MASX J14021617+3339415,2MASX J14021617+3339</td><td>+33:39:41.5</td><td>6.76</td><td>4.78</td><td>14:02:16.17</td><td>UVOT (W2, W1, M2, U, B, V)</td><td>156.08</td><td>-20.33</td><td>15.6</td><td>2015/07/15</td><td>ASASSN-15mj</td><td>31,-0.405,18.2</td><td>210.56516666666667</td><td>--</td><td>0.034371</td><td>2014Ap&amp;SS.354...89B,2015ATel.7790....1M,2016A&amp;A...594A..13P,2015ATel.7796....1T,2015ATel.7821....1S</td><td>1,-2.42</td><td>10127.0</td><td>--</td><td>0.034371</td><td>134.0998</td><td>0.1752943</td><td>307.2719</td><td>0.6369277</td><td>428.1317</td><td>0.2813141</td><td>530.9556</td><td>0.1187199</td><td>553.6156</td><td>0.009018575</td><td>17.18143</td><td>0.01933799</td><td>16.28119</td><td>0.004427476</td><td>15.92106</td><td>0.004781357</td><td>15.68735</td><td>0.005934775</td><td>15.64198</td><td>0.02065121</td><td>102.3444595336914</td><td>0</td></tr>\n",
       "<tr><td>ASASSN-15mm</td><td>ASASSN-15mm</td><td>sne</td><td>II</td><td>29.173472222222223</td><td>2015/07/13</td><td>ASAS-SN</td><td>--</td><td>0.0201</td><td>SDSS J152523.40+291018.8</td><td>+29:10:18.8</td><td>6.97</td><td>3.13</td><td>15:25:23.40</td><td>--</td><td>96.5551</td><td>-19.1008</td><td>15.8</td><td>2015/07/19</td><td>ASASSN-15mm</td><td>1,0</td><td>231.34791666666666</td><td>--</td><td>0.021466</td><td>2015ATel.7792....1B,2016A&amp;A...594A..13P,2015ATel.7802....1P,2011ApJ...737..103S</td><td>--</td><td>6366.3</td><td>--</td><td>0.021466</td><td>112.5747</td><td>0.05534764</td><td>331.2003</td><td>0.2909908</td><td>528.8437</td><td>0.1355199</td><td>698.1917</td><td>0.0508919</td><td>822.7266</td><td>0.003699061</td><td>17.3714</td><td>0.04099515</td><td>16.19977</td><td>0.006077065</td><td>15.69168</td><td>0.005576934</td><td>15.39006</td><td>0.006893269</td><td>15.21186</td><td>0.02169813</td><td>64.08232879638672</td><td>1</td></tr>\n",
       "<tr><td>ASASSN-15no</td><td>ASASSN-15no</td><td>sne</td><td>Ic</td><td>46.901833333333336</td><td>2015/08/03</td><td>ASAS-SN</td><td>e</td><td>0.014</td><td>SDSS J153825.20+465404.1</td><td>+46:54:04.1</td><td>3.1</td><td>2.7</td><td>15:38:25.20</td><td>AFOSC (u, B, g, V, r, i, z), ALFOSC-FASU (u, B, g, V, r, i, z), ASASSN (V), LRS (u, B, g, V, r, i, z), MEIA2 (U, B, V, R, I), OSIRIS (r, i, z)</td><td>196.0</td><td>-20.1</td><td>16.32</td><td>2015/08/09</td><td>ASASSN-15no</td><td>106,-5.98,279</td><td>234.60541666666668</td><td>--</td><td>0.043</td><td>2018arXiv180108318B,2015ATel.7869....1H,2016A&amp;A...594A..13P,2015ATel.7931....1B,2011ApJ...737..103S</td><td>--</td><td>13000.0</td><td>--</td><td>0.043</td><td>16.05391</td><td>0.2999547</td><td>36.6414</td><td>1.417387</td><td>44.97916</td><td>1.004878</td><td>56.88084</td><td>0.3144699</td><td>41.00881</td><td>0.02023845</td><td>19.48597</td><td>0.1234666</td><td>18.59006</td><td>0.02488874</td><td>18.36746</td><td>0.02407965</td><td>18.11257</td><td>0.03403769</td><td>18.46745</td><td>0.1859841</td><td>127.81721496582031</td><td>1</td></tr>\n",
       "<tr><td>ASASSN-15rb</td><td>ASASSN-15rb</td><td>sne</td><td>IIn</td><td>19.29982777777778</td><td>2015/10/12</td><td>ASAS-SN</td><td>--</td><td>0.0221</td><td>SDSS J100807.76+191758.2</td><td>+19:17:58.2</td><td>7.13</td><td>4.93</td><td>10:08:07.76</td><td>--</td><td>152.372</td><td>-19.1787</td><td>16.7</td><td>2015/10/11</td><td>ASASSN-15rb</td><td>1,0</td><td>152.03433333333334</td><td>--</td><td>0.033574</td><td>2015ATel.8157....1B,2016A&amp;A...594A..13P,2015ATel.8297....1P,2011ApJ...737..103S</td><td>--</td><td>9896.4</td><td>--</td><td>0.033574</td><td>55.86733</td><td>0.1095179</td><td>155.1267</td><td>0.476595</td><td>219.1077</td><td>0.512028</td><td>271.9549</td><td>0.10289</td><td>293.2064</td><td>0.005903752</td><td>18.1321</td><td>0.05872438</td><td>17.02328</td><td>0.01013824</td><td>16.64836</td><td>0.006924998</td><td>16.41376</td><td>0.01244631</td><td>16.33206</td><td>0.04819271</td><td>99.98723602294922</td><td>1</td></tr>\n",
       "<tr><td>ASASSN-15tm</td><td>ASASSN-15tm,PS15dqg</td><td>sne</td><td>II P</td><td>29.408658333333335</td><td>2015/12/04</td><td>ASAS-SN</td><td>--</td><td>0.1119</td><td>2MASX J23273537+2924275</td><td>+29:24:27.5</td><td>4.47</td><td>1.51</td><td>23:27:35.37</td><td>GPC (z)</td><td>71.7</td><td>-17.1</td><td>17.2</td><td>2015/12/03</td><td>ASASSN-15tm</td><td>5,0,61.7</td><td>351.8983333333333</td><td>--</td><td>0.016</td><td>2015ATel.8365....1M,2016A&amp;A...594A..13P,2015ATel.8393....1S,2011ApJ...737..103S</td><td>--</td><td>4800.0</td><td>--</td><td>0.016</td><td>92.59193</td><td>0.0610762</td><td>292.0492</td><td>0.3309996</td><td>477.6998</td><td>0.1062794</td><td>610.6054</td><td>0.03273705</td><td>652.2299</td><td>0.002076703</td><td>17.58356</td><td>0.04744748</td><td>16.33636</td><td>0.006461815</td><td>15.80211</td><td>0.006971796</td><td>15.5356</td><td>0.009827517</td><td>15.464</td><td>0.0365288</td><td>47.81638717651367</td><td>9</td></tr>\n",
       "<tr><td>...</td><td>...</td><td>...</td><td>...</td><td>...</td><td>...</td><td>...</td><td>...</td><td>...</td><td>...</td><td>...</td><td>...</td><td>...</td><td>...</td><td>...</td><td>...</td><td>...</td><td>...</td><td>...</td><td>...</td><td>...</td><td>...</td><td>...</td><td>...</td><td>...</td><td>...</td><td>...</td><td>...</td><td>...</td><td>...</td><td>...</td><td>...</td><td>...</td><td>...</td><td>...</td><td>...</td><td>...</td><td>...</td><td>...</td><td>...</td><td>...</td><td>...</td><td>...</td><td>...</td><td>...</td><td>...</td><td>...</td><td>...</td><td>...</td><td>...</td><td>...</td></tr>\n",
       "<tr><td>SN2019gbm</td><td>SN2019gbm,PS19bez,AT2019gbm,ZTF19aavjlkx</td><td>sne</td><td>II</td><td>27.003141666666668</td><td>2019/05/29</td><td>ZTF</td><td>--</td><td>--</td><td>2MASX J15574237+2700167</td><td>+27:00:16.7</td><td>5.616</td><td>9.098</td><td>15:57:42.37</td><td>GPC (w)</td><td>392.248</td><td>-19.0808</td><td>18.8</td><td>2019/05/28</td><td>SN2019gbm</td><td>21,0,35</td><td>239.42605</td><td>--</td><td>0.083443</td><td>2016A&amp;A...594A..13P</td><td>--</td><td>23975.0</td><td>--</td><td>0.083443</td><td>41.88491</td><td>0.1512944</td><td>204.1775</td><td>0.7056358</td><td>459.962</td><td>0.3263729</td><td>705.5726</td><td>0.1164586</td><td>970.6692</td><td>0.00833902</td><td>18.44484</td><td>0.06664164</td><td>16.72498</td><td>0.006330325</td><td>15.84319</td><td>0.004131857</td><td>15.37865</td><td>0.004509172</td><td>15.03232</td><td>0.01224884</td><td>245.99769592285156</td><td>0</td></tr>\n",
       "<tr><td>SN2019gqs</td><td>SN2019gqs,PS19bhg,AT2019gqs,ZTF19aavkptg</td><td>sne</td><td>II P</td><td>49.153502777777774</td><td>2019/05/16</td><td>ZTF</td><td>--</td><td>--</td><td>SDSS J113616.32+490914.2</td><td>+49:09:14.2</td><td>5.512</td><td>4.277</td><td>11:36:16.32</td><td>GPC (i)</td><td>172.41</td><td>-17.072</td><td>19.07</td><td>2019/06/15</td><td>SN2019gqs</td><td>5,-29.9,-0.202</td><td>174.06575833333332</td><td>--</td><td>0.03787</td><td>2016A&amp;A...594A..13P</td><td>--</td><td>11140.0</td><td>--</td><td>0.03787</td><td>17.59455</td><td>0.1487394</td><td>86.13489</td><td>0.07802182</td><td>169.2765</td><td>0.003917609</td><td>234.7833</td><td>0.001256945</td><td>272.4641</td><td>0.001117723</td><td>19.38649</td><td>0.1599846</td><td>17.66205</td><td>0.04512698</td><td>16.92851</td><td>0.1024747</td><td>16.57333</td><td>0.1304363</td><td>16.41172</td><td>0.1191905</td><td>112.68427276611328</td><td>0</td></tr>\n",
       "<tr><td>SN2019hty</td><td>SN2019hty,PS19bhn,AT2019hty,ATLAS19nhp</td><td>sne</td><td>Ib-Ca-rich</td><td>32.20610277777778</td><td>2019/06/19</td><td>ATLAS</td><td>--</td><td>--</td><td>2MASX J12553453+3212213</td><td>+32:12:21.3</td><td>19.3</td><td>9.19</td><td>12:55:34.53</td><td>GPC (z, y)</td><td>102.79</td><td>-15.815</td><td>19.22</td><td>2019/06/18</td><td>SN2019hty</td><td>13,-6.11,-0.15</td><td>193.88754166666666</td><td>--</td><td>0.02283</td><td>2016A&amp;A...594A..13P</td><td>--</td><td>6766.0</td><td>--</td><td>0.02283</td><td>144.3588</td><td>0.04745553</td><td>650.595</td><td>0.01226634</td><td>1328.858</td><td>0.003426767</td><td>1906.523</td><td>0.001726167</td><td>2390.086</td><td>0.0009947505</td><td>17.10139</td><td>0.03452525</td><td>15.46672</td><td>0.01506802</td><td>14.6913</td><td>0.01395736</td><td>14.29939</td><td>0.01370695</td><td>14.05397</td><td>0.01440302</td><td>68.1360092163086</td><td>0</td></tr>\n",
       "<tr><td>SN2019krw</td><td>SN2019krw,PS19dro,AT2019krw,ZTF19abdoior</td><td>sne</td><td>Ic</td><td>40.22581666666667</td><td>2019/07/05</td><td>ZTF</td><td>--</td><td>--</td><td>2MASX J17501063+4013391</td><td>+40:13:39.1</td><td>7.139</td><td>6.942</td><td>17:50:10.63</td><td>GPC (i)</td><td>215.0</td><td>-18.0</td><td>18.63</td><td>2019/07/13</td><td>SN2019krw</td><td>5,-8.6,0.00642</td><td>267.54297916666667</td><td>--</td><td>0.047</td><td>2016A&amp;A...594A..13P</td><td>--</td><td>14000.0</td><td>--</td><td>0.047</td><td>56.0745</td><td>0.08280782</td><td>201.8898</td><td>0.290465</td><td>340.5638</td><td>0.1620785</td><td>482.6163</td><td>0.05890742</td><td>543.826</td><td>0.002683573</td><td>18.12808</td><td>0.06728493</td><td>16.73721</td><td>0.009978446</td><td>16.1695</td><td>0.007918867</td><td>15.79099</td><td>0.009269092</td><td>15.66135</td><td>0.03853949</td><td>139.59474182128906</td><td>9</td></tr>\n",
       "<tr><td>SN2019lsm</td><td>SN2019lsm,AT2019lsm,ASASSN-19sf</td><td>sne</td><td>Ibn</td><td>14.777111111111111</td><td>2019/07/25</td><td>ASAS-SN</td><td>--</td><td>--</td><td>SDSS J143502.16+144639.5</td><td>+14:46:39.5</td><td>7.28</td><td>6.19</td><td>14:35:02.16</td><td>ACAM1 (cyan, orange), Brutus (g), Cassius (g), ZTF-Cam (g, r)</td><td>190.28</td><td>-18.413</td><td>17.94</td><td>2019/07/25</td><td>SN2019lsm</td><td>6,-5.08,1.72</td><td>218.76088333333334</td><td>--</td><td>0.04168</td><td>2016A&amp;A...594A..13P</td><td>1,5.26</td><td>12240.0</td><td>--</td><td>0.04168</td><td>26.64935</td><td>0.0651572</td><td>72.89272</td><td>0.4135602</td><td>100.9699</td><td>0.2174523</td><td>121.405</td><td>0.09541602</td><td>145.4232</td><td>0.004538557</td><td>18.93575</td><td>0.1595998</td><td>17.84329</td><td>0.02316165</td><td>17.48952</td><td>0.02305945</td><td>17.28941</td><td>0.02895178</td><td>17.09339</td><td>0.1108177</td><td>123.92646026611328</td><td>0</td></tr>\n",
       "<tr><td>SN2019vxm</td><td>SN2019vxm,AT2019vxm,ASASSN-19acc,Gaia19fje</td><td>sne</td><td>IIn</td><td>62.13778888888889</td><td>2019/12/01</td><td>ASAS-SN</td><td>--</td><td>--</td><td>SDSS J195828.83+620824.3</td><td>+62:08:24.3</td><td>8.81</td><td>3.52</td><td>19:58:28.83</td><td>ACAM1 (cyan), Astrometric, Leavitt (g), Paczynski (g)</td><td>85.3</td><td>-19.9</td><td>14.72</td><td>2020/01/05</td><td>SN2019vxm</td><td>27,-44.5,471</td><td>299.61932916666666</td><td>--</td><td>0.019</td><td>2016A&amp;A...594A..13P</td><td>1,-34.1</td><td>5600.0</td><td>--</td><td>0.019</td><td>3.599046</td><td>0.08581851</td><td>18.72799</td><td>0.4210892</td><td>38.20009</td><td>0.4628542</td><td>45.80413</td><td>0.1087426</td><td>-0.7725716</td><td>0.00552433</td><td>21.10789</td><td>1.026682</td><td>19.31875</td><td>0.08933589</td><td>18.54483</td><td>0.04177623</td><td>18.34772</td><td>0.07187972</td><td>23.37067</td><td>8.749742</td><td>56.74826431274414</td><td>9</td></tr>\n",
       "<tr><td>SN2020bwr</td><td>SN2020bwr,AT2020bwr,ASASSN-20bu,Gaia20bap</td><td>sne</td><td>II</td><td>36.207522222222224</td><td>2020/01/22</td><td>ASAS-SN</td><td>--</td><td>--</td><td>2MASS J16345923+3612274</td><td>+36:12:27.4</td><td>0.94</td><td>1.1</td><td>16:34:59.23</td><td>ACAM1 (cyan, orange), Astrometric, Cassius (g), GPC1 (i), Leavitt (g)</td><td>280.584</td><td>-19.7764</td><td>17.4</td><td>2020/02/03</td><td>SN2020bwr</td><td>10,-11.1,53.7</td><td>248.7472875</td><td>--</td><td>0.060637</td><td>2016A&amp;A...594A..13P</td><td>--</td><td>17628.0</td><td>--</td><td>0.060637</td><td>17.14531</td><td>0.1156139</td><td>62.7439</td><td>0.9022805</td><td>112.9721</td><td>0.2209432</td><td>162.3629</td><td>0.07577656</td><td>231.3473</td><td>0.007750906</td><td>19.41456</td><td>0.1862155</td><td>18.00607</td><td>0.01821714</td><td>17.36757</td><td>0.02044616</td><td>16.97378</td><td>0.02429232</td><td>16.58933</td><td>0.05330583</td><td>179.60125732421875</td><td>0</td></tr>\n",
       "<tr><td>SN2020hvn</td><td>SN2020hvn,AT2020hvn,ASASSN-20ed</td><td>sne</td><td>II</td><td>30.11199722222222</td><td>2020/04/20</td><td>ASAS-SN</td><td>--</td><td>--</td><td>2MASX J11193797+3006422</td><td>+30:06:42.2</td><td>0.63</td><td>0.31</td><td>11:19:37.97</td><td>ACAM1 (cyan, orange), Leavitt (g), ZTF-Cam (g, r)</td><td>105.342</td><td>-17.3879</td><td>17.7</td><td>2020/04/20</td><td>SN2020hvn</td><td>7,-0.176,8.55</td><td>169.9084083333333</td><td>--</td><td>0.023386</td><td>2016A&amp;A...594A..13P</td><td>1,16.4</td><td>6929.0</td><td>--</td><td>0.023386</td><td>70.98649</td><td>0.1903186</td><td>215.3461</td><td>0.6864881</td><td>355.9403</td><td>0.1520005</td><td>464.3573</td><td>0.07649578</td><td>571.3288</td><td>0.007028054</td><td>17.87206</td><td>0.03505941</td><td>16.66716</td><td>0.006085142</td><td>16.12156</td><td>0.007823925</td><td>15.83287</td><td>0.008453823</td><td>15.60778</td><td>0.02266831</td><td>69.78759002685547</td><td>0</td></tr>\n",
       "<tr><td>SNLS-04D1ln</td><td>SNLS-04D1ln</td><td>sne</td><td>II P</td><td>-4.451041666666667</td><td>2004/12/14</td><td>--</td><td>--</td><td>0.0223</td><td>[HSP2005] J022553.48-042703.75</td><td>-04:27:03.75</td><td>0.02991</td><td>0.0634</td><td>02:25:53.48</td><td>g, r, i, z</td><td>1055.0</td><td>-17.731</td><td>22.18</td><td>2004/10/21</td><td>SNLS-04D1ln</td><td>42,-14.1,66</td><td>36.47284166666667</td><td>--</td><td>0.2077,0.2072</td><td>2006ApJ...645..841N,2005ApJ...634.1190H,2016A&amp;A...594A..13P,2009ApJ...694.1067P,2011ApJ...737..103S</td><td>--</td><td>55910.0</td><td>--</td><td>0.2077</td><td>0.5420292</td><td>0.5103787</td><td>5.731681</td><td>4.16646</td><td>10.07356</td><td>2.995677</td><td>14.22382</td><td>0.5248947</td><td>18.52826</td><td>0.02329367</td><td>23.09884</td><td>2.491107</td><td>20.60403</td><td>0.09275657</td><td>19.99189</td><td>0.06225446</td><td>19.61728</td><td>0.1053253</td><td>19.32869</td><td>0.3827275</td><td>596.2523803710938</td><td>9</td></tr>\n",
       "<tr><td>iPTF13daz</td><td>iPTF13daz,PS19cyi</td><td>sne</td><td>IIn</td><td>24.68761111111111</td><td>2013/08/29</td><td>PTF</td><td>--</td><td>0.0459</td><td>2MASX J16555614+2441158</td><td>+24:41:15.8</td><td>4.923</td><td>4.568</td><td>16:55:56.14</td><td>GPC (w)</td><td>206.0</td><td>-17.9</td><td>18.6</td><td>2013/08/28</td><td>iPTF13daz</td><td>9,0,2040</td><td>253.98541666666665</td><td>--</td><td>0.045</td><td>2013ATel.5387....1A,2012PASP..124..668Y,2016A&amp;A...594A..13P,2011ApJ...737..103S</td><td>1,0.478</td><td>13000.0</td><td>--</td><td>0.045</td><td>108.7012</td><td>0.01648403</td><td>345.8535</td><td>0.002868145</td><td>571.7316</td><td>0.0008093907</td><td>762.3602</td><td>0.0005120715</td><td>840.717</td><td>0.0003118862</td><td>17.40941</td><td>0.07779592</td><td>16.15277</td><td>0.05861806</td><td>15.60702</td><td>0.06675026</td><td>15.2946</td><td>0.06293594</td><td>15.18837</td><td>0.07312666</td><td>133.70843505859375</td><td>2</td></tr>\n",
       "</table>"
      ],
      "text/plain": [
       "<Table length=1171>\n",
       "   event                        alias                     ... vflag\n",
       "   str23                        str140                    ... int64\n",
       "----------- --------------------------------------------- ... -----\n",
       "ASASSN-13dn           ASASSN-13dn,CSS140102:125258+322506 ...     0\n",
       "ASASSN-14az ASASSN-14az,Gaia14age,MLS140831:234448-020701 ...     9\n",
       "ASASSN-14bu                                   ASASSN-14bu ...     0\n",
       "ASASSN-15bd                                   ASASSN-15bd ...     1\n",
       "ASASSN-15ik                                   ASASSN-15ik ...     2\n",
       "ASASSN-15mj                                   ASASSN-15mj ...     0\n",
       "ASASSN-15mm                                   ASASSN-15mm ...     1\n",
       "ASASSN-15no                                   ASASSN-15no ...     1\n",
       "ASASSN-15rb                                   ASASSN-15rb ...     1\n",
       "ASASSN-15tm                           ASASSN-15tm,PS15dqg ...     9\n",
       "        ...                                           ... ...   ...\n",
       "  SN2019gbm      SN2019gbm,PS19bez,AT2019gbm,ZTF19aavjlkx ...     0\n",
       "  SN2019gqs      SN2019gqs,PS19bhg,AT2019gqs,ZTF19aavkptg ...     0\n",
       "  SN2019hty        SN2019hty,PS19bhn,AT2019hty,ATLAS19nhp ...     0\n",
       "  SN2019krw      SN2019krw,PS19dro,AT2019krw,ZTF19abdoior ...     9\n",
       "  SN2019lsm               SN2019lsm,AT2019lsm,ASASSN-19sf ...     0\n",
       "  SN2019vxm    SN2019vxm,AT2019vxm,ASASSN-19acc,Gaia19fje ...     9\n",
       "  SN2020bwr     SN2020bwr,AT2020bwr,ASASSN-20bu,Gaia20bap ...     0\n",
       "  SN2020hvn               SN2020hvn,AT2020hvn,ASASSN-20ed ...     0\n",
       "SNLS-04D1ln                                   SNLS-04D1ln ...     9\n",
       "  iPTF13daz                             iPTF13daz,PS19cyi ...     2"
      ]
     },
     "execution_count": 4,
     "metadata": {},
     "output_type": "execute_result"
    }
   ],
   "source": [
    "valflux_tb = Table.read('/Users/urdesi/Documents/SNe_Void_properties/NewQuery_info/4kcorr_cuts-8-9.txt', format = 'ascii.commented_header')\n",
    "valflux_tb "
   ]
  },
  {
   "cell_type": "code",
   "execution_count": 5,
   "id": "a7681796",
   "metadata": {},
   "outputs": [],
   "source": [
    "kcorrect_table = Table()\n",
    "kcorrect_table['red_shift'] = valflux_tb['z']\n",
    "\n",
    "flux_cols = ['uflux', 'gflux', 'rflux', 'iflux', 'zflux']\n",
    "ivar_cols = ['uflux_ivar', 'gflux_ivar', 'rflux_ivar', 'iflux_ivar', 'zflux_ivar']\n",
    "\n",
    "for colname in flux_cols:\n",
    "    kcorrect_table[colname] = 1e-9 * valflux_tb[colname]\n",
    "    \n",
    "for colname in ivar_cols:\n",
    "    kcorrect_table[colname] = 1e18 * valflux_tb[colname]  "
   ]
  },
  {
   "cell_type": "code",
   "execution_count": 6,
   "id": "396442cd",
   "metadata": {},
   "outputs": [
    {
     "data": {
      "text/html": [
       "<i>Table length=1171</i>\n",
       "<table id=\"table4748895904\" class=\"table-striped table-bordered table-condensed\">\n",
       "<thead><tr><th>red_shift</th><th>uflux</th><th>gflux</th><th>rflux</th><th>iflux</th><th>zflux</th><th>uflux_ivar</th><th>gflux_ivar</th><th>rflux_ivar</th><th>iflux_ivar</th><th>zflux_ivar</th></tr></thead>\n",
       "<thead><tr><th>float64</th><th>float64</th><th>float64</th><th>float64</th><th>float64</th><th>float64</th><th>float64</th><th>float64</th><th>float64</th><th>float64</th><th>float64</th></tr></thead>\n",
       "<tr><td>0.022805</td><td>5.779485e-08</td><td>2.898477e-07</td><td>3.979104e-07</td><td>3.6516600000000003e-07</td><td>2.2742420000000002e-07</td><td>1.211324e+16</td><td>2.161896e+16</td><td>4.201692e+16</td><td>5848842000000000.0</td><td>544591800000000.06</td></tr>\n",
       "<tr><td>0.006731</td><td>1.0534990000000001e-07</td><td>2.762211e-07</td><td>3.937222e-07</td><td>4.6547250000000007e-07</td><td>3.935354e-07</td><td>1.6387329999999998e+16</td><td>1.078128e+17</td><td>4.989673e+16</td><td>1.249947e+16</td><td>766706500000000.0</td></tr>\n",
       "<tr><td>0.0254</td><td>2.22714e-08</td><td>5.314648e-08</td><td>7.492245e-08</td><td>8.948361000000001e-08</td><td>9.655038000000002e-08</td><td>1.204268e+17</td><td>8.450133e+17</td><td>3.735397e+17</td><td>1.353606e+17</td><td>9277737000000000.0</td></tr>\n",
       "<tr><td>0.007946</td><td>8.25851e-08</td><td>1.6409360000000002e-07</td><td>2.337789e-07</td><td>2.574846e-07</td><td>2.587754e-07</td><td>1.3845370000000002e+17</td><td>8.550192e+17</td><td>3.454179e+17</td><td>1.057257e+17</td><td>1.085449e+16</td></tr>\n",
       "<tr><td>0.0348</td><td>2.04322e-08</td><td>4.835931e-08</td><td>6.342532e-08</td><td>7.169273e-08</td><td>6.740577000000001e-08</td><td>3.889205e+17</td><td>1.340777e+18</td><td>6.906829e+17</td><td>3.366273e+17</td><td>2.625342e+16</td></tr>\n",
       "<tr><td>0.034371</td><td>1.340998e-07</td><td>3.0727190000000003e-07</td><td>4.2813170000000004e-07</td><td>5.309556000000001e-07</td><td>5.536156e-07</td><td>1.752943e+17</td><td>6.369277e+17</td><td>2.813141e+17</td><td>1.187199e+17</td><td>9018575000000000.0</td></tr>\n",
       "<tr><td>0.021466</td><td>1.1257470000000001e-07</td><td>3.3120030000000003e-07</td><td>5.288437e-07</td><td>6.981917e-07</td><td>8.227266e-07</td><td>5.534764e+16</td><td>2.909908e+17</td><td>1.355199e+17</td><td>5.08919e+16</td><td>3699061000000000.0</td></tr>\n",
       "<tr><td>0.043</td><td>1.605391e-08</td><td>3.66414e-08</td><td>4.497916e-08</td><td>5.688084e-08</td><td>4.100881e-08</td><td>2.999547e+17</td><td>1.417387e+18</td><td>1.004878e+18</td><td>3.144699e+17</td><td>2.023845e+16</td></tr>\n",
       "<tr><td>0.033574</td><td>5.5867330000000006e-08</td><td>1.551267e-07</td><td>2.191077e-07</td><td>2.7195490000000004e-07</td><td>2.932064e-07</td><td>1.095179e+17</td><td>4.76595e+17</td><td>5.1202800000000006e+17</td><td>1.0289e+17</td><td>5903752000000000.0</td></tr>\n",
       "<tr><td>0.016</td><td>9.259193000000001e-08</td><td>2.920492e-07</td><td>4.776998e-07</td><td>6.106054e-07</td><td>6.522299000000001e-07</td><td>6.10762e+16</td><td>3.309996e+17</td><td>1.062794e+17</td><td>3.2737049999999996e+16</td><td>2076703000000000.0</td></tr>\n",
       "<tr><td>...</td><td>...</td><td>...</td><td>...</td><td>...</td><td>...</td><td>...</td><td>...</td><td>...</td><td>...</td><td>...</td></tr>\n",
       "<tr><td>0.083443</td><td>4.188491e-08</td><td>2.0417750000000003e-07</td><td>4.59962e-07</td><td>7.055726e-07</td><td>9.706692000000002e-07</td><td>1.512944e+17</td><td>7.056358e+17</td><td>3.263729e+17</td><td>1.164586e+17</td><td>8339020000000001.0</td></tr>\n",
       "<tr><td>0.03787</td><td>1.7594550000000002e-08</td><td>8.613489000000001e-08</td><td>1.692765e-07</td><td>2.3478330000000002e-07</td><td>2.724641e-07</td><td>1.487394e+17</td><td>7.802182e+16</td><td>3917609000000000.0</td><td>1256945000000000.0</td><td>1117722999999999.9</td></tr>\n",
       "<tr><td>0.02283</td><td>1.4435880000000002e-07</td><td>6.50595e-07</td><td>1.328858e-06</td><td>1.906523e-06</td><td>2.390086e-06</td><td>4.745553e+16</td><td>1.226634e+16</td><td>3426767000000000.0</td><td>1726167000000000.0</td><td>994750499999999.9</td></tr>\n",
       "<tr><td>0.047</td><td>5.6074500000000004e-08</td><td>2.0188980000000003e-07</td><td>3.4056380000000005e-07</td><td>4.826163000000001e-07</td><td>5.438260000000001e-07</td><td>8.280782e+16</td><td>2.90465e+17</td><td>1.620785e+17</td><td>5.890742e+16</td><td>2683573000000000.0</td></tr>\n",
       "<tr><td>0.04168</td><td>2.664935e-08</td><td>7.289272e-08</td><td>1.009699e-07</td><td>1.2140500000000002e-07</td><td>1.4542320000000003e-07</td><td>6.51572e+16</td><td>4.135602e+17</td><td>2.174523e+17</td><td>9.541602e+16</td><td>4538557000000000.0</td></tr>\n",
       "<tr><td>0.019</td><td>3.5990460000000003e-09</td><td>1.872799e-08</td><td>3.820009000000001e-08</td><td>4.5804130000000006e-08</td><td>-7.725716e-10</td><td>8.581851e+16</td><td>4.210892e+17</td><td>4.628542e+17</td><td>1.087426e+17</td><td>5524330000000000.0</td></tr>\n",
       "<tr><td>0.060637</td><td>1.714531e-08</td><td>6.27439e-08</td><td>1.129721e-07</td><td>1.6236290000000002e-07</td><td>2.3134730000000002e-07</td><td>1.156139e+17</td><td>9.022805e+17</td><td>2.209432e+17</td><td>7.577656e+16</td><td>7750906000000000.0</td></tr>\n",
       "<tr><td>0.023386</td><td>7.098649e-08</td><td>2.1534610000000002e-07</td><td>3.559403e-07</td><td>4.6435730000000006e-07</td><td>5.713288e-07</td><td>1.903186e+17</td><td>6.864881e+17</td><td>1.520005e+17</td><td>7.649578e+16</td><td>7028054000000000.0</td></tr>\n",
       "<tr><td>0.2077</td><td>5.420292e-10</td><td>5.7316810000000005e-09</td><td>1.0073560000000002e-08</td><td>1.4223820000000001e-08</td><td>1.852826e-08</td><td>5.1037869999999994e+17</td><td>4.16646e+18</td><td>2.995677e+18</td><td>5.2489470000000006e+17</td><td>2.329367e+16</td></tr>\n",
       "<tr><td>0.045</td><td>1.0870120000000001e-07</td><td>3.4585350000000003e-07</td><td>5.717316e-07</td><td>7.623602e-07</td><td>8.40717e-07</td><td>1.648403e+16</td><td>2868145000000000.0</td><td>809390700000000.0</td><td>512071499999999.94</td><td>311886200000000.0</td></tr>\n",
       "</table>"
      ],
      "text/plain": [
       "<Table length=1171>\n",
       "red_shift         uflux          ...       iflux_ivar           zflux_ivar    \n",
       " float64         float64         ...        float64              float64      \n",
       "--------- ---------------------- ... ---------------------- ------------------\n",
       " 0.022805           5.779485e-08 ...     5848842000000000.0 544591800000000.06\n",
       " 0.006731 1.0534990000000001e-07 ...           1.249947e+16  766706500000000.0\n",
       "   0.0254            2.22714e-08 ...           1.353606e+17 9277737000000000.0\n",
       " 0.007946            8.25851e-08 ...           1.057257e+17       1.085449e+16\n",
       "   0.0348            2.04322e-08 ...           3.366273e+17       2.625342e+16\n",
       " 0.034371           1.340998e-07 ...           1.187199e+17 9018575000000000.0\n",
       " 0.021466 1.1257470000000001e-07 ...            5.08919e+16 3699061000000000.0\n",
       "    0.043           1.605391e-08 ...           3.144699e+17       2.023845e+16\n",
       " 0.033574 5.5867330000000006e-08 ...             1.0289e+17 5903752000000000.0\n",
       "    0.016  9.259193000000001e-08 ... 3.2737049999999996e+16 2076703000000000.0\n",
       "      ...                    ... ...                    ...                ...\n",
       " 0.083443           4.188491e-08 ...           1.164586e+17 8339020000000001.0\n",
       "  0.03787 1.7594550000000002e-08 ...     1256945000000000.0 1117722999999999.9\n",
       "  0.02283 1.4435880000000002e-07 ...     1726167000000000.0  994750499999999.9\n",
       "    0.047 5.6074500000000004e-08 ...           5.890742e+16 2683573000000000.0\n",
       "  0.04168           2.664935e-08 ...           9.541602e+16 4538557000000000.0\n",
       "    0.019 3.5990460000000003e-09 ...           1.087426e+17 5524330000000000.0\n",
       " 0.060637           1.714531e-08 ...           7.577656e+16 7750906000000000.0\n",
       " 0.023386           7.098649e-08 ...           7.649578e+16 7028054000000000.0\n",
       "   0.2077           5.420292e-10 ... 5.2489470000000006e+17       2.329367e+16\n",
       "    0.045 1.0870120000000001e-07 ...     512071499999999.94  311886200000000.0"
      ]
     },
     "execution_count": 6,
     "metadata": {},
     "output_type": "execute_result"
    }
   ],
   "source": [
    "kcorrect_table"
   ]
  },
  {
   "cell_type": "code",
   "execution_count": 7,
   "id": "308de852",
   "metadata": {},
   "outputs": [],
   "source": [
    "kcorr_set = 'kCorr_table_89cuts.txt'\n",
    "kcorrect_table.write(kcorr_set, format = 'ascii.no_header', overwrite = True)"
   ]
  },
  {
   "cell_type": "markdown",
   "id": "375636d1",
   "metadata": {},
   "source": [
    "# Vflag cuts "
   ]
  },
  {
   "cell_type": "code",
   "execution_count": 9,
   "id": "b98d8f37",
   "metadata": {},
   "outputs": [],
   "source": [
    "Vflag_cut1 = valflux_tb['vflag'] != 2\n",
    "valflux_tb_cut = valflux_tb[Vflag_cut1]\n",
    "\n",
    "\n",
    "Vflag_cut1 = valflux_tb_cut['vflag'] != 9\n",
    "valflux_tb_cut = valflux_tb_cut[Vflag_cut1]"
   ]
  },
  {
   "cell_type": "code",
   "execution_count": 10,
   "id": "a8f8d9ac",
   "metadata": {},
   "outputs": [
    {
     "data": {
      "text/html": [
       "<i>Table length=290</i>\n",
       "<table id=\"table4450264784\" class=\"table-striped table-bordered table-condensed\">\n",
       "<thead><tr><th>event</th><th>alias</th><th>catalog</th><th>claimedtype</th><th>dec</th><th>discoverdate</th><th>discoverer</th><th>download</th><th>ebv</th><th>host</th><th>hostdec</th><th>hostoffsetang</th><th>hostoffsetdist</th><th>hostra</th><th>instruments</th><th>lumdist</th><th>maxabsmag</th><th>maxappmag</th><th>maxdate</th><th>name</th><th>photolink</th><th>ra</th><th>radiolink</th><th>redshift</th><th>references</th><th>spectralink</th><th>velocity</th><th>xraylink</th><th>z</th><th>uflux</th><th>uflux_ivar</th><th>gflux</th><th>gflux_ivar</th><th>rflux</th><th>rflux_ivar</th><th>iflux</th><th>iflux_ivar</th><th>zflux</th><th>zflux_ivar</th><th>umag</th><th>umag_er</th><th>gmag</th><th>gmag_er</th><th>rmag</th><th>rmag_er</th><th>imag</th><th>imag_er</th><th>zmag</th><th>zmag_er</th><th>Rgal</th><th>vflag</th></tr></thead>\n",
       "<thead><tr><th>str23</th><th>str140</th><th>str3</th><th>str10</th><th>float64</th><th>str10</th><th>str79</th><th>str1</th><th>float64</th><th>str65</th><th>str48</th><th>float64</th><th>float64</th><th>str33</th><th>str142</th><th>float64</th><th>float64</th><th>float64</th><th>str10</th><th>str23</th><th>str16</th><th>float64</th><th>int64</th><th>str27</th><th>str99</th><th>str13</th><th>float64</th><th>int64</th><th>float64</th><th>float64</th><th>float64</th><th>float64</th><th>float64</th><th>float64</th><th>float64</th><th>float64</th><th>float64</th><th>float64</th><th>float64</th><th>float64</th><th>float64</th><th>float64</th><th>float64</th><th>float64</th><th>float64</th><th>float64</th><th>float64</th><th>float64</th><th>float64</th><th>float64</th><th>int64</th></tr></thead>\n",
       "<tr><td>ASASSN-13dn</td><td>ASASSN-13dn,CSS140102:125258+322506</td><td>sne</td><td>II</td><td>32.41925</td><td>2013/12/15</td><td>ASAS-SN</td><td>--</td><td>0.0129</td><td>SDSS J125258.03+322444.3</td><td>+32:24:44.3</td><td>21.42</td><td>10.19</td><td>12:52:58.03</td><td>--</td><td>102.68</td><td>-19.333</td><td>15.7</td><td>2013/12/14</td><td>ASASSN-13dn</td><td>1,0</td><td>193.2425</td><td>--</td><td>0.022805</td><td>2013ATel.5665....1S,2016A&amp;A...594A..13P,2013ATel.5667....1M,2011ApJ...737..103S</td><td>--</td><td>6758.8</td><td>--</td><td>0.022805</td><td>57.79485</td><td>0.01211324</td><td>289.8477</td><td>0.02161896</td><td>397.9104</td><td>0.04201692</td><td>365.166</td><td>0.005848842</td><td>227.4242</td><td>0.0005445918</td><td>18.09527</td><td>0.1706868</td><td>16.34458</td><td>0.02547633</td><td>16.00054</td><td>0.01331149</td><td>16.09377</td><td>0.03887754</td><td>16.6079</td><td>0.2045704</td><td>68.06171417236328</td><td>0</td></tr>\n",
       "<tr><td>ASASSN-14bu</td><td>ASASSN-14bu</td><td>sne</td><td>II</td><td>25.166633333333333</td><td>2014/05/29</td><td>ASAS-SN</td><td>--</td><td>0.0139</td><td>SDSS J111840.97+250958.5</td><td>+25:09:58.5</td><td>1.48</td><td>0.784</td><td>11:18:40.97</td><td>--</td><td>114.6</td><td>-18.17</td><td>17.1</td><td>2014/05/28</td><td>ASASSN-14bu</td><td>1,0</td><td>169.67095833333335</td><td>--</td><td>0.0254</td><td>2014ATel.6169....1B,2014ATel.6196....1D,2016A&amp;A...594A..13P,2011ApJ...737..103S</td><td>--</td><td>7520.0</td><td>--</td><td>0.0254</td><td>22.2714</td><td>0.1204268</td><td>53.14648</td><td>0.8450133</td><td>74.92245</td><td>0.3735397</td><td>89.48361</td><td>0.1353606</td><td>96.55038</td><td>0.009277737</td><td>19.13059</td><td>0.1404691</td><td>18.18631</td><td>0.02222366</td><td>17.81347</td><td>0.02371056</td><td>17.62064</td><td>0.03297852</td><td>17.53805</td><td>0.1167343</td><td>75.767333984375</td><td>0</td></tr>\n",
       "<tr><td>ASASSN-15bd</td><td>ASASSN-15bd</td><td>sne</td><td>IIb</td><td>16.610583333333334</td><td>2015/01/08</td><td>ASAS-SN</td><td>--</td><td>0.0294</td><td>SDSS J155438.39+163637.6</td><td>+16:36:37.6</td><td>1.08</td><td>0.182</td><td>15:54:38.39</td><td>--</td><td>35.38</td><td>-16.535</td><td>16.2</td><td>2015/01/28</td><td>ASASSN-15bd</td><td>1,0</td><td>238.65970833333333</td><td>--</td><td>0.007946</td><td>2015ATel.6945....1K,2016A&amp;A...594A..13P,2015ATel.6956....1C,2011ApJ...737..103S</td><td>--</td><td>2373.0</td><td>--</td><td>0.007946</td><td>82.5851</td><td>0.1384537</td><td>164.0936</td><td>0.8550192</td><td>233.7789</td><td>0.3454179</td><td>257.4846</td><td>0.1057257</td><td>258.7754</td><td>0.01085449</td><td>17.70774</td><td>0.03533197</td><td>16.96227</td><td>0.007155575</td><td>16.57799</td><td>0.007902169</td><td>16.47312</td><td>0.01296828</td><td>16.46768</td><td>0.04027074</td><td>23.784515380859375</td><td>1</td></tr>\n",
       "<tr><td>ASASSN-15mj</td><td>ASASSN-15mj</td><td>sne</td><td>Ib</td><td>33.66119166666667</td><td>2015/07/12</td><td>ASAS-SN</td><td>--</td><td>0.0124</td><td>PGC 2036567,2MASX J14021617+3339415,2MASX J14021617+3339</td><td>+33:39:41.5</td><td>6.76</td><td>4.78</td><td>14:02:16.17</td><td>UVOT (W2, W1, M2, U, B, V)</td><td>156.08</td><td>-20.33</td><td>15.6</td><td>2015/07/15</td><td>ASASSN-15mj</td><td>31,-0.405,18.2</td><td>210.56516666666667</td><td>--</td><td>0.034371</td><td>2014Ap&amp;SS.354...89B,2015ATel.7790....1M,2016A&amp;A...594A..13P,2015ATel.7796....1T,2015ATel.7821....1S</td><td>1,-2.42</td><td>10127.0</td><td>--</td><td>0.034371</td><td>134.0998</td><td>0.1752943</td><td>307.2719</td><td>0.6369277</td><td>428.1317</td><td>0.2813141</td><td>530.9556</td><td>0.1187199</td><td>553.6156</td><td>0.009018575</td><td>17.18143</td><td>0.01933799</td><td>16.28119</td><td>0.004427476</td><td>15.92106</td><td>0.004781357</td><td>15.68735</td><td>0.005934775</td><td>15.64198</td><td>0.02065121</td><td>102.3444595336914</td><td>0</td></tr>\n",
       "<tr><td>ASASSN-15mm</td><td>ASASSN-15mm</td><td>sne</td><td>II</td><td>29.173472222222223</td><td>2015/07/13</td><td>ASAS-SN</td><td>--</td><td>0.0201</td><td>SDSS J152523.40+291018.8</td><td>+29:10:18.8</td><td>6.97</td><td>3.13</td><td>15:25:23.40</td><td>--</td><td>96.5551</td><td>-19.1008</td><td>15.8</td><td>2015/07/19</td><td>ASASSN-15mm</td><td>1,0</td><td>231.34791666666666</td><td>--</td><td>0.021466</td><td>2015ATel.7792....1B,2016A&amp;A...594A..13P,2015ATel.7802....1P,2011ApJ...737..103S</td><td>--</td><td>6366.3</td><td>--</td><td>0.021466</td><td>112.5747</td><td>0.05534764</td><td>331.2003</td><td>0.2909908</td><td>528.8437</td><td>0.1355199</td><td>698.1917</td><td>0.0508919</td><td>822.7266</td><td>0.003699061</td><td>17.3714</td><td>0.04099515</td><td>16.19977</td><td>0.006077065</td><td>15.69168</td><td>0.005576934</td><td>15.39006</td><td>0.006893269</td><td>15.21186</td><td>0.02169813</td><td>64.08232879638672</td><td>1</td></tr>\n",
       "<tr><td>ASASSN-15no</td><td>ASASSN-15no</td><td>sne</td><td>Ic</td><td>46.901833333333336</td><td>2015/08/03</td><td>ASAS-SN</td><td>e</td><td>0.014</td><td>SDSS J153825.20+465404.1</td><td>+46:54:04.1</td><td>3.1</td><td>2.7</td><td>15:38:25.20</td><td>AFOSC (u, B, g, V, r, i, z), ALFOSC-FASU (u, B, g, V, r, i, z), ASASSN (V), LRS (u, B, g, V, r, i, z), MEIA2 (U, B, V, R, I), OSIRIS (r, i, z)</td><td>196.0</td><td>-20.1</td><td>16.32</td><td>2015/08/09</td><td>ASASSN-15no</td><td>106,-5.98,279</td><td>234.60541666666668</td><td>--</td><td>0.043</td><td>2018arXiv180108318B,2015ATel.7869....1H,2016A&amp;A...594A..13P,2015ATel.7931....1B,2011ApJ...737..103S</td><td>--</td><td>13000.0</td><td>--</td><td>0.043</td><td>16.05391</td><td>0.2999547</td><td>36.6414</td><td>1.417387</td><td>44.97916</td><td>1.004878</td><td>56.88084</td><td>0.3144699</td><td>41.00881</td><td>0.02023845</td><td>19.48597</td><td>0.1234666</td><td>18.59006</td><td>0.02488874</td><td>18.36746</td><td>0.02407965</td><td>18.11257</td><td>0.03403769</td><td>18.46745</td><td>0.1859841</td><td>127.81721496582031</td><td>1</td></tr>\n",
       "<tr><td>ASASSN-15rb</td><td>ASASSN-15rb</td><td>sne</td><td>IIn</td><td>19.29982777777778</td><td>2015/10/12</td><td>ASAS-SN</td><td>--</td><td>0.0221</td><td>SDSS J100807.76+191758.2</td><td>+19:17:58.2</td><td>7.13</td><td>4.93</td><td>10:08:07.76</td><td>--</td><td>152.372</td><td>-19.1787</td><td>16.7</td><td>2015/10/11</td><td>ASASSN-15rb</td><td>1,0</td><td>152.03433333333334</td><td>--</td><td>0.033574</td><td>2015ATel.8157....1B,2016A&amp;A...594A..13P,2015ATel.8297....1P,2011ApJ...737..103S</td><td>--</td><td>9896.4</td><td>--</td><td>0.033574</td><td>55.86733</td><td>0.1095179</td><td>155.1267</td><td>0.476595</td><td>219.1077</td><td>0.512028</td><td>271.9549</td><td>0.10289</td><td>293.2064</td><td>0.005903752</td><td>18.1321</td><td>0.05872438</td><td>17.02328</td><td>0.01013824</td><td>16.64836</td><td>0.006924998</td><td>16.41376</td><td>0.01244631</td><td>16.33206</td><td>0.04819271</td><td>99.98723602294922</td><td>1</td></tr>\n",
       "<tr><td>ASASSN-15ua</td><td>ASASSN-15ua,CSS160204:133454+105905,PS16ub</td><td>sne</td><td>IIn</td><td>10.984636111111111</td><td>2015/12/12</td><td>ASAS-SN</td><td>--</td><td>0.0247</td><td>GALEXASC J133454.49+105906.7</td><td>+10:59:06.7</td><td>2.2</td><td>2.7</td><td>13:34:54.49</td><td>GPC (w, r, i, z, y)</td><td>282.0</td><td>-20.3</td><td>16.9</td><td>2015/12/11</td><td>ASASSN-15ua</td><td>50,0,493</td><td>203.72697083333333</td><td>--</td><td>0.061</td><td>2015ATel.8408....1M,2015ATel.8410....1C,2016A&amp;A...594A..13P,2011ApJ...737..103S</td><td>--</td><td>18000.0</td><td>--</td><td>0.061</td><td>2.018556</td><td>0.3244824</td><td>10.29929</td><td>1.425952</td><td>15.39121</td><td>1.028553</td><td>18.92451</td><td>0.3881879</td><td>20.66909</td><td>0.02606014</td><td>21.73221</td><td>0.9352967</td><td>19.9679</td><td>0.08826696</td><td>19.53175</td><td>0.06954814</td><td>19.30734</td><td>0.09206615</td><td>19.21031</td><td>0.3245668</td><td>180.6629180908203</td><td>1</td></tr>\n",
       "<tr><td>ASASSN-18ll</td><td>ASASSN-18ll,AT2018cdh,ATLAS18qdo</td><td>sne</td><td>Ibn</td><td>6.42</td><td>2018/06/02</td><td>ASAS-SN</td><td>--</td><td>0.031</td><td>SDSS J151142.60+062511.9</td><td>+06:25:11.9</td><td>0.06</td><td>0.04</td><td>15:11:42.60</td><td>ACAM1 (orange), Brutus (V)</td><td>144.672</td><td>-18.7678</td><td>17.0</td><td>2018/06/02</td><td>ASASSN-18ll</td><td>2,-0.194,0.938</td><td>227.927525</td><td>--</td><td>0.031916</td><td>2016A&amp;A...594A..13P,2011ApJ...737..103S</td><td>--</td><td>9415.6</td><td>--</td><td>0.031916</td><td>66.23382</td><td>0.1671608</td><td>162.8554</td><td>0.4616886</td><td>230.826</td><td>0.2369999</td><td>274.1802</td><td>0.158963</td><td>312.9544</td><td>0.01580226</td><td>17.9473</td><td>0.04009344</td><td>16.97049</td><td>0.009811768</td><td>16.59179</td><td>0.009661959</td><td>16.40491</td><td>0.009932071</td><td>16.26129</td><td>0.02759808</td><td>95.0809326171875</td><td>0</td></tr>\n",
       "<tr><td>CSS110325:111951-002144</td><td>--</td><td>sne</td><td>II P</td><td>18.994194444444446</td><td>2011/03/25</td><td>Graham et al.,CRTS</td><td>e</td><td>0.0346</td><td>A110750+1859</td><td>+18:59:39</td><td>7.943</td><td>3.398</td><td>11:07:50</td><td>--</td><td>90.0</td><td>-16.0</td><td>18.3</td><td>2011/03/26</td><td>CSS110325:111951-002144</td><td>2,-1.96,0</td><td>166.96066666666667</td><td>--</td><td>0.02</td><td>2011CBET.2787....1G,2016A&amp;A...594A..13P,2008yCat....1.2024B,2011ApJ...737..103S</td><td>--</td><td>6000.0</td><td>--</td><td>0.02</td><td>52.68324</td><td>0.06618568</td><td>125.2954</td><td>0.4277692</td><td>148.0506</td><td>0.2216016</td><td>170.4868</td><td>0.08479984</td><td>149.7751</td><td>0.005440072</td><td>18.19581</td><td>0.08010575</td><td>17.25516</td><td>0.01324902</td><td>17.07397</td><td>0.01557855</td><td>16.92077</td><td>0.0218693</td><td>17.06137</td><td>0.0982791</td><td>59.72328567504883</td><td>1</td></tr>\n",
       "<tr><td>...</td><td>...</td><td>...</td><td>...</td><td>...</td><td>...</td><td>...</td><td>...</td><td>...</td><td>...</td><td>...</td><td>...</td><td>...</td><td>...</td><td>...</td><td>...</td><td>...</td><td>...</td><td>...</td><td>...</td><td>...</td><td>...</td><td>...</td><td>...</td><td>...</td><td>...</td><td>...</td><td>...</td><td>...</td><td>...</td><td>...</td><td>...</td><td>...</td><td>...</td><td>...</td><td>...</td><td>...</td><td>...</td><td>...</td><td>...</td><td>...</td><td>...</td><td>...</td><td>...</td><td>...</td><td>...</td><td>...</td><td>...</td><td>...</td><td>...</td><td>...</td></tr>\n",
       "<tr><td>SN2019bfg</td><td>SN2019bfg,PS19cyt,AT2019bfg,ZTF19aakpccq</td><td>sne</td><td>II</td><td>27.918819444444445</td><td>2019/02/24</td><td>ZTF</td><td>--</td><td>--</td><td>2MASX J14501877+2755059</td><td>+27:55:05.9</td><td>6.257</td><td>5.778</td><td>14:50:18.77</td><td>GPC (w)</td><td>230.0</td><td>-18.0</td><td>18.6</td><td>2019/02/23</td><td>SN2019bfg</td><td>5,0,92.3</td><td>222.57632916666668</td><td>--</td><td>0.05</td><td>2016A&amp;A...594A..13P</td><td>--</td><td>10000.0</td><td>--</td><td>0.05</td><td>122.8844</td><td>0.06205324</td><td>418.636</td><td>0.1818763</td><td>701.6146</td><td>0.05960327</td><td>1003.438</td><td>0.02184985</td><td>1182.386</td><td>0.004611682</td><td>17.27626</td><td>0.03546862</td><td>15.94541</td><td>0.006081345</td><td>15.38475</td><td>0.00633856</td><td>14.99627</td><td>0.007319972</td><td>14.8181</td><td>0.01352182</td><td>148.41513061523438</td><td>1</td></tr>\n",
       "<tr><td>SN2019cct</td><td>SN2019cct,PS19ags,AT2019cct,Gaia19bbt</td><td>sne</td><td>II</td><td>35.98405833333333</td><td>2019/03/23</td><td>Gaia</td><td>--</td><td>--</td><td>SDSS J153120.51+355855.3</td><td>+35:58:55.3</td><td>9.998</td><td>7.541</td><td>15:31:20.51</td><td>Astrometric, GPC (w, i, z, y)</td><td>167.27</td><td>-17.738</td><td>18.34</td><td>2019/04/05</td><td>SN2019cct</td><td>143,-12.9,95.4</td><td>232.83780000000002</td><td>--</td><td>0.03677</td><td>2016A&amp;A...594A..13P</td><td>--</td><td>10820.0</td><td>--</td><td>0.03677</td><td>18.00051</td><td>0.05112628</td><td>63.1517</td><td>0.2058732</td><td>85.74848</td><td>0.1603665</td><td>104.058</td><td>0.0723976</td><td>102.4399</td><td>0.009283709</td><td>19.36172</td><td>0.2667257</td><td>17.99903</td><td>0.03789113</td><td>17.66693</td><td>0.03161836</td><td>17.45681</td><td>0.0387779</td><td>17.47377</td><td>0.1099889</td><td>109.43526458740234</td><td>0</td></tr>\n",
       "<tr><td>SN2019dje</td><td>SN2019dje,PS19bii,AT2019dje,ATLAS19elo</td><td>sne</td><td>II</td><td>35.508</td><td>2019/03/29</td><td>ATLAS</td><td>--</td><td>--</td><td>2MASX J15010957+3530220</td><td>+35:30:22.0</td><td>7.15</td><td>7.19</td><td>15:01:09.57</td><td>GPC (w)</td><td>228.39</td><td>-17.441</td><td>19.3</td><td>2019/03/28</td><td>SN2019dje</td><td>9,0,94.1</td><td>225.28912083333333</td><td>--</td><td>0.04974</td><td>2016A&amp;A...594A..13P</td><td>--</td><td>14540.0</td><td>--</td><td>0.04974</td><td>81.21085</td><td>0.03018232</td><td>257.8836</td><td>0.01100975</td><td>424.4539</td><td>0.008235208</td><td>591.5401</td><td>0.003927121</td><td>742.1321</td><td>0.002037336</td><td>17.72596</td><td>0.07695403</td><td>16.47144</td><td>0.04012468</td><td>15.93042</td><td>0.02818749</td><td>15.57004</td><td>0.02928889</td><td>15.3238</td><td>0.03241237</td><td>147.65121459960938</td><td>1</td></tr>\n",
       "<tr><td>SN2019fco</td><td>SN2019fco,AT2019fco,ATLAS19kms,PS19ahm,ZTF19aaugupw</td><td>sne</td><td>IIb</td><td>46.91775555555556</td><td>2019/05/13</td><td>ATLAS</td><td>--</td><td>--</td><td>SDSS J103204.33+465503.6</td><td>+46:55:03.6</td><td>3.764</td><td>3.12</td><td>10:32:04.33</td><td>ACAM1 (orange), GPC (i), GPC1 (i), ZTF-Cam (g, r)</td><td>185.11</td><td>-17.564</td><td>18.73</td><td>2019/05/21</td><td>SN2019fco</td><td>18,-15.7,9.3</td><td>158.01956666666666</td><td>--</td><td>0.04058</td><td>2016A&amp;A...594A..13P</td><td>1,13.2</td><td>11920.0</td><td>--</td><td>0.04058</td><td>32.34242</td><td>0.1258875</td><td>75.65701</td><td>0.2585565</td><td>99.34822</td><td>0.05997078</td><td>117.6777</td><td>0.02408887</td><td>104.2571</td><td>0.005298686</td><td>18.72555</td><td>0.09461158</td><td>17.80288</td><td>0.02822255</td><td>17.5071</td><td>0.04462653</td><td>17.32326</td><td>0.05944564</td><td>17.45468</td><td>0.143051</td><td>120.68243408203125</td><td>1</td></tr>\n",
       "<tr><td>SN2019gbm</td><td>SN2019gbm,PS19bez,AT2019gbm,ZTF19aavjlkx</td><td>sne</td><td>II</td><td>27.003141666666668</td><td>2019/05/29</td><td>ZTF</td><td>--</td><td>--</td><td>2MASX J15574237+2700167</td><td>+27:00:16.7</td><td>5.616</td><td>9.098</td><td>15:57:42.37</td><td>GPC (w)</td><td>392.248</td><td>-19.0808</td><td>18.8</td><td>2019/05/28</td><td>SN2019gbm</td><td>21,0,35</td><td>239.42605</td><td>--</td><td>0.083443</td><td>2016A&amp;A...594A..13P</td><td>--</td><td>23975.0</td><td>--</td><td>0.083443</td><td>41.88491</td><td>0.1512944</td><td>204.1775</td><td>0.7056358</td><td>459.962</td><td>0.3263729</td><td>705.5726</td><td>0.1164586</td><td>970.6692</td><td>0.00833902</td><td>18.44484</td><td>0.06664164</td><td>16.72498</td><td>0.006330325</td><td>15.84319</td><td>0.004131857</td><td>15.37865</td><td>0.004509172</td><td>15.03232</td><td>0.01224884</td><td>245.99769592285156</td><td>0</td></tr>\n",
       "<tr><td>SN2019gqs</td><td>SN2019gqs,PS19bhg,AT2019gqs,ZTF19aavkptg</td><td>sne</td><td>II P</td><td>49.153502777777774</td><td>2019/05/16</td><td>ZTF</td><td>--</td><td>--</td><td>SDSS J113616.32+490914.2</td><td>+49:09:14.2</td><td>5.512</td><td>4.277</td><td>11:36:16.32</td><td>GPC (i)</td><td>172.41</td><td>-17.072</td><td>19.07</td><td>2019/06/15</td><td>SN2019gqs</td><td>5,-29.9,-0.202</td><td>174.06575833333332</td><td>--</td><td>0.03787</td><td>2016A&amp;A...594A..13P</td><td>--</td><td>11140.0</td><td>--</td><td>0.03787</td><td>17.59455</td><td>0.1487394</td><td>86.13489</td><td>0.07802182</td><td>169.2765</td><td>0.003917609</td><td>234.7833</td><td>0.001256945</td><td>272.4641</td><td>0.001117723</td><td>19.38649</td><td>0.1599846</td><td>17.66205</td><td>0.04512698</td><td>16.92851</td><td>0.1024747</td><td>16.57333</td><td>0.1304363</td><td>16.41172</td><td>0.1191905</td><td>112.68427276611328</td><td>0</td></tr>\n",
       "<tr><td>SN2019hty</td><td>SN2019hty,PS19bhn,AT2019hty,ATLAS19nhp</td><td>sne</td><td>Ib-Ca-rich</td><td>32.20610277777778</td><td>2019/06/19</td><td>ATLAS</td><td>--</td><td>--</td><td>2MASX J12553453+3212213</td><td>+32:12:21.3</td><td>19.3</td><td>9.19</td><td>12:55:34.53</td><td>GPC (z, y)</td><td>102.79</td><td>-15.815</td><td>19.22</td><td>2019/06/18</td><td>SN2019hty</td><td>13,-6.11,-0.15</td><td>193.88754166666666</td><td>--</td><td>0.02283</td><td>2016A&amp;A...594A..13P</td><td>--</td><td>6766.0</td><td>--</td><td>0.02283</td><td>144.3588</td><td>0.04745553</td><td>650.595</td><td>0.01226634</td><td>1328.858</td><td>0.003426767</td><td>1906.523</td><td>0.001726167</td><td>2390.086</td><td>0.0009947505</td><td>17.10139</td><td>0.03452525</td><td>15.46672</td><td>0.01506802</td><td>14.6913</td><td>0.01395736</td><td>14.29939</td><td>0.01370695</td><td>14.05397</td><td>0.01440302</td><td>68.1360092163086</td><td>0</td></tr>\n",
       "<tr><td>SN2019lsm</td><td>SN2019lsm,AT2019lsm,ASASSN-19sf</td><td>sne</td><td>Ibn</td><td>14.777111111111111</td><td>2019/07/25</td><td>ASAS-SN</td><td>--</td><td>--</td><td>SDSS J143502.16+144639.5</td><td>+14:46:39.5</td><td>7.28</td><td>6.19</td><td>14:35:02.16</td><td>ACAM1 (cyan, orange), Brutus (g), Cassius (g), ZTF-Cam (g, r)</td><td>190.28</td><td>-18.413</td><td>17.94</td><td>2019/07/25</td><td>SN2019lsm</td><td>6,-5.08,1.72</td><td>218.76088333333334</td><td>--</td><td>0.04168</td><td>2016A&amp;A...594A..13P</td><td>1,5.26</td><td>12240.0</td><td>--</td><td>0.04168</td><td>26.64935</td><td>0.0651572</td><td>72.89272</td><td>0.4135602</td><td>100.9699</td><td>0.2174523</td><td>121.405</td><td>0.09541602</td><td>145.4232</td><td>0.004538557</td><td>18.93575</td><td>0.1595998</td><td>17.84329</td><td>0.02316165</td><td>17.48952</td><td>0.02305945</td><td>17.28941</td><td>0.02895178</td><td>17.09339</td><td>0.1108177</td><td>123.92646026611328</td><td>0</td></tr>\n",
       "<tr><td>SN2020bwr</td><td>SN2020bwr,AT2020bwr,ASASSN-20bu,Gaia20bap</td><td>sne</td><td>II</td><td>36.207522222222224</td><td>2020/01/22</td><td>ASAS-SN</td><td>--</td><td>--</td><td>2MASS J16345923+3612274</td><td>+36:12:27.4</td><td>0.94</td><td>1.1</td><td>16:34:59.23</td><td>ACAM1 (cyan, orange), Astrometric, Cassius (g), GPC1 (i), Leavitt (g)</td><td>280.584</td><td>-19.7764</td><td>17.4</td><td>2020/02/03</td><td>SN2020bwr</td><td>10,-11.1,53.7</td><td>248.7472875</td><td>--</td><td>0.060637</td><td>2016A&amp;A...594A..13P</td><td>--</td><td>17628.0</td><td>--</td><td>0.060637</td><td>17.14531</td><td>0.1156139</td><td>62.7439</td><td>0.9022805</td><td>112.9721</td><td>0.2209432</td><td>162.3629</td><td>0.07577656</td><td>231.3473</td><td>0.007750906</td><td>19.41456</td><td>0.1862155</td><td>18.00607</td><td>0.01821714</td><td>17.36757</td><td>0.02044616</td><td>16.97378</td><td>0.02429232</td><td>16.58933</td><td>0.05330583</td><td>179.60125732421875</td><td>0</td></tr>\n",
       "<tr><td>SN2020hvn</td><td>SN2020hvn,AT2020hvn,ASASSN-20ed</td><td>sne</td><td>II</td><td>30.11199722222222</td><td>2020/04/20</td><td>ASAS-SN</td><td>--</td><td>--</td><td>2MASX J11193797+3006422</td><td>+30:06:42.2</td><td>0.63</td><td>0.31</td><td>11:19:37.97</td><td>ACAM1 (cyan, orange), Leavitt (g), ZTF-Cam (g, r)</td><td>105.342</td><td>-17.3879</td><td>17.7</td><td>2020/04/20</td><td>SN2020hvn</td><td>7,-0.176,8.55</td><td>169.9084083333333</td><td>--</td><td>0.023386</td><td>2016A&amp;A...594A..13P</td><td>1,16.4</td><td>6929.0</td><td>--</td><td>0.023386</td><td>70.98649</td><td>0.1903186</td><td>215.3461</td><td>0.6864881</td><td>355.9403</td><td>0.1520005</td><td>464.3573</td><td>0.07649578</td><td>571.3288</td><td>0.007028054</td><td>17.87206</td><td>0.03505941</td><td>16.66716</td><td>0.006085142</td><td>16.12156</td><td>0.007823925</td><td>15.83287</td><td>0.008453823</td><td>15.60778</td><td>0.02266831</td><td>69.78759002685547</td><td>0</td></tr>\n",
       "</table>"
      ],
      "text/plain": [
       "<Table length=290>\n",
       "         event          ... vflag\n",
       "         str23          ... int64\n",
       "----------------------- ... -----\n",
       "            ASASSN-13dn ...     0\n",
       "            ASASSN-14bu ...     0\n",
       "            ASASSN-15bd ...     1\n",
       "            ASASSN-15mj ...     0\n",
       "            ASASSN-15mm ...     1\n",
       "            ASASSN-15no ...     1\n",
       "            ASASSN-15rb ...     1\n",
       "            ASASSN-15ua ...     1\n",
       "            ASASSN-18ll ...     0\n",
       "CSS110325:111951-002144 ...     1\n",
       "                    ... ...   ...\n",
       "              SN2019bfg ...     1\n",
       "              SN2019cct ...     0\n",
       "              SN2019dje ...     1\n",
       "              SN2019fco ...     1\n",
       "              SN2019gbm ...     0\n",
       "              SN2019gqs ...     0\n",
       "              SN2019hty ...     0\n",
       "              SN2019lsm ...     0\n",
       "              SN2020bwr ...     0\n",
       "              SN2020hvn ...     0"
      ]
     },
     "execution_count": 10,
     "metadata": {},
     "output_type": "execute_result"
    }
   ],
   "source": [
    "valflux_tb_cut"
   ]
  },
  {
   "cell_type": "code",
   "execution_count": 12,
   "id": "d948dd3a",
   "metadata": {},
   "outputs": [
    {
     "data": {
      "text/plain": [
       "188"
      ]
     },
     "execution_count": 12,
     "metadata": {},
     "output_type": "execute_result"
    }
   ],
   "source": [
    "np.sum(valflux_tb_cut['vflag'] == 0)"
   ]
  },
  {
   "cell_type": "code",
   "execution_count": 13,
   "id": "b8b456d2",
   "metadata": {},
   "outputs": [
    {
     "data": {
      "text/plain": [
       "102"
      ]
     },
     "execution_count": 13,
     "metadata": {},
     "output_type": "execute_result"
    }
   ],
   "source": [
    "np.sum(valflux_tb_cut['vflag'] == 1)"
   ]
  },
  {
   "cell_type": "code",
   "execution_count": null,
   "id": "e0f14f71",
   "metadata": {},
   "outputs": [],
   "source": []
  }
 ],
 "metadata": {
  "kernelspec": {
   "display_name": "Python 3",
   "language": "python",
   "name": "python3"
  },
  "language_info": {
   "codemirror_mode": {
    "name": "ipython",
    "version": 3
   },
   "file_extension": ".py",
   "mimetype": "text/x-python",
   "name": "python",
   "nbconvert_exporter": "python",
   "pygments_lexer": "ipython3",
   "version": "3.8.8"
  }
 },
 "nbformat": 4,
 "nbformat_minor": 5
}
