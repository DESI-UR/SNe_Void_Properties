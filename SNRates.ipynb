{
 "cells": [
  {
   "cell_type": "code",
   "execution_count": 1,
   "id": "8cc5b8f3",
   "metadata": {},
   "outputs": [],
   "source": [
    "from astropy.table import Table\n",
    "import numpy as np\n",
    "import matplotlib.pyplot as plt"
   ]
  },
  {
   "cell_type": "markdown",
   "id": "9c10900b",
   "metadata": {},
   "source": [
    "# Table of the counted Supernovae"
   ]
  },
  {
   "cell_type": "code",
   "execution_count": 2,
   "id": "d54626e1",
   "metadata": {},
   "outputs": [
    {
     "data": {
      "text/html": [
       "<i>Table length=1171</i>\n",
       "<table id=\"table4677985472\" class=\"table-striped table-bordered table-condensed\">\n",
       "<thead><tr><th>event</th><th>alias</th><th>catalog</th><th>claimedtype</th><th>dec</th><th>discoverdate</th><th>discoverer</th><th>download</th><th>ebv</th><th>host</th><th>hostdec</th><th>hostoffsetang</th><th>hostoffsetdist</th><th>hostra</th><th>instruments</th><th>lumdist</th><th>maxabsmag</th><th>maxappmag</th><th>maxdate</th><th>name</th><th>photolink</th><th>ra</th><th>radiolink</th><th>redshift</th><th>references</th><th>spectralink</th><th>velocity</th><th>xraylink</th><th>z</th><th>uflux</th><th>uflux_ivar</th><th>gflux</th><th>gflux_ivar</th><th>rflux</th><th>rflux_ivar</th><th>iflux</th><th>iflux_ivar</th><th>zflux</th><th>zflux_ivar</th><th>umag</th><th>umag_er</th><th>gmag</th><th>gmag_er</th><th>rmag</th><th>rmag_er</th><th>imag</th><th>imag_er</th><th>zmag</th><th>zmag_er</th><th>Rgal</th><th>vflag</th><th>rabsmag</th></tr></thead>\n",
       "<thead><tr><th>str23</th><th>str140</th><th>str3</th><th>str10</th><th>float64</th><th>str10</th><th>str79</th><th>str1</th><th>float64</th><th>str65</th><th>str48</th><th>float64</th><th>float64</th><th>str33</th><th>str142</th><th>float64</th><th>float64</th><th>float64</th><th>str10</th><th>str23</th><th>str16</th><th>float64</th><th>int64</th><th>str27</th><th>str99</th><th>str13</th><th>float64</th><th>int64</th><th>float64</th><th>float64</th><th>float64</th><th>float64</th><th>float64</th><th>float64</th><th>float64</th><th>float64</th><th>float64</th><th>float64</th><th>float64</th><th>float64</th><th>float64</th><th>float64</th><th>float64</th><th>float64</th><th>float64</th><th>float64</th><th>float64</th><th>float64</th><th>float64</th><th>float64</th><th>int64</th><th>float64</th></tr></thead>\n",
       "<tr><td>ASASSN-13dn</td><td>ASASSN-13dn,CSS140102:125258+322506</td><td>sne</td><td>II</td><td>32.41925</td><td>2013/12/15</td><td>ASAS-SN</td><td>--</td><td>0.0129</td><td>SDSS J125258.03+322444.3</td><td>+32:24:44.3</td><td>21.42</td><td>10.19</td><td>12:52:58.03</td><td>--</td><td>102.68</td><td>-19.333</td><td>15.7</td><td>2013/12/14</td><td>ASASSN-13dn</td><td>1,0</td><td>193.2425</td><td>--</td><td>0.022805</td><td>2013ATel.5665....1S,2016A&amp;A...594A..13P,2013ATel.5667....1M,2011ApJ...737..103S</td><td>--</td><td>6758.8</td><td>--</td><td>0.022805</td><td>57.79485</td><td>0.01211324</td><td>289.8477</td><td>0.02161896</td><td>397.9104</td><td>0.04201692</td><td>365.166</td><td>0.005848842</td><td>227.4242</td><td>0.0005445918</td><td>18.09527</td><td>0.1706868</td><td>16.34458</td><td>0.02547633</td><td>16.00054</td><td>0.01331149</td><td>16.09377</td><td>0.03887754</td><td>16.6079</td><td>0.2045704</td><td>68.06171417236328</td><td>0</td><td>-18.348260828109954</td></tr>\n",
       "<tr><td>ASASSN-14az</td><td>ASASSN-14az,Gaia14age,MLS140831:234448-020701</td><td>sne</td><td>IIb</td><td>-2.117547222222222</td><td>2014/05/20</td><td>ASAS-SN</td><td>e</td><td>0.0274</td><td>PGC 1101367,GALEXASC J234448.27-020653.4</td><td>-02:06:53.4</td><td>8.94</td><td>1.28</td><td>23:44:48.27</td><td>C, u, g, r, R, i</td><td>29.943</td><td>-16.734</td><td>15.64</td><td>2014/07/22</td><td>ASASSN-14az</td><td>25,-36.1,67</td><td>356.2</td><td>--</td><td>0.006731</td><td>2009ApJ...696..870D,2014ATel.6151....1D,2014ATel.6185....1B,2016A&amp;A...594A..13P,2011ApJ...737..103S</td><td>1,-53.1</td><td>2011.0</td><td>--</td><td>0.006731</td><td>105.3499</td><td>0.01638733</td><td>276.2211</td><td>0.1078128</td><td>393.7222</td><td>0.04989673</td><td>465.4725</td><td>0.01249947</td><td>393.5354</td><td>0.0007667065</td><td>17.44341</td><td>0.08050719</td><td>16.39686</td><td>0.01197105</td><td>16.01203</td><td>0.01234521</td><td>15.83027</td><td>0.02086336</td><td>16.01254</td><td>0.09963752</td><td>20.152389526367188</td><td>9</td><td>-15.652880237784276</td></tr>\n",
       "<tr><td>ASASSN-14bu</td><td>ASASSN-14bu</td><td>sne</td><td>II</td><td>25.166633333333333</td><td>2014/05/29</td><td>ASAS-SN</td><td>--</td><td>0.0139</td><td>SDSS J111840.97+250958.5</td><td>+25:09:58.5</td><td>1.48</td><td>0.784</td><td>11:18:40.97</td><td>--</td><td>114.6</td><td>-18.17</td><td>17.1</td><td>2014/05/28</td><td>ASASSN-14bu</td><td>1,0</td><td>169.67095833333335</td><td>--</td><td>0.0254</td><td>2014ATel.6169....1B,2014ATel.6196....1D,2016A&amp;A...594A..13P,2011ApJ...737..103S</td><td>--</td><td>7520.0</td><td>--</td><td>0.0254</td><td>22.2714</td><td>0.1204268</td><td>53.14648</td><td>0.8450133</td><td>74.92245</td><td>0.3735397</td><td>89.48361</td><td>0.1353606</td><td>96.55038</td><td>0.009277737</td><td>19.13059</td><td>0.1404691</td><td>18.18631</td><td>0.02222366</td><td>17.81347</td><td>0.02371056</td><td>17.62064</td><td>0.03297852</td><td>17.53805</td><td>0.1167343</td><td>75.767333984375</td><td>0</td><td>-16.71989451468687</td></tr>\n",
       "<tr><td>ASASSN-15bd</td><td>ASASSN-15bd</td><td>sne</td><td>IIb</td><td>16.610583333333334</td><td>2015/01/08</td><td>ASAS-SN</td><td>--</td><td>0.0294</td><td>SDSS J155438.39+163637.6</td><td>+16:36:37.6</td><td>1.08</td><td>0.182</td><td>15:54:38.39</td><td>--</td><td>35.38</td><td>-16.535</td><td>16.2</td><td>2015/01/28</td><td>ASASSN-15bd</td><td>1,0</td><td>238.65970833333333</td><td>--</td><td>0.007946</td><td>2015ATel.6945....1K,2016A&amp;A...594A..13P,2015ATel.6956....1C,2011ApJ...737..103S</td><td>--</td><td>2373.0</td><td>--</td><td>0.007946</td><td>82.5851</td><td>0.1384537</td><td>164.0936</td><td>0.8550192</td><td>233.7789</td><td>0.3454179</td><td>257.4846</td><td>0.1057257</td><td>258.7754</td><td>0.01085449</td><td>17.70774</td><td>0.03533197</td><td>16.96227</td><td>0.007155575</td><td>16.57799</td><td>0.007902169</td><td>16.47312</td><td>0.01296828</td><td>16.46768</td><td>0.04027074</td><td>23.784515380859375</td><td>1</td><td>-15.481901638954104</td></tr>\n",
       "<tr><td>ASASSN-15ik</td><td>ASASSN-15ik</td><td>sne</td><td>IIn</td><td>3.500738888888889</td><td>2015/05/11</td><td>ASAS-SN</td><td>--</td><td>0.0469</td><td>SDSS J110204.81+033003.1</td><td>+03:30:03.1</td><td>1.46</td><td>1.05</td><td>11:02:04.81</td><td>--</td><td>158.1</td><td>-19.36</td><td>16.6</td><td>2015/05/10</td><td>ASASSN-15ik</td><td>1,0</td><td>165.51979166666666</td><td>--</td><td>0.0348</td><td>2015ATel.7491....1B,2016A&amp;A...594A..13P,2015ATel.7497....1C,2011ApJ...737..103S</td><td>--</td><td>10300.0</td><td>--</td><td>0.0348</td><td>20.4322</td><td>0.3889205</td><td>48.35931</td><td>1.340777</td><td>63.42532</td><td>0.6906829</td><td>71.69273</td><td>0.3366273</td><td>67.40577</td><td>0.02625342</td><td>19.22416</td><td>0.08519968</td><td>18.2888</td><td>0.01938934</td><td>17.99434</td><td>0.02059772</td><td>17.86131</td><td>0.02610172</td><td>17.92813</td><td>0.099387</td><td>103.61311340332031</td><td>2</td><td>-17.191689745580653</td></tr>\n",
       "<tr><td>ASASSN-15mj</td><td>ASASSN-15mj</td><td>sne</td><td>Ib</td><td>33.66119166666667</td><td>2015/07/12</td><td>ASAS-SN</td><td>--</td><td>0.0124</td><td>PGC 2036567,2MASX J14021617+3339415,2MASX J14021617+3339</td><td>+33:39:41.5</td><td>6.76</td><td>4.78</td><td>14:02:16.17</td><td>UVOT (W2, W1, M2, U, B, V)</td><td>156.08</td><td>-20.33</td><td>15.6</td><td>2015/07/15</td><td>ASASSN-15mj</td><td>31,-0.405,18.2</td><td>210.56516666666667</td><td>--</td><td>0.034371</td><td>2014Ap&amp;SS.354...89B,2015ATel.7790....1M,2016A&amp;A...594A..13P,2015ATel.7796....1T,2015ATel.7821....1S</td><td>1,-2.42</td><td>10127.0</td><td>--</td><td>0.034371</td><td>134.0998</td><td>0.1752943</td><td>307.2719</td><td>0.6369277</td><td>428.1317</td><td>0.2813141</td><td>530.9556</td><td>0.1187199</td><td>553.6156</td><td>0.009018575</td><td>17.18143</td><td>0.01933799</td><td>16.28119</td><td>0.004427476</td><td>15.92106</td><td>0.004781357</td><td>15.68735</td><td>0.005934775</td><td>15.64198</td><td>0.02065121</td><td>102.3444595336914</td><td>0</td><td>-19.257272558010282</td></tr>\n",
       "<tr><td>ASASSN-15mm</td><td>ASASSN-15mm</td><td>sne</td><td>II</td><td>29.173472222222223</td><td>2015/07/13</td><td>ASAS-SN</td><td>--</td><td>0.0201</td><td>SDSS J152523.40+291018.8</td><td>+29:10:18.8</td><td>6.97</td><td>3.13</td><td>15:25:23.40</td><td>--</td><td>96.5551</td><td>-19.1008</td><td>15.8</td><td>2015/07/19</td><td>ASASSN-15mm</td><td>1,0</td><td>231.34791666666666</td><td>--</td><td>0.021466</td><td>2015ATel.7792....1B,2016A&amp;A...594A..13P,2015ATel.7802....1P,2011ApJ...737..103S</td><td>--</td><td>6366.3</td><td>--</td><td>0.021466</td><td>112.5747</td><td>0.05534764</td><td>331.2003</td><td>0.2909908</td><td>528.8437</td><td>0.1355199</td><td>698.1917</td><td>0.0508919</td><td>822.7266</td><td>0.003699061</td><td>17.3714</td><td>0.04099515</td><td>16.19977</td><td>0.006077065</td><td>15.69168</td><td>0.005576934</td><td>15.39006</td><td>0.006893269</td><td>15.21186</td><td>0.02169813</td><td>64.08232879638672</td><td>1</td><td>-18.514586295653988</td></tr>\n",
       "<tr><td>ASASSN-15no</td><td>ASASSN-15no</td><td>sne</td><td>Ic</td><td>46.901833333333336</td><td>2015/08/03</td><td>ASAS-SN</td><td>e</td><td>0.014</td><td>SDSS J153825.20+465404.1</td><td>+46:54:04.1</td><td>3.1</td><td>2.7</td><td>15:38:25.20</td><td>AFOSC (u, B, g, V, r, i, z), ALFOSC-FASU (u, B, g, V, r, i, z), ASASSN (V), LRS (u, B, g, V, r, i, z), MEIA2 (U, B, V, R, I), OSIRIS (r, i, z)</td><td>196.0</td><td>-20.1</td><td>16.32</td><td>2015/08/09</td><td>ASASSN-15no</td><td>106,-5.98,279</td><td>234.60541666666668</td><td>--</td><td>0.043</td><td>2018arXiv180108318B,2015ATel.7869....1H,2016A&amp;A...594A..13P,2015ATel.7931....1B,2011ApJ...737..103S</td><td>--</td><td>13000.0</td><td>--</td><td>0.043</td><td>16.05391</td><td>0.2999547</td><td>36.6414</td><td>1.417387</td><td>44.97916</td><td>1.004878</td><td>56.88084</td><td>0.3144699</td><td>41.00881</td><td>0.02023845</td><td>19.48597</td><td>0.1234666</td><td>18.59006</td><td>0.02488874</td><td>18.36746</td><td>0.02407965</td><td>18.11257</td><td>0.03403769</td><td>18.46745</td><td>0.1859841</td><td>127.81721496582031</td><td>1</td><td>-17.27151865052559</td></tr>\n",
       "<tr><td>ASASSN-15rb</td><td>ASASSN-15rb</td><td>sne</td><td>IIn</td><td>19.29982777777778</td><td>2015/10/12</td><td>ASAS-SN</td><td>--</td><td>0.0221</td><td>SDSS J100807.76+191758.2</td><td>+19:17:58.2</td><td>7.13</td><td>4.93</td><td>10:08:07.76</td><td>--</td><td>152.372</td><td>-19.1787</td><td>16.7</td><td>2015/10/11</td><td>ASASSN-15rb</td><td>1,0</td><td>152.03433333333334</td><td>--</td><td>0.033574</td><td>2015ATel.8157....1B,2016A&amp;A...594A..13P,2015ATel.8297....1P,2011ApJ...737..103S</td><td>--</td><td>9896.4</td><td>--</td><td>0.033574</td><td>55.86733</td><td>0.1095179</td><td>155.1267</td><td>0.476595</td><td>219.1077</td><td>0.512028</td><td>271.9549</td><td>0.10289</td><td>293.2064</td><td>0.005903752</td><td>18.1321</td><td>0.05872438</td><td>17.02328</td><td>0.01013824</td><td>16.64836</td><td>0.006924998</td><td>16.41376</td><td>0.01244631</td><td>16.33206</td><td>0.04819271</td><td>99.98723602294922</td><td>1</td><td>-18.493965547979062</td></tr>\n",
       "<tr><td>ASASSN-15tm</td><td>ASASSN-15tm,PS15dqg</td><td>sne</td><td>II P</td><td>29.408658333333335</td><td>2015/12/04</td><td>ASAS-SN</td><td>--</td><td>0.1119</td><td>2MASX J23273537+2924275</td><td>+29:24:27.5</td><td>4.47</td><td>1.51</td><td>23:27:35.37</td><td>GPC (z)</td><td>71.7</td><td>-17.1</td><td>17.2</td><td>2015/12/03</td><td>ASASSN-15tm</td><td>5,0,61.7</td><td>351.8983333333333</td><td>--</td><td>0.016</td><td>2015ATel.8365....1M,2016A&amp;A...594A..13P,2015ATel.8393....1S,2011ApJ...737..103S</td><td>--</td><td>4800.0</td><td>--</td><td>0.016</td><td>92.59193</td><td>0.0610762</td><td>292.0492</td><td>0.3309996</td><td>477.6998</td><td>0.1062794</td><td>610.6054</td><td>0.03273705</td><td>652.2299</td><td>0.002076703</td><td>17.58356</td><td>0.04744748</td><td>16.33636</td><td>0.006461815</td><td>15.80211</td><td>0.006971796</td><td>15.5356</td><td>0.009827517</td><td>15.464</td><td>0.0365288</td><td>47.81638717651367</td><td>9</td><td>-17.766320384396533</td></tr>\n",
       "<tr><td>...</td><td>...</td><td>...</td><td>...</td><td>...</td><td>...</td><td>...</td><td>...</td><td>...</td><td>...</td><td>...</td><td>...</td><td>...</td><td>...</td><td>...</td><td>...</td><td>...</td><td>...</td><td>...</td><td>...</td><td>...</td><td>...</td><td>...</td><td>...</td><td>...</td><td>...</td><td>...</td><td>...</td><td>...</td><td>...</td><td>...</td><td>...</td><td>...</td><td>...</td><td>...</td><td>...</td><td>...</td><td>...</td><td>...</td><td>...</td><td>...</td><td>...</td><td>...</td><td>...</td><td>...</td><td>...</td><td>...</td><td>...</td><td>...</td><td>...</td><td>...</td><td>...</td></tr>\n",
       "<tr><td>SN2019gbm</td><td>SN2019gbm,PS19bez,AT2019gbm,ZTF19aavjlkx</td><td>sne</td><td>II</td><td>27.003141666666668</td><td>2019/05/29</td><td>ZTF</td><td>--</td><td>--</td><td>2MASX J15574237+2700167</td><td>+27:00:16.7</td><td>5.616</td><td>9.098</td><td>15:57:42.37</td><td>GPC (w)</td><td>392.248</td><td>-19.0808</td><td>18.8</td><td>2019/05/28</td><td>SN2019gbm</td><td>21,0,35</td><td>239.42605</td><td>--</td><td>0.083443</td><td>2016A&amp;A...594A..13P</td><td>--</td><td>23975.0</td><td>--</td><td>0.083443</td><td>41.88491</td><td>0.1512944</td><td>204.1775</td><td>0.7056358</td><td>459.962</td><td>0.3263729</td><td>705.5726</td><td>0.1164586</td><td>970.6692</td><td>0.00833902</td><td>18.44484</td><td>0.06664164</td><td>16.72498</td><td>0.006330325</td><td>15.84319</td><td>0.004131857</td><td>15.37865</td><td>0.004509172</td><td>15.03232</td><td>0.01224884</td><td>245.99769592285156</td><td>0</td><td>-21.240182386232796</td></tr>\n",
       "<tr><td>SN2019gqs</td><td>SN2019gqs,PS19bhg,AT2019gqs,ZTF19aavkptg</td><td>sne</td><td>II P</td><td>49.153502777777774</td><td>2019/05/16</td><td>ZTF</td><td>--</td><td>--</td><td>SDSS J113616.32+490914.2</td><td>+49:09:14.2</td><td>5.512</td><td>4.277</td><td>11:36:16.32</td><td>GPC (i)</td><td>172.41</td><td>-17.072</td><td>19.07</td><td>2019/06/15</td><td>SN2019gqs</td><td>5,-29.9,-0.202</td><td>174.06575833333332</td><td>--</td><td>0.03787</td><td>2016A&amp;A...594A..13P</td><td>--</td><td>11140.0</td><td>--</td><td>0.03787</td><td>17.59455</td><td>0.1487394</td><td>86.13489</td><td>0.07802182</td><td>169.2765</td><td>0.003917609</td><td>234.7833</td><td>0.001256945</td><td>272.4641</td><td>0.001117723</td><td>19.38649</td><td>0.1599846</td><td>17.66205</td><td>0.04512698</td><td>16.92851</td><td>0.1024747</td><td>16.57333</td><td>0.1304363</td><td>16.41172</td><td>0.1191905</td><td>112.68427276611328</td><td>0</td><td>-18.50034636105572</td></tr>\n",
       "<tr><td>SN2019hty</td><td>SN2019hty,PS19bhn,AT2019hty,ATLAS19nhp</td><td>sne</td><td>Ib-Ca-rich</td><td>32.20610277777778</td><td>2019/06/19</td><td>ATLAS</td><td>--</td><td>--</td><td>2MASX J12553453+3212213</td><td>+32:12:21.3</td><td>19.3</td><td>9.19</td><td>12:55:34.53</td><td>GPC (z, y)</td><td>102.79</td><td>-15.815</td><td>19.22</td><td>2019/06/18</td><td>SN2019hty</td><td>13,-6.11,-0.15</td><td>193.88754166666666</td><td>--</td><td>0.02283</td><td>2016A&amp;A...594A..13P</td><td>--</td><td>6766.0</td><td>--</td><td>0.02283</td><td>144.3588</td><td>0.04745553</td><td>650.595</td><td>0.01226634</td><td>1328.858</td><td>0.003426767</td><td>1906.523</td><td>0.001726167</td><td>2390.086</td><td>0.0009947505</td><td>17.10139</td><td>0.03452525</td><td>15.46672</td><td>0.01506802</td><td>14.6913</td><td>0.01395736</td><td>14.29939</td><td>0.01370695</td><td>14.05397</td><td>0.01440302</td><td>68.1360092163086</td><td>0</td><td>-19.66955643840825</td></tr>\n",
       "<tr><td>SN2019krw</td><td>SN2019krw,PS19dro,AT2019krw,ZTF19abdoior</td><td>sne</td><td>Ic</td><td>40.22581666666667</td><td>2019/07/05</td><td>ZTF</td><td>--</td><td>--</td><td>2MASX J17501063+4013391</td><td>+40:13:39.1</td><td>7.139</td><td>6.942</td><td>17:50:10.63</td><td>GPC (i)</td><td>215.0</td><td>-18.0</td><td>18.63</td><td>2019/07/13</td><td>SN2019krw</td><td>5,-8.6,0.00642</td><td>267.54297916666667</td><td>--</td><td>0.047</td><td>2016A&amp;A...594A..13P</td><td>--</td><td>14000.0</td><td>--</td><td>0.047</td><td>56.0745</td><td>0.08280782</td><td>201.8898</td><td>0.290465</td><td>340.5638</td><td>0.1620785</td><td>482.6163</td><td>0.05890742</td><td>543.826</td><td>0.002683573</td><td>18.12808</td><td>0.06728493</td><td>16.73721</td><td>0.009978446</td><td>16.1695</td><td>0.007918867</td><td>15.79099</td><td>0.009269092</td><td>15.66135</td><td>0.03853949</td><td>139.59474182128906</td><td>9</td><td>-19.707011265249214</td></tr>\n",
       "<tr><td>SN2019lsm</td><td>SN2019lsm,AT2019lsm,ASASSN-19sf</td><td>sne</td><td>Ibn</td><td>14.777111111111111</td><td>2019/07/25</td><td>ASAS-SN</td><td>--</td><td>--</td><td>SDSS J143502.16+144639.5</td><td>+14:46:39.5</td><td>7.28</td><td>6.19</td><td>14:35:02.16</td><td>ACAM1 (cyan, orange), Brutus (g), Cassius (g), ZTF-Cam (g, r)</td><td>190.28</td><td>-18.413</td><td>17.94</td><td>2019/07/25</td><td>SN2019lsm</td><td>6,-5.08,1.72</td><td>218.76088333333334</td><td>--</td><td>0.04168</td><td>2016A&amp;A...594A..13P</td><td>1,5.26</td><td>12240.0</td><td>--</td><td>0.04168</td><td>26.64935</td><td>0.0651572</td><td>72.89272</td><td>0.4135602</td><td>100.9699</td><td>0.2174523</td><td>121.405</td><td>0.09541602</td><td>145.4232</td><td>0.004538557</td><td>18.93575</td><td>0.1595998</td><td>17.84329</td><td>0.02316165</td><td>17.48952</td><td>0.02305945</td><td>17.28941</td><td>0.02895178</td><td>17.09339</td><td>0.1108177</td><td>123.92646026611328</td><td>0</td><td>-18.095635584760974</td></tr>\n",
       "<tr><td>SN2019vxm</td><td>SN2019vxm,AT2019vxm,ASASSN-19acc,Gaia19fje</td><td>sne</td><td>IIn</td><td>62.13778888888889</td><td>2019/12/01</td><td>ASAS-SN</td><td>--</td><td>--</td><td>SDSS J195828.83+620824.3</td><td>+62:08:24.3</td><td>8.81</td><td>3.52</td><td>19:58:28.83</td><td>ACAM1 (cyan), Astrometric, Leavitt (g), Paczynski (g)</td><td>85.3</td><td>-19.9</td><td>14.72</td><td>2020/01/05</td><td>SN2019vxm</td><td>27,-44.5,471</td><td>299.61932916666666</td><td>--</td><td>0.019</td><td>2016A&amp;A...594A..13P</td><td>1,-34.1</td><td>5600.0</td><td>--</td><td>0.019</td><td>3.599046</td><td>0.08581851</td><td>18.72799</td><td>0.4210892</td><td>38.20009</td><td>0.4628542</td><td>45.80413</td><td>0.1087426</td><td>-0.7725716</td><td>0.00552433</td><td>21.10789</td><td>1.026682</td><td>19.31875</td><td>0.08933589</td><td>18.54483</td><td>0.04177623</td><td>18.34772</td><td>0.07187972</td><td>23.37067</td><td>8.749742</td><td>56.74826431274414</td><td>9</td><td>-15.420738887284472</td></tr>\n",
       "<tr><td>SN2020bwr</td><td>SN2020bwr,AT2020bwr,ASASSN-20bu,Gaia20bap</td><td>sne</td><td>II</td><td>36.207522222222224</td><td>2020/01/22</td><td>ASAS-SN</td><td>--</td><td>--</td><td>2MASS J16345923+3612274</td><td>+36:12:27.4</td><td>0.94</td><td>1.1</td><td>16:34:59.23</td><td>ACAM1 (cyan, orange), Astrometric, Cassius (g), GPC1 (i), Leavitt (g)</td><td>280.584</td><td>-19.7764</td><td>17.4</td><td>2020/02/03</td><td>SN2020bwr</td><td>10,-11.1,53.7</td><td>248.7472875</td><td>--</td><td>0.060637</td><td>2016A&amp;A...594A..13P</td><td>--</td><td>17628.0</td><td>--</td><td>0.060637</td><td>17.14531</td><td>0.1156139</td><td>62.7439</td><td>0.9022805</td><td>112.9721</td><td>0.2209432</td><td>162.3629</td><td>0.07577656</td><td>231.3473</td><td>0.007750906</td><td>19.41456</td><td>0.1862155</td><td>18.00607</td><td>0.01821714</td><td>17.36757</td><td>0.02044616</td><td>16.97378</td><td>0.02429232</td><td>16.58933</td><td>0.05330583</td><td>179.60125732421875</td><td>0</td><td>-19.050493698066592</td></tr>\n",
       "<tr><td>SN2020hvn</td><td>SN2020hvn,AT2020hvn,ASASSN-20ed</td><td>sne</td><td>II</td><td>30.11199722222222</td><td>2020/04/20</td><td>ASAS-SN</td><td>--</td><td>--</td><td>2MASX J11193797+3006422</td><td>+30:06:42.2</td><td>0.63</td><td>0.31</td><td>11:19:37.97</td><td>ACAM1 (cyan, orange), Leavitt (g), ZTF-Cam (g, r)</td><td>105.342</td><td>-17.3879</td><td>17.7</td><td>2020/04/20</td><td>SN2020hvn</td><td>7,-0.176,8.55</td><td>169.9084083333333</td><td>--</td><td>0.023386</td><td>2016A&amp;A...594A..13P</td><td>1,16.4</td><td>6929.0</td><td>--</td><td>0.023386</td><td>70.98649</td><td>0.1903186</td><td>215.3461</td><td>0.6864881</td><td>355.9403</td><td>0.1520005</td><td>464.3573</td><td>0.07649578</td><td>571.3288</td><td>0.007028054</td><td>17.87206</td><td>0.03505941</td><td>16.66716</td><td>0.006085142</td><td>16.12156</td><td>0.007823925</td><td>15.83287</td><td>0.008453823</td><td>15.60778</td><td>0.02266831</td><td>69.78759002685547</td><td>0</td><td>-18.28000717260946</td></tr>\n",
       "<tr><td>SNLS-04D1ln</td><td>SNLS-04D1ln</td><td>sne</td><td>II P</td><td>-4.451041666666667</td><td>2004/12/14</td><td>--</td><td>--</td><td>0.0223</td><td>[HSP2005] J022553.48-042703.75</td><td>-04:27:03.75</td><td>0.02991</td><td>0.0634</td><td>02:25:53.48</td><td>g, r, i, z</td><td>1055.0</td><td>-17.731</td><td>22.18</td><td>2004/10/21</td><td>SNLS-04D1ln</td><td>42,-14.1,66</td><td>36.47284166666667</td><td>--</td><td>0.2077,0.2072</td><td>2006ApJ...645..841N,2005ApJ...634.1190H,2016A&amp;A...594A..13P,2009ApJ...694.1067P,2011ApJ...737..103S</td><td>--</td><td>55910.0</td><td>--</td><td>0.2077</td><td>0.5420292</td><td>0.5103787</td><td>5.731681</td><td>4.16646</td><td>10.07356</td><td>2.995677</td><td>14.22382</td><td>0.5248947</td><td>18.52826</td><td>0.02329367</td><td>23.09884</td><td>2.491107</td><td>20.60403</td><td>0.09275657</td><td>19.99189</td><td>0.06225446</td><td>19.61728</td><td>0.1053253</td><td>19.32869</td><td>0.3827275</td><td>596.2523803710938</td><td>9</td><td>-18.9826137953489</td></tr>\n",
       "<tr><td>iPTF13daz</td><td>iPTF13daz,PS19cyi</td><td>sne</td><td>IIn</td><td>24.68761111111111</td><td>2013/08/29</td><td>PTF</td><td>--</td><td>0.0459</td><td>2MASX J16555614+2441158</td><td>+24:41:15.8</td><td>4.923</td><td>4.568</td><td>16:55:56.14</td><td>GPC (w)</td><td>206.0</td><td>-17.9</td><td>18.6</td><td>2013/08/28</td><td>iPTF13daz</td><td>9,0,2040</td><td>253.98541666666665</td><td>--</td><td>0.045</td><td>2013ATel.5387....1A,2012PASP..124..668Y,2016A&amp;A...594A..13P,2011ApJ...737..103S</td><td>1,0.478</td><td>13000.0</td><td>--</td><td>0.045</td><td>108.7012</td><td>0.01648403</td><td>345.8535</td><td>0.002868145</td><td>571.7316</td><td>0.0008093907</td><td>762.3602</td><td>0.0005120715</td><td>840.717</td><td>0.0003118862</td><td>17.40941</td><td>0.07779592</td><td>16.15277</td><td>0.05861806</td><td>15.60702</td><td>0.06675026</td><td>15.2946</td><td>0.06293594</td><td>15.18837</td><td>0.07312666</td><td>133.70843505859375</td><td>2</td><td>-20.16086310300778</td></tr>\n",
       "</table>"
      ],
      "text/plain": [
       "<Table length=1171>\n",
       "   event    ...       rabsmag      \n",
       "   str23    ...       float64      \n",
       "----------- ... -------------------\n",
       "ASASSN-13dn ... -18.348260828109954\n",
       "ASASSN-14az ... -15.652880237784276\n",
       "ASASSN-14bu ...  -16.71989451468687\n",
       "ASASSN-15bd ... -15.481901638954104\n",
       "ASASSN-15ik ... -17.191689745580653\n",
       "ASASSN-15mj ... -19.257272558010282\n",
       "ASASSN-15mm ... -18.514586295653988\n",
       "ASASSN-15no ...  -17.27151865052559\n",
       "ASASSN-15rb ... -18.493965547979062\n",
       "ASASSN-15tm ... -17.766320384396533\n",
       "        ... ...                 ...\n",
       "  SN2019gbm ... -21.240182386232796\n",
       "  SN2019gqs ...  -18.50034636105572\n",
       "  SN2019hty ...  -19.66955643840825\n",
       "  SN2019krw ... -19.707011265249214\n",
       "  SN2019lsm ... -18.095635584760974\n",
       "  SN2019vxm ... -15.420738887284472\n",
       "  SN2020bwr ... -19.050493698066592\n",
       "  SN2020hvn ...  -18.28000717260946\n",
       "SNLS-04D1ln ...   -18.9826137953489\n",
       "  iPTF13daz ...  -20.16086310300778"
      ]
     },
     "execution_count": 2,
     "metadata": {},
     "output_type": "execute_result"
    }
   ],
   "source": [
    "SNratetb = Table.read('SNrates/SN_withPetroFlux_08042021_rabsmag.txt', format = 'ascii.commented_header')\n",
    "SNratetb"
   ]
  },
  {
   "cell_type": "code",
   "execution_count": 25,
   "id": "0d1ab87b",
   "metadata": {},
   "outputs": [],
   "source": [
    "def plot_radec(ra, dec, vflag, sizes=10):\n",
    "    \"\"\"Mollweide projection plot adapted to astro coordinates.\n",
    "    \n",
    "    Parameters\n",
    "    ----------\n",
    "    ra : pandas.Series or list\n",
    "        List of candidate RA [deg].\n",
    "    dec : pandas.Series or list\n",
    "        List of candidate Dec [deg].\n",
    "    \n",
    "    Returns\n",
    "    -------\n",
    "    fig : matplotlib.Figure\n",
    "        Figure object to let user apply further plot manipulation.\n",
    "    \"\"\"\n",
    "    # Convert RA, Dec to radians.\n",
    "    # Rotate the RA so that the plot goes 360->0 left to right.\n",
    "    _ra = np.radians(180. - ra)\n",
    "    _dec = np.radians(dec)\n",
    "\n",
    "    fig, ax = plt.subplots(1,1, figsize=(10,5), subplot_kw={'projection': 'mollweide'})\n",
    "    \n",
    "    ax.scatter(_ra[vflag==9], _dec[vflag==9], s=sizes, c='g', alpha=0.5, label='outside')\n",
    "    ax.scatter(_ra[vflag==2], _dec[vflag==2], s=sizes, c='b', alpha=0.5, label='edge')\n",
    "    ax.scatter(_ra[vflag==0], _dec[vflag==0], s=sizes*2.5, c='k', alpha=0.5, label='wall')\n",
    "    ax.scatter(_ra[vflag==1], _dec[vflag==1], s=sizes*2.5, c='r', alpha=0.5, label='void')\n",
    "\n",
    "    ax.set(xticks=np.radians([-150, -120, -90, -60, -30, 0, 30, 60, 90, 120, 150]),\n",
    "           xticklabels=['22h', '20h', '18h', '16h', '14h', '12h', '10h', '8h', '6h', '4h', '2h'])\n",
    "    ax.tick_params(axis='x', labelsize=16)\n",
    "    ax.tick_params(axis='y', labelsize=16, labelcolor='w')\n",
    "    ax.legend(fontsize=12, loc='lower right')\n",
    "    ax.grid(ls=':')\n",
    "    fig.tight_layout()\n",
    "    \n",
    "    #return fig;"
   ]
  },
  {
   "cell_type": "code",
   "execution_count": 26,
   "id": "b41603de",
   "metadata": {},
   "outputs": [
    {
     "data": {
      "image/png": "[encoded data removed]",
      "text/plain": [
       "<Figure size 720x360 with 1 Axes>"
      ]
     },
     "metadata": {},
     "output_type": "display_data"
    }
   ],
   "source": [
    "plot_radec(SNratetb['ra'], SNratetb['dec'], SNratetb['vflag'])"
   ]
  },
  {
   "cell_type": "markdown",
   "id": "ac9ada58",
   "metadata": {},
   "source": [
    "# Whole Galaxy file"
   ]
  },
  {
   "cell_type": "code",
   "execution_count": 3,
   "id": "200753d6",
   "metadata": {},
   "outputs": [
    {
     "data": {
      "text/html": [
       "<i>Table length=514587</i>\n",
       "<table id=\"table4354956736\" class=\"table-striped table-bordered table-condensed\">\n",
       "<thead><tr><th>ra</th><th>dec</th><th>redshift</th><th>rabsmag</th><th>Rgal</th><th>vflag</th></tr></thead>\n",
       "<thead><tr><th>float64</th><th>float64</th><th>float64</th><th>float64</th><th>float64</th><th>int64</th></tr></thead>\n",
       "<tr><td>146.6285851269414</td><td>-0.7651620976591762</td><td>0.0646563172340393</td><td>-19.97649574279785</td><td>190.83966064453125</td><td>2</td></tr>\n",
       "<tr><td>146.9341288729797</td><td>-0.6704053610430766</td><td>0.12127048522233963</td><td>-21.559162139892578</td><td>352.9377746582031</td><td>9</td></tr>\n",
       "<tr><td>146.9634997327016</td><td>-0.5447758299302171</td><td>0.055980585515499115</td><td>-19.10099220275879</td><td>165.58349609375</td><td>2</td></tr>\n",
       "<tr><td>146.96352370262414</td><td>-0.7593404235056136</td><td>0.09708637744188309</td><td>-20.089942932128906</td><td>284.27178955078125</td><td>2</td></tr>\n",
       "<tr><td>146.85984630722874</td><td>-0.8089065016506019</td><td>0.12658987939357758</td><td>-21.062517166137695</td><td>367.9248046875</td><td>9</td></tr>\n",
       "<tr><td>146.5927838471015</td><td>-0.7602574022145185</td><td>0.06495923548936844</td><td>-19.97614288330078</td><td>191.7196502685547</td><td>2</td></tr>\n",
       "<tr><td>146.72838067287842</td><td>-0.5569743913807053</td><td>0.08931196480989456</td><td>-19.900196075439453</td><td>262.0144348144531</td><td>2</td></tr>\n",
       "<tr><td>147.18677363814004</td><td>-0.4938139466493589</td><td>0.09031707048416138</td><td>-20.94278907775879</td><td>264.8970031738281</td><td>2</td></tr>\n",
       "<tr><td>146.95608041489135</td><td>-0.34230852875962586</td><td>0.13468021154403687</td><td>-21.625717163085938</td><td>390.63812255859375</td><td>9</td></tr>\n",
       "<tr><td>147.17645340393182</td><td>-0.3540349522432606</td><td>0.006282840855419636</td><td>-15.534673690795898</td><td>18.80738067626953</td><td>2</td></tr>\n",
       "<tr><td>...</td><td>...</td><td>...</td><td>...</td><td>...</td><td>...</td></tr>\n",
       "<tr><td>218.32005780355482</td><td>-1.2525971090241848</td><td>0.08207043260335922</td><td>-20.237579345703125</td><td>241.20237731933594</td><td>0</td></tr>\n",
       "<tr><td>221.66768455942065</td><td>-1.8316123717268293</td><td>0.0</td><td>-3.1390342712402344</td><td>0.0</td><td>-9</td></tr>\n",
       "<tr><td>221.55081881922277</td><td>-1.8145565078434764</td><td>0.08038564771413803</td><td>-21.023279190063477</td><td>236.34939575195312</td><td>2</td></tr>\n",
       "<tr><td>219.74484109954423</td><td>-2.0204498002007893</td><td>0.11597869545221329</td><td>-20.93014907836914</td><td>337.98675537109375</td><td>9</td></tr>\n",
       "<tr><td>219.69281435303517</td><td>-1.498367091421907</td><td>0.13770000636577606</td><td>-21.404783248901367</td><td>399.0910949707031</td><td>9</td></tr>\n",
       "<tr><td>219.55194176345347</td><td>-1.5172838888725428</td><td>0.10502009093761444</td><td>-21.11517906188965</td><td>306.8934326171875</td><td>1</td></tr>\n",
       "<tr><td>219.52219672036165</td><td>-1.4446756753043812</td><td>0.1185000017285347</td><td>-19.01321792602539</td><td>345.115478515625</td><td>9</td></tr>\n",
       "<tr><td>219.22221824841625</td><td>-1.5282385334392963</td><td>-0.0006000000284984708</td><td>-7.3696746826171875</td><td>-1.7989403009414673</td><td>-9</td></tr>\n",
       "<tr><td>219.1754156653414</td><td>-1.4284259133402393</td><td>0.09570000320672989</td><td>-19.478748321533203</td><td>280.3093566894531</td><td>1</td></tr>\n",
       "<tr><td>218.91299946375833</td><td>-1.4901928289538668</td><td>0.05620000138878822</td><td>-18.471019744873047</td><td>166.22349548339844</td><td>2</td></tr>\n",
       "</table>"
      ],
      "text/plain": [
       "<Table length=514587>\n",
       "        ra                 dec          ...         Rgal        vflag\n",
       "     float64             float64        ...       float64       int64\n",
       "------------------ -------------------- ... ------------------- -----\n",
       " 146.6285851269414  -0.7651620976591762 ...  190.83966064453125     2\n",
       " 146.9341288729797  -0.6704053610430766 ...   352.9377746582031     9\n",
       " 146.9634997327016  -0.5447758299302171 ...     165.58349609375     2\n",
       "146.96352370262414  -0.7593404235056136 ...  284.27178955078125     2\n",
       "146.85984630722874  -0.8089065016506019 ...      367.9248046875     9\n",
       " 146.5927838471015  -0.7602574022145185 ...   191.7196502685547     2\n",
       "146.72838067287842  -0.5569743913807053 ...   262.0144348144531     2\n",
       "147.18677363814004  -0.4938139466493589 ...   264.8970031738281     2\n",
       "146.95608041489135 -0.34230852875962586 ...  390.63812255859375     9\n",
       "147.17645340393182  -0.3540349522432606 ...   18.80738067626953     2\n",
       "               ...                  ... ...                 ...   ...\n",
       "218.32005780355482  -1.2525971090241848 ...  241.20237731933594     0\n",
       "221.66768455942065  -1.8316123717268293 ...                 0.0    -9\n",
       "221.55081881922277  -1.8145565078434764 ...  236.34939575195312     2\n",
       "219.74484109954423  -2.0204498002007893 ...  337.98675537109375     9\n",
       "219.69281435303517   -1.498367091421907 ...   399.0910949707031     9\n",
       "219.55194176345347  -1.5172838888725428 ...   306.8934326171875     1\n",
       "219.52219672036165  -1.4446756753043812 ...    345.115478515625     9\n",
       "219.22221824841625  -1.5282385334392963 ... -1.7989403009414673    -9\n",
       " 219.1754156653414  -1.4284259133402393 ...   280.3093566894531     1\n",
       "218.91299946375833  -1.4901928289538668 ...  166.22349548339844     2"
      ]
     },
     "execution_count": 3,
     "metadata": {},
     "output_type": "execute_result"
    }
   ],
   "source": [
    "galSNr_tb = Table.read('SNrates/nsa_v1_0_1_main_vflag_comoving.txt', format = 'ascii.commented_header')\n",
    "galSNr_tb"
   ]
  },
  {
   "cell_type": "markdown",
   "id": "ad3efaa5",
   "metadata": {},
   "source": [
    "# All"
   ]
  },
  {
   "cell_type": "code",
   "execution_count": 4,
   "id": "98ed0b73",
   "metadata": {},
   "outputs": [
    {
     "data": {
      "text/plain": [
       "102"
      ]
     },
     "execution_count": 4,
     "metadata": {},
     "output_type": "execute_result"
    }
   ],
   "source": [
    "nSN_void = np.sum(SNratetb['vflag'] == 1)\n",
    "nSN_void"
   ]
  },
  {
   "cell_type": "code",
   "execution_count": 5,
   "id": "08d15b75",
   "metadata": {},
   "outputs": [
    {
     "data": {
      "text/plain": [
       "188"
      ]
     },
     "execution_count": 5,
     "metadata": {},
     "output_type": "execute_result"
    }
   ],
   "source": [
    "nSN_wall = np.sum(SNratetb['vflag'] == 0)\n",
    "nSN_wall"
   ]
  },
  {
   "cell_type": "code",
   "execution_count": 6,
   "id": "f7c90390",
   "metadata": {},
   "outputs": [
    {
     "data": {
      "text/plain": [
       "86798"
      ]
     },
     "execution_count": 6,
     "metadata": {},
     "output_type": "execute_result"
    }
   ],
   "source": [
    "nGal_void = np.sum(galSNr_tb['vflag'] == 1)\n",
    "nGal_void"
   ]
  },
  {
   "cell_type": "code",
   "execution_count": 7,
   "id": "9a291a4c",
   "metadata": {},
   "outputs": [
    {
     "data": {
      "text/plain": [
       "209619"
      ]
     },
     "execution_count": 7,
     "metadata": {},
     "output_type": "execute_result"
    }
   ],
   "source": [
    "nGal_wall = np.sum(galSNr_tb['vflag'] == 0)\n",
    "nGal_wall"
   ]
  },
  {
   "cell_type": "code",
   "execution_count": 8,
   "id": "7a49549a",
   "metadata": {},
   "outputs": [
    {
     "data": {
      "text/plain": [
       "0.0011751422843844328"
      ]
     },
     "execution_count": 8,
     "metadata": {},
     "output_type": "execute_result"
    }
   ],
   "source": [
    "#ratio between the SN(from own results 1171 obj) in void and galaxies in a void. \n",
    "SNGAl_void = (nSN_void) / nGal_void \n",
    "SNGAl_void"
   ]
  },
  {
   "cell_type": "code",
   "execution_count": 9,
   "id": "3a5fd1bd",
   "metadata": {},
   "outputs": [
    {
     "data": {
      "text/plain": [
       "0.000896865265076162"
      ]
     },
     "execution_count": 9,
     "metadata": {},
     "output_type": "execute_result"
    }
   ],
   "source": [
    "#ratio between SN(from own results, 1171 obj) in a wall and galaxies in a wall.\n",
    "SNGAL_wall = (nSN_wall) / (nGal_wall)\n",
    "SNGAL_wall"
   ]
  },
  {
   "cell_type": "markdown",
   "id": "cfcab575",
   "metadata": {},
   "source": [
    "# Dwarfs $M_r > -17$"
   ]
  },
  {
   "cell_type": "code",
   "execution_count": 10,
   "id": "d774ef30",
   "metadata": {},
   "outputs": [],
   "source": [
    "DwarfSN_tb = SNratetb[SNratetb['rabsmag'] > -17]"
   ]
  },
  {
   "cell_type": "code",
   "execution_count": 11,
   "id": "04f34539",
   "metadata": {},
   "outputs": [
    {
     "data": {
      "text/plain": [
       "18"
      ]
     },
     "execution_count": 11,
     "metadata": {},
     "output_type": "execute_result"
    }
   ],
   "source": [
    "nSN_wall_Dwrf = np.sum(DwarfSN_tb['vflag'] == 0)\n",
    "nSN_wall_Dwrf"
   ]
  },
  {
   "cell_type": "code",
   "execution_count": 12,
   "id": "2d150d5c",
   "metadata": {},
   "outputs": [
    {
     "data": {
      "text/plain": [
       "20"
      ]
     },
     "execution_count": 12,
     "metadata": {},
     "output_type": "execute_result"
    }
   ],
   "source": [
    "nSN_void_Dwrf = np.sum(DwarfSN_tb['vflag'] == 1)\n",
    "nSN_void_Dwrf"
   ]
  },
  {
   "cell_type": "code",
   "execution_count": 13,
   "id": "c8366dd2",
   "metadata": {},
   "outputs": [],
   "source": [
    "DwarfSNgal_tb = galSNr_tb[galSNr_tb['rabsmag'] > -17]"
   ]
  },
  {
   "cell_type": "code",
   "execution_count": 14,
   "id": "c6c09e77",
   "metadata": {},
   "outputs": [
    {
     "data": {
      "text/plain": [
       "3631"
      ]
     },
     "execution_count": 14,
     "metadata": {},
     "output_type": "execute_result"
    }
   ],
   "source": [
    "ngal_wall_Dwrf = np.sum(DwarfSNgal_tb['vflag'] == 0)\n",
    "ngal_wall_Dwrf"
   ]
  },
  {
   "cell_type": "code",
   "execution_count": 15,
   "id": "20da2c04",
   "metadata": {},
   "outputs": [
    {
     "data": {
      "text/plain": [
       "3432"
      ]
     },
     "execution_count": 15,
     "metadata": {},
     "output_type": "execute_result"
    }
   ],
   "source": [
    "ngal_void_Dwrf = np.sum(DwarfSNgal_tb['vflag'] == 1)\n",
    "ngal_void_Dwrf"
   ]
  },
  {
   "cell_type": "code",
   "execution_count": 16,
   "id": "9daef083",
   "metadata": {},
   "outputs": [
    {
     "data": {
      "text/plain": [
       "0.004957312035251997"
      ]
     },
     "execution_count": 16,
     "metadata": {},
     "output_type": "execute_result"
    }
   ],
   "source": [
    "#ratio of dwarfs(our results) and galaxies ---> <-17 ---->wall\n",
    "DwSNGal_wall = (nSN_wall_Dwrf) / (ngal_wall_Dwrf)\n",
    "DwSNGal_wall"
   ]
  },
  {
   "cell_type": "code",
   "execution_count": 17,
   "id": "5320f4be",
   "metadata": {},
   "outputs": [
    {
     "data": {
      "text/plain": [
       "0.005827505827505828"
      ]
     },
     "execution_count": 17,
     "metadata": {},
     "output_type": "execute_result"
    }
   ],
   "source": [
    "#ratio of dwarfs(our results) and galaxies ---> <-17 ---->void\n",
    "DwSNGal_void = nSN_void_Dwrf / ngal_void_Dwrf\n",
    "DwSNGal_void"
   ]
  },
  {
   "cell_type": "markdown",
   "id": "1c5db736",
   "metadata": {},
   "source": [
    "# $-17 > M_r > -18$"
   ]
  },
  {
   "cell_type": "code",
   "execution_count": 18,
   "id": "e5926f5f",
   "metadata": {},
   "outputs": [],
   "source": [
    "SN1718_tb = SNratetb[(SNratetb['rabsmag'] < -17) & (SNratetb['rabsmag'] > -18)]"
   ]
  },
  {
   "cell_type": "code",
   "execution_count": 19,
   "id": "fc99e748",
   "metadata": {},
   "outputs": [
    {
     "name": "stdout",
     "output_type": "stream",
     "text": [
      "6\n"
     ]
    }
   ],
   "source": [
    "nSN_void_1718 = np.sum(SN1718_tb['vflag'] == 1)\n",
    "print(nSN_void_1718)"
   ]
  },
  {
   "cell_type": "code",
   "execution_count": 20,
   "id": "360a3d37",
   "metadata": {},
   "outputs": [
    {
     "name": "stdout",
     "output_type": "stream",
     "text": [
      "12\n"
     ]
    }
   ],
   "source": [
    "nSN_wall_1718 = np.sum(SN1718_tb['vflag'] == 0)\n",
    "print(nSN_wall_1718)"
   ]
  },
  {
   "cell_type": "code",
   "execution_count": 21,
   "id": "f4bf469b",
   "metadata": {},
   "outputs": [],
   "source": [
    "Gal1718_tb = galSNr_tb[(galSNr_tb['rabsmag'] < -17) & (galSNr_tb['rabsmag'] > -18)]"
   ]
  },
  {
   "cell_type": "code",
   "execution_count": 22,
   "id": "963c8daa",
   "metadata": {},
   "outputs": [
    {
     "data": {
      "text/plain": [
       "4793"
      ]
     },
     "execution_count": 22,
     "metadata": {},
     "output_type": "execute_result"
    }
   ],
   "source": [
    "ngal_void_1718 = np.sum(Gal1718_tb['vflag'] == 1)\n",
    "ngal_void_1718"
   ]
  },
  {
   "cell_type": "code",
   "execution_count": 23,
   "id": "29a8a126",
   "metadata": {},
   "outputs": [
    {
     "data": {
      "text/plain": [
       "9601"
      ]
     },
     "execution_count": 23,
     "metadata": {},
     "output_type": "execute_result"
    }
   ],
   "source": [
    "ngal_wall_1718 = np.sum(Gal1718_tb['vflag'] == 0)\n",
    "ngal_wall_1718"
   ]
  },
  {
   "cell_type": "code",
   "execution_count": 24,
   "id": "19871eba",
   "metadata": {},
   "outputs": [
    {
     "data": {
      "text/plain": [
       "0.0012518255789693302"
      ]
     },
     "execution_count": 24,
     "metadata": {},
     "output_type": "execute_result"
    }
   ],
   "source": [
    "SNGal_1718_void = nSN_void_1718 / ngal_void_1718\n",
    "SNGal_1718_void"
   ]
  },
  {
   "cell_type": "code",
   "execution_count": 25,
   "id": "289c1a3c",
   "metadata": {},
   "outputs": [
    {
     "data": {
      "text/plain": [
       "0.001249869805228622"
      ]
     },
     "execution_count": 25,
     "metadata": {},
     "output_type": "execute_result"
    }
   ],
   "source": [
    "SNGal_1718_wall = nSN_wall_1718 / ngal_wall_1718\n",
    "SNGal_1718_wall"
   ]
  },
  {
   "cell_type": "markdown",
   "id": "e5613ee6",
   "metadata": {},
   "source": [
    "# $-18 > M_r > -19$ "
   ]
  },
  {
   "cell_type": "code",
   "execution_count": 26,
   "id": "0887aa4c",
   "metadata": {},
   "outputs": [],
   "source": [
    "SN1819_tb = SNratetb[(SNratetb['rabsmag'] < -18) & (SNratetb['rabsmag'] > -19)]"
   ]
  },
  {
   "cell_type": "code",
   "execution_count": 27,
   "id": "7181e2f7",
   "metadata": {},
   "outputs": [
    {
     "data": {
      "text/plain": [
       "23"
      ]
     },
     "execution_count": 27,
     "metadata": {},
     "output_type": "execute_result"
    }
   ],
   "source": [
    "nSN_void_1819 = np.sum(SN1819_tb['vflag'] == 1)\n",
    "nSN_void_1819"
   ]
  },
  {
   "cell_type": "code",
   "execution_count": 28,
   "id": "414f2380",
   "metadata": {},
   "outputs": [
    {
     "data": {
      "text/plain": [
       "28"
      ]
     },
     "execution_count": 28,
     "metadata": {},
     "output_type": "execute_result"
    }
   ],
   "source": [
    "nSN_wall_1819 = np.sum(SN1819_tb['vflag'] == 0)\n",
    "nSN_wall_1819"
   ]
  },
  {
   "cell_type": "code",
   "execution_count": 29,
   "id": "8e225914",
   "metadata": {},
   "outputs": [],
   "source": [
    "Gal1819_tb = galSNr_tb[(galSNr_tb['rabsmag'] < -18) & (galSNr_tb['rabsmag'] > -19)]"
   ]
  },
  {
   "cell_type": "code",
   "execution_count": 30,
   "id": "d0d58ef7",
   "metadata": {},
   "outputs": [
    {
     "data": {
      "text/plain": [
       "12256"
      ]
     },
     "execution_count": 30,
     "metadata": {},
     "output_type": "execute_result"
    }
   ],
   "source": [
    "ngal_void_1819 = np.sum(Gal1819_tb['vflag'] == 1)\n",
    "ngal_void_1819"
   ]
  },
  {
   "cell_type": "code",
   "execution_count": 31,
   "id": "9ce40b40",
   "metadata": {},
   "outputs": [
    {
     "data": {
      "text/plain": [
       "24411"
      ]
     },
     "execution_count": 31,
     "metadata": {},
     "output_type": "execute_result"
    }
   ],
   "source": [
    "ngal_wall_1819 = np.sum(Gal1819_tb['vflag'] == 0)\n",
    "ngal_wall_1819"
   ]
  },
  {
   "cell_type": "code",
   "execution_count": 32,
   "id": "945039fc",
   "metadata": {},
   "outputs": [
    {
     "data": {
      "text/plain": [
       "0.0018766318537859008"
      ]
     },
     "execution_count": 32,
     "metadata": {},
     "output_type": "execute_result"
    }
   ],
   "source": [
    "SNGal_1819_void = nSN_void_1819 / ngal_void_1819\n",
    "SNGal_1819_void"
   ]
  },
  {
   "cell_type": "code",
   "execution_count": 33,
   "id": "aba2cb55",
   "metadata": {},
   "outputs": [
    {
     "data": {
      "text/plain": [
       "0.0011470238826758428"
      ]
     },
     "execution_count": 33,
     "metadata": {},
     "output_type": "execute_result"
    }
   ],
   "source": [
    "SNGal_1819_wall = nSN_wall_1819 / ngal_wall_1819\n",
    "SNGal_1819_wall"
   ]
  },
  {
   "cell_type": "markdown",
   "id": "f64846aa",
   "metadata": {},
   "source": [
    "# $ -19 > M_r > -20 $"
   ]
  },
  {
   "cell_type": "code",
   "execution_count": 34,
   "id": "e2fca0ee",
   "metadata": {},
   "outputs": [],
   "source": [
    "SN1920_tb = SNratetb[(SNratetb['rabsmag'] < -19) & (SNratetb['rabsmag'] > -20)]"
   ]
  },
  {
   "cell_type": "code",
   "execution_count": 35,
   "id": "9845bf07",
   "metadata": {},
   "outputs": [
    {
     "data": {
      "text/plain": [
       "21"
      ]
     },
     "execution_count": 35,
     "metadata": {},
     "output_type": "execute_result"
    }
   ],
   "source": [
    "nSN_void_1920 = np.sum(SN1920_tb['vflag'] == 1)\n",
    "nSN_void_1920"
   ]
  },
  {
   "cell_type": "code",
   "execution_count": 36,
   "id": "68cf827c",
   "metadata": {},
   "outputs": [
    {
     "data": {
      "text/plain": [
       "41"
      ]
     },
     "execution_count": 36,
     "metadata": {},
     "output_type": "execute_result"
    }
   ],
   "source": [
    "nSN_wall_1920 = np.sum(SN1920_tb['vflag'] == 0)\n",
    "nSN_wall_1920"
   ]
  },
  {
   "cell_type": "code",
   "execution_count": 37,
   "id": "25de0c00",
   "metadata": {},
   "outputs": [],
   "source": [
    "Gal1920_tb = galSNr_tb[(galSNr_tb['rabsmag'] < -19) & (galSNr_tb['rabsmag'] > -20)]"
   ]
  },
  {
   "cell_type": "code",
   "execution_count": 38,
   "id": "76575b99",
   "metadata": {},
   "outputs": [
    {
     "data": {
      "text/plain": [
       "29100"
      ]
     },
     "execution_count": 38,
     "metadata": {},
     "output_type": "execute_result"
    }
   ],
   "source": [
    "ngal_void_1920 = np.sum(Gal1920_tb['vflag'] == 1)\n",
    "ngal_void_1920"
   ]
  },
  {
   "cell_type": "code",
   "execution_count": 39,
   "id": "667bbcfd",
   "metadata": {},
   "outputs": [
    {
     "data": {
      "text/plain": [
       "70869"
      ]
     },
     "execution_count": 39,
     "metadata": {},
     "output_type": "execute_result"
    }
   ],
   "source": [
    "ngal_wall_1920 = np.sum(Gal1920_tb['vflag'] == 0)\n",
    "ngal_wall_1920"
   ]
  },
  {
   "cell_type": "code",
   "execution_count": 40,
   "id": "e0669147",
   "metadata": {},
   "outputs": [
    {
     "data": {
      "text/plain": [
       "0.0007216494845360825"
      ]
     },
     "execution_count": 40,
     "metadata": {},
     "output_type": "execute_result"
    }
   ],
   "source": [
    "SNGal_1920_void = nSN_void_1920 / ngal_void_1920\n",
    "SNGal_1920_void"
   ]
  },
  {
   "cell_type": "code",
   "execution_count": 41,
   "id": "dc4375fb",
   "metadata": {},
   "outputs": [
    {
     "data": {
      "text/plain": [
       "0.0005785322214226248"
      ]
     },
     "execution_count": 41,
     "metadata": {},
     "output_type": "execute_result"
    }
   ],
   "source": [
    "SNGal_1920_wall = nSN_wall_1920 / ngal_wall_1920\n",
    "SNGal_1920_wall"
   ]
  },
  {
   "cell_type": "markdown",
   "id": "3013a145",
   "metadata": {},
   "source": [
    "# $ M_r < -20 $"
   ]
  },
  {
   "cell_type": "code",
   "execution_count": 42,
   "id": "f81150aa",
   "metadata": {},
   "outputs": [],
   "source": [
    "DwarfSN_20 = SNratetb[SNratetb['rabsmag'] < -20]"
   ]
  },
  {
   "cell_type": "code",
   "execution_count": 43,
   "id": "e9d9d2aa",
   "metadata": {},
   "outputs": [
    {
     "data": {
      "text/plain": [
       "32"
      ]
     },
     "execution_count": 43,
     "metadata": {},
     "output_type": "execute_result"
    }
   ],
   "source": [
    "DwarfSN_Void_20 = np.sum(DwarfSN_20['vflag'] == 1)\n",
    "DwarfSN_Void_20"
   ]
  },
  {
   "cell_type": "code",
   "execution_count": 44,
   "id": "c1c5115a",
   "metadata": {},
   "outputs": [
    {
     "data": {
      "text/plain": [
       "89"
      ]
     },
     "execution_count": 44,
     "metadata": {},
     "output_type": "execute_result"
    }
   ],
   "source": [
    "DwarfSN_Wall_20 = np.sum(DwarfSN_20['vflag'] == 0)\n",
    "DwarfSN_Wall_20"
   ]
  },
  {
   "cell_type": "code",
   "execution_count": 45,
   "id": "cabb377d",
   "metadata": {},
   "outputs": [],
   "source": [
    "galSN_20 = galSNr_tb[galSNr_tb['rabsmag'] < -20]"
   ]
  },
  {
   "cell_type": "code",
   "execution_count": 46,
   "id": "d1f336ee",
   "metadata": {},
   "outputs": [
    {
     "data": {
      "text/plain": [
       "37214"
      ]
     },
     "execution_count": 46,
     "metadata": {},
     "output_type": "execute_result"
    }
   ],
   "source": [
    "gal_void20 = np.sum(galSN_20['vflag'] == 1)\n",
    "gal_void20"
   ]
  },
  {
   "cell_type": "code",
   "execution_count": 47,
   "id": "ae3f63aa",
   "metadata": {},
   "outputs": [
    {
     "data": {
      "text/plain": [
       "101104"
      ]
     },
     "execution_count": 47,
     "metadata": {},
     "output_type": "execute_result"
    }
   ],
   "source": [
    "gal_Wall20 = np.sum(galSN_20['vflag'] == 0)\n",
    "gal_Wall20"
   ]
  },
  {
   "cell_type": "code",
   "execution_count": 48,
   "id": "1055a05c",
   "metadata": {},
   "outputs": [
    {
     "data": {
      "text/plain": [
       "0.0008598914387058634"
      ]
     },
     "execution_count": 48,
     "metadata": {},
     "output_type": "execute_result"
    }
   ],
   "source": [
    "galDWSN_20void = DwarfSN_Void_20 / gal_void20\n",
    "galDWSN_20void"
   ]
  },
  {
   "cell_type": "code",
   "execution_count": 49,
   "id": "a16b5b2e",
   "metadata": {},
   "outputs": [
    {
     "data": {
      "text/plain": [
       "0.0008802816901408451"
      ]
     },
     "execution_count": 49,
     "metadata": {},
     "output_type": "execute_result"
    }
   ],
   "source": [
    "galDWSN_20wall = DwarfSN_Wall_20 / gal_Wall20\n",
    "galDWSN_20wall"
   ]
  },
  {
   "cell_type": "code",
   "execution_count": null,
   "id": "91909c6e",
   "metadata": {},
   "outputs": [],
   "source": []
  }
 ],
 "metadata": {
  "kernelspec": {
   "display_name": "Python 3",
   "language": "python",
   "name": "python3"
  },
  "language_info": {
   "codemirror_mode": {
    "name": "ipython",
    "version": 3
   },
   "file_extension": ".py",
   "mimetype": "text/x-python",
   "name": "python",
   "nbconvert_exporter": "python",
   "pygments_lexer": "ipython3",
   "version": "3.8.8"
  }
 },
 "nbformat": 4,
 "nbformat_minor": 5
}
