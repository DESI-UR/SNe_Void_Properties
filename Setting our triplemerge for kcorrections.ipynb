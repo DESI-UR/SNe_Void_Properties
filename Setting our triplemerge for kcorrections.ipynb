{
 "cells": [
  {
   "cell_type": "code",
   "execution_count": 1,
   "id": "ed399120",
   "metadata": {},
   "outputs": [],
   "source": [
    "from astropy.table import Table\n",
    "from astropy.coordinates import SkyCoord\n",
    "from astropy.coordinates import match_coordinates_sky \n",
    "from astropy.table import join\n",
    "\n",
    "import astropy.units as u\n",
    "import numpy as np"
   ]
  },
  {
   "cell_type": "code",
   "execution_count": 2,
   "id": "71c3dcbe",
   "metadata": {},
   "outputs": [
    {
     "data": {
      "text/html": [
       "<i>Table length=2551</i>\n",
       "<table id=\"table4652024448\" class=\"table-striped table-bordered table-condensed\">\n",
       "<thead><tr><th>event</th><th>alias</th><th>catalog</th><th>claimedtype</th><th>dec</th><th>discoverdate</th><th>discoverer</th><th>download</th><th>ebv</th><th>host</th><th>hostdec</th><th>hostoffsetang</th><th>hostoffsetdist</th><th>hostra</th><th>instruments</th><th>lumdist</th><th>maxabsmag</th><th>maxappmag</th><th>maxdate</th><th>name</th><th>photolink</th><th>ra</th><th>radiolink</th><th>redshift</th><th>references</th><th>spectralink</th><th>velocity</th><th>xraylink</th><th>u_band_flux</th><th>ubandF_ivar</th><th>g_band_flux</th><th>gbandF_ivar</th><th>r_band_flux</th><th>rbandF_ivar</th><th>i_band_flux</th><th>ibandF_ivar</th><th>z_band_flux</th><th>zbandF_ivar</th><th>red_shift</th><th>umag</th><th>umag_er</th><th>gmag</th><th>gmag_er</th><th>rmag</th><th>rmag_er</th><th>imag</th><th>imag_er</th><th>zmag</th><th>zmag_er</th><th>z</th><th>Rgal</th><th>vflag</th></tr></thead>\n",
       "<thead><tr><th>str23</th><th>str140</th><th>str3</th><th>str10</th><th>str86</th><th>str10</th><th>str86</th><th>str1</th><th>float64</th><th>str65</th><th>str49</th><th>float64</th><th>float64</th><th>str34</th><th>str142</th><th>float64</th><th>float64</th><th>float64</th><th>str10</th><th>str23</th><th>str16</th><th>str96</th><th>int64</th><th>str55</th><th>str99</th><th>str13</th><th>float64</th><th>int64</th><th>float64</th><th>float64</th><th>float64</th><th>float64</th><th>float64</th><th>float64</th><th>float64</th><th>float64</th><th>float64</th><th>float64</th><th>float64</th><th>float64</th><th>float64</th><th>float64</th><th>float64</th><th>float64</th><th>float64</th><th>float64</th><th>float64</th><th>float64</th><th>float64</th><th>float64</th><th>float64</th><th>int64</th></tr></thead>\n",
       "<tr><td>ASASSN-13dn</td><td>ASASSN-13dn,CSS140102:125258+322506</td><td>sne</td><td>II</td><td>+32:25:09.3,+32:25:05.16</td><td>2013/12/15</td><td>ASAS-SN</td><td>--</td><td>0.0129</td><td>SDSS J125258.03+322444.3</td><td>+32:24:44.3</td><td>21.42</td><td>10.19</td><td>12:52:58.03</td><td>--</td><td>102.68</td><td>-19.333</td><td>15.7</td><td>2013/12/14</td><td>ASASSN-13dn</td><td>1,0</td><td>12:52:58.20,12:52:58.32</td><td>--</td><td>0.022805</td><td>2013ATel.5665....1S,2016A&amp;A...594A..13P,2013ATel.5667....1M,2011ApJ...737..103S</td><td>--</td><td>6758.8</td><td>--</td><td>148.2621</td><td>0.01512657</td><td>324.505</td><td>0.1079472</td><td>433.7616</td><td>0.09692951</td><td>410.2256</td><td>0.01510863</td><td>266.1494</td><td>0.0006711837</td><td>0.022805</td><td>17.07242</td><td>0.05954195</td><td>16.22195</td><td>0.0101835</td><td>15.90687</td><td>0.008039798</td><td>15.96744</td><td>0.02153222</td><td>16.43718</td><td>0.1574604</td><td>0.022805</td><td>68.06171417236328</td><td>0</td></tr>\n",
       "<tr><td>ASASSN-14az</td><td>ASASSN-14az,Gaia14age,MLS140831:234448-020701</td><td>sne</td><td>IIb</td><td>-02:07:03.17,-02:07:03.2,-02:07:01.488,-02:07:02.136,-02:07:01.344,-02:07:03.18</td><td>2014/05/20</td><td>ASAS-SN</td><td>e</td><td>0.0274</td><td>PGC 1101367,GALEXASC J234448.27-020653.4</td><td>-02:06:53.4</td><td>8.94</td><td>1.28</td><td>23:44:48.27</td><td>C, u, g, r, R, i</td><td>29.943</td><td>-16.734</td><td>15.64</td><td>2014/07/22</td><td>ASASSN-14az</td><td>25,-36.1,67</td><td>23:44:48.000,23:44:48.00,23:44:48</td><td>--</td><td>0.006731</td><td>2009ApJ...696..870D,2014ATel.6151....1D,2014ATel.6185....1B,2016A&amp;A...594A..13P,2011ApJ...737..103S</td><td>1,-53.1</td><td>2011.0</td><td>--</td><td>105.3499</td><td>0.01638733</td><td>276.2211</td><td>0.1078128</td><td>393.7222</td><td>0.04989673</td><td>465.4725</td><td>0.01249947</td><td>393.5354</td><td>0.0007667065</td><td>0.006731</td><td>17.44341</td><td>0.08050719</td><td>16.39686</td><td>0.01197105</td><td>16.01203</td><td>0.01234521</td><td>15.83027</td><td>0.02086336</td><td>16.01254</td><td>0.09963752</td><td>0.006731</td><td>20.152389526367188</td><td>9</td></tr>\n",
       "<tr><td>ASASSN-14bu</td><td>ASASSN-14bu</td><td>sne</td><td>II</td><td>+25:09:59.88,+25:09:59.9,+25:09:59.76</td><td>2014/05/29</td><td>ASAS-SN</td><td>--</td><td>0.0139</td><td>SDSS J111840.97+250958.5</td><td>+25:09:58.5</td><td>1.48</td><td>0.784</td><td>11:18:40.97</td><td>--</td><td>114.6</td><td>-18.17</td><td>17.1</td><td>2014/05/28</td><td>ASASSN-14bu</td><td>1,0</td><td>11:18:41.030,11:18:41.03,11:18:41.04</td><td>--</td><td>0.0254</td><td>2014ATel.6169....1B,2014ATel.6196....1D,2016A&amp;A...594A..13P,2011ApJ...737..103S</td><td>--</td><td>7520.0</td><td>--</td><td>22.2714</td><td>0.1204268</td><td>53.14648</td><td>0.8450133</td><td>74.92245</td><td>0.3735397</td><td>89.48361</td><td>0.1353606</td><td>96.55038</td><td>0.009277737</td><td>0.0254</td><td>19.13059</td><td>0.1404691</td><td>18.18631</td><td>0.02222366</td><td>17.81347</td><td>0.02371056</td><td>17.62064</td><td>0.03297852</td><td>17.53805</td><td>0.1167343</td><td>0.0254</td><td>75.767333984375</td><td>0</td></tr>\n",
       "<tr><td>ASASSN-14dl</td><td>ASASSN-14dl,&lt;a id=&quot;PSNJ12215136-2409553&quot;&gt;PSN J12215136-2409553&lt;/a&gt;</td><td>sne</td><td>II</td><td>-24:09:54.0,-24:09:54</td><td>2014/06/30</td><td>ASAS-SN</td><td>--</td><td>0.0662</td><td>ESO 506-G4,6dF J1221502-241004</td><td>-24:10:04</td><td>18.95</td><td>5.366</td><td>12:21:50.2</td><td>--</td><td>59.9833</td><td>-17.2757</td><td>16.6</td><td>2014/06/29</td><td>ASASSN-14dl</td><td>1,0</td><td>12:21:51.38,12:21:51.36</td><td>--</td><td>0.013416,0.013926</td><td>2014ATel.6283....1H,2016A&amp;A...594A..13P,2014ATel.6293....1P,2011ApJ...737..103S</td><td>--</td><td>3995.0</td><td>--</td><td>-999.0</td><td>-999.0</td><td>-999.0</td><td>-999.0</td><td>-999.0</td><td>-999.0</td><td>-999.0</td><td>-999.0</td><td>-999.0</td><td>-999.0</td><td>0.013416</td><td>-999.0</td><td>-999.0</td><td>-999.0</td><td>-999.0</td><td>-999.0</td><td>-999.0</td><td>-999.0</td><td>-999.0</td><td>-999.0</td><td>-999.0</td><td>0.013416</td><td>40.114418029785156</td><td>9</td></tr>\n",
       "<tr><td>ASASSN-14il</td><td>ASASSN-14il</td><td>sne</td><td>IIn</td><td>-14:15:34.6,-14:15:34.56</td><td>2014/10/01</td><td>ASAS-SN</td><td>--</td><td>0.0185</td><td>PGC 3093694,2MASX J00453260-1415328</td><td>-14:15:32.8</td><td>0.42</td><td>0.19</td><td>00:45:32.60</td><td>UVOT (W2, W1, M2)</td><td>98.9461</td><td>-20.6734</td><td>14.28</td><td>2014/10/14</td><td>ASASSN-14il</td><td>57,-10.4,29.2</td><td>00:45:32.55,00:45:32.544</td><td>--</td><td>0.021989</td><td>2016arXiv160708526C,2014Ap&amp;SS.354...89B,2014ATel.6525....1B,2016A&amp;A...594A..13P,2014ATel.6536....1C</td><td>9,-11.3,12.2</td><td>6519.7</td><td>--</td><td>-999.0</td><td>-999.0</td><td>-999.0</td><td>-999.0</td><td>-999.0</td><td>-999.0</td><td>-999.0</td><td>-999.0</td><td>-999.0</td><td>-999.0</td><td>0.021989</td><td>-999.0</td><td>-999.0</td><td>-999.0</td><td>-999.0</td><td>-999.0</td><td>-999.0</td><td>-999.0</td><td>-999.0</td><td>-999.0</td><td>-999.0</td><td>0.021989</td><td>65.63697052001953</td><td>9</td></tr>\n",
       "<tr><td>ASASSN-15ab</td><td>ASASSN-15ab</td><td>sne</td><td>IIn</td><td>-38:28:29.9,-38:28:31.08</td><td>2015/01/02</td><td>ASAS-SN</td><td>--</td><td>0.0911</td><td>ESO 325-G45,6dF J1403085-382831</td><td>-38:28:31</td><td>25.86</td><td>9.67</td><td>14:03:08.5</td><td>--</td><td>79.85</td><td>-19.09</td><td>15.4</td><td>2015/01/06</td><td>ASASSN-15ab</td><td>1,0</td><td>14:03:06.24</td><td>--</td><td>0.0178</td><td>2015ATel.6864....1D,2016A&amp;A...594A..13P,2015ATel.6882....1S,2011ApJ...737..103S</td><td>--</td><td>5290.0</td><td>--</td><td>-999.0</td><td>-999.0</td><td>-999.0</td><td>-999.0</td><td>-999.0</td><td>-999.0</td><td>-999.0</td><td>-999.0</td><td>-999.0</td><td>-999.0</td><td>0.0178</td><td>-999.0</td><td>-999.0</td><td>-999.0</td><td>-999.0</td><td>-999.0</td><td>-999.0</td><td>-999.0</td><td>-999.0</td><td>-999.0</td><td>-999.0</td><td>0.0178</td><td>53.17690658569336</td><td>9</td></tr>\n",
       "<tr><td>ASASSN-15bd</td><td>ASASSN-15bd</td><td>sne</td><td>IIb</td><td>+16:36:38.1,+16:36:38.16</td><td>2015/01/08</td><td>ASAS-SN</td><td>--</td><td>0.0294</td><td>SDSS J155438.39+163637.6</td><td>+16:36:37.6</td><td>1.08</td><td>0.182</td><td>15:54:38.39</td><td>--</td><td>35.38</td><td>-16.535</td><td>16.2</td><td>2015/01/28</td><td>ASASSN-15bd</td><td>1,0</td><td>15:54:38.33,15:54:38.4</td><td>--</td><td>0.007946</td><td>2015ATel.6945....1K,2016A&amp;A...594A..13P,2015ATel.6956....1C,2011ApJ...737..103S</td><td>--</td><td>2373.0</td><td>--</td><td>110.0437</td><td>0.04869623</td><td>185.5522</td><td>0.1221247</td><td>276.9848</td><td>0.04249175</td><td>326.2492</td><td>0.02785934</td><td>369.7702</td><td>0.01053896</td><td>0.007946</td><td>17.39609</td><td>0.04471054</td><td>16.82883</td><td>0.01674389</td><td>16.39386</td><td>0.01901586</td><td>16.21613</td><td>0.01993835</td><td>16.08017</td><td>0.02860158</td><td>0.007946</td><td>23.784515380859375</td><td>1</td></tr>\n",
       "<tr><td>ASASSN-15hs</td><td>ASASSN-15hs</td><td>sne</td><td>IIn</td><td>-78:07:23.46,-78:07:23.5,-78:07:23.52</td><td>2015/04/24</td><td>ASAS-SN</td><td>--</td><td>0.093</td><td>2MASX J15333488-7807258</td><td>-78:07:25.8</td><td>2.7</td><td>0.52</td><td>15:33:34.88</td><td>--</td><td>40.536</td><td>-16.429</td><td>16.6</td><td>2015/04/23</td><td>ASASSN-15hs</td><td>1,0</td><td>15:33:34.310,15:33:34.31,15:33:34.32</td><td>--</td><td>0.009096</td><td>2015ATel.7444....1S,2016arXiv160708526C,2016A&amp;A...594A..13P,2015ATel.7458....1C,2011ApJ...737..103S</td><td>1,5.45</td><td>2715.0</td><td>--</td><td>-999.0</td><td>-999.0</td><td>-999.0</td><td>-999.0</td><td>-999.0</td><td>-999.0</td><td>-999.0</td><td>-999.0</td><td>-999.0</td><td>-999.0</td><td>0.009096</td><td>-999.0</td><td>-999.0</td><td>-999.0</td><td>-999.0</td><td>-999.0</td><td>-999.0</td><td>-999.0</td><td>-999.0</td><td>-999.0</td><td>-999.0</td><td>0.009096</td><td>27.220596313476562</td><td>9</td></tr>\n",
       "<tr><td>ASASSN-15ik</td><td>ASASSN-15ik</td><td>sne</td><td>IIn</td><td>+03:30:02.66,+03:30:02.7,+03:30:02.664</td><td>2015/05/11</td><td>ASAS-SN</td><td>--</td><td>0.0469</td><td>SDSS J110204.81+033003.1</td><td>+03:30:03.1</td><td>1.46</td><td>1.05</td><td>11:02:04.81</td><td>--</td><td>158.1</td><td>-19.36</td><td>16.6</td><td>2015/05/10</td><td>ASASSN-15ik</td><td>1,0</td><td>11:02:04.750,11:02:04.75,11:02:04.8</td><td>--</td><td>0.0348</td><td>2015ATel.7491....1B,2016A&amp;A...594A..13P,2015ATel.7497....1C,2011ApJ...737..103S</td><td>--</td><td>10300.0</td><td>--</td><td>21.13417</td><td>0.3452933</td><td>47.39331</td><td>1.212733</td><td>61.50384</td><td>0.4762663</td><td>79.42424</td><td>0.1913068</td><td>90.90137</td><td>0.01278727</td><td>0.0348</td><td>19.18749</td><td>0.08741923</td><td>18.3107</td><td>0.02080279</td><td>18.02774</td><td>0.02557961</td><td>17.75011</td><td>0.03125371</td><td>17.6035</td><td>0.1056106</td><td>0.0348</td><td>103.61311340332031</td><td>2</td></tr>\n",
       "<tr><td>ASASSN-15mj</td><td>ASASSN-15mj</td><td>sne</td><td>Ib</td><td>+33:39:40.29,+33:39:40.3,+33:39:40.32</td><td>2015/07/12</td><td>ASAS-SN</td><td>--</td><td>0.0124</td><td>PGC 2036567,2MASX J14021617+3339415,2MASX J14021617+3339</td><td>+33:39:41.5</td><td>6.76</td><td>4.78</td><td>14:02:16.17</td><td>UVOT (W2, W1, M2, U, B, V)</td><td>156.08</td><td>-20.33</td><td>15.6</td><td>2015/07/15</td><td>ASASSN-15mj</td><td>31,-0.405,18.2</td><td>14:02:15.640,14:02:15.64,14:02:15.6</td><td>--</td><td>0.034371</td><td>2014Ap&amp;SS.354...89B,2015ATel.7790....1M,2016A&amp;A...594A..13P,2015ATel.7796....1T,2015ATel.7821....1S</td><td>1,-2.42</td><td>10127.0</td><td>--</td><td>130.7168</td><td>0.1367581</td><td>306.663</td><td>0.5177146</td><td>422.4128</td><td>0.2300858</td><td>527.9809</td><td>0.09546875</td><td>570.5261</td><td>0.006769521</td><td>0.034371</td><td>17.20917</td><td>0.02246029</td><td>16.28335</td><td>0.004920595</td><td>15.93566</td><td>0.005358488</td><td>15.69345</td><td>0.006655419</td><td>15.60931</td><td>0.02312961</td><td>0.034371</td><td>102.3444595336914</td><td>0</td></tr>\n",
       "<tr><td>...</td><td>...</td><td>...</td><td>...</td><td>...</td><td>...</td><td>...</td><td>...</td><td>...</td><td>...</td><td>...</td><td>...</td><td>...</td><td>...</td><td>...</td><td>...</td><td>...</td><td>...</td><td>...</td><td>...</td><td>...</td><td>...</td><td>...</td><td>...</td><td>...</td><td>...</td><td>...</td><td>...</td><td>...</td><td>...</td><td>...</td><td>...</td><td>...</td><td>...</td><td>...</td><td>...</td><td>...</td><td>...</td><td>...</td><td>...</td><td>...</td><td>...</td><td>...</td><td>...</td><td>...</td><td>...</td><td>...</td><td>...</td><td>...</td><td>...</td><td>...</td><td>...</td></tr>\n",
       "<tr><td>SNLS-04D1ln</td><td>SNLS-04D1ln</td><td>sne</td><td>II P</td><td>-04:27:03.75</td><td>2004/12/14</td><td>--</td><td>--</td><td>0.0223</td><td>[HSP2005] J022553.48-042703.75</td><td>-04:27:03.75</td><td>0.02991</td><td>0.0634</td><td>02:25:53.48</td><td>g, r, i, z</td><td>1055.0</td><td>-17.731</td><td>22.18</td><td>2004/10/21</td><td>SNLS-04D1ln</td><td>42,-14.1,66</td><td>02:25:53.482</td><td>--</td><td>0.2077,0.2072</td><td>2006ApJ...645..841N,2005ApJ...634.1190H,2016A&amp;A...594A..13P,2009ApJ...694.1067P,2011ApJ...737..103S</td><td>--</td><td>55910.0</td><td>--</td><td>0.5420292</td><td>0.5103787</td><td>5.731681</td><td>4.16646</td><td>10.07356</td><td>2.995677</td><td>14.22382</td><td>0.5248947</td><td>18.52826</td><td>0.02329367</td><td>0.2077</td><td>-999.0</td><td>-999.0</td><td>-999.0</td><td>-999.0</td><td>-999.0</td><td>-999.0</td><td>-999.0</td><td>-999.0</td><td>-999.0</td><td>-999.0</td><td>0.2077</td><td>596.2523803710938</td><td>9</td></tr>\n",
       "<tr><td>SNLS-04D1ln</td><td>SNLS-04D1ln</td><td>sne</td><td>II P</td><td>-04:27:03.75</td><td>2004/12/14</td><td>--</td><td>--</td><td>0.0223</td><td>[HSP2005] J022553.48-042703.75</td><td>-04:27:03.75</td><td>0.02991</td><td>0.0634</td><td>02:25:53.48</td><td>g, r, i, z</td><td>1055.0</td><td>-17.731</td><td>22.18</td><td>2004/10/21</td><td>SNLS-04D1ln</td><td>42,-14.1,66</td><td>02:25:53.482</td><td>--</td><td>0.2077,0.2072</td><td>2006ApJ...645..841N,2005ApJ...634.1190H,2016A&amp;A...594A..13P,2009ApJ...694.1067P,2011ApJ...737..103S</td><td>--</td><td>55910.0</td><td>--</td><td>0.5420292</td><td>0.5103787</td><td>5.731681</td><td>4.16646</td><td>10.07356</td><td>2.995677</td><td>14.22382</td><td>0.5248947</td><td>18.52826</td><td>0.02329367</td><td>0.2077</td><td>-999.0</td><td>-999.0</td><td>-999.0</td><td>-999.0</td><td>-999.0</td><td>-999.0</td><td>-999.0</td><td>-999.0</td><td>-999.0</td><td>-999.0</td><td>0.2077</td><td>596.2523803710938</td><td>9</td></tr>\n",
       "<tr><td>SNLS-04D1ln</td><td>SNLS-04D1ln</td><td>sne</td><td>II P</td><td>-04:27:03.75</td><td>2004/12/14</td><td>--</td><td>--</td><td>0.0223</td><td>[HSP2005] J022553.48-042703.75</td><td>-04:27:03.75</td><td>0.02991</td><td>0.0634</td><td>02:25:53.48</td><td>g, r, i, z</td><td>1055.0</td><td>-17.731</td><td>22.18</td><td>2004/10/21</td><td>SNLS-04D1ln</td><td>42,-14.1,66</td><td>02:25:53.482</td><td>--</td><td>0.2077,0.2072</td><td>2006ApJ...645..841N,2005ApJ...634.1190H,2016A&amp;A...594A..13P,2009ApJ...694.1067P,2011ApJ...737..103S</td><td>--</td><td>55910.0</td><td>--</td><td>-999.0</td><td>-999.0</td><td>-999.0</td><td>-999.0</td><td>-999.0</td><td>-999.0</td><td>-999.0</td><td>-999.0</td><td>-999.0</td><td>-999.0</td><td>0.2077</td><td>23.09884</td><td>2.491107</td><td>20.60403</td><td>0.09275657</td><td>19.99189</td><td>0.06225446</td><td>19.61728</td><td>0.1053253</td><td>19.32869</td><td>0.3827275</td><td>0.2077</td><td>596.2523803710938</td><td>9</td></tr>\n",
       "<tr><td>SNLS-04D1ln</td><td>SNLS-04D1ln</td><td>sne</td><td>II P</td><td>-04:27:03.75</td><td>2004/12/14</td><td>--</td><td>--</td><td>0.0223</td><td>[HSP2005] J022553.48-042703.75</td><td>-04:27:03.75</td><td>0.02991</td><td>0.0634</td><td>02:25:53.48</td><td>g, r, i, z</td><td>1055.0</td><td>-17.731</td><td>22.18</td><td>2004/10/21</td><td>SNLS-04D1ln</td><td>42,-14.1,66</td><td>02:25:53.482</td><td>--</td><td>0.2077,0.2072</td><td>2006ApJ...645..841N,2005ApJ...634.1190H,2016A&amp;A...594A..13P,2009ApJ...694.1067P,2011ApJ...737..103S</td><td>--</td><td>55910.0</td><td>--</td><td>-999.0</td><td>-999.0</td><td>-999.0</td><td>-999.0</td><td>-999.0</td><td>-999.0</td><td>-999.0</td><td>-999.0</td><td>-999.0</td><td>-999.0</td><td>0.2077</td><td>23.09884</td><td>2.491107</td><td>20.60403</td><td>0.09275657</td><td>19.99189</td><td>0.06225446</td><td>19.61728</td><td>0.1053253</td><td>19.32869</td><td>0.3827275</td><td>0.2077</td><td>596.2523803710938</td><td>9</td></tr>\n",
       "<tr><td>SNhunt172</td><td>SNhunt172,PSN J11240925-1219390</td><td>sne</td><td>II</td><td>-12:19:39.0,-12:19:39</td><td>2013/03/13</td><td>Howerton,CRTS</td><td>--</td><td>0.0394</td><td>GALEXASC J112409.13-121944.1</td><td>-12:19:44.1</td><td>5.395</td><td>6.877</td><td>11:24:09.13</td><td>--</td><td>302.0</td><td>-18.8</td><td>18.5</td><td>2013/03/12</td><td>SNhunt172</td><td>1,0</td><td>11:24:09.25,11:24:09.3,11:24:09.36</td><td>--</td><td>0.065</td><td>2017csnh.book.....H,2016A&amp;A...594A..13P,2013ATel.4895....1N,2011ApJ...737..103S</td><td>1,5.16</td><td>19000.0</td><td>--</td><td>-999.0</td><td>-999.0</td><td>-999.0</td><td>-999.0</td><td>-999.0</td><td>-999.0</td><td>-999.0</td><td>-999.0</td><td>-999.0</td><td>-999.0</td><td>0.065</td><td>-999.0</td><td>-999.0</td><td>-999.0</td><td>-999.0</td><td>-999.0</td><td>-999.0</td><td>-999.0</td><td>-999.0</td><td>-999.0</td><td>-999.0</td><td>0.065</td><td>192.35296630859375</td><td>9</td></tr>\n",
       "<tr><td>SNhunt242</td><td>SNhunt242,PSN J20041174-1946396</td><td>sne</td><td>IIb</td><td>-19:46:39.6,-19:46:40,-19:46:39.72</td><td>2014/04/24</td><td>Howerton,CRTS</td><td>--</td><td>0.1327</td><td>2MASX J20041146-1946436,PGC 850627</td><td>-19:46:43.6</td><td>5.623</td><td>7.658</td><td>20:04:11.46</td><td>--</td><td>316.0</td><td>-17.8</td><td>19.6</td><td>2014/04/23</td><td>SNhunt242</td><td>1,0</td><td>20:04:11.74,20:04:11.7,20:04:11.76</td><td>--</td><td>0.068</td><td>2017csnh.book.....H,2016A&amp;A...594A..13P,2014ATel.6109....1P,2011ApJ...737..103S</td><td>--</td><td>20000.0</td><td>--</td><td>-999.0</td><td>-999.0</td><td>-999.0</td><td>-999.0</td><td>-999.0</td><td>-999.0</td><td>-999.0</td><td>-999.0</td><td>-999.0</td><td>-999.0</td><td>0.068</td><td>-999.0</td><td>-999.0</td><td>-999.0</td><td>-999.0</td><td>-999.0</td><td>-999.0</td><td>-999.0</td><td>-999.0</td><td>-999.0</td><td>-999.0</td><td>0.068</td><td>201.10736083984375</td><td>9</td></tr>\n",
       "<tr><td>asassn-14az</td><td>ASASSN-14az,Gaia14age,MLS140831:234448-020701</td><td>sne</td><td>IIb</td><td>-02:07:03.17,-02:07:03.2,-02:07:01.488,-02:07:02.136,-02:07:01.344,-02:07:03.18</td><td>2014/05/20</td><td>ASAS-SN</td><td>e</td><td>0.0274</td><td>PGC 1101367,GALEXASC J234448.27-020653.4</td><td>-02:06:53.4</td><td>8.94</td><td>1.28</td><td>23:44:48.27</td><td>C, u, g, r, R, i</td><td>29.943</td><td>-16.734</td><td>15.64</td><td>2014/07/22</td><td>ASASSN-14az</td><td>25,-36.1,67</td><td>23:44:48.000,23:44:48.00,23:44:48</td><td>--</td><td>0.006731</td><td>2009ApJ...696..870D,2014ATel.6151....1D,2014ATel.6185....1B,2016A&amp;A...594A..13P,2011ApJ...737..103S</td><td>1,-53.1</td><td>2011.0</td><td>--</td><td>-999.0</td><td>-999.0</td><td>-999.0</td><td>-999.0</td><td>-999.0</td><td>-999.0</td><td>-999.0</td><td>-999.0</td><td>-999.0</td><td>-999.0</td><td>0.006731</td><td>-999.0</td><td>-999.0</td><td>-999.0</td><td>-999.0</td><td>-999.0</td><td>-999.0</td><td>-999.0</td><td>-999.0</td><td>-999.0</td><td>-999.0</td><td>0.006731</td><td>20.152389526367188</td><td>9</td></tr>\n",
       "<tr><td>asassn-15bd</td><td>ASASSN-15bd</td><td>sne</td><td>IIb</td><td>+16:36:38.1,+16:36:38.16</td><td>2015/01/08</td><td>ASAS-SN</td><td>--</td><td>0.0294</td><td>SDSS J155438.39+163637.6</td><td>+16:36:37.6</td><td>1.08</td><td>0.182</td><td>15:54:38.39</td><td>--</td><td>35.38</td><td>-16.535</td><td>16.2</td><td>2015/01/28</td><td>ASASSN-15bd</td><td>1,0</td><td>15:54:38.33,15:54:38.4</td><td>--</td><td>0.007946</td><td>2015ATel.6945....1K,2016A&amp;A...594A..13P,2015ATel.6956....1C,2011ApJ...737..103S</td><td>--</td><td>2373.0</td><td>--</td><td>-999.0</td><td>-999.0</td><td>-999.0</td><td>-999.0</td><td>-999.0</td><td>-999.0</td><td>-999.0</td><td>-999.0</td><td>-999.0</td><td>-999.0</td><td>0.007946</td><td>-999.0</td><td>-999.0</td><td>-999.0</td><td>-999.0</td><td>-999.0</td><td>-999.0</td><td>-999.0</td><td>-999.0</td><td>-999.0</td><td>-999.0</td><td>0.007946</td><td>23.784515380859375</td><td>1</td></tr>\n",
       "<tr><td>asassn-15mj</td><td>ASASSN-15mj</td><td>sne</td><td>Ib</td><td>+33:39:40.29,+33:39:40.3,+33:39:40.32</td><td>2015/07/12</td><td>ASAS-SN</td><td>--</td><td>0.0124</td><td>PGC 2036567,2MASX J14021617+3339415,2MASX J14021617+3339</td><td>+33:39:41.5</td><td>6.76</td><td>4.78</td><td>14:02:16.17</td><td>UVOT (W2, W1, M2, U, B, V)</td><td>156.08</td><td>-20.33</td><td>15.6</td><td>2015/07/15</td><td>ASASSN-15mj</td><td>31,-0.405,18.2</td><td>14:02:15.640,14:02:15.64,14:02:15.6</td><td>--</td><td>0.034371</td><td>2014Ap&amp;SS.354...89B,2015ATel.7790....1M,2016A&amp;A...594A..13P,2015ATel.7796....1T,2015ATel.7821....1S</td><td>1,-2.42</td><td>10127.0</td><td>--</td><td>-999.0</td><td>-999.0</td><td>-999.0</td><td>-999.0</td><td>-999.0</td><td>-999.0</td><td>-999.0</td><td>-999.0</td><td>-999.0</td><td>-999.0</td><td>0.034371</td><td>-999.0</td><td>-999.0</td><td>-999.0</td><td>-999.0</td><td>-999.0</td><td>-999.0</td><td>-999.0</td><td>-999.0</td><td>-999.0</td><td>-999.0</td><td>0.034371</td><td>102.3444595336914</td><td>0</td></tr>\n",
       "<tr><td>iPTF13daz</td><td>iPTF13daz,PS19cyi</td><td>sne</td><td>IIn</td><td>+24:41:15.4,+24:41:22.5</td><td>2013/08/29</td><td>PTF</td><td>--</td><td>0.0459</td><td>2MASX J16555614+2441158</td><td>+24:41:15.8</td><td>4.923</td><td>4.568</td><td>16:55:56.14</td><td>GPC (w)</td><td>206.0</td><td>-17.9</td><td>18.6</td><td>2013/08/28</td><td>iPTF13daz</td><td>9,0,2040</td><td>16:55:56.50,16:55:56.83</td><td>--</td><td>0.045</td><td>2013ATel.5387....1A,2012PASP..124..668Y,2016A&amp;A...594A..13P,2011ApJ...737..103S</td><td>1,0.478</td><td>13000.0</td><td>--</td><td>115.4476</td><td>0.01361801</td><td>352.7108</td><td>0.0009953512</td><td>566.1375</td><td>0.0002675081</td><td>741.6902</td><td>0.0001707519</td><td>844.1414</td><td>0.0001253421</td><td>0.045</td><td>17.34404</td><td>0.08059005</td><td>16.13145</td><td>0.09757023</td><td>15.61769</td><td>0.1172557</td><td>15.32444</td><td>0.112026</td><td>15.18396</td><td>0.1148841</td><td>0.045</td><td>133.70843505859375</td><td>2</td></tr>\n",
       "</table>"
      ],
      "text/plain": [
       "<Table length=2551>\n",
       "   event    ... vflag\n",
       "   str23    ... int64\n",
       "----------- ... -----\n",
       "ASASSN-13dn ...     0\n",
       "ASASSN-14az ...     9\n",
       "ASASSN-14bu ...     0\n",
       "ASASSN-14dl ...     9\n",
       "ASASSN-14il ...     9\n",
       "ASASSN-15ab ...     9\n",
       "ASASSN-15bd ...     1\n",
       "ASASSN-15hs ...     9\n",
       "ASASSN-15ik ...     2\n",
       "ASASSN-15mj ...     0\n",
       "        ... ...   ...\n",
       "SNLS-04D1ln ...     9\n",
       "SNLS-04D1ln ...     9\n",
       "SNLS-04D1ln ...     9\n",
       "SNLS-04D1ln ...     9\n",
       "  SNhunt172 ...     9\n",
       "  SNhunt242 ...     9\n",
       "asassn-14az ...     9\n",
       "asassn-15bd ...     1\n",
       "asassn-15mj ...     0\n",
       "  iPTF13daz ...     2"
      ]
     },
     "execution_count": 2,
     "metadata": {},
     "output_type": "execute_result"
    }
   ],
   "source": [
    "fintrip = Table.read('fintriptab.txt', format = 'ascii.commented_header')\n",
    "fintrip"
   ]
  },
  {
   "cell_type": "code",
   "execution_count": 3,
   "id": "1b306ee0",
   "metadata": {
    "scrolled": true
   },
   "outputs": [
    {
     "data": {
      "text/html": [
       "<i>Table length=2551</i>\n",
       "<table id=\"table4676896512\" class=\"table-striped table-bordered table-condensed\">\n",
       "<thead><tr><th>z</th><th>u_band_flux</th><th>g_band_flux</th><th>r_band_flux</th><th>i_band_flux</th><th>z_band_flux</th><th>ubandF_ivar</th><th>gbandF_ivar</th><th>rbandF_ivar</th><th>ibandF_ivar</th><th>zbandF_ivar</th></tr></thead>\n",
       "<thead><tr><th>float64</th><th>float64</th><th>float64</th><th>float64</th><th>float64</th><th>float64</th><th>float64</th><th>float64</th><th>float64</th><th>float64</th><th>float64</th></tr></thead>\n",
       "<tr><td>0.022805</td><td>148.2621</td><td>324.505</td><td>433.7616</td><td>410.2256</td><td>266.1494</td><td>0.01512657</td><td>0.1079472</td><td>0.09692951</td><td>0.01510863</td><td>0.0006711837</td></tr>\n",
       "<tr><td>0.006731</td><td>105.3499</td><td>276.2211</td><td>393.7222</td><td>465.4725</td><td>393.5354</td><td>0.01638733</td><td>0.1078128</td><td>0.04989673</td><td>0.01249947</td><td>0.0007667065</td></tr>\n",
       "<tr><td>0.0254</td><td>22.2714</td><td>53.14648</td><td>74.92245</td><td>89.48361</td><td>96.55038</td><td>0.1204268</td><td>0.8450133</td><td>0.3735397</td><td>0.1353606</td><td>0.009277737</td></tr>\n",
       "<tr><td>0.013416</td><td>-999.0</td><td>-999.0</td><td>-999.0</td><td>-999.0</td><td>-999.0</td><td>-999.0</td><td>-999.0</td><td>-999.0</td><td>-999.0</td><td>-999.0</td></tr>\n",
       "<tr><td>0.021989</td><td>-999.0</td><td>-999.0</td><td>-999.0</td><td>-999.0</td><td>-999.0</td><td>-999.0</td><td>-999.0</td><td>-999.0</td><td>-999.0</td><td>-999.0</td></tr>\n",
       "<tr><td>0.0178</td><td>-999.0</td><td>-999.0</td><td>-999.0</td><td>-999.0</td><td>-999.0</td><td>-999.0</td><td>-999.0</td><td>-999.0</td><td>-999.0</td><td>-999.0</td></tr>\n",
       "<tr><td>0.007946</td><td>110.0437</td><td>185.5522</td><td>276.9848</td><td>326.2492</td><td>369.7702</td><td>0.04869623</td><td>0.1221247</td><td>0.04249175</td><td>0.02785934</td><td>0.01053896</td></tr>\n",
       "<tr><td>0.009096</td><td>-999.0</td><td>-999.0</td><td>-999.0</td><td>-999.0</td><td>-999.0</td><td>-999.0</td><td>-999.0</td><td>-999.0</td><td>-999.0</td><td>-999.0</td></tr>\n",
       "<tr><td>0.0348</td><td>21.13417</td><td>47.39331</td><td>61.50384</td><td>79.42424</td><td>90.90137</td><td>0.3452933</td><td>1.212733</td><td>0.4762663</td><td>0.1913068</td><td>0.01278727</td></tr>\n",
       "<tr><td>0.034371</td><td>130.7168</td><td>306.663</td><td>422.4128</td><td>527.9809</td><td>570.5261</td><td>0.1367581</td><td>0.5177146</td><td>0.2300858</td><td>0.09546875</td><td>0.006769521</td></tr>\n",
       "<tr><td>...</td><td>...</td><td>...</td><td>...</td><td>...</td><td>...</td><td>...</td><td>...</td><td>...</td><td>...</td><td>...</td></tr>\n",
       "<tr><td>0.2077</td><td>0.5420292</td><td>5.731681</td><td>10.07356</td><td>14.22382</td><td>18.52826</td><td>0.5103787</td><td>4.16646</td><td>2.995677</td><td>0.5248947</td><td>0.02329367</td></tr>\n",
       "<tr><td>0.2077</td><td>0.5420292</td><td>5.731681</td><td>10.07356</td><td>14.22382</td><td>18.52826</td><td>0.5103787</td><td>4.16646</td><td>2.995677</td><td>0.5248947</td><td>0.02329367</td></tr>\n",
       "<tr><td>0.2077</td><td>-999.0</td><td>-999.0</td><td>-999.0</td><td>-999.0</td><td>-999.0</td><td>-999.0</td><td>-999.0</td><td>-999.0</td><td>-999.0</td><td>-999.0</td></tr>\n",
       "<tr><td>0.2077</td><td>-999.0</td><td>-999.0</td><td>-999.0</td><td>-999.0</td><td>-999.0</td><td>-999.0</td><td>-999.0</td><td>-999.0</td><td>-999.0</td><td>-999.0</td></tr>\n",
       "<tr><td>0.065</td><td>-999.0</td><td>-999.0</td><td>-999.0</td><td>-999.0</td><td>-999.0</td><td>-999.0</td><td>-999.0</td><td>-999.0</td><td>-999.0</td><td>-999.0</td></tr>\n",
       "<tr><td>0.068</td><td>-999.0</td><td>-999.0</td><td>-999.0</td><td>-999.0</td><td>-999.0</td><td>-999.0</td><td>-999.0</td><td>-999.0</td><td>-999.0</td><td>-999.0</td></tr>\n",
       "<tr><td>0.006731</td><td>-999.0</td><td>-999.0</td><td>-999.0</td><td>-999.0</td><td>-999.0</td><td>-999.0</td><td>-999.0</td><td>-999.0</td><td>-999.0</td><td>-999.0</td></tr>\n",
       "<tr><td>0.007946</td><td>-999.0</td><td>-999.0</td><td>-999.0</td><td>-999.0</td><td>-999.0</td><td>-999.0</td><td>-999.0</td><td>-999.0</td><td>-999.0</td><td>-999.0</td></tr>\n",
       "<tr><td>0.034371</td><td>-999.0</td><td>-999.0</td><td>-999.0</td><td>-999.0</td><td>-999.0</td><td>-999.0</td><td>-999.0</td><td>-999.0</td><td>-999.0</td><td>-999.0</td></tr>\n",
       "<tr><td>0.045</td><td>115.4476</td><td>352.7108</td><td>566.1375</td><td>741.6902</td><td>844.1414</td><td>0.01361801</td><td>0.0009953512</td><td>0.0002675081</td><td>0.0001707519</td><td>0.0001253421</td></tr>\n",
       "</table>"
      ],
      "text/plain": [
       "<Table length=2551>\n",
       "   z     u_band_flux g_band_flux ... rbandF_ivar  ibandF_ivar  zbandF_ivar \n",
       "float64    float64     float64   ...   float64      float64      float64   \n",
       "-------- ----------- ----------- ... ------------ ------------ ------------\n",
       "0.022805    148.2621     324.505 ...   0.09692951   0.01510863 0.0006711837\n",
       "0.006731    105.3499    276.2211 ...   0.04989673   0.01249947 0.0007667065\n",
       "  0.0254     22.2714    53.14648 ...    0.3735397    0.1353606  0.009277737\n",
       "0.013416      -999.0      -999.0 ...       -999.0       -999.0       -999.0\n",
       "0.021989      -999.0      -999.0 ...       -999.0       -999.0       -999.0\n",
       "  0.0178      -999.0      -999.0 ...       -999.0       -999.0       -999.0\n",
       "0.007946    110.0437    185.5522 ...   0.04249175   0.02785934   0.01053896\n",
       "0.009096      -999.0      -999.0 ...       -999.0       -999.0       -999.0\n",
       "  0.0348    21.13417    47.39331 ...    0.4762663    0.1913068   0.01278727\n",
       "0.034371    130.7168     306.663 ...    0.2300858   0.09546875  0.006769521\n",
       "     ...         ...         ... ...          ...          ...          ...\n",
       "  0.2077   0.5420292    5.731681 ...     2.995677    0.5248947   0.02329367\n",
       "  0.2077   0.5420292    5.731681 ...     2.995677    0.5248947   0.02329367\n",
       "  0.2077      -999.0      -999.0 ...       -999.0       -999.0       -999.0\n",
       "  0.2077      -999.0      -999.0 ...       -999.0       -999.0       -999.0\n",
       "   0.065      -999.0      -999.0 ...       -999.0       -999.0       -999.0\n",
       "   0.068      -999.0      -999.0 ...       -999.0       -999.0       -999.0\n",
       "0.006731      -999.0      -999.0 ...       -999.0       -999.0       -999.0\n",
       "0.007946      -999.0      -999.0 ...       -999.0       -999.0       -999.0\n",
       "0.034371      -999.0      -999.0 ...       -999.0       -999.0       -999.0\n",
       "   0.045    115.4476    352.7108 ... 0.0002675081 0.0001707519 0.0001253421"
      ]
     },
     "execution_count": 3,
     "metadata": {},
     "output_type": "execute_result"
    }
   ],
   "source": [
    "fintrip_tb = fintrip['z', 'u_band_flux', 'g_band_flux', 'r_band_flux', 'i_band_flux', 'z_band_flux', 'ubandF_ivar', 'gbandF_ivar', 'rbandF_ivar', 'ibandF_ivar', 'zbandF_ivar']\n",
    "fintrip_tb"
   ]
  },
  {
   "cell_type": "code",
   "execution_count": 4,
   "id": "8e5954dc",
   "metadata": {},
   "outputs": [],
   "source": [
    "fintrip_tb['u_band_flux'] = fintrip_tb['u_band_flux'] * 1e-9\n",
    "fintrip_tb['g_band_flux'] = fintrip_tb['g_band_flux'] * 1e-9\n",
    "fintrip_tb['r_band_flux'] = fintrip_tb['r_band_flux'] * 1e-9\n",
    "fintrip_tb['i_band_flux'] = fintrip_tb['i_band_flux'] * 1e-9\n",
    "fintrip_tb['z_band_flux'] = fintrip_tb['z_band_flux'] * 1e-9\n",
    "\n",
    "#this one is for our flux inverse variance part of the table\n",
    "fintrip_tb['ubandF_ivar'] = fintrip_tb['ubandF_ivar'] * 1e18\n",
    "fintrip_tb['gbandF_ivar'] = fintrip_tb['gbandF_ivar'] * 1e18\n",
    "fintrip_tb['rbandF_ivar'] = fintrip_tb['rbandF_ivar'] * 1e18\n",
    "fintrip_tb['ibandF_ivar'] = fintrip_tb['ibandF_ivar'] * 1e18\n",
    "fintrip_tb['zbandF_ivar'] = fintrip_tb['zbandF_ivar'] * 1e18"
   ]
  },
  {
   "cell_type": "code",
   "execution_count": 5,
   "id": "eddfd582",
   "metadata": {},
   "outputs": [
    {
     "data": {
      "text/html": [
       "<i>Table length=2551</i>\n",
       "<table id=\"table4676896512\" class=\"table-striped table-bordered table-condensed\">\n",
       "<thead><tr><th>z</th><th>u_band_flux</th><th>g_band_flux</th><th>r_band_flux</th><th>i_band_flux</th><th>z_band_flux</th><th>ubandF_ivar</th><th>gbandF_ivar</th><th>rbandF_ivar</th><th>ibandF_ivar</th><th>zbandF_ivar</th></tr></thead>\n",
       "<thead><tr><th>float64</th><th>float64</th><th>float64</th><th>float64</th><th>float64</th><th>float64</th><th>float64</th><th>float64</th><th>float64</th><th>float64</th><th>float64</th></tr></thead>\n",
       "<tr><td>0.022805</td><td>1.482621e-07</td><td>3.24505e-07</td><td>4.337616e-07</td><td>4.102256e-07</td><td>2.6614940000000003e-07</td><td>1.512657e+16</td><td>1.079472e+17</td><td>9.692951e+16</td><td>1.510863e+16</td><td>671183700000000.0</td></tr>\n",
       "<tr><td>0.006731</td><td>1.0534990000000001e-07</td><td>2.762211e-07</td><td>3.937222e-07</td><td>4.6547250000000007e-07</td><td>3.935354e-07</td><td>1.6387329999999998e+16</td><td>1.078128e+17</td><td>4.989673e+16</td><td>1.249947e+16</td><td>766706500000000.0</td></tr>\n",
       "<tr><td>0.0254</td><td>2.22714e-08</td><td>5.314648e-08</td><td>7.492245e-08</td><td>8.948361000000001e-08</td><td>9.655038000000002e-08</td><td>1.204268e+17</td><td>8.450133e+17</td><td>3.735397e+17</td><td>1.353606e+17</td><td>9277737000000000.0</td></tr>\n",
       "<tr><td>0.013416</td><td>-9.99e-07</td><td>-9.99e-07</td><td>-9.99e-07</td><td>-9.99e-07</td><td>-9.99e-07</td><td>-9.99e+20</td><td>-9.99e+20</td><td>-9.99e+20</td><td>-9.99e+20</td><td>-9.99e+20</td></tr>\n",
       "<tr><td>0.021989</td><td>-9.99e-07</td><td>-9.99e-07</td><td>-9.99e-07</td><td>-9.99e-07</td><td>-9.99e-07</td><td>-9.99e+20</td><td>-9.99e+20</td><td>-9.99e+20</td><td>-9.99e+20</td><td>-9.99e+20</td></tr>\n",
       "<tr><td>0.0178</td><td>-9.99e-07</td><td>-9.99e-07</td><td>-9.99e-07</td><td>-9.99e-07</td><td>-9.99e-07</td><td>-9.99e+20</td><td>-9.99e+20</td><td>-9.99e+20</td><td>-9.99e+20</td><td>-9.99e+20</td></tr>\n",
       "<tr><td>0.007946</td><td>1.1004370000000001e-07</td><td>1.855522e-07</td><td>2.7698480000000003e-07</td><td>3.262492e-07</td><td>3.697702e-07</td><td>4.869623e+16</td><td>1.221247e+17</td><td>4.249175e+16</td><td>2.785934e+16</td><td>1.053896e+16</td></tr>\n",
       "<tr><td>0.009096</td><td>-9.99e-07</td><td>-9.99e-07</td><td>-9.99e-07</td><td>-9.99e-07</td><td>-9.99e-07</td><td>-9.99e+20</td><td>-9.99e+20</td><td>-9.99e+20</td><td>-9.99e+20</td><td>-9.99e+20</td></tr>\n",
       "<tr><td>0.0348</td><td>2.1134170000000004e-08</td><td>4.7393310000000006e-08</td><td>6.150384e-08</td><td>7.942424000000001e-08</td><td>9.090137e-08</td><td>3.452933e+17</td><td>1.212733e+18</td><td>4.762663e+17</td><td>1.913068e+17</td><td>1.278727e+16</td></tr>\n",
       "<tr><td>0.034371</td><td>1.307168e-07</td><td>3.0666300000000005e-07</td><td>4.2241280000000003e-07</td><td>5.279809e-07</td><td>5.705261000000001e-07</td><td>1.367581e+17</td><td>5.177146e+17</td><td>2.300858e+17</td><td>9.546875e+16</td><td>6769521000000000.0</td></tr>\n",
       "<tr><td>...</td><td>...</td><td>...</td><td>...</td><td>...</td><td>...</td><td>...</td><td>...</td><td>...</td><td>...</td><td>...</td></tr>\n",
       "<tr><td>0.2077</td><td>5.420292e-10</td><td>5.7316810000000005e-09</td><td>1.0073560000000002e-08</td><td>1.4223820000000001e-08</td><td>1.852826e-08</td><td>5.1037869999999994e+17</td><td>4.16646e+18</td><td>2.995677e+18</td><td>5.2489470000000006e+17</td><td>2.329367e+16</td></tr>\n",
       "<tr><td>0.2077</td><td>5.420292e-10</td><td>5.7316810000000005e-09</td><td>1.0073560000000002e-08</td><td>1.4223820000000001e-08</td><td>1.852826e-08</td><td>5.1037869999999994e+17</td><td>4.16646e+18</td><td>2.995677e+18</td><td>5.2489470000000006e+17</td><td>2.329367e+16</td></tr>\n",
       "<tr><td>0.2077</td><td>-9.99e-07</td><td>-9.99e-07</td><td>-9.99e-07</td><td>-9.99e-07</td><td>-9.99e-07</td><td>-9.99e+20</td><td>-9.99e+20</td><td>-9.99e+20</td><td>-9.99e+20</td><td>-9.99e+20</td></tr>\n",
       "<tr><td>0.2077</td><td>-9.99e-07</td><td>-9.99e-07</td><td>-9.99e-07</td><td>-9.99e-07</td><td>-9.99e-07</td><td>-9.99e+20</td><td>-9.99e+20</td><td>-9.99e+20</td><td>-9.99e+20</td><td>-9.99e+20</td></tr>\n",
       "<tr><td>0.065</td><td>-9.99e-07</td><td>-9.99e-07</td><td>-9.99e-07</td><td>-9.99e-07</td><td>-9.99e-07</td><td>-9.99e+20</td><td>-9.99e+20</td><td>-9.99e+20</td><td>-9.99e+20</td><td>-9.99e+20</td></tr>\n",
       "<tr><td>0.068</td><td>-9.99e-07</td><td>-9.99e-07</td><td>-9.99e-07</td><td>-9.99e-07</td><td>-9.99e-07</td><td>-9.99e+20</td><td>-9.99e+20</td><td>-9.99e+20</td><td>-9.99e+20</td><td>-9.99e+20</td></tr>\n",
       "<tr><td>0.006731</td><td>-9.99e-07</td><td>-9.99e-07</td><td>-9.99e-07</td><td>-9.99e-07</td><td>-9.99e-07</td><td>-9.99e+20</td><td>-9.99e+20</td><td>-9.99e+20</td><td>-9.99e+20</td><td>-9.99e+20</td></tr>\n",
       "<tr><td>0.007946</td><td>-9.99e-07</td><td>-9.99e-07</td><td>-9.99e-07</td><td>-9.99e-07</td><td>-9.99e-07</td><td>-9.99e+20</td><td>-9.99e+20</td><td>-9.99e+20</td><td>-9.99e+20</td><td>-9.99e+20</td></tr>\n",
       "<tr><td>0.034371</td><td>-9.99e-07</td><td>-9.99e-07</td><td>-9.99e-07</td><td>-9.99e-07</td><td>-9.99e-07</td><td>-9.99e+20</td><td>-9.99e+20</td><td>-9.99e+20</td><td>-9.99e+20</td><td>-9.99e+20</td></tr>\n",
       "<tr><td>0.045</td><td>1.1544760000000001e-07</td><td>3.5271080000000003e-07</td><td>5.661375e-07</td><td>7.416902000000001e-07</td><td>8.441414e-07</td><td>1.361801e+16</td><td>995351200000000.1</td><td>267508100000000.0</td><td>170751900000000.0</td><td>125342100000000.0</td></tr>\n",
       "</table>"
      ],
      "text/plain": [
       "<Table length=2551>\n",
       "   z          u_band_flux       ...      ibandF_ivar          zbandF_ivar    \n",
       "float64         float64         ...        float64              float64      \n",
       "-------- ---------------------- ... ---------------------- ------------------\n",
       "0.022805           1.482621e-07 ...           1.510863e+16  671183700000000.0\n",
       "0.006731 1.0534990000000001e-07 ...           1.249947e+16  766706500000000.0\n",
       "  0.0254            2.22714e-08 ...           1.353606e+17 9277737000000000.0\n",
       "0.013416              -9.99e-07 ...              -9.99e+20          -9.99e+20\n",
       "0.021989              -9.99e-07 ...              -9.99e+20          -9.99e+20\n",
       "  0.0178              -9.99e-07 ...              -9.99e+20          -9.99e+20\n",
       "0.007946 1.1004370000000001e-07 ...           2.785934e+16       1.053896e+16\n",
       "0.009096              -9.99e-07 ...              -9.99e+20          -9.99e+20\n",
       "  0.0348 2.1134170000000004e-08 ...           1.913068e+17       1.278727e+16\n",
       "0.034371           1.307168e-07 ...           9.546875e+16 6769521000000000.0\n",
       "     ...                    ... ...                    ...                ...\n",
       "  0.2077           5.420292e-10 ... 5.2489470000000006e+17       2.329367e+16\n",
       "  0.2077           5.420292e-10 ... 5.2489470000000006e+17       2.329367e+16\n",
       "  0.2077              -9.99e-07 ...              -9.99e+20          -9.99e+20\n",
       "  0.2077              -9.99e-07 ...              -9.99e+20          -9.99e+20\n",
       "   0.065              -9.99e-07 ...              -9.99e+20          -9.99e+20\n",
       "   0.068              -9.99e-07 ...              -9.99e+20          -9.99e+20\n",
       "0.006731              -9.99e-07 ...              -9.99e+20          -9.99e+20\n",
       "0.007946              -9.99e-07 ...              -9.99e+20          -9.99e+20\n",
       "0.034371              -9.99e-07 ...              -9.99e+20          -9.99e+20\n",
       "   0.045 1.1544760000000001e-07 ...      170751900000000.0  125342100000000.0"
      ]
     },
     "execution_count": 5,
     "metadata": {},
     "output_type": "execute_result"
    }
   ],
   "source": [
    "fintrip_tb"
   ]
  },
  {
   "cell_type": "code",
   "execution_count": 6,
   "id": "8e9f840f",
   "metadata": {},
   "outputs": [],
   "source": [
    "kcorr_fintb = 'kcorr_fintab.txt'\n",
    "fintrip_tb.write(kcorr_fintb, format = 'ascii.no_header', overwrite = True)"
   ]
  },
  {
   "cell_type": "code",
   "execution_count": null,
   "id": "dd7ae71d",
   "metadata": {},
   "outputs": [],
   "source": []
  }
 ],
 "metadata": {
  "kernelspec": {
   "display_name": "Python 3",
   "language": "python",
   "name": "python3"
  },
  "language_info": {
   "codemirror_mode": {
    "name": "ipython",
    "version": 3
   },
   "file_extension": ".py",
   "mimetype": "text/x-python",
   "name": "python",
   "nbconvert_exporter": "python",
   "pygments_lexer": "ipython3",
   "version": "3.8.8"
  }
 },
 "nbformat": 4,
 "nbformat_minor": 5
}
